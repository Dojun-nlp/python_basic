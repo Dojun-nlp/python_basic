{
 "cells": [
  {
   "cell_type": "markdown",
   "metadata": {},
   "source": [
    "# 15장 웹 API"
   ]
  },
  {
   "cell_type": "markdown",
   "metadata": {},
   "source": [
    "## 15.1 웹 API의 이해"
   ]
  },
  {
   "cell_type": "markdown",
   "metadata": {},
   "source": [
    "### 웹 API의 데이터 획득 과정"
   ]
  },
  {
   "cell_type": "markdown",
   "metadata": {},
   "source": [
    "### 웹 API의 인증 방식"
   ]
  },
  {
   "cell_type": "markdown",
   "metadata": {},
   "source": [
    "### 응답 데이터의 형식 및 처리\n",
    "\n",
    "- json.dumps(데이터) 파이썬데이터를 제이슨데이터로 \n",
    "- json.loads(데이터) 제이슨데이터를 파이썬데이터로\n",
    "- requests.get(url).json() 제이슨데이터를 파이썬 데이터로\n",
    "- xmltodict.parse(데이터) xml데이터를 파이썬데이터로"
   ]
  },
  {
   "cell_type": "markdown",
   "metadata": {},
   "source": [
    "### 웹 API 정리된 사이트\n",
    "- https://www.programmableweb.com/category/all/apis"
   ]
  },
  {
   "cell_type": "markdown",
   "metadata": {},
   "source": [
    "#### JSON 형식의 데이터 처리"
   ]
  },
  {
   "cell_type": "markdown",
   "metadata": {},
   "source": [
    "**[15장: 458 ~ 459페이지]**"
   ]
  },
  {
   "cell_type": "code",
   "execution_count": 1,
   "metadata": {},
   "outputs": [
    {
     "data": {
      "text/plain": [
       "dict"
      ]
     },
     "execution_count": 1,
     "metadata": {},
     "output_type": "execute_result"
    }
   ],
   "source": [
    "import json\n",
    "\n",
    "python_dict = {          # 파이썬 딕셔너리 생성\n",
    "    \"이름\": \"홍길동\",\n",
    "    \"나이\": 25,\n",
    "    \"거주지\": \"서울\",\n",
    "    \"신체정보\": {\n",
    "        \"키\": 175.4,\n",
    "        \"몸무게\": 71.2\n",
    "    },\n",
    "    \"취미\": [\n",
    "        \"등산\",\n",
    "        \"자전거타기\",\n",
    "        \"독서\"\n",
    "    ]\n",
    "}\n",
    "type(python_dict)"
   ]
  },
  {
   "cell_type": "markdown",
   "metadata": {},
   "source": [
    "**[15장: 459페이지]**"
   ]
  },
  {
   "cell_type": "code",
   "execution_count": 9,
   "metadata": {},
   "outputs": [
    {
     "name": "stdout",
     "output_type": "stream",
     "text": [
      "<class 'str'>\n"
     ]
    }
   ],
   "source": [
    "json_data = json.dumps(python_dict)   # 파이썬 파일을 제이슨 파일로 변경하는 함수\n",
    "\n",
    "print(type(json_data))"
   ]
  },
  {
   "cell_type": "markdown",
   "metadata": {},
   "source": [
    "**[15장: 459페이지]**\n",
    "- python 파일 -> json 파일 : json.dumps()\n",
    "- 한글데이터가 깨져서 출력되기때문에 인코딩이 필수"
   ]
  },
  {
   "cell_type": "code",
   "execution_count": 10,
   "metadata": {},
   "outputs": [
    {
     "name": "stdout",
     "output_type": "stream",
     "text": [
      "{\"\\uc774\\ub984\": \"\\ud64d\\uae38\\ub3d9\", \"\\ub098\\uc774\": 25, \"\\uac70\\uc8fc\\uc9c0\": \"\\uc11c\\uc6b8\", \"\\uc2e0\\uccb4\\uc815\\ubcf4\": {\"\\ud0a4\": 175.4, \"\\ubab8\\ubb34\\uac8c\": 71.2}, \"\\ucde8\\ubbf8\": [\"\\ub4f1\\uc0b0\", \"\\uc790\\uc804\\uac70\\ud0c0\\uae30\", \"\\ub3c5\\uc11c\"]}\n"
     ]
    }
   ],
   "source": [
    "print(json_data)"
   ]
  },
  {
   "cell_type": "markdown",
   "metadata": {},
   "source": [
    "**[15장: 459페이지]**"
   ]
  },
  {
   "cell_type": "code",
   "execution_count": 12,
   "metadata": {
    "scrolled": true
   },
   "outputs": [
    {
     "name": "stdout",
     "output_type": "stream",
     "text": [
      "<class 'str'>\n",
      "{\n",
      "    \"거주지\": \"서울\",\n",
      "    \"나이\": 25,\n",
      "    \"신체정보\": {\n",
      "        \"몸무게\": 71.2,\n",
      "        \"키\": 175.4\n",
      "    },\n",
      "    \"이름\": \"홍길동\",\n",
      "    \"취미\": [\n",
      "        \"등산\",\n",
      "        \"자전거타기\",\n",
      "        \"독서\"\n",
      "    ]\n",
      "}\n"
     ]
    }
   ],
   "source": [
    "json_data = json.dumps(python_dict, indent=4, sort_keys=True, ensure_ascii=False) # ensure_ascii=False를 써야 한글인코딩이 됨\n",
    "                                                                                    # sort_keys=True 가나다 순으로 정렬\n",
    "print(type(json_data))   # 제이슨데이터                                             # indent=4 4칸 들여쓰기\n",
    "print(json_data)         "
   ]
  },
  {
   "cell_type": "markdown",
   "metadata": {},
   "source": [
    "**[15장: 460페이지]**\n",
    "- json 파일 -> python 파일 : json.loads()"
   ]
  },
  {
   "cell_type": "code",
   "execution_count": 14,
   "metadata": {},
   "outputs": [
    {
     "name": "stdout",
     "output_type": "stream",
     "text": [
      "<class 'dict'>\n"
     ]
    },
    {
     "data": {
      "text/plain": [
       "{'거주지': '서울',\n",
       " '나이': 25,\n",
       " '신체정보': {'몸무게': 71.2, '키': 175.4},\n",
       " '이름': '홍길동',\n",
       " '취미': ['등산', '자전거타기', '독서']}"
      ]
     },
     "metadata": {},
     "output_type": "display_data"
    }
   ],
   "source": [
    "json_dict = json.loads(json_data)   # 제이슨 데이터를 다시 파이썬데이터로 출력\n",
    "print(type(json_dict))   # 타입? 파이썬파일\n",
    "display(json_dict)         # 파이썬 딕셔너리 출력"
   ]
  },
  {
   "cell_type": "markdown",
   "metadata": {},
   "source": [
    "**[15장: 460페이지]**"
   ]
  },
  {
   "cell_type": "code",
   "execution_count": 15,
   "metadata": {},
   "outputs": [
    {
     "data": {
      "text/plain": [
       "71.2"
      ]
     },
     "execution_count": 15,
     "metadata": {},
     "output_type": "execute_result"
    }
   ],
   "source": [
    "json_dict['신체정보']['몸무게']   # 신체정보의 몸무게를 출력 (딕셔너리 안의 딕셔너리를 키값으로 출력)"
   ]
  },
  {
   "cell_type": "markdown",
   "metadata": {},
   "source": [
    "**[15장: 460페이지]**"
   ]
  },
  {
   "cell_type": "code",
   "execution_count": 17,
   "metadata": {},
   "outputs": [
    {
     "data": {
      "text/plain": [
       "['등산', '자전거타기', '독서']"
      ]
     },
     "execution_count": 17,
     "metadata": {},
     "output_type": "execute_result"
    }
   ],
   "source": [
    "json_dict['취미']   # 키가 취미인 값을 출력 (리스트출력)"
   ]
  },
  {
   "cell_type": "code",
   "execution_count": 18,
   "metadata": {},
   "outputs": [
    {
     "data": {
      "text/plain": [
       "['등산', '자전거타기']"
      ]
     },
     "execution_count": 18,
     "metadata": {},
     "output_type": "execute_result"
    }
   ],
   "source": [
    "json_dict['취미'][0:2] # 딕셔너리의 리스트를 슬라이싱으로 출력"
   ]
  },
  {
   "cell_type": "markdown",
   "metadata": {},
   "source": [
    "**[15장: 461페이지]**"
   ]
  },
  {
   "cell_type": "code",
   "execution_count": 19,
   "metadata": {},
   "outputs": [
    {
     "data": {
      "text/plain": [
       "'등산'"
      ]
     },
     "execution_count": 19,
     "metadata": {},
     "output_type": "execute_result"
    }
   ],
   "source": [
    "json_dict['취미'][0]  # 취미 키, 0번째 리스트 원소 출력"
   ]
  },
  {
   "cell_type": "markdown",
   "metadata": {},
   "source": [
    "#### XML 형식의 데이터 처리"
   ]
  },
  {
   "cell_type": "markdown",
   "metadata": {},
   "source": [
    "**[15장: 465페이지]**"
   ]
  },
  {
   "cell_type": "code",
   "execution_count": 20,
   "metadata": {},
   "outputs": [
    {
     "name": "stdout",
     "output_type": "stream",
     "text": [
      "<class 'str'>\n",
      "<?xml version=\"1.0\" encoding=\"UTF-8\" ?>\n",
      "<사용자정보>\n",
      "    <이름>홍길동</이름>\n",
      "    <나이>25</나이>\n",
      "    <거주지>서울</거주지>\n",
      "    <신체정보>\n",
      "        <키 unit=\"cm\">175.4</키>\n",
      "        <몸무게 unit=\"kg\">71.2</몸무게>\n",
      "    </신체정보>\n",
      "    <취미>등산</취미>\n",
      "    <취미>자전거타기</취미>\n",
      "    <취미>독서</취미>\n",
      "</사용자정보> \n",
      "\n"
     ]
    }
   ],
   "source": [
    "#xml데이터 작성\n",
    "\n",
    "xml_data = \"\"\"<?xml version=\"1.0\" encoding=\"UTF-8\" ?>\n",
    "<사용자정보>\n",
    "    <이름>홍길동</이름>\n",
    "    <나이>25</나이>\n",
    "    <거주지>서울</거주지>\n",
    "    <신체정보>\n",
    "        <키 unit=\"cm\">175.4</키>\n",
    "        <몸무게 unit=\"kg\">71.2</몸무게>\n",
    "    </신체정보>\n",
    "    <취미>등산</취미>\n",
    "    <취미>자전거타기</취미>\n",
    "    <취미>독서</취미>\n",
    "</사용자정보> \n",
    "\"\"\"\n",
    "print(type(xml_data))    # json이나 xml은 파이썬 파일로 변환되기 전까진 str타입으로 표기됨\n",
    "print(xml_data)          # xml데이터 출력"
   ]
  },
  {
   "cell_type": "markdown",
   "metadata": {},
   "source": [
    "**[15장: 465페이지]**\n",
    "- json 파일 -> python 파일 (json 모듈 사용)\n",
    "- xml 파일 -> python 파일 (xmltodict 모듈 사용)\n",
    "<br/><br/>\n",
    "- json.dumps(): json파일을 파이썬파일로\n",
    "- xmltodict.parse(): xml파일을 파이썬파일로"
   ]
  },
  {
   "cell_type": "code",
   "execution_count": 14,
   "metadata": {},
   "outputs": [],
   "source": [
    "conda install xmltodict     # xmltodict 모듈 설치하기"
   ]
  },
  {
   "cell_type": "markdown",
   "metadata": {},
   "source": [
    "- **xml to python**\n",
    "- python to json\n",
    "- json to python"
   ]
  },
  {
   "cell_type": "code",
   "execution_count": 25,
   "metadata": {},
   "outputs": [
    {
     "data": {
      "text/plain": [
       "OrderedDict([('사용자정보',\n",
       "              OrderedDict([('이름', '홍길동'),\n",
       "                           ('나이', '25'),\n",
       "                           ('거주지', '서울'),\n",
       "                           ('신체정보',\n",
       "                            OrderedDict([('키',\n",
       "                                          OrderedDict([('@unit', 'cm'),\n",
       "                                                       ('#text', '175.4')])),\n",
       "                                         ('몸무게',\n",
       "                                          OrderedDict([('@unit', 'kg'),\n",
       "                                                       ('#text', '71.2')]))])),\n",
       "                           ('취미', ['등산', '자전거타기', '독서'])]))])"
      ]
     },
     "metadata": {},
     "output_type": "display_data"
    }
   ],
   "source": [
    "import xmltodict    # XML 모듈 불러오기\n",
    "\n",
    "dict_data = xmltodict.parse(xml_data, xml_attribs=True)   # xmltodict.parse()  # xml데이터를 파이썬데이터로 변경\n",
    "                                                           # 파라미터로 xml_attribs=True를 넣어 유닛값을 살려줌\n",
    "\n",
    "display(dict_data)\n",
    "\n",
    "#xml을 파이썬데이터로 변환시키면 orderedDictionary 형태로 변환됨 (키:값이 튜플 형태에 저장되어 있음)\n",
    "# 키와 벨류를 튜플로 바꿈\n",
    "# 속성값을 @unit으로 표기\n",
    "# 입력값을 #text로 표기"
   ]
  },
  {
   "cell_type": "markdown",
   "metadata": {},
   "source": [
    "### xml데이터에서 파이썬로, 다시 파이썬데이터에서 제이슨데이터로\n",
    "- xml to python\n",
    "- **python to json**\n",
    "- json to python\n",
    "- 유닛값이 들어간 딕셔너리 형태로 변환됨"
   ]
  },
  {
   "cell_type": "code",
   "execution_count": 28,
   "metadata": {},
   "outputs": [
    {
     "name": "stdout",
     "output_type": "stream",
     "text": [
      "{\n",
      "    \"사용자정보\": {\n",
      "        \"거주지\": \"서울\",\n",
      "        \"나이\": \"25\",\n",
      "        \"신체정보\": {\n",
      "            \"몸무게\": {\n",
      "                \"#text\": \"71.2\",\n",
      "                \"@unit\": \"kg\"\n",
      "            },\n",
      "            \"키\": {\n",
      "                \"#text\": \"175.4\",\n",
      "                \"@unit\": \"cm\"\n",
      "            }\n",
      "        },\n",
      "        \"이름\": \"홍길동\",\n",
      "        \"취미\": [\n",
      "            \"등산\",\n",
      "            \"자전거타기\",\n",
      "            \"독서\"\n",
      "        ]\n",
      "    }\n",
      "}\n"
     ]
    }
   ],
   "source": [
    "data_ex = json.dumps(dict_data, indent=4, sort_keys=True, ensure_ascii=False)\n",
    "print(data_ex)"
   ]
  },
  {
   "cell_type": "markdown",
   "metadata": {},
   "source": [
    "- xml to python\n",
    "- python to json\n",
    "- **json to python**"
   ]
  },
  {
   "cell_type": "code",
   "execution_count": 30,
   "metadata": {},
   "outputs": [
    {
     "data": {
      "text/plain": [
       "{'사용자정보': {'거주지': '서울',\n",
       "  '나이': '25',\n",
       "  '신체정보': {'몸무게': {'#text': '71.2', '@unit': 'kg'},\n",
       "   '키': {'#text': '175.4', '@unit': 'cm'}},\n",
       "  '이름': '홍길동',\n",
       "  '취미': ['등산', '자전거타기', '독서']}}"
      ]
     },
     "metadata": {},
     "output_type": "display_data"
    },
    {
     "data": {
      "text/plain": [
       "dict"
      ]
     },
     "execution_count": 30,
     "metadata": {},
     "output_type": "execute_result"
    }
   ],
   "source": [
    "data_ex1 = json.loads(data_ex)\n",
    "display(data_ex1)\n",
    "type(data_ex1)\n",
    "\n",
    "#딕셔너리 안의 딕셔너리 구조"
   ]
  },
  {
   "cell_type": "markdown",
   "metadata": {},
   "source": [
    "**[15장: 466페이지]**\n",
    "- xml데이터에서 파이썬데이터로 변경한 후, 원소 출력하기\n",
    "- 파이썬데이터로 변경하면 이전에 json이였든 xml이였든 모두 동일한 형식(파이썬 딕셔너리)으로 출력함"
   ]
  },
  {
   "cell_type": "code",
   "execution_count": 31,
   "metadata": {},
   "outputs": [
    {
     "data": {
      "text/plain": [
       "'홍길동'"
      ]
     },
     "execution_count": 31,
     "metadata": {},
     "output_type": "execute_result"
    }
   ],
   "source": [
    "dict_data['사용자정보']['이름']"
   ]
  },
  {
   "cell_type": "markdown",
   "metadata": {},
   "source": [
    "**[15장: 466페이지]**"
   ]
  },
  {
   "cell_type": "code",
   "execution_count": 32,
   "metadata": {
    "scrolled": true
   },
   "outputs": [
    {
     "data": {
      "text/plain": [
       "OrderedDict([('키', OrderedDict([('@unit', 'cm'), ('#text', '175.4')])),\n",
       "             ('몸무게', OrderedDict([('@unit', 'kg'), ('#text', '71.2')]))])"
      ]
     },
     "execution_count": 32,
     "metadata": {},
     "output_type": "execute_result"
    }
   ],
   "source": [
    "dict_data['사용자정보']['신체정보']  # 신체정보 변수에 들어있는 딕셔너리의 각 항목을 유닛과 텍스트로 구분하여 출력"
   ]
  },
  {
   "cell_type": "code",
   "execution_count": 33,
   "metadata": {},
   "outputs": [
    {
     "data": {
      "text/plain": [
       "{'몸무게': {'#text': '71.2', '@unit': 'kg'},\n",
       " '키': {'#text': '175.4', '@unit': 'cm'}}"
      ]
     },
     "execution_count": 33,
     "metadata": {},
     "output_type": "execute_result"
    }
   ],
   "source": [
    "data_ex1['사용자정보']['신체정보']   # xml -> 파이썬 -> json -> 파이썬"
   ]
  },
  {
   "cell_type": "markdown",
   "metadata": {},
   "source": [
    "**[15장: 466 ~ 467페이지]**"
   ]
  },
  {
   "cell_type": "code",
   "execution_count": 34,
   "metadata": {},
   "outputs": [
    {
     "data": {
      "text/plain": [
       "'cm'"
      ]
     },
     "execution_count": 34,
     "metadata": {},
     "output_type": "execute_result"
    }
   ],
   "source": [
    "dict_data['사용자정보']['신체정보']['키']['@unit']  # 유닛 출력, 딕셔너리로 들어있기에 키값으로 입력"
   ]
  },
  {
   "cell_type": "code",
   "execution_count": 35,
   "metadata": {},
   "outputs": [
    {
     "data": {
      "text/plain": [
       "'175.4'"
      ]
     },
     "execution_count": 35,
     "metadata": {},
     "output_type": "execute_result"
    }
   ],
   "source": [
    "dict_data['사용자정보']['신체정보']['키']['#text']  # 벨류 출력"
   ]
  },
  {
   "cell_type": "code",
   "execution_count": 50,
   "metadata": {},
   "outputs": [
    {
     "name": "stdout",
     "output_type": "stream",
     "text": [
      "175.4cm\n"
     ]
    }
   ],
   "source": [
    "print(data_ex1['사용자정보']['신체정보']['키']['#text'], dict_data['사용자정보']['신체정보']['키']['@unit'], sep='')"
   ]
  },
  {
   "cell_type": "markdown",
   "metadata": {},
   "source": [
    "**[15장: 467페이지]**\n",
    "- xml파일을 파이썬파일로 파싱한 다음, 각 요소를 변수로 저장해서 사용하기"
   ]
  },
  {
   "cell_type": "code",
   "execution_count": 51,
   "metadata": {},
   "outputs": [
    {
     "name": "stdout",
     "output_type": "stream",
     "text": [
      "[사용자 홍길동의 신체정보]\n",
      "*키: 175.4cm\n",
      "*몸무게: 71.2kg\n"
     ]
    }
   ],
   "source": [
    "import xmltodict\n",
    "\n",
    "dict_data = xmltodict.parse(xml_data)      # xml에서 파이썬데이터로 변환, xml_attribs=False로 입력하지 않는 한 속성값 유지\n",
    "\n",
    "user_name = dict_data['사용자정보']['이름']        # 사용자정보의 이름 벨류 선택\n",
    "body_data = dict_data['사용자정보']['신체정보']    # 사용자정보의 신체정보 벨류 선택\n",
    "\n",
    "height = body_data['키']['#text']             # 키의 벨류 선택\n",
    "height_unit = body_data['키']['@unit']        # 키의 유닛 선택\n",
    "\n",
    "weight = body_data['몸무게']['#text']            # 몸무게의 벨류 선택\n",
    "weight_unit = body_data['몸무게']['@unit']       # 몸무게의 유닛 선택\n",
    "\n",
    "print(\"[사용자 {0}의 신체정보]\".format(user_name))       #  사용자 이름 벨류를 넣은 문장 출력\n",
    "print(\"*키: {0}{1}\".format(height, height_unit))         #  키 벨류와 키 유닛 출력\n",
    "print(\"*몸무게: {0}{1}\".format(weight, weight_unit))     # 몸무게 벨류와 몸무게 유닛 출력"
   ]
  },
  {
   "cell_type": "markdown",
   "metadata": {},
   "source": [
    "**[15장: 467페이지]**"
   ]
  },
  {
   "cell_type": "code",
   "execution_count": 52,
   "metadata": {},
   "outputs": [
    {
     "name": "stdout",
     "output_type": "stream",
     "text": [
      "<class 'collections.OrderedDict'>\n"
     ]
    },
    {
     "data": {
      "text/plain": [
       "OrderedDict([('사용자정보',\n",
       "              OrderedDict([('이름', '홍길동'),\n",
       "                           ('나이', '25'),\n",
       "                           ('거주지', '서울'),\n",
       "                           ('신체정보',\n",
       "                            OrderedDict([('키', '175.4'), ('몸무게', '71.2')])),\n",
       "                           ('취미', ['등산', '자전거타기', '독서'])]))])"
      ]
     },
     "execution_count": 52,
     "metadata": {},
     "output_type": "execute_result"
    }
   ],
   "source": [
    "dict_data2 = xmltodict.parse(xml_data, xml_attribs=False)   # 유닛값 제외하고 파이썬데이터로 변환\n",
    "\n",
    "print(type(dict_data2))\n",
    "dict_data2"
   ]
  },
  {
   "cell_type": "code",
   "execution_count": 69,
   "metadata": {},
   "outputs": [
    {
     "name": "stdout",
     "output_type": "stream",
     "text": [
      "<class 'list'>\n"
     ]
    },
    {
     "ename": "TypeError",
     "evalue": "list indices must be integers or slices, not str",
     "output_type": "error",
     "traceback": [
      "\u001b[1;31m---------------------------------------------------------------------------\u001b[0m",
      "\u001b[1;31mTypeError\u001b[0m                                 Traceback (most recent call last)",
      "\u001b[1;32m<ipython-input-69-acfbc36d59a9>\u001b[0m in \u001b[0;36m<module>\u001b[1;34m\u001b[0m\n\u001b[0;32m      2\u001b[0m \u001b[0mprint\u001b[0m\u001b[1;33m(\u001b[0m\u001b[0mtype\u001b[0m\u001b[1;33m(\u001b[0m\u001b[0mdict_data3\u001b[0m\u001b[1;33m)\u001b[0m\u001b[1;33m)\u001b[0m\u001b[1;33m\u001b[0m\u001b[1;33m\u001b[0m\u001b[0m\n\u001b[0;32m      3\u001b[0m \u001b[1;33m\u001b[0m\u001b[0m\n\u001b[1;32m----> 4\u001b[1;33m \u001b[0mdict_data3\u001b[0m\u001b[1;33m[\u001b[0m\u001b[1;34m'이름'\u001b[0m\u001b[1;33m]\u001b[0m\u001b[1;33m\u001b[0m\u001b[1;33m\u001b[0m\u001b[0m\n\u001b[0m\u001b[0;32m      5\u001b[0m \u001b[1;33m\u001b[0m\u001b[0m\n\u001b[0;32m      6\u001b[0m \u001b[1;31m# 리스트안에 직접 튜플을 넣을 경우, 딕셔너리처럼 검색되지 않음\u001b[0m\u001b[1;33m\u001b[0m\u001b[1;33m\u001b[0m\u001b[1;33m\u001b[0m\u001b[0m\n",
      "\u001b[1;31mTypeError\u001b[0m: list indices must be integers or slices, not str"
     ]
    }
   ],
   "source": [
    "dict_data3 = ([('이름', '홍길동'), ('나이', '25'), ('거주지', '서울')])\n",
    "print(type(dict_data3))\n",
    "\n",
    "dict_data3['이름']  \n",
    "\n",
    "# 리스트안에 직접 튜플을 넣을 경우, 딕셔너리처럼 검색되지 않음\n",
    "# 하지만 xml을 파이썬객체로 변환시키면 OrderedDict타입으로 변환되고, 리스트 안의 튜플형태로 저장되고 딕셔너리의 기능을 수행함"
   ]
  },
  {
   "cell_type": "markdown",
   "metadata": {},
   "source": [
    "### 웹 사이트 주소에 부가 정보 추가하기"
   ]
  },
  {
   "cell_type": "markdown",
   "metadata": {},
   "source": [
    "#### 웹 사이트 주소에 경로 추가하기"
   ]
  },
  {
   "cell_type": "markdown",
   "metadata": {},
   "source": [
    "**[15장: 468페이지]**\n",
    "- url 합치기"
   ]
  },
  {
   "cell_type": "code",
   "execution_count": 70,
   "metadata": {},
   "outputs": [
    {
     "name": "stdout",
     "output_type": "stream",
     "text": [
      "https://api.github.com/events\n"
     ]
    }
   ],
   "source": [
    "base_url = \"https://api.github.com/\"\n",
    "sub_dir = \"events\"\n",
    "url = base_url + sub_dir\n",
    "print(url)"
   ]
  },
  {
   "cell_type": "markdown",
   "metadata": {},
   "source": [
    "- requests.get()하여 해당 url 가져오기"
   ]
  },
  {
   "cell_type": "code",
   "execution_count": 72,
   "metadata": {},
   "outputs": [
    {
     "data": {
      "text/plain": [
       "'https://api.github.com/events'"
      ]
     },
     "execution_count": 72,
     "metadata": {},
     "output_type": "execute_result"
    }
   ],
   "source": [
    "import requests\n",
    "\n",
    "r = requests.get(base_url+sub_dir).url\n",
    "r"
   ]
  },
  {
   "cell_type": "code",
   "execution_count": 76,
   "metadata": {},
   "outputs": [
    {
     "data": {
      "text/plain": [
       "['__attrs__',\n",
       " '__bool__',\n",
       " '__class__',\n",
       " '__delattr__',\n",
       " '__dict__',\n",
       " '__dir__',\n",
       " '__doc__',\n",
       " '__enter__',\n",
       " '__eq__',\n",
       " '__exit__',\n",
       " '__format__',\n",
       " '__ge__',\n",
       " '__getattribute__',\n",
       " '__getstate__',\n",
       " '__gt__',\n",
       " '__hash__',\n",
       " '__init__',\n",
       " '__init_subclass__',\n",
       " '__iter__',\n",
       " '__le__',\n",
       " '__lt__',\n",
       " '__module__',\n",
       " '__ne__',\n",
       " '__new__',\n",
       " '__nonzero__',\n",
       " '__reduce__',\n",
       " '__reduce_ex__',\n",
       " '__repr__',\n",
       " '__setattr__',\n",
       " '__setstate__',\n",
       " '__sizeof__',\n",
       " '__str__',\n",
       " '__subclasshook__',\n",
       " '__weakref__',\n",
       " '_content',\n",
       " '_content_consumed',\n",
       " '_next',\n",
       " 'apparent_encoding',\n",
       " 'close',\n",
       " 'connection',\n",
       " 'content',\n",
       " 'cookies',\n",
       " 'elapsed',\n",
       " 'encoding',\n",
       " 'headers',\n",
       " 'history',\n",
       " 'is_permanent_redirect',\n",
       " 'is_redirect',\n",
       " 'iter_content',\n",
       " 'iter_lines',\n",
       " 'json',\n",
       " 'links',\n",
       " 'next',\n",
       " 'ok',\n",
       " 'raise_for_status',\n",
       " 'raw',\n",
       " 'reason',\n",
       " 'request',\n",
       " 'status_code',\n",
       " 'text',\n",
       " 'url']"
      ]
     },
     "execution_count": 76,
     "metadata": {},
     "output_type": "execute_result"
    }
   ],
   "source": [
    "dir(requests.get(base_url+sub_dir))   # requests.get() 하여 사용할 수 있는 메소드 리스트"
   ]
  },
  {
   "cell_type": "markdown",
   "metadata": {},
   "source": [
    "**[15장: 469페이지]**"
   ]
  },
  {
   "cell_type": "code",
   "execution_count": 77,
   "metadata": {},
   "outputs": [
    {
     "name": "stdout",
     "output_type": "stream",
     "text": [
      "https://api.github.com/events\n",
      "https://api.github.com/user\n",
      "https://api.github.com/emails\n"
     ]
    }
   ],
   "source": [
    "#방법1\n",
    "import requests\n",
    "\n",
    "base_url = \"https://api.github.com/\"      # 상위 주소\n",
    "sub_dirs = [\"events\", \"user\", \"emails\" ]  # 하위 주소 (리스트)\n",
    "\n",
    "\n",
    "for sub_dir in sub_dirs:           # for반복문\n",
    "    url_dir = base_url + sub_dir   # 상위주소와 하위주소를 더함 (3번 반복, 3개 주소 생성)\n",
    "    r = requests.get(url_dir)      # 주소의 데이터를 requests로 불러오기\n",
    "    print(r.url)                   # 스크래핑에서는 .text를 붙여서 소스코드를 불러왔지만,\n",
    "                                   # 이번에는 .url를 붙여서 주소를 불러오기"
   ]
  },
  {
   "cell_type": "code",
   "execution_count": 78,
   "metadata": {},
   "outputs": [
    {
     "name": "stdout",
     "output_type": "stream",
     "text": [
      "https://api.github.com/events\n",
      "https://api.github.com/user\n",
      "https://api.github.com/emails\n"
     ]
    }
   ],
   "source": [
    "'''\n",
    "같은 방법\n",
    "웹스크레이핑에서 requests.get(주소).text로 바로 소스코드를 불러왔듯\n",
    "                 requests.get(주소).url로 바로 url을 불러오기'''\n",
    "\n",
    "import requests\n",
    "\n",
    "base_url = \"https://api.github.com/\"      # 상위 주소\n",
    "sub_dirs = [\"events\", \"user\", \"emails\" ]  # 하위 주소 (리스트)\n",
    "\n",
    "\n",
    "for sub_dir in sub_dirs:             # for반복문\n",
    "    url_dir = base_url + sub_dir\n",
    "    r = requests.get(url_dir).url\n",
    "    print(r)"
   ]
  },
  {
   "cell_type": "code",
   "execution_count": 79,
   "metadata": {},
   "outputs": [
    {
     "name": "stdout",
     "output_type": "stream",
     "text": [
      "https://api.github.com/events\n",
      "https://api.github.com/user\n",
      "https://api.github.com/emails\n"
     ]
    }
   ],
   "source": [
    "# request.get()을 넣지 않은 반복문?  (딕셔너리 형태의 파라미터를 넣지 않는다면 차이 없음)\n",
    "for sub_dir in sub_dirs:          \n",
    "    url_dir = base_url + sub_dir\n",
    "    print(url_dir)"
   ]
  },
  {
   "cell_type": "markdown",
   "metadata": {},
   "source": [
    "#### 웹 사이트 주소에 매개변수 추가하기"
   ]
  },
  {
   "cell_type": "markdown",
   "metadata": {},
   "source": [
    "**[15장: 470페이지]**"
   ]
  },
  {
   "cell_type": "code",
   "execution_count": 80,
   "metadata": {},
   "outputs": [
    {
     "name": "stdout",
     "output_type": "stream",
     "text": [
      "http://api.openweathermap.org/data/2.5/weather?lat=37.57&lon=126.98&appid=b235c57pc357fb68acr1e81&units=metric\n",
      "http://api.openweathermap.org/data/2.5/weather?lat=37.57&lon=126.98&appid=b235c57pc357fb68acr1e81&units=metric\n"
     ]
    }
   ],
   "source": [
    "import requests\n",
    "\n",
    "LAT = '37.57'  # 위도\n",
    "LON = '126.98' # 경도\n",
    "API_KEY = 'b235c57pc357fb68acr1e81' # API 키(임의의 API 키, 권한을 받지 않은 API이기에 실행 안됨)\n",
    "UNIT = 'metric' # 단위\n",
    "\n",
    "site_url = \"http://api.openweathermap.org/data/2.5/weather\"    # 상위주소\n",
    "parameter = \"?lat=%s&lon=%s&appid=%s&units=%s\"%(LAT, LON, API_KEY, UNIT)  # 하위 주소 (문자열의 %s 부분에 변수를 대입)\n",
    "url_para = site_url + parameter    # 전체 주소\n",
    "\n",
    "r = requests.get(url_para)   # 주소의 웹정보 가져오기\n",
    "print(r.url)                 # 가져온 웹정보중 주소 불러오기\n",
    "print(url_para)              # 그냥 출력해도 동일 (딕셔너리 파라미터를 쓰지 않는 경우 동일하게 출력됨)"
   ]
  },
  {
   "cell_type": "markdown",
   "metadata": {},
   "source": [
    "- url주소 디코딩 함수 : requests.utils.unquote()"
   ]
  },
  {
   "cell_type": "code",
   "execution_count": 82,
   "metadata": {},
   "outputs": [
    {
     "name": "stdout",
     "output_type": "stream",
     "text": [
      "https://www.google.com/search?biw=1280&bih=610&tbm=isch&sa=1&ei=Z_ZcXeDMLrnemAW68bDYBA&q=우주&oq=우주&gs_l=img.3..35i39j0l9.7639.7987..8131...1.0..1.99.386.4......0....1..gws-wiz-img.eOi8KabzOfY&ved=0ahUKEwignOP2u5PkAhU5L6YKHbo4DEsQ4dUDCAY&uact=5\n",
      "https://www.google.com/search?biw=1280&bih=610&tbm=isch&sa=1&ei=Z_ZcXeDMLrnemAW68bDYBA&q=우주&oq=우주&gs_l=img.3..35i39j0l9.7639.7987..8131...1.0..1.99.386.4......0....1..gws-wiz-img.eOi8KabzOfY&ved=0ahUKEwignOP2u5PkAhU5L6YKHbo4DEsQ4dUDCAY&uact=5\n"
     ]
    }
   ],
   "source": [
    "url_ex = 'https://www.google.com/search?biw=1280&bih=610&tbm=isch&sa=1&ei=Z_ZcXeDMLrnemAW68bDYBA&q=우주&oq=우주&gs_l=img.3..35i39j0l9.7639.7987..8131...1.0..1.99.386.4......0....1..gws-wiz-img.eOi8KabzOfY&ved=0ahUKEwignOP2u5PkAhU5L6YKHbo4DEsQ4dUDCAY&uact=5'\n",
    "\n",
    "decode_ex = requests.utils.unquote(url_ex)\n",
    "\n",
    "print(url_ex)\n",
    "print(decode11)   # 이미 디코딩 되어있는 API키였음"
   ]
  },
  {
   "cell_type": "markdown",
   "metadata": {},
   "source": [
    "**[15장: 471페이지]**"
   ]
  },
  {
   "cell_type": "code",
   "execution_count": 43,
   "metadata": {},
   "outputs": [
    {
     "name": "stdout",
     "output_type": "stream",
     "text": [
      "http://api.openweathermap.org/data/2.5/weather?lat=37.57&lon=126.98&appid=b235c57pc357fb68acr1e81&units=metric\n",
      "{\"cod\":401, \"message\": \"Invalid API key. Please see http://openweathermap.org/faq#error401 for more info.\"}\n",
      "<Response [401]>\n"
     ]
    }
   ],
   "source": [
    "import requests  \n",
    "\n",
    "LAT = '37.57'  # 위도\n",
    "LON = '126.98' # 경도\n",
    "API_KEY = 'b235c57pc357fb68acr1e81' # API 키(실행되지 않는 임의의 API 키)\n",
    "UNIT = 'metric' # 단위\n",
    "\n",
    "req_url = \"http://api.openweathermap.org/data/2.5/weather\"\n",
    "req_parameter = {\"lat\":LAT, \"lon\":LON , \"appid\": API_KEY, \"units\":UNIT}  # 파라미터를 딕셔너리에 입력\n",
    "r = requests.get(req_url,params=req_parameter)  # requests.get()함수안에 params=을 써서 속성값 지정\n",
    "                                                 # 속성값으로 입력된 req_parameter딕셔너리는 하위주소로 자동생성됨\n",
    "                                                 # 해당 주소의 정보를 불러옴\n",
    "        \n",
    "print(r.url)    # 해당 주소 정보의 url불러오기\n",
    "print(r.text)\n",
    "print(r)\n",
    "\n",
    "# 여기서 쓰인 requests.get()함수는 딕셔너리를 자동으로 입력하여 주소를 만들어주기때문에 꼭 필요한 기능을 수행함"
   ]
  },
  {
   "cell_type": "markdown",
   "metadata": {},
   "source": [
    "#### 웹 사이트 주소의 인코딩과 디코딩 \n",
    "- requests.utils.unquote()로 url 주소 디코딩하기"
   ]
  },
  {
   "cell_type": "markdown",
   "metadata": {},
   "source": [
    "**[15장: 471 ~ 472페이지]**"
   ]
  },
  {
   "cell_type": "code",
   "execution_count": 83,
   "metadata": {},
   "outputs": [
    {
     "name": "stdout",
     "output_type": "stream",
     "text": [
      "Encoded url(인코딩된 주소): et5piq3pfpqLEWPpCbvtSQ%2Bertertg%2Bx3evdvbaRBvhWEerg3efac2r3f3RfhDTERTw%2B9rkvoewRV%2Fovmrk3dq%3D%3D\n",
      "Decoded url(디코딩된 주소): et5piq3pfpqLEWPpCbvtSQ+ertertg+x3evdvbaRBvhWEerg3efac2r3f3RfhDTERTw+9rkvoewRV/ovmrk3dq==\n"
     ]
    }
   ],
   "source": [
    "import requests\n",
    "\n",
    "API_KEY = \"et5piq3pfpqLEWPpCbvtSQ%2Bertertg%2Bx3evdvbaRBvhWEerg3efac2r3f3RfhDTERTw%2B9rkvoewRV%2Fovmrk3dq%3D%3D\" \n",
    "                                                   # 서버와 브라우저 간 통신을 하기위해 인코딩이 되어있는 API키\n",
    "\n",
    "API_KEY_decode = requests.utils.unquote(API_KEY)  # requests 모듈의 utils.unquote()함수로 API를 디코딩함\n",
    "\n",
    "print(\"Encoded url(인코딩된 주소):\", API_KEY)\n",
    "print(\"Decoded url(디코딩된 주소):\", API_KEY_decode)"
   ]
  },
  {
   "cell_type": "markdown",
   "metadata": {},
   "source": [
    "**[15장: 472페이지]**"
   ]
  },
  {
   "cell_type": "code",
   "execution_count": 84,
   "metadata": {},
   "outputs": [
    {
     "name": "stdout",
     "output_type": "stream",
     "text": [
      "http://openapi.airkorea.or.kr/openapi/services/rest/MsrstnInfoInqireSvc/getNearbyMsrstnList?ServiceKey=et5piq3pfpqLEWPpCbvtSQ%2Bertertg%2Bx3evdvbaRBvhWEerg3efac2r3f3RfhDTERTw%2B9rkvoewRV%2Fovmrk3dq%3D%3D&tmX=244148.546388&tmY=412423.75772\n"
     ]
    }
   ],
   "source": [
    "req_url = \"http://openapi.airkorea.or.kr/openapi/services/rest/MsrstnInfoInqireSvc/getNearbyMsrstnList\"   # 상위주소\n",
    "\n",
    "tm_x = 244148.546388    # 1번 파라미터 tm_x\n",
    "tm_y = 412423.75772     # 2번 파라미터 tm_y\n",
    "\n",
    "req_parameter = {\"ServiceKey\":API_KEY_decode, \"tmX\":tm_x, \"tmY\":tm_y}   # API와 그외 파라미터를 담아 딕셔너리 생성\n",
    "\n",
    "r = requests.get(req_url,  params = req_parameter) # requests.get()으로 상위주소와 딕셔너리 파라미터를 담아서 전체주소를 만들고,\n",
    "                                                   # 해당 주소의 정보 가져오기\n",
    "print(r.url)   # 해당 주소의 url 가져오기"
   ]
  },
  {
   "cell_type": "code",
   "execution_count": 86,
   "metadata": {},
   "outputs": [
    {
     "data": {
      "text/plain": [
       "'http://openapi.airkorea.or.kr/openapi/services/rest/MsrstnInfoInqireSvc/getNearbyMsrstnList?ServiceKey=et5piq3pfpqLEWPpCbvtSQ+ertertg+x3evdvbaRBvhWEerg3efac2r3f3RfhDTERTw+9rkvoewRV/ovmrk3dq==&tmX=244148.546388&tmY=412423.75772'"
      ]
     },
     "execution_count": 86,
     "metadata": {},
     "output_type": "execute_result"
    }
   ],
   "source": [
    "# 가져온 url 디코딩하기\n",
    "\n",
    "url = 'http://openapi.airkorea.or.kr/openapi/services/rest/MsrstnInfoInqireSvc/getNearbyMsrstnList?ServiceKey=et5piq3pfpqLEWPpCbvtSQ%2Bertertg%2Bx3evdvbaRBvhWEerg3efac2r3f3RfhDTERTw%2B9rkvoewRV%2Fovmrk3dq%3D%3D&tmX=244148.546388&tmY=412423.75772'\n",
    "\n",
    "decode1 = requests.utils.unquote(url)\n",
    "decode1 \n",
    "\n",
    "#디코딩을 하면 전체 주소는 (상위주소) ? (API_key) & (파라미터1) & (파라미터2).. 로 구성됨"
   ]
  },
  {
   "cell_type": "markdown",
   "metadata": {},
   "source": [
    "**[15장: 473페이지]**"
   ]
  },
  {
   "cell_type": "code",
   "execution_count": 87,
   "metadata": {},
   "outputs": [
    {
     "name": "stdout",
     "output_type": "stream",
     "text": [
      "http://openapi.airkorea.or.kr/openapi/services/rest/MsrstnInfoInqireSvc/getNearbyMsrstnList?ServiceKey=et5piq3pfpqLEWPpCbvtSQ%252Bertertg%252Bx3evdvbaRBvhWEerg3efac2r3f3RfhDTERTw%252B9rkvoewRV%252Fovmrk3dq%253D%253D&tmX=244148.546388&tmY=412423.75772\n"
     ]
    }
   ],
   "source": [
    "req_url = \"http://openapi.airkorea.or.kr/openapi/services/rest/MsrstnInfoInqireSvc/getNearbyMsrstnList\"   # 상위주소\n",
    "req_parameter = {\"ServiceKey\":API_KEY, \"tmX\":tm_x, \"tmY\":tm_y}     # 디코딩하지 않은 API와 다른 파라미터로 딕셔너리 생성\n",
    "\n",
    "r = requests.get(req_url,  params = req_parameter)    # 상위주소와 하위주소(딕셔너리정보)를 넣어 requests.get으로 정보 받아오기\n",
    "print(r.url)    # 받아온 정보에서 url 불러오기 (동일)"
   ]
  },
  {
   "cell_type": "markdown",
   "metadata": {},
   "source": [
    "#인코딩 url - http://openapi.airkorea.or.kr/openapi/services/rest/MsrstnInfoInqireSvc/getNearbyMsrstnList?ServiceKey=et5piq3pfpqLEWPpCbvtSQ%252Bertertg%252Bx3evdvbaRBvhWEerg3efac2r3f3RfhDTERTw%252B9rkvoewRV%252Fovmrk3dq%253D%253D&tmX=244148.546388&tmY=412423.75772\n",
    "#디코딩 url - http://openapi.airkorea.or.kr/openapi/services/rest/MsrstnInfoInqireSvc/getNearbyMsrstnList?ServiceKey=et5piq3pfpqLEWPpCbvtSQ%2Bertertg%2Bx3evdvbaRBvhWEerg3efac2r3f3RfhDTERTw%2B9rkvoewRV%2Fovmrk3dq%3D%3D&tmX=244148.546388&tmY=412423.75772"
   ]
  },
  {
   "cell_type": "markdown",
   "metadata": {},
   "source": [
    "## 15.2 API 키를 사용하지 않고 데이터 가져오기"
   ]
  },
  {
   "cell_type": "markdown",
   "metadata": {},
   "source": [
    "### 국제 우주 정거장의 정보 가져오기 (API가 필요없는 경우)"
   ]
  },
  {
   "cell_type": "markdown",
   "metadata": {},
   "source": [
    "**[15장: 473 ~ 474페이지]**"
   ]
  },
  {
   "cell_type": "code",
   "execution_count": 89,
   "metadata": {},
   "outputs": [
    {
     "data": {
      "text/plain": [
       "'{\"timestamp\": 1576123988, \"message\": \"success\", \"iss_position\": {\"latitude\": \"-49.2237\", \"longitude\": \"-11.6511\"}}'"
      ]
     },
     "execution_count": 89,
     "metadata": {},
     "output_type": "execute_result"
    }
   ],
   "source": [
    "import requests    # 주소의 정보를 가져올 때 사용\n",
    "import json        # 제이슨데이터를 파이썬데이터로 가져올 때 사용\n",
    "\n",
    "url = \"http://api.open-notify.org/iss-now.json\"   # 주소\n",
    "\n",
    "r = requests.get(url)    # 해당 주소의 정보를 가져오기\n",
    "r.text             # url의 텍스트를 출력하기 (제이슨파일)"
   ]
  },
  {
   "cell_type": "markdown",
   "metadata": {},
   "source": [
    "**[15장: 474페이지]**"
   ]
  },
  {
   "cell_type": "code",
   "execution_count": 91,
   "metadata": {},
   "outputs": [
    {
     "name": "stdout",
     "output_type": "stream",
     "text": [
      "{'timestamp': 1576123988, 'message': 'success', 'iss_position': {'latitude': '-49.2237', 'longitude': '-11.6511'}}\n",
      "<class 'dict'>\n"
     ]
    }
   ],
   "source": [
    "json_to_dict = json.loads(r.text)   # 가져온 제이슨데이터를 파이썬데이터로 변경\n",
    "              \n",
    "print(json_to_dict)\n",
    "print(type(json_to_dict))   # 파이썬 딕셔너리 형태로 변경됨"
   ]
  },
  {
   "cell_type": "markdown",
   "metadata": {},
   "source": [
    "**[15장: 474 ~ 475페이지]**\n",
    "- requests 모듈의 .json()함수를 사용해서 바로 제이슨데이터를 파이썬데이터로 가져오기"
   ]
  },
  {
   "cell_type": "code",
   "execution_count": 92,
   "metadata": {},
   "outputs": [
    {
     "name": "stdout",
     "output_type": "stream",
     "text": [
      "{'timestamp': 1576124135, 'message': 'success', 'iss_position': {'latitude': '-45.5279', 'longitude': '0.6347'}}\n"
     ]
    },
    {
     "data": {
      "text/plain": [
       "dict"
      ]
     },
     "execution_count": 92,
     "metadata": {},
     "output_type": "execute_result"
    }
   ],
   "source": [
    "import requests\n",
    "\n",
    "url = \"http://api.open-notify.org/iss-now.json\"\n",
    "\n",
    "r = requests.get(url)    # 해당 url의 정보 가져오기\n",
    "json_to_dict = r.json()  # 해당 사이트의 제이슨 정보를 바로 파이썬데이터로 가져오기  .json()함수 사용\n",
    "\n",
    "print(json_to_dict)\n",
    "type(json_to_dict)       # 파이썬데이터로 저장 변수 타입확인"
   ]
  },
  {
   "cell_type": "markdown",
   "metadata": {},
   "source": [
    "**[15장: 475페이지]**\n",
    "- requests.get(url).json()을 한번에 써서 해당 url의 제이슨데이터를 파이썬데이터로 한번에 가져오기"
   ]
  },
  {
   "cell_type": "code",
   "execution_count": 93,
   "metadata": {},
   "outputs": [
    {
     "name": "stdout",
     "output_type": "stream",
     "text": [
      "{'timestamp': 1576124153, 'message': 'success', 'iss_position': {'latitude': '-44.9639', 'longitude': '2.0551'}}\n"
     ]
    },
    {
     "data": {
      "text/plain": [
       "dict"
      ]
     },
     "execution_count": 93,
     "metadata": {},
     "output_type": "execute_result"
    }
   ],
   "source": [
    "import requests     # 사이트 정보 가져오는 모듈 호출\n",
    "\n",
    "url = \"http://api.open-notify.org/iss-now.json\"  # url 지정\n",
    "\n",
    "json_to_dict = requests.get(url).json()   # 해당 url의 제이슨데이터를 파이썬데이터로 받아옴(.json()함수 사용)\n",
    "\n",
    "print(json_to_dict)\n",
    "type(json_to_dict)"
   ]
  },
  {
   "cell_type": "markdown",
   "metadata": {},
   "source": [
    "**[15장: 475페이지]**"
   ]
  },
  {
   "cell_type": "code",
   "execution_count": 94,
   "metadata": {},
   "outputs": [
    {
     "data": {
      "text/plain": [
       "{'timestamp': 1576124153,\n",
       " 'message': 'success',\n",
       " 'iss_position': {'latitude': '-44.9639', 'longitude': '2.0551'}}"
      ]
     },
     "execution_count": 94,
     "metadata": {},
     "output_type": "execute_result"
    }
   ],
   "source": [
    "json_to_dict     # 딕셔너리데이터 출력"
   ]
  },
  {
   "cell_type": "markdown",
   "metadata": {},
   "source": [
    "**[15장: 475페이지]**"
   ]
  },
  {
   "cell_type": "code",
   "execution_count": 95,
   "metadata": {},
   "outputs": [
    {
     "name": "stdout",
     "output_type": "stream",
     "text": [
      "{'latitude': '-44.9639', 'longitude': '2.0551'}\n",
      "-44.9639\n",
      "2.0551\n",
      "success\n",
      "1576124153\n"
     ]
    }
   ],
   "source": [
    "# 딕셔너리의 키로 값 호출\n",
    "\n",
    "print(json_to_dict[\"iss_position\"])   \n",
    "print(json_to_dict[\"iss_position\"][\"latitude\"])\n",
    "print(json_to_dict[\"iss_position\"][\"longitude\"])\n",
    "print(json_to_dict[\"message\"])\n",
    "print(json_to_dict[\"timestamp\"])"
   ]
  },
  {
   "cell_type": "markdown",
   "metadata": {},
   "source": [
    "**[15장: 476페이지]**"
   ]
  },
  {
   "cell_type": "code",
   "execution_count": 96,
   "metadata": {},
   "outputs": [
    {
     "name": "stdout",
     "output_type": "stream",
     "text": [
      "{'latitude': '-39.8768', 'longitude': '12.2873'}\n",
      "{'latitude': '-39.8388', 'longitude': '12.3513'}\n",
      "{'latitude': '-39.7816', 'longitude': '12.4470'}\n",
      "{'latitude': '-39.7244', 'longitude': '12.5426'}\n",
      "{'latitude': '-39.6862', 'longitude': '12.6063'}\n"
     ]
    }
   ],
   "source": [
    "import requests    # 사이트 정보 가져오는 모듈 호출\n",
    "import time       # 출력 간격 지정할 때 사용할 모듈 호출\n",
    "\n",
    "url = \"http://api.open-notify.org/iss-now.json\"   # 사이트 주소 지정\n",
    "\n",
    "# 함수 생성\n",
    "def ISS_Position(api_url):   # url을 파라미터로 받음\n",
    "    json_to_dict = requests.get(api_url).json()  # url에서 json정보를 파이썬데이터로 받아옴\n",
    "    return json_to_dict[\"iss_position\"]  # 받아온 딕셔너리의 iss_position키의 값만 리턴값으로 반환\n",
    "\n",
    "for k in range(5):             # for 반복문으로 5회 반복\n",
    "    print(ISS_Position(url))   # 함수 실행 (리턴값 출력)\n",
    "    time.sleep(1)             # 10초간 휴식 (정거장의 위치를 10초에 한번씩 출력하기) "
   ]
  },
  {
   "cell_type": "markdown",
   "metadata": {},
   "source": [
    "#### 지도에서 위치 표시하기 (반복변수 실패)"
   ]
  },
  {
   "cell_type": "code",
   "execution_count": 48,
   "metadata": {},
   "outputs": [
    {
     "name": "stdout",
     "output_type": "stream",
     "text": [
      "Collecting folium\n",
      "  Downloading https://files.pythonhosted.org/packages/72/ff/004bfe344150a064e558cb2aedeaa02ecbf75e60e148a55a9198f0c41765/folium-0.10.0-py2.py3-none-any.whl (91kB)\n",
      "Collecting branca>=0.3.0 (from folium)\n",
      "  Downloading https://files.pythonhosted.org/packages/63/36/1c93318e9653f4e414a2e0c3b98fc898b4970e939afeedeee6075dd3b703/branca-0.3.1-py3-none-any.whl\n",
      "Requirement already satisfied: numpy in c:\\users\\seunggeun park\\.conda\\envs\\python36\\lib\\site-packages (from folium) (1.16.4)\n",
      "Requirement already satisfied: requests in c:\\users\\seunggeun park\\.conda\\envs\\python36\\lib\\site-packages (from folium) (2.22.0)\n",
      "Requirement already satisfied: jinja2>=2.9 in c:\\users\\seunggeun park\\.conda\\envs\\python36\\lib\\site-packages (from folium) (2.10.1)\n",
      "Requirement already satisfied: six in c:\\users\\seunggeun park\\.conda\\envs\\python36\\lib\\site-packages (from branca>=0.3.0->folium) (1.12.0)\n",
      "Requirement already satisfied: chardet<3.1.0,>=3.0.2 in c:\\users\\seunggeun park\\.conda\\envs\\python36\\lib\\site-packages (from requests->folium) (3.0.4)\n",
      "Requirement already satisfied: idna<2.9,>=2.5 in c:\\users\\seunggeun park\\.conda\\envs\\python36\\lib\\site-packages (from requests->folium) (2.8)\n",
      "Requirement already satisfied: certifi>=2017.4.17 in c:\\users\\seunggeun park\\.conda\\envs\\python36\\lib\\site-packages (from requests->folium) (2019.6.16)\n",
      "Requirement already satisfied: urllib3!=1.25.0,!=1.25.1,<1.26,>=1.21.1 in c:\\users\\seunggeun park\\.conda\\envs\\python36\\lib\\site-packages (from requests->folium) (1.24.2)\n",
      "Requirement already satisfied: MarkupSafe>=0.23 in c:\\users\\seunggeun park\\.conda\\envs\\python36\\lib\\site-packages (from jinja2>=2.9->folium) (1.1.1)\n",
      "Installing collected packages: branca, folium\n",
      "Successfully installed branca-0.3.1 folium-0.10.0\n"
     ]
    }
   ],
   "source": [
    "!pip install folium"
   ]
  },
  {
   "cell_type": "code",
   "execution_count": 98,
   "metadata": {
    "scrolled": true
   },
   "outputs": [
    {
     "data": {
      "text/html": [
       "<div style=\"width:100%;\"><div style=\"position:relative;width:100%;height:0;padding-bottom:60%;\"><iframe src=\"data:text/html;charset=utf-8;base64,PCFET0NUWVBFIGh0bWw+CjxoZWFkPiAgICAKICAgIDxtZXRhIGh0dHAtZXF1aXY9ImNvbnRlbnQtdHlwZSIgY29udGVudD0idGV4dC9odG1sOyBjaGFyc2V0PVVURi04IiAvPgogICAgCiAgICAgICAgPHNjcmlwdD4KICAgICAgICAgICAgTF9OT19UT1VDSCA9IGZhbHNlOwogICAgICAgICAgICBMX0RJU0FCTEVfM0QgPSBmYWxzZTsKICAgICAgICA8L3NjcmlwdD4KICAgIAogICAgPHNjcmlwdCBzcmM9Imh0dHBzOi8vY2RuLmpzZGVsaXZyLm5ldC9ucG0vbGVhZmxldEAxLjUuMS9kaXN0L2xlYWZsZXQuanMiPjwvc2NyaXB0PgogICAgPHNjcmlwdCBzcmM9Imh0dHBzOi8vY29kZS5qcXVlcnkuY29tL2pxdWVyeS0xLjEyLjQubWluLmpzIj48L3NjcmlwdD4KICAgIDxzY3JpcHQgc3JjPSJodHRwczovL21heGNkbi5ib290c3RyYXBjZG4uY29tL2Jvb3RzdHJhcC8zLjIuMC9qcy9ib290c3RyYXAubWluLmpzIj48L3NjcmlwdD4KICAgIDxzY3JpcHQgc3JjPSJodHRwczovL2NkbmpzLmNsb3VkZmxhcmUuY29tL2FqYXgvbGlicy9MZWFmbGV0LmF3ZXNvbWUtbWFya2Vycy8yLjAuMi9sZWFmbGV0LmF3ZXNvbWUtbWFya2Vycy5qcyI+PC9zY3JpcHQ+CiAgICA8bGluayByZWw9InN0eWxlc2hlZXQiIGhyZWY9Imh0dHBzOi8vY2RuLmpzZGVsaXZyLm5ldC9ucG0vbGVhZmxldEAxLjUuMS9kaXN0L2xlYWZsZXQuY3NzIi8+CiAgICA8bGluayByZWw9InN0eWxlc2hlZXQiIGhyZWY9Imh0dHBzOi8vbWF4Y2RuLmJvb3RzdHJhcGNkbi5jb20vYm9vdHN0cmFwLzMuMi4wL2Nzcy9ib290c3RyYXAubWluLmNzcyIvPgogICAgPGxpbmsgcmVsPSJzdHlsZXNoZWV0IiBocmVmPSJodHRwczovL21heGNkbi5ib290c3RyYXBjZG4uY29tL2Jvb3RzdHJhcC8zLjIuMC9jc3MvYm9vdHN0cmFwLXRoZW1lLm1pbi5jc3MiLz4KICAgIDxsaW5rIHJlbD0ic3R5bGVzaGVldCIgaHJlZj0iaHR0cHM6Ly9tYXhjZG4uYm9vdHN0cmFwY2RuLmNvbS9mb250LWF3ZXNvbWUvNC42LjMvY3NzL2ZvbnQtYXdlc29tZS5taW4uY3NzIi8+CiAgICA8bGluayByZWw9InN0eWxlc2hlZXQiIGhyZWY9Imh0dHBzOi8vY2RuanMuY2xvdWRmbGFyZS5jb20vYWpheC9saWJzL0xlYWZsZXQuYXdlc29tZS1tYXJrZXJzLzIuMC4yL2xlYWZsZXQuYXdlc29tZS1tYXJrZXJzLmNzcyIvPgogICAgPGxpbmsgcmVsPSJzdHlsZXNoZWV0IiBocmVmPSJodHRwczovL3Jhd2Nkbi5naXRoYWNrLmNvbS9weXRob24tdmlzdWFsaXphdGlvbi9mb2xpdW0vbWFzdGVyL2ZvbGl1bS90ZW1wbGF0ZXMvbGVhZmxldC5hd2Vzb21lLnJvdGF0ZS5jc3MiLz4KICAgIDxzdHlsZT5odG1sLCBib2R5IHt3aWR0aDogMTAwJTtoZWlnaHQ6IDEwMCU7bWFyZ2luOiAwO3BhZGRpbmc6IDA7fTwvc3R5bGU+CiAgICA8c3R5bGU+I21hcCB7cG9zaXRpb246YWJzb2x1dGU7dG9wOjA7Ym90dG9tOjA7cmlnaHQ6MDtsZWZ0OjA7fTwvc3R5bGU+CiAgICAKICAgICAgICAgICAgPG1ldGEgbmFtZT0idmlld3BvcnQiIGNvbnRlbnQ9IndpZHRoPWRldmljZS13aWR0aCwKICAgICAgICAgICAgICAgIGluaXRpYWwtc2NhbGU9MS4wLCBtYXhpbXVtLXNjYWxlPTEuMCwgdXNlci1zY2FsYWJsZT1ubyIgLz4KICAgICAgICAgICAgPHN0eWxlPgogICAgICAgICAgICAgICAgI21hcF9iNjM4NjEzODUyZmU0YTU2ODQ0MGNlYjZjZjg5NzA5ZiB7CiAgICAgICAgICAgICAgICAgICAgcG9zaXRpb246IHJlbGF0aXZlOwogICAgICAgICAgICAgICAgICAgIHdpZHRoOiAxMDAuMCU7CiAgICAgICAgICAgICAgICAgICAgaGVpZ2h0OiAxMDAuMCU7CiAgICAgICAgICAgICAgICAgICAgbGVmdDogMC4wJTsKICAgICAgICAgICAgICAgICAgICB0b3A6IDAuMCU7CiAgICAgICAgICAgICAgICB9CiAgICAgICAgICAgIDwvc3R5bGU+CiAgICAgICAgCjwvaGVhZD4KPGJvZHk+ICAgIAogICAgCiAgICAgICAgICAgIDxkaXYgY2xhc3M9ImZvbGl1bS1tYXAiIGlkPSJtYXBfYjYzODYxMzg1MmZlNGE1Njg0NDBjZWI2Y2Y4OTcwOWYiID48L2Rpdj4KICAgICAgICAKPC9ib2R5Pgo8c2NyaXB0PiAgICAKICAgIAogICAgICAgICAgICB2YXIgbWFwX2I2Mzg2MTM4NTJmZTRhNTY4NDQwY2ViNmNmODk3MDlmID0gTC5tYXAoCiAgICAgICAgICAgICAgICAibWFwX2I2Mzg2MTM4NTJmZTRhNTY4NDQwY2ViNmNmODk3MDlmIiwKICAgICAgICAgICAgICAgIHsKICAgICAgICAgICAgICAgICAgICBjZW50ZXI6IFswLjAsIDAuMF0sCiAgICAgICAgICAgICAgICAgICAgY3JzOiBMLkNSUy5FUFNHMzg1NywKICAgICAgICAgICAgICAgICAgICB6b29tOiAxMCwKICAgICAgICAgICAgICAgICAgICB6b29tQ29udHJvbDogdHJ1ZSwKICAgICAgICAgICAgICAgICAgICBwcmVmZXJDYW52YXM6IGZhbHNlLAogICAgICAgICAgICAgICAgfQogICAgICAgICAgICApOwoKICAgICAgICAgICAgCgogICAgICAgIAogICAgCiAgICAgICAgICAgIHZhciB0aWxlX2xheWVyXzA2MGViMzNiN2E0NDQ5ZWFiYWU4MjVjMTRiMmIxMTAzID0gTC50aWxlTGF5ZXIoCiAgICAgICAgICAgICAgICAiaHR0cHM6Ly97c30udGlsZS5vcGVuc3RyZWV0bWFwLm9yZy97en0ve3h9L3t5fS5wbmciLAogICAgICAgICAgICAgICAgeyJhdHRyaWJ1dGlvbiI6ICJEYXRhIGJ5IFx1MDAyNmNvcHk7IFx1MDAzY2EgaHJlZj1cImh0dHA6Ly9vcGVuc3RyZWV0bWFwLm9yZ1wiXHUwMDNlT3BlblN0cmVldE1hcFx1MDAzYy9hXHUwMDNlLCB1bmRlciBcdTAwM2NhIGhyZWY9XCJodHRwOi8vd3d3Lm9wZW5zdHJlZXRtYXAub3JnL2NvcHlyaWdodFwiXHUwMDNlT0RiTFx1MDAzYy9hXHUwMDNlLiIsICJkZXRlY3RSZXRpbmEiOiBmYWxzZSwgIm1heE5hdGl2ZVpvb20iOiAxOCwgIm1heFpvb20iOiAxOCwgIm1pblpvb20iOiAwLCAibm9XcmFwIjogZmFsc2UsICJvcGFjaXR5IjogMSwgInN1YmRvbWFpbnMiOiAiYWJjIiwgInRtcyI6IGZhbHNlfQogICAgICAgICAgICApLmFkZFRvKG1hcF9iNjM4NjEzODUyZmU0YTU2ODQ0MGNlYjZjZjg5NzA5Zik7CiAgICAgICAgCjwvc2NyaXB0Pg==\" style=\"position:absolute;width:100%;height:100%;left:0;top:0;border:none !important;\" allowfullscreen webkitallowfullscreen mozallowfullscreen></iframe></div></div>"
      ],
      "text/plain": [
       "<folium.folium.Map at 0x1e4a5e0b9b0>"
      ]
     },
     "execution_count": 98,
     "metadata": {},
     "output_type": "execute_result"
    }
   ],
   "source": [
    "import requests    \n",
    "import time \n",
    "import folium\n",
    "\n",
    "url = \"http://api.open-notify.org/iss-now.json\"   # 사이트 주소 지정\n",
    "\n",
    "iss_lon = 0\n",
    "iss_lat = 0\n",
    "\n",
    "# 함수 생성\n",
    "def ISS_Position(iss_position_api_url): \n",
    "    json_to_dict = requests.get(iss_position_api_url).json() \n",
    "    \n",
    "    global iss_lon\n",
    "    global iss_lat\n",
    "    \n",
    "    iss_lon = json_to_dict[\"iss_position\"]['longitude']\n",
    "    iss_lat = json_to_dict[\"iss_position\"]['latitude']\n",
    "                                            \n",
    "\n",
    "ISS_loc = folium.Map(location =[iss_lon, iss_lat]) \n",
    "ISS_loc\n",
    "        \n",
    "#for k in range(5):      # for 반복문으로 5회 반복\n",
    "#    ISS_Position(url)   # 함수 실행\n",
    "#    ISS_loc = folium.Map(location =[iss_lon, iss_lat])\n",
    "#    time.sleep(5)             # 10초간 휴식 (정거장의 위치를 10초에 한번씩 출력하기) "
   ]
  },
  {
   "cell_type": "markdown",
   "metadata": {},
   "source": [
    "### 국가 정보 가져오기"
   ]
  },
  {
   "cell_type": "markdown",
   "metadata": {},
   "source": [
    "**[15장: 476 ~ 477페이지]**"
   ]
  },
  {
   "cell_type": "code",
   "execution_count": 106,
   "metadata": {},
   "outputs": [
    {
     "data": {
      "text/plain": [
       "'[{\"name\":\"South Korea\",\"topLevelDomain\":[\".kr\"],\"alpha2Code\":\"KR\",\"alpha3Code\":\"KOR\",\"callingCodes\":[\"82\"],\"capital\":\"Seoul\",\"altSpellings\":[\"KR\",\"Republic of Korea\"],\"region\":\"Asia\",\"subregion\":\"Eastern Asia\",\"population\":51448183,\"latlng\":[37.0,127.5],\"demonym\":\"South Korean\",\"area\":100210.0,\"gini\":31.3,\"timezones\":[\"UTC+09:00\"],\"borders\":[\"PRK\"],\"nativeName\":\"대한민국\",\"numericCode\":\"410\",\"currencies\":[\"KRW\"],\"languages\":[\"ko\"],\"translations\":{\"de\":\"Südkorea\",\"es\":\"Corea del Sur\",\"fr\":\"Corée du Sud\",\"ja\":\"大韓民国\",\"it\":\"Corea del Sud\"},\"relevance\":\"1.5\"}]'"
      ]
     },
     "metadata": {},
     "output_type": "display_data"
    },
    {
     "data": {
      "text/plain": [
       "str"
      ]
     },
     "execution_count": 106,
     "metadata": {},
     "output_type": "execute_result"
    }
   ],
   "source": [
    "import requests\n",
    "\n",
    "url_temp = \"https://restcountries.eu/rest/v1/name/\"  # 각 나라별 정보를 보여주는 사이트 (상위주소)\n",
    "country = \"South Korea\"    # 파라미터1 (국가명)\n",
    "\n",
    "url = url_temp + country   # 상위주소 + 파라미터\n",
    "\n",
    "js_data = requests.get(url).text   # 해당 주소의 url정보를 텍스트로 출력\n",
    "display(js_data)                           # 텍스트로 출력(제이슨데이터)\n",
    "type(js_data)"
   ]
  },
  {
   "cell_type": "markdown",
   "metadata": {},
   "source": [
    "**[15장: 477페이지]**"
   ]
  },
  {
   "cell_type": "code",
   "execution_count": 108,
   "metadata": {},
   "outputs": [
    {
     "data": {
      "text/plain": [
       "[{'name': 'South Korea',\n",
       "  'topLevelDomain': ['.kr'],\n",
       "  'alpha2Code': 'KR',\n",
       "  'alpha3Code': 'KOR',\n",
       "  'callingCodes': ['82'],\n",
       "  'capital': 'Seoul',\n",
       "  'altSpellings': ['KR', 'Republic of Korea'],\n",
       "  'region': 'Asia',\n",
       "  'subregion': 'Eastern Asia',\n",
       "  'population': 51448183,\n",
       "  'latlng': [37.0, 127.5],\n",
       "  'demonym': 'South Korean',\n",
       "  'area': 100210.0,\n",
       "  'gini': 31.3,\n",
       "  'timezones': ['UTC+09:00'],\n",
       "  'borders': ['PRK'],\n",
       "  'nativeName': '대한민국',\n",
       "  'numericCode': '410',\n",
       "  'currencies': ['KRW'],\n",
       "  'languages': ['ko'],\n",
       "  'translations': {'de': 'Südkorea',\n",
       "   'es': 'Corea del Sur',\n",
       "   'fr': 'Corée du Sud',\n",
       "   'ja': '大韓民国',\n",
       "   'it': 'Corea del Sud'},\n",
       "  'relevance': '1.5'}]"
      ]
     },
     "execution_count": 108,
     "metadata": {},
     "output_type": "execute_result"
    }
   ],
   "source": [
    "json_to_list = requests.get(url).json()   # 해당 주소의 제이슨데이터를 파이썬데이터로 저장 (리스트에 담긴 딕셔너리 형태)\n",
    "json_to_list"
   ]
  },
  {
   "cell_type": "code",
   "execution_count": 111,
   "metadata": {},
   "outputs": [
    {
     "data": {
      "text/plain": [
       "{'name': 'South Korea',\n",
       " 'topLevelDomain': ['.kr'],\n",
       " 'alpha2Code': 'KR',\n",
       " 'alpha3Code': 'KOR',\n",
       " 'callingCodes': ['82'],\n",
       " 'capital': 'Seoul',\n",
       " 'altSpellings': ['KR', 'Republic of Korea'],\n",
       " 'region': 'Asia',\n",
       " 'subregion': 'Eastern Asia',\n",
       " 'population': 51448183,\n",
       " 'latlng': [37.0, 127.5],\n",
       " 'demonym': 'South Korean',\n",
       " 'area': 100210.0,\n",
       " 'gini': 31.3,\n",
       " 'timezones': ['UTC+09:00'],\n",
       " 'borders': ['PRK'],\n",
       " 'nativeName': '대한민국',\n",
       " 'numericCode': '410',\n",
       " 'currencies': ['KRW'],\n",
       " 'languages': ['ko'],\n",
       " 'translations': {'de': 'Südkorea',\n",
       "  'es': 'Corea del Sur',\n",
       "  'fr': 'Corée du Sud',\n",
       "  'ja': '大韓民国',\n",
       "  'it': 'Corea del Sud'},\n",
       " 'relevance': '1.5'}"
      ]
     },
     "execution_count": 111,
     "metadata": {},
     "output_type": "execute_result"
    }
   ],
   "source": [
    "json_to_list[0]   # 가장 밖에 있는 리스트 벗기기"
   ]
  },
  {
   "cell_type": "markdown",
   "metadata": {},
   "source": [
    "**[15장: 478페이지]**"
   ]
  },
  {
   "cell_type": "code",
   "execution_count": 113,
   "metadata": {},
   "outputs": [
    {
     "data": {
      "text/plain": [
       "'Seoul'"
      ]
     },
     "execution_count": 113,
     "metadata": {},
     "output_type": "execute_result"
    }
   ],
   "source": [
    "json_to_list[0][\"capital\"]  # 딕셔너리 전체가 리스트에 들어있음\n",
    "                            # 0번째 리스트의 'capital'키를 갖는 벨류 출력 (수도명)"
   ]
  },
  {
   "cell_type": "markdown",
   "metadata": {},
   "source": [
    "**[15장: 478페이지]**"
   ]
  },
  {
   "cell_type": "code",
   "execution_count": 114,
   "metadata": {},
   "outputs": [
    {
     "name": "stdout",
     "output_type": "stream",
     "text": [
      "*South Korea: Seoul\n",
      "*United States of America: Washington, D.C.\n",
      "*United Kingdom: London\n",
      "*France: Paris\n",
      "*Germany: Berlin\n"
     ]
    }
   ],
   "source": [
    "import requests   # 사이트의 정보를 불러올 때 사용\n",
    "import json       # 사이트의 제이슨데이터를 파이썬데이터로 변환할 때 사용\n",
    "\n",
    "countries =[\"South Korea\", \"United States of America\", \"United Kingdom\", \"France\", \"Germany\"]  # 국가명 리스트 생성\n",
    "\n",
    "def country_to_capital(country):                          # 함수 생성 (파라미터는 국가명)\n",
    "    url_temp = \"https://restcountries.eu/rest/v1/name/\"   # 상위url(api)\n",
    "    url = url_temp + country                              # 상위url+파라미터(국가명)\n",
    "    json_to_list = requests.get(url).json()               # 해당 주소의 제이슨데이터를 파이썬데이터로 저장 (리스트안의 딕셔너리)\n",
    "    return json_to_list[0][\"capital\"]                     # 리턴값으로 수도명 출력\n",
    "    \n",
    "for country in countries:                         # for반복문 실행, 국가명 리스트의 원소를 하나씩 실행\n",
    "    capital = country_to_capital(country)         # 함수에 반복변수(국가명)을 넣어 실행 (리턴값 수도명)\n",
    "    print(\"*{0}: {1}\".format(country, capital))   # 반복변수(국가명)와 for반복문의 리턴값(국가명)을 문자열에 출력"
   ]
  },
  {
   "cell_type": "markdown",
   "metadata": {},
   "source": [
    "## 15.3 트위터에 메시지 작성하고 가져오기"
   ]
  },
  {
   "cell_type": "markdown",
   "metadata": {},
   "source": [
    " ### API 키 및 접속 토큰 생성\n"
   ]
  },
  {
   "cell_type": "markdown",
   "metadata": {},
   "source": [
    "### Tweepy 설치 및 인증"
   ]
  },
  {
   "cell_type": "markdown",
   "metadata": {},
   "source": [
    "https://developer.twitter.com/en/apps 트위터 개발자 사이트"
   ]
  },
  {
   "cell_type": "markdown",
   "metadata": {},
   "source": [
    "**[15장: 485페이지]**"
   ]
  },
  {
   "cell_type": "code",
   "execution_count": 56,
   "metadata": {},
   "outputs": [
    {
     "name": "stdout",
     "output_type": "stream",
     "text": [
      "Collecting tweepy\n",
      "  Downloading https://files.pythonhosted.org/packages/36/1b/2bd38043d22ade352fc3d3902cf30ce0e2f4bf285be3b304a2782a767aec/tweepy-3.8.0-py2.py3-none-any.whl\n",
      "Requirement already satisfied: PySocks>=1.5.7 in c:\\users\\seunggeun park\\.conda\\envs\\python36\\lib\\site-packages (from tweepy) (1.7.0)\n",
      "Collecting requests-oauthlib>=0.7.0 (from tweepy)\n",
      "  Downloading https://files.pythonhosted.org/packages/c2/e2/9fd03d55ffb70fe51f587f20bcf407a6927eb121de86928b34d162f0b1ac/requests_oauthlib-1.2.0-py2.py3-none-any.whl\n",
      "Requirement already satisfied: six>=1.10.0 in c:\\users\\seunggeun park\\.conda\\envs\\python36\\lib\\site-packages (from tweepy) (1.12.0)\n",
      "Requirement already satisfied: requests>=2.11.1 in c:\\users\\seunggeun park\\.conda\\envs\\python36\\lib\\site-packages (from tweepy) (2.22.0)\n",
      "Collecting oauthlib>=3.0.0 (from requests-oauthlib>=0.7.0->tweepy)\n",
      "  Downloading https://files.pythonhosted.org/packages/05/57/ce2e7a8fa7c0afb54a0581b14a65b56e62b5759dbc98e80627142b8a3704/oauthlib-3.1.0-py2.py3-none-any.whl (147kB)\n",
      "Requirement already satisfied: urllib3!=1.25.0,!=1.25.1,<1.26,>=1.21.1 in c:\\users\\seunggeun park\\.conda\\envs\\python36\\lib\\site-packages (from requests>=2.11.1->tweepy) (1.24.2)\n",
      "Requirement already satisfied: idna<2.9,>=2.5 in c:\\users\\seunggeun park\\.conda\\envs\\python36\\lib\\site-packages (from requests>=2.11.1->tweepy) (2.8)\n",
      "Requirement already satisfied: certifi>=2017.4.17 in c:\\users\\seunggeun park\\.conda\\envs\\python36\\lib\\site-packages (from requests>=2.11.1->tweepy) (2019.6.16)\n",
      "Requirement already satisfied: chardet<3.1.0,>=3.0.2 in c:\\users\\seunggeun park\\.conda\\envs\\python36\\lib\\site-packages (from requests>=2.11.1->tweepy) (3.0.4)\n",
      "Installing collected packages: oauthlib, requests-oauthlib, tweepy\n",
      "Successfully installed oauthlib-3.1.0 requests-oauthlib-1.2.0 tweepy-3.8.0\n"
     ]
    }
   ],
   "source": [
    "!pip install tweepy"
   ]
  },
  {
   "cell_type": "code",
   "execution_count": 61,
   "metadata": {},
   "outputs": [],
   "source": [
    "import tweepy\n",
    "\n",
    "# 본인이 신청해서 생성한 문자열을 각각 복사해 넣습니다.\n",
    "consumer_key = '7JXVmTEI9Fpxyi9CneAnJYYvL'\n",
    "consumer_secret = '6EATtceX4WmCFYrGzqye6DS9LxpTJCMqAkEIBPtsScGE0I6nIi'\n",
    "\n",
    "access_token = '1158939778450018309-metL4dbmuLDvsCPNvRNhr8aiEuGtVC'\n",
    "access_secret = '3DSFOPxCTlOEQd9AZcjnQeFEkH3I6V7OF38LTSuWnzItf'"
   ]
  },
  {
   "cell_type": "markdown",
   "metadata": {},
   "source": [
    "**[15장: 485페이지]**"
   ]
  },
  {
   "cell_type": "code",
   "execution_count": 66,
   "metadata": {},
   "outputs": [],
   "source": [
    "auth = tweepy.OAuthHandler(consumer_key, consumer_secret)   # OAuth 인증 실행\n",
    "auth.set_access_token(access_token, access_secret)        "
   ]
  },
  {
   "cell_type": "markdown",
   "metadata": {},
   "source": [
    "**[15장: 485페이지]**"
   ]
  },
  {
   "cell_type": "code",
   "execution_count": 69,
   "metadata": {},
   "outputs": [
    {
     "data": {
      "text/plain": [
       "<tweepy.api.API at 0x20ac0856c18>"
      ]
     },
     "execution_count": 69,
     "metadata": {},
     "output_type": "execute_result"
    }
   ],
   "source": [
    "api = tweepy.API(auth)         # API클래스를 이용해 api 객체 생성\n",
    "api"
   ]
  },
  {
   "cell_type": "markdown",
   "metadata": {},
   "source": [
    "**[15장: 486페이지]**"
   ]
  },
  {
   "cell_type": "code",
   "execution_count": 70,
   "metadata": {},
   "outputs": [
    {
     "name": "stdout",
     "output_type": "stream",
     "text": [
      "name: sample\n"
     ]
    }
   ],
   "source": [
    "print(\"name:\",api.me().name)   # api키를 넣어 트위터 계정의 이름을 출력"
   ]
  },
  {
   "cell_type": "markdown",
   "metadata": {},
   "source": [
    "### 트윗 작성하기\n",
    "@sample57448511"
   ]
  },
  {
   "cell_type": "markdown",
   "metadata": {},
   "source": [
    "**[15장: 487페이지]**"
   ]
  },
  {
   "cell_type": "code",
   "execution_count": 94,
   "metadata": {
    "scrolled": true
   },
   "outputs": [],
   "source": [
    "tweet_var = api.update_status('.update_status()함수를 사용하여 트윗 작성하기')  \n",
    "# 생성된 api와 tweepy라이브러리의 .update_status()함수를 결합시켜 사용해 트윗을 작성함"
   ]
  },
  {
   "cell_type": "code",
   "execution_count": 95,
   "metadata": {},
   "outputs": [
    {
     "data": {
      "text/plain": [
       "Status(_api=<tweepy.api.API object at 0x0000020AC0856C18>, _json={'created_at': 'Thu Aug 08 09:10:10 +0000 2019', 'id': 1159391340431413248, 'id_str': '1159391340431413248', 'text': '.update_status()함수를 사용하여 트윗 작성하기', 'truncated': False, 'entities': {'hashtags': [], 'symbols': [], 'user_mentions': [], 'urls': []}, 'source': '<a href=\"https://bbb.bbb.bbb\" rel=\"nofollow\">3_for_n</a>', 'in_reply_to_status_id': None, 'in_reply_to_status_id_str': None, 'in_reply_to_user_id': None, 'in_reply_to_user_id_str': None, 'in_reply_to_screen_name': None, 'user': {'id': 1158939778450018309, 'id_str': '1158939778450018309', 'name': 'sample', 'screen_name': 'sample57448511', 'location': '', 'description': '', 'url': None, 'entities': {'description': {'urls': []}}, 'protected': False, 'followers_count': 0, 'friends_count': 0, 'listed_count': 0, 'created_at': 'Wed Aug 07 03:15:50 +0000 2019', 'favourites_count': 0, 'utc_offset': None, 'time_zone': None, 'geo_enabled': False, 'verified': False, 'statuses_count': 9, 'lang': None, 'contributors_enabled': False, 'is_translator': False, 'is_translation_enabled': False, 'profile_background_color': 'F5F8FA', 'profile_background_image_url': None, 'profile_background_image_url_https': None, 'profile_background_tile': False, 'profile_image_url': 'http://abs.twimg.com/sticky/default_profile_images/default_profile_normal.png', 'profile_image_url_https': 'https://abs.twimg.com/sticky/default_profile_images/default_profile_normal.png', 'profile_link_color': '1DA1F2', 'profile_sidebar_border_color': 'C0DEED', 'profile_sidebar_fill_color': 'DDEEF6', 'profile_text_color': '333333', 'profile_use_background_image': True, 'has_extended_profile': False, 'default_profile': True, 'default_profile_image': True, 'following': False, 'follow_request_sent': False, 'notifications': False, 'translator_type': 'none'}, 'geo': None, 'coordinates': None, 'place': None, 'contributors': None, 'is_quote_status': False, 'retweet_count': 0, 'favorite_count': 0, 'favorited': False, 'retweeted': False, 'lang': 'ko'}, created_at=datetime.datetime(2019, 8, 8, 9, 10, 10), id=1159391340431413248, id_str='1159391340431413248', text='.update_status()함수를 사용하여 트윗 작성하기', truncated=False, entities={'hashtags': [], 'symbols': [], 'user_mentions': [], 'urls': []}, source='3_for_n', source_url='https://bbb.bbb.bbb', in_reply_to_status_id=None, in_reply_to_status_id_str=None, in_reply_to_user_id=None, in_reply_to_user_id_str=None, in_reply_to_screen_name=None, author=User(_api=<tweepy.api.API object at 0x0000020AC0856C18>, _json={'id': 1158939778450018309, 'id_str': '1158939778450018309', 'name': 'sample', 'screen_name': 'sample57448511', 'location': '', 'description': '', 'url': None, 'entities': {'description': {'urls': []}}, 'protected': False, 'followers_count': 0, 'friends_count': 0, 'listed_count': 0, 'created_at': 'Wed Aug 07 03:15:50 +0000 2019', 'favourites_count': 0, 'utc_offset': None, 'time_zone': None, 'geo_enabled': False, 'verified': False, 'statuses_count': 9, 'lang': None, 'contributors_enabled': False, 'is_translator': False, 'is_translation_enabled': False, 'profile_background_color': 'F5F8FA', 'profile_background_image_url': None, 'profile_background_image_url_https': None, 'profile_background_tile': False, 'profile_image_url': 'http://abs.twimg.com/sticky/default_profile_images/default_profile_normal.png', 'profile_image_url_https': 'https://abs.twimg.com/sticky/default_profile_images/default_profile_normal.png', 'profile_link_color': '1DA1F2', 'profile_sidebar_border_color': 'C0DEED', 'profile_sidebar_fill_color': 'DDEEF6', 'profile_text_color': '333333', 'profile_use_background_image': True, 'has_extended_profile': False, 'default_profile': True, 'default_profile_image': True, 'following': False, 'follow_request_sent': False, 'notifications': False, 'translator_type': 'none'}, id=1158939778450018309, id_str='1158939778450018309', name='sample', screen_name='sample57448511', location='', description='', url=None, entities={'description': {'urls': []}}, protected=False, followers_count=0, friends_count=0, listed_count=0, created_at=datetime.datetime(2019, 8, 7, 3, 15, 50), favourites_count=0, utc_offset=None, time_zone=None, geo_enabled=False, verified=False, statuses_count=9, lang=None, contributors_enabled=False, is_translator=False, is_translation_enabled=False, profile_background_color='F5F8FA', profile_background_image_url=None, profile_background_image_url_https=None, profile_background_tile=False, profile_image_url='http://abs.twimg.com/sticky/default_profile_images/default_profile_normal.png', profile_image_url_https='https://abs.twimg.com/sticky/default_profile_images/default_profile_normal.png', profile_link_color='1DA1F2', profile_sidebar_border_color='C0DEED', profile_sidebar_fill_color='DDEEF6', profile_text_color='333333', profile_use_background_image=True, has_extended_profile=False, default_profile=True, default_profile_image=True, following=False, follow_request_sent=False, notifications=False, translator_type='none'), user=User(_api=<tweepy.api.API object at 0x0000020AC0856C18>, _json={'id': 1158939778450018309, 'id_str': '1158939778450018309', 'name': 'sample', 'screen_name': 'sample57448511', 'location': '', 'description': '', 'url': None, 'entities': {'description': {'urls': []}}, 'protected': False, 'followers_count': 0, 'friends_count': 0, 'listed_count': 0, 'created_at': 'Wed Aug 07 03:15:50 +0000 2019', 'favourites_count': 0, 'utc_offset': None, 'time_zone': None, 'geo_enabled': False, 'verified': False, 'statuses_count': 9, 'lang': None, 'contributors_enabled': False, 'is_translator': False, 'is_translation_enabled': False, 'profile_background_color': 'F5F8FA', 'profile_background_image_url': None, 'profile_background_image_url_https': None, 'profile_background_tile': False, 'profile_image_url': 'http://abs.twimg.com/sticky/default_profile_images/default_profile_normal.png', 'profile_image_url_https': 'https://abs.twimg.com/sticky/default_profile_images/default_profile_normal.png', 'profile_link_color': '1DA1F2', 'profile_sidebar_border_color': 'C0DEED', 'profile_sidebar_fill_color': 'DDEEF6', 'profile_text_color': '333333', 'profile_use_background_image': True, 'has_extended_profile': False, 'default_profile': True, 'default_profile_image': True, 'following': False, 'follow_request_sent': False, 'notifications': False, 'translator_type': 'none'}, id=1158939778450018309, id_str='1158939778450018309', name='sample', screen_name='sample57448511', location='', description='', url=None, entities={'description': {'urls': []}}, protected=False, followers_count=0, friends_count=0, listed_count=0, created_at=datetime.datetime(2019, 8, 7, 3, 15, 50), favourites_count=0, utc_offset=None, time_zone=None, geo_enabled=False, verified=False, statuses_count=9, lang=None, contributors_enabled=False, is_translator=False, is_translation_enabled=False, profile_background_color='F5F8FA', profile_background_image_url=None, profile_background_image_url_https=None, profile_background_tile=False, profile_image_url='http://abs.twimg.com/sticky/default_profile_images/default_profile_normal.png', profile_image_url_https='https://abs.twimg.com/sticky/default_profile_images/default_profile_normal.png', profile_link_color='1DA1F2', profile_sidebar_border_color='C0DEED', profile_sidebar_fill_color='DDEEF6', profile_text_color='333333', profile_use_background_image=True, has_extended_profile=False, default_profile=True, default_profile_image=True, following=False, follow_request_sent=False, notifications=False, translator_type='none'), geo=None, coordinates=None, place=None, contributors=None, is_quote_status=False, retweet_count=0, favorite_count=0, favorited=False, retweeted=False, lang='ko')"
      ]
     },
     "execution_count": 95,
     "metadata": {},
     "output_type": "execute_result"
    }
   ],
   "source": [
    "tweet_var   # 트위터 메시지 변수의 상태정보"
   ]
  },
  {
   "cell_type": "markdown",
   "metadata": {},
   "source": [
    "**[15장: 487페이지]**"
   ]
  },
  {
   "cell_type": "code",
   "execution_count": 96,
   "metadata": {},
   "outputs": [],
   "source": [
    "# 이미지 업로드하기\n",
    "tweet_img_var = api.update_with_media(\"C:/myPyCode/download/python-logo.png\",\n",
    "                                                  '.update_with_media()함수를 사용하여 이미지와 텍스트를 작성')"
   ]
  },
  {
   "cell_type": "code",
   "execution_count": 97,
   "metadata": {},
   "outputs": [
    {
     "data": {
      "text/plain": [
       "Status(_api=<tweepy.api.API object at 0x0000020AC0856C18>, _json={'created_at': 'Thu Aug 08 09:12:39 +0000 2019', 'id': 1159391964556484608, 'id_str': '1159391964556484608', 'text': '.update_with_media()함수를 사용하여 이미지와 텍스트를 작성 https://t.co/KuhWX7xIjh', 'truncated': False, 'entities': {'hashtags': [], 'symbols': [], 'user_mentions': [], 'urls': [], 'media': [{'id': 1159391963596017664, 'id_str': '1159391963596017664', 'indices': [42, 65], 'media_url': 'http://pbs.twimg.com/media/EBb82SGVUAAZCjd.png', 'media_url_https': 'https://pbs.twimg.com/media/EBb82SGVUAAZCjd.png', 'url': 'https://t.co/KuhWX7xIjh', 'display_url': 'pic.twitter.com/KuhWX7xIjh', 'expanded_url': 'https://twitter.com/sample57448511/status/1159391964556484608/photo/1', 'type': 'photo', 'sizes': {'medium': {'w': 290, 'h': 82, 'resize': 'fit'}, 'small': {'w': 290, 'h': 82, 'resize': 'fit'}, 'thumb': {'w': 82, 'h': 82, 'resize': 'crop'}, 'large': {'w': 290, 'h': 82, 'resize': 'fit'}}}]}, 'extended_entities': {'media': [{'id': 1159391963596017664, 'id_str': '1159391963596017664', 'indices': [42, 65], 'media_url': 'http://pbs.twimg.com/media/EBb82SGVUAAZCjd.png', 'media_url_https': 'https://pbs.twimg.com/media/EBb82SGVUAAZCjd.png', 'url': 'https://t.co/KuhWX7xIjh', 'display_url': 'pic.twitter.com/KuhWX7xIjh', 'expanded_url': 'https://twitter.com/sample57448511/status/1159391964556484608/photo/1', 'type': 'photo', 'sizes': {'medium': {'w': 290, 'h': 82, 'resize': 'fit'}, 'small': {'w': 290, 'h': 82, 'resize': 'fit'}, 'thumb': {'w': 82, 'h': 82, 'resize': 'crop'}, 'large': {'w': 290, 'h': 82, 'resize': 'fit'}}}]}, 'source': '<a href=\"https://bbb.bbb.bbb\" rel=\"nofollow\">3_for_n</a>', 'in_reply_to_status_id': None, 'in_reply_to_status_id_str': None, 'in_reply_to_user_id': None, 'in_reply_to_user_id_str': None, 'in_reply_to_screen_name': None, 'user': {'id': 1158939778450018309, 'id_str': '1158939778450018309', 'name': 'sample', 'screen_name': 'sample57448511', 'location': '', 'description': '', 'url': None, 'entities': {'description': {'urls': []}}, 'protected': False, 'followers_count': 0, 'friends_count': 0, 'listed_count': 0, 'created_at': 'Wed Aug 07 03:15:50 +0000 2019', 'favourites_count': 0, 'utc_offset': None, 'time_zone': None, 'geo_enabled': False, 'verified': False, 'statuses_count': 10, 'lang': None, 'contributors_enabled': False, 'is_translator': False, 'is_translation_enabled': False, 'profile_background_color': 'F5F8FA', 'profile_background_image_url': None, 'profile_background_image_url_https': None, 'profile_background_tile': False, 'profile_image_url': 'http://abs.twimg.com/sticky/default_profile_images/default_profile_normal.png', 'profile_image_url_https': 'https://abs.twimg.com/sticky/default_profile_images/default_profile_normal.png', 'profile_link_color': '1DA1F2', 'profile_sidebar_border_color': 'C0DEED', 'profile_sidebar_fill_color': 'DDEEF6', 'profile_text_color': '333333', 'profile_use_background_image': True, 'has_extended_profile': False, 'default_profile': True, 'default_profile_image': True, 'following': False, 'follow_request_sent': False, 'notifications': False, 'translator_type': 'none'}, 'geo': None, 'coordinates': None, 'place': None, 'contributors': None, 'is_quote_status': False, 'retweet_count': 0, 'favorite_count': 0, 'favorited': False, 'retweeted': False, 'possibly_sensitive': False, 'lang': 'ko'}, created_at=datetime.datetime(2019, 8, 8, 9, 12, 39), id=1159391964556484608, id_str='1159391964556484608', text='.update_with_media()함수를 사용하여 이미지와 텍스트를 작성 https://t.co/KuhWX7xIjh', truncated=False, entities={'hashtags': [], 'symbols': [], 'user_mentions': [], 'urls': [], 'media': [{'id': 1159391963596017664, 'id_str': '1159391963596017664', 'indices': [42, 65], 'media_url': 'http://pbs.twimg.com/media/EBb82SGVUAAZCjd.png', 'media_url_https': 'https://pbs.twimg.com/media/EBb82SGVUAAZCjd.png', 'url': 'https://t.co/KuhWX7xIjh', 'display_url': 'pic.twitter.com/KuhWX7xIjh', 'expanded_url': 'https://twitter.com/sample57448511/status/1159391964556484608/photo/1', 'type': 'photo', 'sizes': {'medium': {'w': 290, 'h': 82, 'resize': 'fit'}, 'small': {'w': 290, 'h': 82, 'resize': 'fit'}, 'thumb': {'w': 82, 'h': 82, 'resize': 'crop'}, 'large': {'w': 290, 'h': 82, 'resize': 'fit'}}}]}, extended_entities={'media': [{'id': 1159391963596017664, 'id_str': '1159391963596017664', 'indices': [42, 65], 'media_url': 'http://pbs.twimg.com/media/EBb82SGVUAAZCjd.png', 'media_url_https': 'https://pbs.twimg.com/media/EBb82SGVUAAZCjd.png', 'url': 'https://t.co/KuhWX7xIjh', 'display_url': 'pic.twitter.com/KuhWX7xIjh', 'expanded_url': 'https://twitter.com/sample57448511/status/1159391964556484608/photo/1', 'type': 'photo', 'sizes': {'medium': {'w': 290, 'h': 82, 'resize': 'fit'}, 'small': {'w': 290, 'h': 82, 'resize': 'fit'}, 'thumb': {'w': 82, 'h': 82, 'resize': 'crop'}, 'large': {'w': 290, 'h': 82, 'resize': 'fit'}}}]}, source='3_for_n', source_url='https://bbb.bbb.bbb', in_reply_to_status_id=None, in_reply_to_status_id_str=None, in_reply_to_user_id=None, in_reply_to_user_id_str=None, in_reply_to_screen_name=None, author=User(_api=<tweepy.api.API object at 0x0000020AC0856C18>, _json={'id': 1158939778450018309, 'id_str': '1158939778450018309', 'name': 'sample', 'screen_name': 'sample57448511', 'location': '', 'description': '', 'url': None, 'entities': {'description': {'urls': []}}, 'protected': False, 'followers_count': 0, 'friends_count': 0, 'listed_count': 0, 'created_at': 'Wed Aug 07 03:15:50 +0000 2019', 'favourites_count': 0, 'utc_offset': None, 'time_zone': None, 'geo_enabled': False, 'verified': False, 'statuses_count': 10, 'lang': None, 'contributors_enabled': False, 'is_translator': False, 'is_translation_enabled': False, 'profile_background_color': 'F5F8FA', 'profile_background_image_url': None, 'profile_background_image_url_https': None, 'profile_background_tile': False, 'profile_image_url': 'http://abs.twimg.com/sticky/default_profile_images/default_profile_normal.png', 'profile_image_url_https': 'https://abs.twimg.com/sticky/default_profile_images/default_profile_normal.png', 'profile_link_color': '1DA1F2', 'profile_sidebar_border_color': 'C0DEED', 'profile_sidebar_fill_color': 'DDEEF6', 'profile_text_color': '333333', 'profile_use_background_image': True, 'has_extended_profile': False, 'default_profile': True, 'default_profile_image': True, 'following': False, 'follow_request_sent': False, 'notifications': False, 'translator_type': 'none'}, id=1158939778450018309, id_str='1158939778450018309', name='sample', screen_name='sample57448511', location='', description='', url=None, entities={'description': {'urls': []}}, protected=False, followers_count=0, friends_count=0, listed_count=0, created_at=datetime.datetime(2019, 8, 7, 3, 15, 50), favourites_count=0, utc_offset=None, time_zone=None, geo_enabled=False, verified=False, statuses_count=10, lang=None, contributors_enabled=False, is_translator=False, is_translation_enabled=False, profile_background_color='F5F8FA', profile_background_image_url=None, profile_background_image_url_https=None, profile_background_tile=False, profile_image_url='http://abs.twimg.com/sticky/default_profile_images/default_profile_normal.png', profile_image_url_https='https://abs.twimg.com/sticky/default_profile_images/default_profile_normal.png', profile_link_color='1DA1F2', profile_sidebar_border_color='C0DEED', profile_sidebar_fill_color='DDEEF6', profile_text_color='333333', profile_use_background_image=True, has_extended_profile=False, default_profile=True, default_profile_image=True, following=False, follow_request_sent=False, notifications=False, translator_type='none'), user=User(_api=<tweepy.api.API object at 0x0000020AC0856C18>, _json={'id': 1158939778450018309, 'id_str': '1158939778450018309', 'name': 'sample', 'screen_name': 'sample57448511', 'location': '', 'description': '', 'url': None, 'entities': {'description': {'urls': []}}, 'protected': False, 'followers_count': 0, 'friends_count': 0, 'listed_count': 0, 'created_at': 'Wed Aug 07 03:15:50 +0000 2019', 'favourites_count': 0, 'utc_offset': None, 'time_zone': None, 'geo_enabled': False, 'verified': False, 'statuses_count': 10, 'lang': None, 'contributors_enabled': False, 'is_translator': False, 'is_translation_enabled': False, 'profile_background_color': 'F5F8FA', 'profile_background_image_url': None, 'profile_background_image_url_https': None, 'profile_background_tile': False, 'profile_image_url': 'http://abs.twimg.com/sticky/default_profile_images/default_profile_normal.png', 'profile_image_url_https': 'https://abs.twimg.com/sticky/default_profile_images/default_profile_normal.png', 'profile_link_color': '1DA1F2', 'profile_sidebar_border_color': 'C0DEED', 'profile_sidebar_fill_color': 'DDEEF6', 'profile_text_color': '333333', 'profile_use_background_image': True, 'has_extended_profile': False, 'default_profile': True, 'default_profile_image': True, 'following': False, 'follow_request_sent': False, 'notifications': False, 'translator_type': 'none'}, id=1158939778450018309, id_str='1158939778450018309', name='sample', screen_name='sample57448511', location='', description='', url=None, entities={'description': {'urls': []}}, protected=False, followers_count=0, friends_count=0, listed_count=0, created_at=datetime.datetime(2019, 8, 7, 3, 15, 50), favourites_count=0, utc_offset=None, time_zone=None, geo_enabled=False, verified=False, statuses_count=10, lang=None, contributors_enabled=False, is_translator=False, is_translation_enabled=False, profile_background_color='F5F8FA', profile_background_image_url=None, profile_background_image_url_https=None, profile_background_tile=False, profile_image_url='http://abs.twimg.com/sticky/default_profile_images/default_profile_normal.png', profile_image_url_https='https://abs.twimg.com/sticky/default_profile_images/default_profile_normal.png', profile_link_color='1DA1F2', profile_sidebar_border_color='C0DEED', profile_sidebar_fill_color='DDEEF6', profile_text_color='333333', profile_use_background_image=True, has_extended_profile=False, default_profile=True, default_profile_image=True, following=False, follow_request_sent=False, notifications=False, translator_type='none'), geo=None, coordinates=None, place=None, contributors=None, is_quote_status=False, retweet_count=0, favorite_count=0, favorited=False, retweeted=False, possibly_sensitive=False, lang='ko')"
      ]
     },
     "execution_count": 97,
     "metadata": {},
     "output_type": "execute_result"
    }
   ],
   "source": [
    "tweet_img_var  # 트위터 메시지 변수의 상태정보"
   ]
  },
  {
   "cell_type": "markdown",
   "metadata": {},
   "source": [
    "### 타임라인에서 메시지 가져오기\n",
    "- 키워드를 지정해 데이터 가져오기\n",
    "1. Tweepy의 Stream_Listener를 상속받아 클래스를 정의\n",
    "2. 정의한 클래스를 이용해 객체를 생성\n",
    "3. 생성한 객체를 Tweepy의 Stream을 이용해 트위터 Stream API와 연결\n",
    "4. Stream의 Filter를 이용해 단어를 지정하고 Stream을 시작 (Tweepy의 Stream)"
   ]
  },
  {
   "cell_type": "markdown",
   "metadata": {},
   "source": [
    "**[15장: 488페이지]**"
   ]
  },
  {
   "cell_type": "code",
   "execution_count": 72,
   "metadata": {
    "scrolled": false
   },
   "outputs": [
    {
     "name": "stdout",
     "output_type": "stream",
     "text": [
      "* tweepy를 이용한 이미지 올리기 https://t.co/84JdC0HNkI\n",
      "* 파이썬에서 Tweepy 라이브러리를 이용한 첫 번째\n"
     ]
    }
   ],
   "source": [
    "for status in tweepy.Cursor(api.home_timeline).items(2):\n",
    "    print(\"*\", status.text)"
   ]
  },
  {
   "cell_type": "markdown",
   "metadata": {},
   "source": [
    "**[15장: 489페이지]**"
   ]
  },
  {
   "cell_type": "code",
   "execution_count": 73,
   "metadata": {},
   "outputs": [
    {
     "name": "stdout",
     "output_type": "stream",
     "text": [
      "* tweepy를 이용한 이미지 올리기 https://t.co/84JdC0HNkI\n",
      " ==> Created at Thu Aug 08 08:26:20 +0000 2019\n",
      "* 파이썬에서 Tweepy 라이브러리를 이용한 첫 번째\n",
      " ==> Created at Thu Aug 08 08:20:39 +0000 2019\n"
     ]
    }
   ],
   "source": [
    "for status in tweepy.Cursor(api.home_timeline).items(2):\n",
    "    print(\"*\", status._json['text'])\n",
    "    print(\" ==> Created at\", status._json['created_at'])"
   ]
  },
  {
   "cell_type": "markdown",
   "metadata": {},
   "source": [
    "### 키워드를 지정해 데이터 가져오기"
   ]
  },
  {
   "cell_type": "markdown",
   "metadata": {},
   "source": [
    "**[15장: 490페이지]**"
   ]
  },
  {
   "cell_type": "code",
   "execution_count": 82,
   "metadata": {},
   "outputs": [],
   "source": [
    "import tweepy\n",
    "\n",
    "class MyStreamListener(tweepy.StreamListener):   # tweepy.StreamListener를 상속받는 클래스를 생성\n",
    "    \n",
    "    def on_status(self, status):                  # 클래스 안에 기능을 수행하는 함수 존재\n",
    "        print(status.text) # 140자까지 출력"
   ]
  },
  {
   "cell_type": "markdown",
   "metadata": {},
   "source": [
    "**[15장: 490페이지]**"
   ]
  },
  {
   "cell_type": "code",
   "execution_count": 83,
   "metadata": {},
   "outputs": [],
   "source": [
    "myStreamListener = MyStreamListener()             # 객체 생성"
   ]
  },
  {
   "cell_type": "markdown",
   "metadata": {},
   "source": [
    "**[15장: 490페이지]**"
   ]
  },
  {
   "cell_type": "code",
   "execution_count": 84,
   "metadata": {
    "scrolled": true
   },
   "outputs": [],
   "source": [
    "myStream = tweepy.Stream(auth, myStreamListener)  # "
   ]
  },
  {
   "cell_type": "markdown",
   "metadata": {},
   "source": [
    "**[15장: 491페이지]**"
   ]
  },
  {
   "cell_type": "code",
   "execution_count": 85,
   "metadata": {
    "scrolled": true
   },
   "outputs": [],
   "source": [
    "#myStream.filter(track = ['파이썬', 'python'])   # 단어 목록을 필터에 걸음"
   ]
  },
  {
   "cell_type": "markdown",
   "metadata": {},
   "source": [
    "**[15장: 491페이지]**"
   ]
  },
  {
   "cell_type": "code",
   "execution_count": 86,
   "metadata": {},
   "outputs": [],
   "source": [
    "class MyStreamListener(tweepy.StreamListener):\n",
    "\n",
    "    def __init__(self):\n",
    "        super().__init__()\n",
    "        self.tweet_num = 0\n",
    "\n",
    "    def on_status(self, status):\n",
    "        self.tweet_num = self.tweet_num + 1    # 메세지가 올때마다 1 증가\n",
    "        if(self.tweet_num <= 5):\n",
    "            print(\"***\", status.text) # 140자까지 출력\n",
    "            return True\n",
    "        else:\n",
    "            return False"
   ]
  },
  {
   "cell_type": "markdown",
   "metadata": {},
   "source": [
    "**[15장: 491페이지]**"
   ]
  },
  {
   "cell_type": "code",
   "execution_count": 87,
   "metadata": {
    "scrolled": false
   },
   "outputs": [
    {
     "name": "stdout",
     "output_type": "stream",
     "text": [
      "*** RT @realDonaldTrump: ....I am so amazed that MSNBC &amp; CNN can keep putting on, over and over again, people that have no idea what I am all a…\n",
      "*** RT @realDonaldTrump: ....I am so amazed that MSNBC &amp; CNN can keep putting on, over and over again, people that have no idea what I am all a…\n",
      "*** Seeking Support and Invoking Faith, Donald Trump Visits a Black Church for the First Time https://t.co/JTePbQEmpS\n",
      "*** RT @MalcolmNance: “White Replacement” is a white Supremicist ideological theme &amp; racist trope across Europe &amp; USA. “Invasion” is an old fas…\n",
      "*** Cabello: Bloqueo demuestra que Trump no confía en la oposición https://t.co/W5mX361E71 https://t.co/OszS3JGQcs\n"
     ]
    }
   ],
   "source": [
    "myStreamListener = MyStreamListener()\n",
    "myStream = tweepy.Stream(auth, myStreamListener)\n",
    "myStream.filter(track = ['trump'])"
   ]
  },
  {
   "cell_type": "markdown",
   "metadata": {},
   "source": [
    "**[15장: 492 ~ 493페이지]**"
   ]
  },
  {
   "cell_type": "code",
   "execution_count": 88,
   "metadata": {},
   "outputs": [
    {
     "name": "stdout",
     "output_type": "stream",
     "text": [
      "401\n",
      "End of streaming!\n"
     ]
    }
   ],
   "source": [
    "import tweepy\n",
    " \n",
    "# 키, 토근, 비밀번호 지정\n",
    "consumer_key = 'YOUR-CONSUMER-KEY'\n",
    "consumer_secret = 'YOUR-CONSUMER-SECRET'\n",
    "\n",
    "access_token = 'YOUR-ACCESS-TOKEN'\n",
    "access_secret = 'YOUR-ACCESS-SECRET'\n",
    "\n",
    "# OAuth 인증 진행\n",
    "auth = tweepy.OAuthHandler(consumer_key, consumer_secret)\n",
    "auth.set_access_token(access_token, access_secret)\n",
    " \n",
    "# 인증된 auth 변수를 이용해 트위터 API 클래스의 정의\n",
    "class MyStreamListener2(tweepy.StreamListener):\n",
    "\n",
    "    def __init__(self, max_num):\n",
    "        super().__init__()\n",
    "        self.tweet_num = 0\n",
    "        self.max_num = max_num\n",
    "    \n",
    "    def on_status(self, status):\n",
    "        self.tweet_num = self.tweet_num + 1\n",
    "        file_name = 'C:/myPyCode/data/twitter_stream_test.txt'\n",
    "        if(self.tweet_num <= self.max_num ):\n",
    "            with open(file_name, 'a', encoding=\"utf-8\") as f:\n",
    "                write_text = \"*** \" + status.text + \"\\n\"\n",
    "                f.write(write_text)\n",
    "            return True\n",
    "        else:\n",
    "            return False\n",
    "            \n",
    "    def on_error(self, status):\n",
    "        print(status) # 오류 메시지 출력\n",
    "        return False\n",
    "        \n",
    "if __name__ == '__main__':  \n",
    "    myStreamListener = MyStreamListener2(5)\n",
    "    myStream = tweepy.Stream(auth, myStreamListener)\n",
    "    myStream.filter(track = ['머신 러닝', 'Machine Learning'])\n",
    "    print(\"End of streaming!\")"
   ]
  },
  {
   "cell_type": "markdown",
   "metadata": {},
   "source": [
    "## 15.4 정부의 공공 데이터 가져오기"
   ]
  },
  {
   "cell_type": "markdown",
   "metadata": {},
   "source": [
    "### 회원 가입 및 서비스 신청"
   ]
  },
  {
   "cell_type": "markdown",
   "metadata": {},
   "source": [
    "### 주소 및 우편번호 가져오기\n",
    "https://www.data.go.kr"
   ]
  },
  {
   "cell_type": "markdown",
   "metadata": {},
   "source": [
    "**[15장: 502페이지]**"
   ]
  },
  {
   "cell_type": "code",
   "execution_count": 116,
   "metadata": {},
   "outputs": [
    {
     "name": "stdout",
     "output_type": "stream",
     "text": [
      "UqlfWtXrhSxnPuX3G9jNHGX6K2jS1pmP%2Fz4AzQr9DRS6AWtBKNbYs8gOnz4o2H6gdBPSac0wR229Gy%2BJYHCh9Q%3D%3D\n",
      "UqlfWtXrhSxnPuX3G9jNHGX6K2jS1pmP/z4AzQr9DRS6AWtBKNbYs8gOnz4o2H6gdBPSac0wR229Gy+JYHCh9Q==\n"
     ]
    }
   ],
   "source": [
    "import requests    # 주소 정보 가져오는 모듈 호출\n",
    "\n",
    "API_KEY  = 'UqlfWtXrhSxnPuX3G9jNHGX6K2jS1pmP%2Fz4AzQr9DRS6AWtBKNbYs8gOnz4o2H6gdBPSac0wR229Gy%2BJYHCh9Q%3D%3D'  # 인증키\n",
    "API_KEY_decode = requests.utils.unquote(API_KEY)   # 디코딩한 인증키\n",
    "\n",
    "print(API_KEY)\n",
    "print(API_KEY_decode)   # 출력"
   ]
  },
  {
   "cell_type": "markdown",
   "metadata": {},
   "source": [
    "**[15장: 503페이지]**"
   ]
  },
  {
   "cell_type": "code",
   "execution_count": 120,
   "metadata": {},
   "outputs": [
    {
     "name": "stdout",
     "output_type": "stream",
     "text": [
      "<?xml version=\"1.0\" encoding=\"UTF-8\" standalone=\"yes\"?><NewAddressListResponse><cmmMsgHeader><requestMsgId></requestMsgId><responseMsgId></responseMsgId><responseTime>20191212:133121218</responseTime><successYN>Y</successYN><returnCode>00</returnCode><errMsg></errMsg><totalCount>1</totalCount><countPerPage>10</countPerPage><totalPage>1</totalPage><currentPage></currentPage></cmmMsgHeader><newAddressListAreaCd><zipNo>05000</zipNo><lnmAdres>서울특별시 광진구 동일로52길 3-4 (군자동)</lnmAdres><rnAdres>서울특별시 광진구 군자동 117-36</rnAdres></newAddressListAreaCd></NewAddressListResponse>\n"
     ]
    }
   ],
   "source": [
    "req_url = \"http://openapi.epost.go.kr/postal/retrieveNewAdressAreaCdService/retrieveNewAdressAreaCdService/getNewAddressListAreaCd?\"\n",
    "                              # 상위 주소\n",
    "\n",
    "search_Se = \"road\"          # 검색구분 (dong, road, post 중에 선택)\n",
    "srch_wrd = \"동일로52길 3-4\"  # 검색어\n",
    "\n",
    "req_parameter = {\"ServiceKey\":API_KEY_decode, \"searchSe\":search_Se, \"srchwrd\":srch_wrd}  # 하위 주소 생성\n",
    "\n",
    "r = requests.get(req_url, params = req_parameter)   # 상위주소 + 하위주소의 url 정보 받아오기\n",
    "xml_data = r.text   # xml 텍스트데이터를 변수에 저장\n",
    "\n",
    "print(xml_data)   # string 데이터"
   ]
  },
  {
   "cell_type": "markdown",
   "metadata": {},
   "source": [
    "**[15장: 503페이지]**"
   ]
  },
  {
   "cell_type": "code",
   "execution_count": 121,
   "metadata": {},
   "outputs": [
    {
     "data": {
      "text/plain": [
       "OrderedDict([('NewAddressListResponse',\n",
       "              OrderedDict([('cmmMsgHeader',\n",
       "                            OrderedDict([('requestMsgId', None),\n",
       "                                         ('responseMsgId', None),\n",
       "                                         ('responseTime',\n",
       "                                          '20191212:133121218'),\n",
       "                                         ('successYN', 'Y'),\n",
       "                                         ('returnCode', '00'),\n",
       "                                         ('errMsg', None),\n",
       "                                         ('totalCount', '1'),\n",
       "                                         ('countPerPage', '10'),\n",
       "                                         ('totalPage', '1'),\n",
       "                                         ('currentPage', None)])),\n",
       "                           ('newAddressListAreaCd',\n",
       "                            OrderedDict([('zipNo', '05000'),\n",
       "                                         ('lnmAdres',\n",
       "                                          '서울특별시 광진구 동일로52길 3-4 (군자동)'),\n",
       "                                         ('rnAdres',\n",
       "                                          '서울특별시 광진구 군자동 117-36')]))]))])"
      ]
     },
     "execution_count": 121,
     "metadata": {},
     "output_type": "execute_result"
    }
   ],
   "source": [
    "import xmltodict  # xml데이터를 파이썬데이터로 변환하는 모듈 호출 \n",
    "\n",
    "dict_data = xmltodict.parse(xml_data)   # xmltodict.parse()함수를 이용해 xml데이터를 파이썬테이터로 변환\n",
    "dict_data"
   ]
  },
  {
   "cell_type": "markdown",
   "metadata": {},
   "source": [
    "**[15장: 504페이지]**"
   ]
  },
  {
   "cell_type": "code",
   "execution_count": 123,
   "metadata": {},
   "outputs": [
    {
     "data": {
      "text/plain": [
       "OrderedDict([('zipNo', '05000'),\n",
       "             ('lnmAdres', '서울특별시 광진구 동일로52길 3-4 (군자동)'),\n",
       "             ('rnAdres', '서울특별시 광진구 군자동 117-36')])"
      ]
     },
     "execution_count": 123,
     "metadata": {},
     "output_type": "execute_result"
    }
   ],
   "source": [
    "dict_data['NewAddressListResponse']['newAddressListAreaCd']  #불필요한 정보를 제외한 주소 딕셔너리"
   ]
  },
  {
   "cell_type": "code",
   "execution_count": 124,
   "metadata": {},
   "outputs": [
    {
     "name": "stdout",
     "output_type": "stream",
     "text": [
      "[입력한 도로명 주소] 동일로52길 3-4\n",
      "[응답 데이터에서 추출한 결과]\n",
      "- 우편번호: 05000\n",
      "- 도로명 주소: 서울특별시 광진구 동일로52길 3-4 (군자동)\n",
      "- 지번 주소: 서울특별시 광진구 군자동 117-36\n"
     ]
    }
   ],
   "source": [
    "adress_list = dict_data['NewAddressListResponse']['newAddressListAreaCd'] # 딕셔너리 키를 넣어 주소리스트 지정\n",
    "\n",
    "print(\"[입력한 도로명 주소]\", srch_wrd)   # 위에서 입력한 주소명\n",
    "print(\"[응답 데이터에서 추출한 결과]\")\n",
    "print(\"- 우편번호:\", adress_list['zipNo'])        # 주소리스트의 zipNo 값 출력 (우편번호)\n",
    "print(\"- 도로명 주소:\", adress_list['lnmAdres'])  # 주소리스트의 lnmAdres 값 출력 (도로명주소)\n",
    "print(\"- 지번 주소:\", adress_list['rnAdres'])      # 주소리스트의 rnAdres 값 출력 (지번주소)"
   ]
  },
  {
   "cell_type": "markdown",
   "metadata": {},
   "source": [
    "### 날씨 정보 가져오기"
   ]
  },
  {
   "cell_type": "markdown",
   "metadata": {},
   "source": [
    "#### 날씨 정보를 위한 서비스 신청"
   ]
  },
  {
   "cell_type": "markdown",
   "metadata": {},
   "source": [
    "#### 날씨 실황 조회"
   ]
  },
  {
   "cell_type": "markdown",
   "metadata": {},
   "source": [
    "**[15장: 509페이지]**"
   ]
  },
  {
   "cell_type": "code",
   "execution_count": 125,
   "metadata": {},
   "outputs": [
    {
     "name": "stdout",
     "output_type": "stream",
     "text": [
      "인코딩 API_key : UqlfWtXrhSxnPuX3G9jNHGX6K2jS1pmP%2Fz4AzQr9DRS6AWtBKNbYs8gOnz4o2H6gdBPSac0wR229Gy%2BJYHCh9Q%3D%3D\n",
      "디코딩 API_key : UqlfWtXrhSxnPuX3G9jNHGX6K2jS1pmP/z4AzQr9DRS6AWtBKNbYs8gOnz4o2H6gdBPSac0wR229Gy+JYHCh9Q==\n"
     ]
    }
   ],
   "source": [
    "import requests   # 웹사이트 정보 가져오는 모듈 호출\n",
    "\n",
    "API_KEY  = 'UqlfWtXrhSxnPuX3G9jNHGX6K2jS1pmP%2Fz4AzQr9DRS6AWtBKNbYs8gOnz4o2H6gdBPSac0wR229Gy%2BJYHCh9Q%3D%3D'  # 승인된 API키\n",
    "API_KEY_decode = requests.utils.unquote(API_KEY)   # 디코딩 하기\n",
    "\n",
    "print('인코딩 API_key :', API_KEY)\n",
    "print('디코딩 API_key :', API_KEY_decode)"
   ]
  },
  {
   "cell_type": "markdown",
   "metadata": {},
   "source": [
    "**[15장: 510 ~ 511페이지]**"
   ]
  },
  {
   "cell_type": "code",
   "execution_count": 80,
   "metadata": {},
   "outputs": [
    {
     "data": {
      "text/plain": [
       "{'response': {'header': {'resultCode': '0000', 'resultMsg': 'OK'},\n",
       "  'body': {'items': {'item': [{'baseDate': 20190808,\n",
       "      'baseTime': 1000,\n",
       "      'category': 'PTY',\n",
       "      'nx': 62,\n",
       "      'ny': 126,\n",
       "      'obsrValue': 0},\n",
       "     {'baseDate': 20190808,\n",
       "      'baseTime': 1000,\n",
       "      'category': 'REH',\n",
       "      'nx': 62,\n",
       "      'ny': 126,\n",
       "      'obsrValue': 77},\n",
       "     {'baseDate': 20190808,\n",
       "      'baseTime': 1000,\n",
       "      'category': 'RN1',\n",
       "      'nx': 62,\n",
       "      'ny': 126,\n",
       "      'obsrValue': 0},\n",
       "     {'baseDate': 20190808,\n",
       "      'baseTime': 1000,\n",
       "      'category': 'T1H',\n",
       "      'nx': 62,\n",
       "      'ny': 126,\n",
       "      'obsrValue': 29.5},\n",
       "     {'baseDate': 20190808,\n",
       "      'baseTime': 1000,\n",
       "      'category': 'UUU',\n",
       "      'nx': 62,\n",
       "      'ny': 126,\n",
       "      'obsrValue': -0.1},\n",
       "     {'baseDate': 20190808,\n",
       "      'baseTime': 1000,\n",
       "      'category': 'VEC',\n",
       "      'nx': 62,\n",
       "      'ny': 126,\n",
       "      'obsrValue': 169}]},\n",
       "   'numOfRows': 6,\n",
       "   'pageNo': 1,\n",
       "   'totalCount': 8}}}"
      ]
     },
     "execution_count": 80,
     "metadata": {},
     "output_type": "execute_result"
    }
   ],
   "source": [
    "import json          # 제이슨데이터를 파이썬 데이터로 변환하는 모듈\n",
    "import datetime      # 날짜정보를 가져오는 모듈\n",
    "\n",
    "\n",
    "                               # [날짜 및 시간 설정]\n",
    "now = datetime.datetime.now() # 현재 날짜와 시간을 변수에 저장 (년월일시분초)\n",
    "\n",
    "date = \"{:%Y%m%d}\".format(now) # 현재의 년월일을 변수에 저장, {:년월일} (%Y 년, %m월, %d일)\n",
    "time = \"{:%H00}\".format(now)   # 현재의 시간(정시)을 변수에 저장, {:시00} (%H 시간, 00 정시표시)\n",
    "\n",
    "\n",
    "if (now.minute >= 30):        \n",
    "    time = \"{0}00\".format(now.hour)   # 현재 분이 30분 이상이면 이후 시간(정시) 설정\n",
    "else:\n",
    "    time = \"{0}00\".format(now.hour-1) # 현재 분이 30분 미만이면 현재 시간(정시) 설정\n",
    "\n",
    "time = '1000'\n",
    "\n",
    "\n",
    "                     # [요청 주소 및 요청 변수 지정]\n",
    "req_url = \"http://newsky2.kma.go.kr/service/SecndSrtpdFrcstInfoService2/ForecastGrib\"  # 요청 주소\n",
    "           \n",
    "\n",
    "baseDate = date     # 예보 일자 지정\n",
    "baseTime = time     # 예보 시간 지정(정시로 지정)\n",
    "\n",
    "nx_val = 62         # 예보지점 X 좌표(서울시 광진구 군자동)\n",
    "ny_val = 126        # 예보지점 Y 좌표(서울시 광진구 군자동)\n",
    "\n",
    "num_of_rows = 6     # 한 페이지의 출력 개수\n",
    "page_no = 1         # 페이지 번호\n",
    "\n",
    "output_type = \"json\" # 응답 데이터의 형식\n",
    "\n",
    "req_parameter = {\"ServiceKey\":API_KEY_decode,                  # 파라미터1 : API키\n",
    "                 \"nx\":nx_val, \"ny\": ny_val,                    # 파라미터2, 3: x, y좌표\n",
    "                 \"base_date\":baseDate, \"base_time\":baseTime,   # 파라미터4, 5 : 예보일자, 예보시간\n",
    "                 \"pageNo\":page_no, \"numOfRows\":num_of_rows,    # 파라미터6, 7 : 페이지번호, 한페이지의 출력개수\n",
    "                 \"_type\":output_type}                          # 파라미터8 : 응답 데이터 형식\n",
    "\n",
    "                                                  # [데이터 요청]\n",
    "r = requests.get(req_url, params = req_parameter) # 해당주소의 데이터를 가져오기\n",
    "\n",
    "dict_data = r.json()                              # json형태의 데이터를 파이썬데이터로 변환\n",
    "dict_data\n"
   ]
  },
  {
   "cell_type": "code",
   "execution_count": 63,
   "metadata": {},
   "outputs": [
    {
     "ename": "SyntaxError",
     "evalue": "name 'now_hour_edit' is assigned to before global declaration (<ipython-input-63-62aabfc03096>, line 20)",
     "output_type": "error",
     "traceback": [
      "\u001b[1;36m  File \u001b[1;32m\"<ipython-input-63-62aabfc03096>\"\u001b[1;36m, line \u001b[1;32m20\u001b[0m\n\u001b[1;33m    now_hour_edit = now.hour\u001b[0m\n\u001b[1;37m           ^\u001b[0m\n\u001b[1;31mSyntaxError\u001b[0m\u001b[1;31m:\u001b[0m name 'now_hour_edit' is assigned to before global declaration\n"
     ]
    }
   ],
   "source": [
    "#편집\n",
    "\n",
    "import json          # 제이슨데이터를 파이썬 데이터로 변환하는 모듈\n",
    "import datetime      # 날짜정보를 가져오는 모듈\n",
    "\n",
    "\n",
    "                               # [날짜 및 시간 설정]\n",
    "now = datetime.datetime.now() # 현재 날짜와 시간을 변수에 저장 (년월일시분초)\n",
    "\n",
    "date = \"{:%Y%m%d}\".format(now) # 현재의 년월일을 변수에 저장, {:년월일} (%Y 년, %m월, %d일)\n",
    "time = \"{:%H00}\".format(now)   # 현재의 시간(정시)을 변수에 저장, {:시00} (%H 시간, 00 정시표시)\n",
    "\n",
    "\n",
    "now_hour_edit = 0\n",
    "\n",
    "if (now.hour < 10):\n",
    "    global now_hour_edit\n",
    "    now_hour_edit = '0' + now.hour\n",
    "else:\n",
    "    now_hour_edit = now.hour\n",
    "\n",
    "print(now_hour_edit)\n",
    "    \n",
    "if (now.minute >= 30):        \n",
    "    time = \"{0}00\".format(now_hour_edit)   # 현재 분이 30분 이상이면 이후 시간(정시) 설정\n",
    "else:\n",
    "    time = \"{0}00\".format(now_hour_edit-1) # 현재 분이 30분 미만이면 현재 시간(정시) 설정\n",
    "\n",
    "\n",
    "\n",
    "                     # [요청 주소 및 요청 변수 지정]\n",
    "req_url = \"http://newsky2.kma.go.kr/service/SecndSrtpdFrcstInfoService2/ForecastGrib\"  # 요청 주소\n",
    "           \n",
    "\n",
    "baseDate = date     # 예보 일자 지정\n",
    "baseTime = time     # 예보 시간 지정(정시로 지정)\n",
    "\n",
    "nx_val = 62         # 예보지점 X 좌표(서울시 광진구 군자동)\n",
    "ny_val = 126        # 예보지점 Y 좌표(서울시 광진구 군자동)\n",
    "\n",
    "num_of_rows = 6     # 한 페이지의 출력 개수\n",
    "page_no = 1         # 페이지 번호\n",
    "\n",
    "output_type = \"json\" # 응답 데이터의 형식\n",
    "\n",
    "req_parameter = {\"ServiceKey\":API_KEY_decode,                  # 파라미터1 : API키\n",
    "                 \"nx\":nx_val, \"ny\": ny_val,                    # 파라미터2, 3: x, y좌표\n",
    "                 \"base_date\":baseDate, \"base_time\":baseTime,   # 파라미터4, 5 : 예보일자, 예보시간\n",
    "                 \"pageNo\":page_no, \"numOfRows\":num_of_rows,    # 파라미터6, 7 : 페이지번호, 한페이지의 출력개수\n",
    "                 \"_type\":output_type}                          # 파라미터8 : 응답 데이터 형식\n",
    "\n",
    "                                                  # [데이터 요청]\n",
    "r = requests.get(req_url, params = req_parameter) # 해당주소의 데이터를 가져오기\n",
    "\n",
    "dict_data = r.json()                              # json형태의 데이터를 파이썬데이터로 변환\n",
    "dict_data\n"
   ]
  },
  {
   "cell_type": "markdown",
   "metadata": {},
   "source": [
    "**[15장: 512 ~ 513페이지]**"
   ]
  },
  {
   "cell_type": "code",
   "execution_count": 81,
   "metadata": {},
   "outputs": [
    {
     "name": "stdout",
     "output_type": "stream",
     "text": [
      "[ 발표 날짜: 20190808 ]\n",
      "[ 발표 시간: 1000 ]\n",
      "* 강수: 없음\n",
      "* 습도: 77 퍼센트\n",
      "* 기온: 29.5 도\n"
     ]
    }
   ],
   "source": [
    "# [딕셔너리 데이터를 분석해서 원하는 값 추출]\n",
    "\n",
    "weather_items = dict_data['response']['body']['items']['item']\n",
    "\n",
    "sky_cond = [\"맑음\", \"구름 조금\", \"구름 많음\", \"흐림\"]\n",
    "rain_type = [\"없음\", \"비\", \"진눈개비\", \"눈\"] \n",
    "\n",
    "print(\"[ 발표 날짜: {} ]\".format(weather_items[0]['baseDate']))\n",
    "print(\"[ 발표 시간: {} ]\".format(weather_items[0]['baseTime']))\n",
    "\n",
    "for k in range(len(weather_items)):\n",
    "    weather_item = weather_items[k]\n",
    "    obsrValue = weather_item['obsrValue']\n",
    "    if(weather_item['category'] == 'T1H'):\n",
    "        print(\"* 기온: {} 도\".format(obsrValue))\n",
    "    elif(weather_item['category'] == 'REH'):\n",
    "        print(\"* 습도: {} 퍼센트\".format(obsrValue))\n",
    "    elif(weather_item['category'] == 'SKY'):\n",
    "        print(\"* 하늘: {}\".format(sky_cond[obsrValue-1]))    \n",
    "    elif(weather_item['category'] == 'PTY'):\n",
    "        print(\"* 강수: {}\".format(rain_type[obsrValue])) "
   ]
  },
  {
   "cell_type": "markdown",
   "metadata": {},
   "source": [
    "#### 일기 예보 조회"
   ]
  },
  {
   "cell_type": "markdown",
   "metadata": {},
   "source": [
    "**[15장: 513 ~ 515페이지]**"
   ]
  },
  {
   "cell_type": "code",
   "execution_count": 144,
   "metadata": {},
   "outputs": [
    {
     "ename": "KeyError",
     "evalue": "'0,0=2d'",
     "output_type": "error",
     "traceback": [
      "\u001b[1;31m---------------------------------------------------------------------------\u001b[0m",
      "\u001b[1;31mKeyError\u001b[0m                                  Traceback (most recent call last)",
      "\u001b[1;32m<ipython-input-144-ef58e02ccbf4>\u001b[0m in \u001b[0;36m<module>\u001b[1;34m\u001b[0m\n\u001b[0;32m     11\u001b[0m     \u001b[0mtime\u001b[0m \u001b[1;33m=\u001b[0m \u001b[1;34m\"{0,0=2d}00\"\u001b[0m\u001b[1;33m.\u001b[0m\u001b[0mformat\u001b[0m\u001b[1;33m(\u001b[0m\u001b[0mnow\u001b[0m\u001b[1;33m.\u001b[0m\u001b[0mhour\u001b[0m\u001b[1;33m)\u001b[0m\u001b[1;33m\u001b[0m\u001b[1;33m\u001b[0m\u001b[0m\n\u001b[0;32m     12\u001b[0m \u001b[1;32melse\u001b[0m\u001b[1;33m:\u001b[0m\u001b[1;33m\u001b[0m\u001b[1;33m\u001b[0m\u001b[0m\n\u001b[1;32m---> 13\u001b[1;33m     \u001b[0mtime\u001b[0m \u001b[1;33m=\u001b[0m \u001b[1;34m\"{0,0=2d}00\"\u001b[0m\u001b[1;33m.\u001b[0m\u001b[0mformat\u001b[0m\u001b[1;33m(\u001b[0m\u001b[0mnow\u001b[0m\u001b[1;33m.\u001b[0m\u001b[0mhour\u001b[0m\u001b[1;33m-\u001b[0m\u001b[1;36m1\u001b[0m\u001b[1;33m)\u001b[0m\u001b[1;33m\u001b[0m\u001b[1;33m\u001b[0m\u001b[0m\n\u001b[0m\u001b[0;32m     14\u001b[0m \u001b[1;33m\u001b[0m\u001b[0m\n\u001b[0;32m     15\u001b[0m \u001b[1;31m# time = '1000'\u001b[0m\u001b[1;33m\u001b[0m\u001b[1;33m\u001b[0m\u001b[1;33m\u001b[0m\u001b[0m\n",
      "\u001b[1;31mKeyError\u001b[0m: '0,0=2d'"
     ]
    }
   ],
   "source": [
    "import json         # 제이슨데이터를 파이썬데이터로 변환하는 모듈\n",
    "import datetime     # 현재 날짜시간정보를 가져오는 모듈\n",
    "    \n",
    "                                 # [날짜 및 시간 설정]\n",
    "now = datetime.datetime.now()    # 현재 날짜와 시간을 변수에 저장(년월일시분초)\n",
    "date = \"{:%Y%m%d}\".format(now)   # 현재시간의 년월일을 변수에 저장 {:년월일}\n",
    "time = \"{:%H00}\".format(now)     # 현재시간의 시간(정시)을 변수에 저장\n",
    "\n",
    "# 현재 분이 30분 이전이면 이전 시간(정시)을 설정\n",
    "if (now.minute >= 30):\n",
    "    time = \"{0,0=2d}00\".format(now.hour)\n",
    "else:\n",
    "    time = \"{0,0=2d}00\".format(now.hour-1)\n",
    "\n",
    "# time = '1000'    \n",
    "    \n",
    "    \n",
    "                      # [요청 주소 및 요청 변수 지정]\n",
    "req_url = \"http://newsky2.kma.go.kr/service/SecndSrtpdFrcstInfoService2/ForecastTimeData\"\n",
    "\n",
    "baseDate = date       # 예보 일자 지정\n",
    "baseTime = time       # 예보 시간 지정(정시로 지정)\n",
    "\n",
    "nx_val = 61           # 예보지점 X 좌표(서울시 강남구 역삼동)\n",
    "ny_val = 125          # 예보지점 Y 좌표(서울시 강남구 역삼동)\n",
    "\n",
    "num_of_rows = 50      # 한 페이지에 포함된 결과 수\n",
    "page_no = 1           # 페이지 번호\n",
    "\n",
    "output_type = \"json\"  # 응답 데이터 형식 지정\n",
    "\n",
    "req_parameter = {\"ServiceKey\":API_KEY_decode, \n",
    "                 \"nx\":nx_val, \"ny\": ny_val, \n",
    "                 \"base_date\":baseDate, \"base_time\":baseTime, \n",
    "                 \"pageNo\":page_no, \"numOfRows\":num_of_rows, \n",
    "                 \"_type\":output_type}\n",
    "\n",
    "                \n",
    "                       # [데이터 요청]\n",
    "r = requests.get(req_url, params = req_parameter)\n",
    "dict_data = r.json()  # json데이터를 파이썬데이터로 변환\n",
    "\n",
    "\n",
    "weather_items = dict_data['response']['body']['items']['item']  # 변환된 파이썬데이터에서 원하는 값만 추출\n",
    "\n",
    "#print(len(weather_items))\n",
    "#print(weather_items)\n",
    "\n",
    "\n",
    "    \n",
    "sky_cond = ['없음', \"맑음\", \"구름 조금\", \"구름 많음\", \"흐림\"]  # 날씨상태 리스트\n",
    "rain_type = [\"없음\", \"비\", \"진눈개비\", \"눈\", '소나기']           # 강수형태 리스트\n",
    "\n",
    "print(\"[ 발표 날짜: {} ]\".format(weather_items[0]['baseDate'])) # 발표일 출력\n",
    "print(\"[ 발표 시간: {} ]\".format(weather_items[0]['baseTime'])) # 발표시간 출력\n",
    "\n",
    "print(\"[ 초단기 일기 예보 ]\") # 문자열 출력\n",
    "\n",
    "\n",
    "                                            # [for 반복문]\n",
    "for k in range(len(weather_items)):         # weather_items의 길이만큼 실행 (30개)\n",
    "    weather_item = weather_items[k]\n",
    "    \n",
    "    fcstTime = weather_item['fcstTime']    # weather_items 딕셔너리의 fcstTime키의 값을 변수에 저장\n",
    "    fcstValue = weather_item['fcstValue']  # weather_items 딕셔너리의 fcstValue키의 값을 변수에 저장\n",
    "    \n",
    "    if(weather_item['category'] == 'T1H'):\n",
    "        print(\"* 시간: {0}, 기온: {1} 도\".format(fcstTime, fcstValue))\n",
    "    elif(weather_item['category'] == 'REH'):\n",
    "        print(\"* 시간: {0}, 습도: {1} 퍼센트\".format(fcstTime, fcstValue))\n",
    "    elif(weather_item['category'] == 'SKY'):\n",
    "        print(\"* 시간: {0}, 하늘: {1}\".format(fcstTime, sky_cond[fcstValue-1]))\n",
    "    elif(weather_item['category'] == 'PTY'):\n",
    "        print(\"* 시간: {0}, 강수: {1}\".format(fcstTime, rain_type[fcstValue]))"
   ]
  },
  {
   "cell_type": "markdown",
   "metadata": {},
   "source": [
    "# 실습"
   ]
  },
  {
   "cell_type": "code",
   "execution_count": 10,
   "metadata": {},
   "outputs": [
    {
     "name": "stdout",
     "output_type": "stream",
     "text": [
      "[ 발표 날짜: 20191213 ]\n",
      "[ 발표 시간: 1030 ]\n",
      "[ 초단기 일기 예보 ]\n",
      "* 시간: 1100, 낙뢰: 확률없음 \n",
      "* 시간: 1200, 낙뢰: 확률없음 \n",
      "* 시간: 1300, 낙뢰: 확률없음 \n",
      "* 시간: 1400, 낙뢰: 확률없음 \n",
      "* 시간: 1500, 낙뢰: 확률없음 \n",
      "* 시간: 1100, 강수형태: 없음\n",
      "* 시간: 1200, 강수형태: 없음\n",
      "* 시간: 1300, 강수형태: 없음\n",
      "* 시간: 1400, 강수형태: 없음\n",
      "* 시간: 1500, 강수형태: 없음\n",
      "* 시간: 1100, 1시간 강수량: 0 mm\n",
      "* 시간: 1200, 1시간 강수량: 0 mm\n",
      "* 시간: 1300, 1시간 강수량: 0 mm\n",
      "* 시간: 1400, 1시간 강수량: 0 mm\n",
      "* 시간: 1500, 1시간 강수량: 0 mm\n",
      "* 시간: 1100, 하늘상태: 흐림\n",
      "* 시간: 1200, 하늘상태: 흐림\n",
      "* 시간: 1300, 하늘상태: 구름 많음\n",
      "* 시간: 1400, 하늘상태: 구름 많음\n",
      "* 시간: 1500, 하늘상태: 맑음\n",
      "* 시간: 1100, 기온: 2.7 ℃\n",
      "* 시간: 1200, 기온: 4 ℃\n",
      "* 시간: 1300, 기온: 4.7 ℃\n",
      "* 시간: 1400, 기온: 5.3 ℃\n",
      "* 시간: 1500, 기온: 6 ℃\n",
      "* 시간: 1100, 습도: 50 %\n",
      "* 시간: 1200, 습도: 55 %\n",
      "* 시간: 1300, 습도: 55 %\n",
      "* 시간: 1400, 습도: 55 %\n",
      "* 시간: 1500, 습도: 60 %\n"
     ]
    }
   ],
   "source": [
    "import json         # 제이슨데이터를 파이썬데이터로 변환하는 모듈\n",
    "import datetime     # 현재 날짜시간정보를 가져오는 모듈\n",
    "    \n",
    "                                 \n",
    "now = datetime.datetime.now()    # 현재 날짜와 시간을 변수에 저장(년월일시분초)\n",
    "date = \"{:%Y%m%d}\".format(now)   # 현재시간의 년월일을 변수에 저장 {:년월일}\n",
    "time = '1000'                    #현재 시간을 임의로 설정   \n",
    "    \n",
    "    \n",
    "                      # [요청 주소 및 요청 변수 지정]\n",
    "req_url = \"http://newsky2.kma.go.kr/service/SecndSrtpdFrcstInfoService2/ForecastTimeData\"\n",
    "\n",
    "baseDate = date       # 발표 일자 지정\n",
    "baseTime = time       # 발표 시간 지정(정시로 지정)\n",
    "\n",
    "nx_val = 61           # 예보지점 X 좌표(서울시 강남구 역삼동)\n",
    "ny_val = 125          # 예보지점 Y 좌표(서울시 강남구 역삼동)\n",
    "\n",
    "num_of_rows = 30      # 한 페이지에 포함된 결과 수\n",
    "page_no = 1           # 페이지 번호\n",
    "\n",
    "output_type = \"json\"  # 응답 데이터 형식 지정\n",
    "\n",
    "req_parameter = {\"ServiceKey\":API_KEY_decode, \n",
    "                 \"nx\":nx_val, \"ny\": ny_val, \n",
    "                 \"base_date\":baseDate, \"base_time\":baseTime, \n",
    "                 \"pageNo\":page_no, \"numOfRows\":num_of_rows, \n",
    "                 \"_type\":output_type}\n",
    "                      \n",
    "r = requests.get(req_url, params = req_parameter)  # 데이터 요청\n",
    "dict_data = r.json()  # json데이터를 파이썬데이터로 변환\n",
    "\n",
    "\n",
    "weather_items = dict_data['response']['body']['items']['item']  # 변환된 파이썬데이터에서 원하는 값만 추출\n",
    "\n",
    "\n",
    "\n",
    "    \n",
    "sky_cond = ['없음', \"맑음\", \"구름 조금\", \"구름 많음\", \"흐림\"]  # 날씨상태 리스트\n",
    "rain_type = [\"없음\", \"비\", \"진눈개비\", \"눈\"]           # 강수형태 리스트\n",
    "thunder_type = ['확률없음', '낮음', '보통', '높음']  # 낙뢰 정보 리스트\n",
    "\n",
    "print(\"[ 발표 날짜: {} ]\".format(weather_items[0]['baseDate'])) # 발표일 출력\n",
    "print(\"[ 발표 시간: {} ]\".format(weather_items[0]['baseTime'])) # 발표시간 출력\n",
    "\n",
    "print(\"[ 초단기 일기 예보 ]\") # 문자열 출력\n",
    "\n",
    "                                            # [for 반복문]\n",
    "for k in range(len(weather_items)):         # weather_items의 길이만큼 실행 (30개)\n",
    "    weather_item = weather_items[k]\n",
    "    \n",
    "    fcstTime = weather_item['fcstTime']    # 예측 시간, weather_items 딕셔너리의 fcstTime키의 값을 변수에 저장\n",
    "    fcstValue = weather_item['fcstValue']  # 예측 값, weather_items 딕셔너리의 fcstValue키의 값을 변수에 저장\n",
    "    \n",
    "    if(weather_item['category'] == 'T1H'):    # 기온\n",
    "        print(\"* 시간: {0}, 기온: {1} ℃\".format(fcstTime, fcstValue))  \n",
    "        \n",
    "    elif(weather_item['category'] == 'RN1'):  # 강수량\n",
    "        print(\"* 시간: {0}, 1시간 강수량: {1} mm\".format(fcstTime, fcstValue))        \n",
    "\n",
    "    elif(weather_item['category'] == 'SKY'):\n",
    "        print(\"* 시간: {0}, 하늘상태: {1}\".format(fcstTime, sky_cond[fcstValue]))\n",
    "        \n",
    "        \n",
    "    elif(weather_item['category'] == 'UUU'):  # 바람1\n",
    "        print(\"* 시간: {0}, 동서바람성분: {1} m/s\".format(fcstTime, fcstValue))\n",
    "        \n",
    "    elif(weather_item['category'] == 'VVV'):  # 바람2\n",
    "        print(\"* 시간: {0}, 남북바람성분: {1} m/s\".format(fcstTime, fcstValue))        \n",
    "                \n",
    "    elif(weather_item['category'] == 'REH'):   # 습도\n",
    "        print(\"* 시간: {0}, 습도: {1} %\".format(fcstTime, fcstValue))\n",
    "        \n",
    "    elif(weather_item['category'] == 'PTY'):   # 강수형태 \n",
    "        print(\"* 시간: {0}, 강수형태: {1}\".format(fcstTime, rain_type[fcstValue]))  \n",
    "             \n",
    "    elif(weather_item['category'] == 'LGT'):   # 낙뢰\n",
    "        print(\"* 시간: {0}, 낙뢰: {1} \".format(fcstTime, thunder_type[fcstValue]))         \n",
    "        \n",
    "    elif(weather_item['category'] == 'VEC'):  # 풍향\n",
    "        print(\"* 시간: {0}, 풍향: {1} 0\".format(fcstTime, fcstValue))\n",
    "        \n",
    "    elif(weather_item['category'] == 'WSD'):  # 풍속\n",
    "        print(\"* 시간: {0}, 풍속: {1} 1\".format(fcstTime, fcstValue))\n"
   ]
  },
  {
   "cell_type": "code",
   "execution_count": null,
   "metadata": {},
   "outputs": [],
   "source": [
    "{'baseDate': 20190808, 'baseTime': 1030, 'category': 'LGT', 'fcstDate': 20190808, 'fcstTime': 1100, 'fcstValue': 0, 'nx': 61, 'ny': 125}, \n",
    "{'baseDate': 20190808, 'baseTime': 1030, 'category': 'LGT', 'fcstDate': 20190808, 'fcstTime': 1200, 'fcstValue': 0, 'nx': 61, 'ny': 125},\n",
    "{'baseDate': 20190808, 'baseTime': 1030, 'category': 'PTY', 'fcstDate': 20190808, 'fcstTime': 1100, 'fcstValue': 0, 'nx': 61, 'ny': 125},\n",
    "{'baseDate': 20190808, 'baseTime': 1030, 'category': 'PTY', 'fcstDate': 20190808, 'fcstTime': 1200, 'fcstValue': 0, 'nx': 61, 'ny': 125}, \n",
    "{'baseDate': 20190808, 'baseTime': 1030, 'category': 'RN1', 'fcstDate': 20190808, 'fcstTime': 1100, 'fcstValue': 0, 'nx': 61, 'ny': 125}, \n",
    "{'baseDate': 20190808, 'baseTime': 1030, 'category': 'RN1', 'fcstDate': 20190808, 'fcstTime': 1200, 'fcstValue': 0, 'nx': 61, 'ny': 125}, \n",
    "{'baseDate': 20190808, 'baseTime': 1030, 'category': 'SKY', 'fcstDate': 20190808, 'fcstTime': 1100, 'fcstValue': 4, 'nx': 61, 'ny': 125}, \n",
    "{'baseDate': 20190808, 'baseTime': 1030, 'category': 'SKY', 'fcstDate': 20190808, 'fcstTime': 1200, 'fcstValue': 4, 'nx': 61, 'ny': 125}, \n",
    "{'baseDate': 20190808, 'baseTime': 1030, 'category': 'T1H', 'fcstDate': 20190808, 'fcstTime': 1100, 'fcstValue': 31, 'nx': 61, 'ny': 125}, \n",
    "{'baseDate': 20190808, 'baseTime': 1030, 'category': 'T1H', 'fcstDate': 20190808, 'fcstTime': 1200, 'fcstValue': 31, 'nx': 61, 'ny': 125}, \n",
    "{'baseDate': 20190808, 'baseTime': 1030, 'category': 'REH', 'fcstDate': 20190808, 'fcstTime': 1100, 'fcstValue': 75, 'nx': 61, 'ny': 125}, \n",
    "{'baseDate': 20190808, 'baseTime': 1030, 'category': 'REH', 'fcstDate': 20190808, 'fcstTime': 1200, 'fcstValue': 75, 'nx': 61, 'ny': 125}, \n",
    "{'baseDate': 20190808, 'baseTime': 1030, 'category': 'UUU', 'fcstDate': 20190808, 'fcstTime': 1100, 'fcstValue': 0.5, 'nx': 61, 'ny': 125}, \n",
    "{'baseDate': 20190808, 'baseTime': 1030, 'category': 'UUU', 'fcstDate': 20190808, 'fcstTime': 1200, 'fcstValue': 1.3, 'nx': 61, 'ny': 125}, \n",
    "{'baseDate': 20190808, 'baseTime': 1030, 'category': 'VVV', 'fcstDate': 20190808, 'fcstTime': 1100, 'fcstValue': 0.7, 'nx': 61, 'ny': 125}, \n",
    "{'baseDate': 20190808, 'baseTime': 1030, 'category': 'VVV', 'fcstDate': 20190808, 'fcstTime': 1200, 'fcstValue': 0.8, 'nx': 61, 'ny': 125}, \n",
    "{'baseDate': 20190808, 'baseTime': 1030, 'category': 'VEC', 'fcstDate': 20190808, 'fcstTime': 1100, 'fcstValue': 216, 'nx': 61, 'ny': 125}, \n",
    "{'baseDate': 20190808, 'baseTime': 1030, 'category': 'VEC', 'fcstDate': 20190808, 'fcstTime': 1200, 'fcstValue': 238, 'nx': 61, 'ny': 125}, \n",
    "{'baseDate': 20190808, 'baseTime': 1030, 'category': 'WSD', 'fcstDate': 20190808, 'fcstTime': 1100, 'fcstValue': 0.9, 'nx': 61, 'ny': 125}, \n",
    "{'baseDate': 20190808, 'baseTime': 1030, 'category': 'WSD', 'fcstDate': 20190808, 'fcstTime': 1200, 'fcstValue': 1.5, 'nx': 61, 'ny': 125}\n",
    " 발표일자               발표시간          예보값(카테고리)   예측일자              예측시간           예보값(수치)     x좌표     y좌표"
   ]
  },
  {
   "cell_type": "markdown",
   "metadata": {},
   "source": [
    "### 대기 오염 정보 가져오기"
   ]
  },
  {
   "cell_type": "markdown",
   "metadata": {},
   "source": [
    "#### 대기 오염 정보를 위한 서비스 신청"
   ]
  },
  {
   "cell_type": "markdown",
   "metadata": {},
   "source": [
    "#### 근접 측정소 목록 조회하기"
   ]
  },
  {
   "cell_type": "markdown",
   "metadata": {},
   "source": [
    "**[15장: 519페이지]**"
   ]
  },
  {
   "cell_type": "code",
   "execution_count": 11,
   "metadata": {},
   "outputs": [
    {
     "name": "stdout",
     "output_type": "stream",
     "text": [
      "인코딩 API : UqlfWtXrhSxnPuX3G9jNHGX6K2jS1pmP%2Fz4AzQr9DRS6AWtBKNbYs8gOnz4o2H6gdBPSac0wR229Gy%2BJYHCh9Q%3D%3D\n",
      "디코딩 API : UqlfWtXrhSxnPuX3G9jNHGX6K2jS1pmP/z4AzQr9DRS6AWtBKNbYs8gOnz4o2H6gdBPSac0wR229Gy+JYHCh9Q==\n"
     ]
    }
   ],
   "source": [
    "import requests   # 웹사이트 정보 가져오는 모듈 호출\n",
    "\n",
    "API_KEY  = 'UqlfWtXrhSxnPuX3G9jNHGX6K2jS1pmP%2Fz4AzQr9DRS6AWtBKNbYs8gOnz4o2H6gdBPSac0wR229Gy%2BJYHCh9Q%3D%3D' # API인증키 입력\n",
    "API_KEY_decode = requests.utils.unquote(API_KEY)   # 디코딩실행\n",
    "\n",
    "print('인코딩 API :', API_KEY)\n",
    "print('디코딩 API :', API_KEY_decode)"
   ]
  },
  {
   "cell_type": "markdown",
   "metadata": {},
   "source": [
    "**[15장: 520페이지] 동이름을 입력해서 TM 기준좌표 구하기**"
   ]
  },
  {
   "cell_type": "code",
   "execution_count": 12,
   "metadata": {},
   "outputs": [
    {
     "name": "stdout",
     "output_type": "stream",
     "text": [
      "3\n",
      "{'MsrstnInfoInqireSvrVo': {'_returnType': 'json', 'addr': '', 'districtNum': '', 'dmX': '', 'dmY': '', 'item': '', 'mangName': '', 'map': '', 'numOfRows': '10', 'oper': '', 'pageNo': '1', 'photo': '', 'resultCode': '', 'resultMsg': '', 'rnum': 0, 'serviceKey': 'UqlfWtXrhSxnPuX3G9jNHGX6K2jS1pmP/z4AzQr9DRS6AWtBKNbYs8gOnz4o2H6gdBPSac0wR229Gy+JYHCh9Q==', 'sggName': '', 'sidoName': '', 'stationCode': '', 'stationName': '', 'tm': 0, 'tmX': '', 'tmY': '', 'totalCount': '', 'umdName': '군자동', 'ver': '', 'vrml': '', 'year': ''}, 'list': [{'_returnType': 'json', 'addr': '', 'districtNum': '', 'dmX': '', 'dmY': '', 'item': '', 'mangName': '', 'map': '', 'numOfRows': '10', 'oper': '', 'pageNo': '1', 'photo': '', 'resultCode': '', 'resultMsg': '', 'rnum': 0, 'serviceKey': '', 'sggName': '시흥시', 'sidoName': '경기도', 'stationCode': '', 'stationName': '', 'tm': 0, 'tmX': '181747.643035', 'tmY': '428783.434536', 'totalCount': '', 'umdName': '군자동', 'ver': '', 'vrml': '', 'year': ''}, {'_returnType': 'json', 'addr': '', 'districtNum': '', 'dmX': '', 'dmY': '', 'item': '', 'mangName': '', 'map': '', 'numOfRows': '10', 'oper': '', 'pageNo': '1', 'photo': '', 'resultCode': '', 'resultMsg': '', 'rnum': 0, 'serviceKey': '', 'sggName': '광진구', 'sidoName': '서울특별시', 'stationCode': '', 'stationName': '', 'tm': 0, 'tmX': '206440.355512', 'tmY': '450087.635775', 'totalCount': '', 'umdName': '군자동', 'ver': '', 'vrml': '', 'year': ''}, {'_returnType': 'json', 'addr': '', 'districtNum': '', 'dmX': '', 'dmY': '', 'item': '', 'mangName': '', 'map': '', 'numOfRows': '10', 'oper': '', 'pageNo': '1', 'photo': '', 'resultCode': '', 'resultMsg': '', 'rnum': 0, 'serviceKey': '', 'sggName': '여수시', 'sidoName': '전라남도', 'stationCode': '', 'stationName': '', 'tm': 0, 'tmX': '267215.090741', 'tmY': '138619.868853', 'totalCount': '', 'umdName': '군자동', 'ver': '', 'vrml': '', 'year': ''}], 'parm': {'_returnType': 'json', 'addr': '', 'districtNum': '', 'dmX': '', 'dmY': '', 'item': '', 'mangName': '', 'map': '', 'numOfRows': '10', 'oper': '', 'pageNo': '1', 'photo': '', 'resultCode': '', 'resultMsg': '', 'rnum': 0, 'serviceKey': 'UqlfWtXrhSxnPuX3G9jNHGX6K2jS1pmP/z4AzQr9DRS6AWtBKNbYs8gOnz4o2H6gdBPSac0wR229Gy+JYHCh9Q==', 'sggName': '', 'sidoName': '', 'stationCode': '', 'stationName': '', 'tm': 0, 'tmX': '', 'tmY': '', 'totalCount': '', 'umdName': '군자동', 'ver': '', 'vrml': '', 'year': ''}, 'totalCount': 3}\n"
     ]
    }
   ],
   "source": [
    "req_url = \"http://openapi.airkorea.or.kr/openapi/services/rest/MsrstnInfoInqireSvc/getTMStdrCrdnt\"   # 상위주소 입력\n",
    "                                       # 측정소정보 조회 서비스의 TM 기준좌표 조회 오퍼레이션\n",
    "\n",
    "umd_name = \"군자동\" #읍, 면, 동 지정            # 동을 변수에 저장, 논현동\n",
    "num_of_rows = 10 # 한 페이지에 포함된 결과 수   # 한페이지 출력개수를 변수에 저장\n",
    "page_no = 1 # 페이지 번호                       # 출력할 페이지수를 변수에 저장\n",
    "output_type = \"json\"                            # 불러올 데이터형식을 변수에 저장\n",
    "\n",
    "\n",
    "req_parameter = {\"ServiceKey\":API_KEY_decode, \"umdName\":umd_name,   # 파라미터1, 2 : API키, 동이름\n",
    "                  \"pageNo\":page_no, \"numOfRows\":num_of_rows,        # 파라미터3, 4 : 출력할페이지수, 한페이지출력개수\n",
    "                 \"_returnType\":output_type}                         # 파라미터5 : 불러올데이터형식\n",
    "\n",
    "dict_data = requests.get(req_url, params = req_parameter).json()    # 상위주소와 파라미터를 입력해서 생성한주소의 json정보를\n",
    "                                                                    # 파이썬데이터로 불러오기\n",
    "print(dict_data['totalCount']) # totalCount항목의 값\n",
    "print(dict_data)"
   ]
  },
  {
   "cell_type": "code",
   "execution_count": 13,
   "metadata": {},
   "outputs": [
    {
     "data": {
      "text/plain": [
       "{'MsrstnInfoInqireSvrVo': {'_returnType': 'json',\n",
       "  'addr': '',\n",
       "  'districtNum': '',\n",
       "  'dmX': '',\n",
       "  'dmY': '',\n",
       "  'item': '',\n",
       "  'mangName': '',\n",
       "  'map': '',\n",
       "  'numOfRows': '10',\n",
       "  'oper': '',\n",
       "  'pageNo': '1',\n",
       "  'photo': '',\n",
       "  'resultCode': '',\n",
       "  'resultMsg': '',\n",
       "  'rnum': 0,\n",
       "  'serviceKey': 'UqlfWtXrhSxnPuX3G9jNHGX6K2jS1pmP/z4AzQr9DRS6AWtBKNbYs8gOnz4o2H6gdBPSac0wR229Gy+JYHCh9Q==',\n",
       "  'sggName': '',\n",
       "  'sidoName': '',\n",
       "  'stationCode': '',\n",
       "  'stationName': '',\n",
       "  'tm': 0,\n",
       "  'tmX': '',\n",
       "  'tmY': '',\n",
       "  'totalCount': '',\n",
       "  'umdName': '논현동',\n",
       "  'ver': '',\n",
       "  'vrml': '',\n",
       "  'year': ''},\n",
       " 'list': [{'_returnType': 'json',\n",
       "   'addr': '',\n",
       "   'districtNum': '',\n",
       "   'dmX': '',\n",
       "   'dmY': '',\n",
       "   'item': '',\n",
       "   'mangName': '',\n",
       "   'map': '',\n",
       "   'numOfRows': '10',\n",
       "   'oper': '',\n",
       "   'pageNo': '1',\n",
       "   'photo': '',\n",
       "   'resultCode': '',\n",
       "   'resultMsg': '',\n",
       "   'rnum': 0,\n",
       "   'serviceKey': '',\n",
       "   'sggName': '강남구',\n",
       "   'sidoName': '서울특별시',\n",
       "   'stationCode': '',\n",
       "   'stationName': '',\n",
       "   'tm': 0,\n",
       "   'tmX': '202733.974301',\n",
       "   'tmY': '445717.50469',\n",
       "   'totalCount': '',\n",
       "   'umdName': '논현동',\n",
       "   'ver': '',\n",
       "   'vrml': '',\n",
       "   'year': ''},\n",
       "  {'_returnType': 'json',\n",
       "   'addr': '',\n",
       "   'districtNum': '',\n",
       "   'dmX': '',\n",
       "   'dmY': '',\n",
       "   'item': '',\n",
       "   'mangName': '',\n",
       "   'map': '',\n",
       "   'numOfRows': '10',\n",
       "   'oper': '',\n",
       "   'pageNo': '1',\n",
       "   'photo': '',\n",
       "   'resultCode': '',\n",
       "   'resultMsg': '',\n",
       "   'rnum': 0,\n",
       "   'serviceKey': '',\n",
       "   'sggName': '남동구',\n",
       "   'sidoName': '인천광역시',\n",
       "   'stationCode': '',\n",
       "   'stationName': '',\n",
       "   'tm': 0,\n",
       "   'tmX': '175850.136025',\n",
       "   'tmY': '434153.586394',\n",
       "   'totalCount': '',\n",
       "   'umdName': '논현동',\n",
       "   'ver': '',\n",
       "   'vrml': '',\n",
       "   'year': ''}],\n",
       " 'parm': {'_returnType': 'json',\n",
       "  'addr': '',\n",
       "  'districtNum': '',\n",
       "  'dmX': '',\n",
       "  'dmY': '',\n",
       "  'item': '',\n",
       "  'mangName': '',\n",
       "  'map': '',\n",
       "  'numOfRows': '10',\n",
       "  'oper': '',\n",
       "  'pageNo': '1',\n",
       "  'photo': '',\n",
       "  'resultCode': '',\n",
       "  'resultMsg': '',\n",
       "  'rnum': 0,\n",
       "  'serviceKey': 'UqlfWtXrhSxnPuX3G9jNHGX6K2jS1pmP/z4AzQr9DRS6AWtBKNbYs8gOnz4o2H6gdBPSac0wR229Gy+JYHCh9Q==',\n",
       "  'sggName': '',\n",
       "  'sidoName': '',\n",
       "  'stationCode': '',\n",
       "  'stationName': '',\n",
       "  'tm': 0,\n",
       "  'tmX': '',\n",
       "  'tmY': '',\n",
       "  'totalCount': '',\n",
       "  'umdName': '논현동',\n",
       "  'ver': '',\n",
       "  'vrml': '',\n",
       "  'year': ''},\n",
       " 'totalCount': 2}"
      ]
     },
     "execution_count": 13,
     "metadata": {},
     "output_type": "execute_result"
    }
   ],
   "source": [
    "{'MsrstnInfoInqireSvrVo': {'_returnType': 'json', 'addr': '', 'districtNum': '', 'dmX': '', 'dmY': '', 'item': '', 'mangName': '', 'map': '', 'numOfRows': '10', 'oper': '', 'pageNo': '1', 'photo': '', 'resultCode': '', 'resultMsg': '', 'rnum': 0, 'serviceKey': 'UqlfWtXrhSxnPuX3G9jNHGX6K2jS1pmP/z4AzQr9DRS6AWtBKNbYs8gOnz4o2H6gdBPSac0wR229Gy+JYHCh9Q==', 'sggName': '', 'sidoName': '', 'stationCode': '', 'stationName': '', 'tm': 0, 'tmX': '', 'tmY': '', 'totalCount': '', 'umdName': '논현동', 'ver': '', 'vrml': '', 'year': ''}, \n",
    " 'list': [{'_returnType': 'json', 'addr': '', 'districtNum': '', 'dmX': '', 'dmY': '', 'item': '', 'mangName': '', 'map': '', 'numOfRows': '10', 'oper': '', 'pageNo': '1', 'photo': '', 'resultCode': '', 'resultMsg': '', 'rnum': 0, 'serviceKey': '', 'sggName': '강남구', 'sidoName': '서울특별시', 'stationCode': '', 'stationName': '', 'tm': 0, 'tmX': '202733.974301', 'tmY': '445717.50469', 'totalCount': '', 'umdName': '논현동', 'ver': '', 'vrml': '', 'year': ''}, \n",
    "          {'_returnType': 'json', 'addr': '', 'districtNum': '', 'dmX': '', 'dmY': '', 'item': '', 'mangName': '', 'map': '', 'numOfRows': '10', 'oper': '', 'pageNo': '1', 'photo': '', 'resultCode': '', 'resultMsg': '', 'rnum': 0, 'serviceKey': '', 'sggName': '남동구', 'sidoName': '인천광역시', 'stationCode': '', 'stationName': '', 'tm': 0, 'tmX': '175850.136025', 'tmY': '434153.586394', 'totalCount': '', 'umdName': '논현동', 'ver': '', 'vrml': '', 'year': ''}\n",
    "         ], \n",
    " 'parm': {'_returnType': 'json', 'addr': '', 'districtNum': '', 'dmX': '', 'dmY': '', 'item': '', 'mangName': '', 'map': '', 'numOfRows': '10', 'oper': '', 'pageNo': '1', 'photo': '', 'resultCode': '', 'resultMsg': '', 'rnum': 0, 'serviceKey': 'UqlfWtXrhSxnPuX3G9jNHGX6K2jS1pmP/z4AzQr9DRS6AWtBKNbYs8gOnz4o2H6gdBPSac0wR229Gy+JYHCh9Q==', 'sggName': '', 'sidoName': '', 'stationCode': '', 'stationName': '', 'tm': 0, 'tmX': '', 'tmY': '', 'totalCount': '', 'umdName': '논현동', 'ver': '', 'vrml': '', 'year': ''}, \n",
    " 'totalCount': 2\n",
    "}\n",
    "\n",
    "# 4개의 키가 들어있는 딕셔너리"
   ]
  },
  {
   "cell_type": "markdown",
   "metadata": {},
   "source": [
    "**[15장: 520 ~ 521페이지]**"
   ]
  },
  {
   "cell_type": "code",
   "execution_count": 14,
   "metadata": {},
   "outputs": [
    {
     "name": "stdout",
     "output_type": "stream",
     "text": [
      "[입력한 읍/면/동명] 군자동\n",
      "[TM 기준 좌표 조회 결과]\n",
      "- 위치: 경기도 시흥시 군자동\n",
      "- k = 0, TM 좌표(X, Y): 181747.643035, 428783.434536\n",
      "\n",
      "- 위치: 서울특별시 광진구 군자동\n",
      "- k = 1, TM 좌표(X, Y): 206440.355512, 450087.635775\n",
      "\n",
      "- 위치: 전라남도 여수시 군자동\n",
      "- k = 2, TM 좌표(X, Y): 267215.090741, 138619.868853\n",
      "\n"
     ]
    }
   ],
   "source": [
    "print(\"[입력한 읍/면/동명]\", umd_name)         # 문자열과 입력한 동이름을 출력\n",
    "print(\"[TM 기준 좌표 조회 결과]\")              # 문자열 출력\n",
    "\n",
    "for k in range(dict_data['totalCount']):       # tatalCount키의 값 만큼(리스트의 개수만큼) 반복\n",
    "    sido = dict_data['list'][k]['sidoName']    # list키값의 k번째 리스트의 sidoName키값 출력\n",
    "    sgg = dict_data['list'][k]['sggName']      # list키값의 k번째 리스트의 sggName키값 출력\n",
    "    umd = dict_data['list'][k]['umdName']      # list키값의 k번째 리스트의 umdName키값 출력\n",
    "    tmX = dict_data['list'][k]['tmX']          # list키값의 k번째 리스트의 tmX키값 출력\n",
    "    tmY = dict_data['list'][k]['tmY']          # list키값의 k번째 리스트의 tmY키값 출력\n",
    "    \n",
    "    print(\"- 위치: {0} {1} {2}\".format(sido, sgg, umd))   # list키값의 k번째 리스트의 시도, 구, 동 변수를 문자열에 입력\n",
    "    print(\"- k = {0}, TM 좌표(X, Y): {1}, {2}\\n\".format(k, tmX, tmY))    # 변수 k, tmX, tmY를 문자열에 입력\n",
    "                                                                         # TM좌표? 정부기관에서 사용하는 좌표명"
   ]
  },
  {
   "cell_type": "markdown",
   "metadata": {},
   "source": [
    "**[15장: 521페이지]**"
   ]
  },
  {
   "cell_type": "code",
   "execution_count": 15,
   "metadata": {},
   "outputs": [
    {
     "name": "stdout",
     "output_type": "stream",
     "text": [
      "TM 좌표(X, Y): 206440.355512, 450087.635775\n"
     ]
    }
   ],
   "source": [
    "k = 1   # 원하는 위치 선택 (출력된 여러 동 중에 하나의 동 선택하기)\n",
    "TM_X = dict_data['list'][k]['tmX'] # TM X 좌표   # list키값의 k번째 리스트의 tmX키값 선택\n",
    "TM_Y = dict_data['list'][k]['tmY'] # TM Y 좌표   # list키값의 k번째 리스트의 tmY키값 선택\n",
    "\n",
    "print(\"TM 좌표(X, Y): {0}, {1}\".format(TM_X, TM_Y))  # list키값의 k번째 리스트의 tmX, tmY키값을 문자열과 출력"
   ]
  },
  {
   "cell_type": "markdown",
   "metadata": {},
   "source": [
    "**[15장: 522 ~ 523페이지] 근접측정소 구하기**"
   ]
  },
  {
   "cell_type": "code",
   "execution_count": 16,
   "metadata": {},
   "outputs": [
    {
     "name": "stdout",
     "output_type": "stream",
     "text": [
      "해당 지역 근처에 있는 측정소의 개수: 3\n"
     ]
    }
   ],
   "source": [
    "req_url = \"http://openapi.airkorea.or.kr/openapi/services/rest/MsrstnInfoInqireSvc/getNearbyMsrstnList\"\n",
    "                                                              # 측정소정보 조회 서비스의 근접측정소 목록 조회 오퍼레이션\n",
    "\n",
    "x_value = TM_X # TM 측정방식 X좌표\n",
    "y_value = TM_Y # TM 측정방식 Y좌표\n",
    "\n",
    "num_of_rows = 10 # 한 페이지에 포함된 결과 수\n",
    "page_no = 1 # 페이지 번호\n",
    "\n",
    "output_type = \"json\"\n",
    "req_parameter = {\"ServiceKey\":API_KEY_decode, \n",
    "                 \"tmX\":x_value, \"tmY\":y_value,\n",
    "                 \"pageNo\":page_no, \"numOfRows\":num_of_rows, \n",
    "                 \"_returnType\":output_type}\n",
    "\n",
    "dict_data = requests.get(req_url, params = req_parameter).json()\n",
    "\n",
    "print(\"해당 지역 근처에 있는 측정소의 개수:\", dict_data['totalCount'])"
   ]
  },
  {
   "cell_type": "markdown",
   "metadata": {},
   "source": [
    "**[15장: 523페이지]**"
   ]
  },
  {
   "cell_type": "code",
   "execution_count": 17,
   "metadata": {},
   "outputs": [
    {
     "name": "stdout",
     "output_type": "stream",
     "text": [
      "[측정소 정보]\n",
      "- 측정소 이름:광진구, 거리:1.9[km]\n",
      "- 측정소 주소:서울 광진구 광나루로 571구의아리정수센터 \n",
      "\n",
      "- 측정소 이름:성동구, 거리:2.5[km]\n",
      "- 측정소 주소:서울 성동구 뚝섬로3길 18성수1가1동주민센터 \n",
      "\n",
      "- 측정소 이름:강변북로, 거리:3.3[km]\n",
      "- 측정소 주소:서울 성동구 강변북로 257한강사업본부 옆 \n",
      "\n"
     ]
    }
   ],
   "source": [
    "print(\"[측정소 정보]\")\n",
    "\n",
    "for k in range(dict_data['totalCount']):\n",
    "    \n",
    "    stationName = dict_data['list'][k]['stationName']\n",
    "    ditance = dict_data['list'][k]['tm']\n",
    "    addr = dict_data['list'][k]['addr']\n",
    "    \n",
    "    print(\"- 측정소 이름:{0}, 거리:{1}[km]\".format(stationName, ditance))\n",
    "    print(\"- 측정소 주소:{0} \\n\".format(addr))"
   ]
  },
  {
   "cell_type": "markdown",
   "metadata": {},
   "source": [
    "## 측정 정보 가져오기"
   ]
  },
  {
   "cell_type": "markdown",
   "metadata": {},
   "source": [
    "**[15장: 525페이지]**"
   ]
  },
  {
   "cell_type": "code",
   "execution_count": 18,
   "metadata": {},
   "outputs": [
    {
     "data": {
      "text/plain": [
       "{'_returnType': 'json',\n",
       " 'coGrade': '1',\n",
       " 'coValue': '1.5',\n",
       " 'dataTerm': '',\n",
       " 'dataTime': '2019-12-13 12:00',\n",
       " 'khaiGrade': '2',\n",
       " 'khaiValue': '85',\n",
       " 'mangName': '도로변대기',\n",
       " 'no2Grade': '2',\n",
       " 'no2Value': '0.051',\n",
       " 'numOfRows': '10',\n",
       " 'o3Grade': '1',\n",
       " 'o3Value': '0.003',\n",
       " 'pageNo': '1',\n",
       " 'pm10Grade': '2',\n",
       " 'pm10Grade1h': '2',\n",
       " 'pm10Value': '49',\n",
       " 'pm10Value24': '35',\n",
       " 'pm25Grade': '1',\n",
       " 'pm25Grade1h': '2',\n",
       " 'pm25Value': '20',\n",
       " 'pm25Value24': '15',\n",
       " 'resultCode': '',\n",
       " 'resultMsg': '',\n",
       " 'rnum': 0,\n",
       " 'serviceKey': '',\n",
       " 'sidoName': '',\n",
       " 'so2Grade': '1',\n",
       " 'so2Value': '0.003',\n",
       " 'stationCode': '',\n",
       " 'stationName': '',\n",
       " 'totalCount': '',\n",
       " 'ver': ''}"
      ]
     },
     "execution_count": 18,
     "metadata": {},
     "output_type": "execute_result"
    }
   ],
   "source": [
    "req_url = \"http://openapi.airkorea.or.kr/openapi/services/rest/ArpltnInforInqireSvc/getMsrstnAcctoRltmMesureDnsty\"\n",
    "                                                        # 대기오염 정보 조회서비스의 측정소별 실시간 측정정보 조회 오퍼레이션\n",
    "\n",
    "station_name = \"도산대로\"    # 측정소명을 변수로 지정\n",
    "data_term = \"DAILY\"          # 데이터기간을 'Daily'로 설정하고 변수로 지정\n",
    "num_of_rows = 10             # 한페이지 출력할 결과수 지정\n",
    "page_no = 1                  # 출력할 페이지수 지정\n",
    "version = 1.3                # 오퍼레이션 버젼 지정\n",
    "output_type = \"json\"         # 출력할 데이터타입을 json으로 지정\n",
    "\n",
    "req_parameter = {\"ServiceKey\": API_KEY_decode,                    # 파라미터1 : API키\n",
    "                 \"stationName\": station_name,                     # 파라미터2 : 측정소이름\n",
    "                 \"dataTerm\":data_term, \"ver\": version,            # 파라미터3,4 : 데이터기간, 오퍼레이션버젼\n",
    "                 \"pageNo\": page_no, \"numOfRows\" : num_of_rows,    # 파라미터5,6 : 출력할페이지수, 한페이지출력 결과수\n",
    "                 \"_returnType\": output_type}                      # 파라미터7 : 출력할 데이터타입\n",
    "\n",
    "dict_data = requests.get(req_url,  params = req_parameter).json()   # 해당주소의 정보 호출하기\n",
    "dict_data['list'][0]   # list키값의 첫번째 리스트값 출력\n",
    "#dict_data"
   ]
  },
  {
   "cell_type": "markdown",
   "metadata": {},
   "source": [
    "**[15장: 527페이지]**"
   ]
  },
  {
   "cell_type": "code",
   "execution_count": 19,
   "metadata": {},
   "outputs": [
    {
     "name": "stdout",
     "output_type": "stream",
     "text": [
      "[측정소(도산대로)에서 측정된 대기 오염 상태]\n",
      "- 측정 시간:2019-12-13 12:00\n",
      "- [지수] 아황산가스:등급(1),농도(0.003ppm)/일산화탄소:등급(1),농도(1.5ppm)/오존:등급(1),농도(0.003ppm)/이산화질소:등급(2),농도(0.051ppm)\n",
      "- [등급] 미세 먼지:등급(2),농도(49㎍/㎥)/ 초미세먼지:등급(2),농도(20㎍/㎥)/통합대기환경:등급(2),농도(85㎍/㎥)\n"
     ]
    }
   ],
   "source": [
    "#Grade\n",
    "dataTime = dict_data['list'][0]['dataTime']   # 해당 딕셔너리의 dataTime키값을 변수에 지정\n",
    "\n",
    "so2Grade = dict_data['list'][0]['so2Grade']   # 해당 딕셔너리의 so2Grade키값을 변수에 지정\n",
    "coGrade = dict_data['list'][0]['coGrade']     # 해당 딕셔너리의 coGrade키값을 변수에 지정\n",
    "o3Grade = dict_data['list'][0]['o3Grade']     # 해당 딕셔너리의 o3Grade키값을 변수에 지정\n",
    "no2Grade = dict_data['list'][0]['no2Grade']   # 해당 딕셔너리의 no2Grade키값을 변수에 지정\n",
    "\n",
    "pm10Grade1h = dict_data['list'][0]['pm10Grade1h']  # 해당 딕셔너리의 pm10Grade1h키값을 변수에 지정\n",
    "pm25Grade1h = dict_data['list'][0]['pm25Grade1h']  # 해당 딕셔너리의 pm25Grade1h키값을 변수에 지정\n",
    "khaiGrade = dict_data['list'][0]['khaiGrade']      # 해당 딕셔너리의 khaiGrade키값을 변수에 지정\n",
    "\n",
    "#Value\n",
    "so2Value = dict_data['list'][0]['so2Value']   # 해당 딕셔너리의 so2Grade키값을 변수에 지정\n",
    "coValue = dict_data['list'][0]['coValue']     # 해당 딕셔너리의 coGrade키값을 변수에 지정\n",
    "o3Value = dict_data['list'][0]['o3Value']     # 해당 딕셔너리의 o3Grade키값을 변수에 지정\n",
    "no2Value = dict_data['list'][0]['no2Value']   # 해당 딕셔너리의 no2Grade키값을 변수에 지정\n",
    "\n",
    "pm10Value = dict_data['list'][0]['pm10Value']  # 해당 딕셔너리의 pm10Grade1h키값을 변수에 지정\n",
    "pm25Value = dict_data['list'][0]['pm25Value']  # 해당 딕셔너리의 pm25Grade1h키값을 변수에 지정\n",
    "khaiValue = dict_data['list'][0]['khaiValue']      # 해당 딕셔너리의 khaiGrade키값을 변수에 지정\n",
    "\n",
    "#Unit\n",
    "so2Unit = 'ppm'\n",
    "coUnit = 'ppm'\n",
    "o3Unit = 'ppm'\n",
    "no2Unit = 'ppm'\n",
    "\n",
    "pm10Unit = '㎍/㎥'\n",
    "pm25Unit = '㎍/㎥'\n",
    "khaiUnit = '㎍/㎥'\n",
    "\n",
    "\n",
    "\n",
    "print(\"[측정소({0})에서 측정된 대기 오염 상태]\".format(station_name))  # 문자열에 측정소명을 입력하여 출력\n",
    "print(\"- 측정 시간:{0}\".format(dataTime))                              # 문자열에 측정시간을 입력하여 출력\n",
    "\n",
    "#line1\n",
    "print(\"- [지수] \", end='')\n",
    "print(\"아황산가스:등급({}),농도({}{})/일산화탄소:등급({}),농도({}{})/오존:등급({}),농도({}{})/이산화질소:등급({}),농도({}{})\".\n",
    "      format(so2Grade, so2Value, so2Unit, coGrade, coValue, coUnit, o3Grade, o3Value, o3Unit, no2Grade, no2Value, no2Unit))# 문자열에 각각의 변수를 입력하여 출력\n",
    "\n",
    "#line2\n",
    "print(\"- [등급] \", end='')\n",
    "print(\"미세 먼지:등급({}),농도({}{})/ 초미세먼지:등급({}),농도({}{})/통합대기환경:등급({}),농도({}{})\".\n",
    "      format(pm10Grade1h, pm10Value, pm10Unit, pm25Grade1h, pm25Value, pm25Unit, khaiGrade, khaiValue, khaiUnit)) # 문자열에 각각의 변수를 입력하여 출력"
   ]
  },
  {
   "cell_type": "markdown",
   "metadata": {},
   "source": [
    "**[15장: 527 ~ 528페이지]**"
   ]
  },
  {
   "cell_type": "code",
   "execution_count": 20,
   "metadata": {},
   "outputs": [
    {
     "name": "stdout",
     "output_type": "stream",
     "text": [
      "[측정소(도산대로)에서 측정된 대기 오염 상태]\n",
      "- 측정 시간:2019-12-13 12:00\n",
      "- 아황산가스:좋음,(0.003ppm), 일산화탄소:좋음,(1.5ppm), 오존:좋음,(0.003ppm), 이산화질소:보통,(0.051ppm)\n",
      "- 미세 먼지:보통,(49㎍/㎥), 초미세 먼지:보통,(20㎍/㎥), 통합대기환경:보통,(85㎍/㎥)\n"
     ]
    }
   ],
   "source": [
    "gradeNum2Str = {\"1\":\"좋음\", \"2\":\"보통\", \"3\":\"나쁨\", \"4\":\"매우나쁨\" }    # 등급을 문자로 변환할 딕셔너리 생성\n",
    "\n",
    "print(\"[측정소({0})에서 측정된 대기 오염 상태]\".format(station_name))   # 측정소를 입력한 문자열 출력\n",
    "print(\"- 측정 시간:{0}\".format(dataTime))                               # 측정시간을 입력한 문자열 출력\n",
    "\n",
    "print(\"- 아황산가스:{},({}{}), 일산화탄소:{},({}{}), 오존:{},({}{}), 이산화질소:{},({}{})\".\n",
    "          format(gradeNum2Str[so2Grade],so2Value, so2Unit,\n",
    "                 gradeNum2Str[coGrade], coValue, coUnit,\n",
    "                 gradeNum2Str[o3Grade], o3Value, o3Unit,\n",
    "                 gradeNum2Str[no2Grade], no2Value, no2Unit))\n",
    "\n",
    "print(\"- 미세 먼지:{},({}{}), 초미세 먼지:{},({}{}), 통합대기환경:{},({}{})\".\n",
    "          format(gradeNum2Str[pm10Grade1h], pm10Value, pm10Unit,\n",
    "                 gradeNum2Str[pm25Grade1h], pm25Value, pm25Unit,\n",
    "                 gradeNum2Str[khaiGrade], khaiValue, khaiUnit))"
   ]
  },
  {
   "cell_type": "markdown",
   "metadata": {
    "collapsed": true
   },
   "source": [
    "## 15.5 정리"
   ]
  }
 ],
 "metadata": {
  "anaconda-cloud": {},
  "kernelspec": {
   "display_name": "Python 3",
   "language": "python",
   "name": "python3"
  },
  "language_info": {
   "codemirror_mode": {
    "name": "ipython",
    "version": 3
   },
   "file_extension": ".py",
   "mimetype": "text/x-python",
   "name": "python",
   "nbconvert_exporter": "python",
   "pygments_lexer": "ipython3",
   "version": "3.6.8"
  },
  "latex_envs": {
   "LaTeX_envs_menu_present": true,
   "autoclose": false,
   "autocomplete": true,
   "bibliofile": "biblio.bib",
   "cite_by": "apalike",
   "current_citInitial": 1,
   "eqLabelWithNumbers": true,
   "eqNumInitial": 1,
   "hotkeys": {
    "equation": "Ctrl-E",
    "itemize": "Ctrl-I"
   },
   "labels_anchors": false,
   "latex_user_defs": false,
   "report_style_numbering": false,
   "user_envs_cfg": false
  },
  "nav_menu": {},
  "toc": {
   "nav_menu": {
    "height": "512px",
    "width": "252px"
   },
   "number_sections": false,
   "sideBar": true,
   "skip_h1_title": false,
   "toc_cell": false,
   "toc_position": {
    "height": "545px",
    "left": "0px",
    "right": "1078px",
    "top": "111px",
    "width": "288px"
   },
   "toc_section_display": "block",
   "toc_window_display": false
  },
  "toc_position": {
   "height": "556px",
   "left": "0px",
   "right": "1057px",
   "top": "107px",
   "width": "309px"
  }
 },
 "nbformat": 4,
 "nbformat_minor": 1
}

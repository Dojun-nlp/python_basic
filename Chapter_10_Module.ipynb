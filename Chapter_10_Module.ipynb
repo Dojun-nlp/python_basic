{
 "cells": [
  {
   "cell_type": "markdown",
   "metadata": {},
   "source": [
    "# 10장 모듈"
   ]
  },
  {
   "cell_type": "markdown",
   "metadata": {},
   "source": [
    "## 10.1 모듈을 사용하는 이유"
   ]
  },
  {
   "cell_type": "markdown",
   "metadata": {},
   "source": [
    "## 모듈 생성 및 호출"
   ]
  },
  {
   "cell_type": "markdown",
   "metadata": {},
   "source": [
    "### 모듈 만들기"
   ]
  },
  {
   "cell_type": "markdown",
   "metadata": {},
   "source": [
    "**[10장: 181페이지]**"
   ]
  },
  {
   "cell_type": "code",
   "execution_count": 1,
   "metadata": {},
   "outputs": [
    {
     "data": {
      "text/plain": [
       "'C:\\\\myPyCode\\\\@python_basic'"
      ]
     },
     "execution_count": 1,
     "metadata": {},
     "output_type": "execute_result"
    }
   ],
   "source": [
    "pwd"
   ]
  },
  {
   "cell_type": "code",
   "execution_count": 2,
   "metadata": {},
   "outputs": [
    {
     "name": "stdout",
     "output_type": "stream",
     "text": [
      "Overwriting C:\\myPyCode\\my_first_module.py\n"
     ]
    }
   ],
   "source": [
    "%%writefile C:\\myPyCode\\my_first_module.py\n",
    "# File name: my_first_module.py\n",
    "\n",
    "def my_function():\n",
    "    print(\"This is my first module.\") "
   ]
  },
  {
   "cell_type": "markdown",
   "metadata": {},
   "source": [
    "#### 매직코멘드는 모듈을 생성할 때 사용하고, 포함된 한글 문자는 깨져서 출력됨"
   ]
  },
  {
   "cell_type": "markdown",
   "metadata": {},
   "source": [
    "**[10장: 182페이지]**"
   ]
  },
  {
   "cell_type": "code",
   "execution_count": 3,
   "metadata": {
    "scrolled": true
   },
   "outputs": [
    {
     "name": "stdout",
     "output_type": "stream",
     "text": [
      "# File name: my_first_module.py\n",
      "\n",
      "def my_function():\n",
      "    print(\"This is my first module.\") \n"
     ]
    }
   ],
   "source": [
    "!type C:\\myPyCode\\my_first_module.py"
   ]
  },
  {
   "cell_type": "code",
   "execution_count": 4,
   "metadata": {},
   "outputs": [
    {
     "name": "stdout",
     "output_type": "stream",
     "text": [
      "# File name: my_first_module.py\n",
      "\n",
      "def my_function():\n",
      "    print(\"This is my first module.\") \n",
      "\n"
     ]
    }
   ],
   "source": [
    "with open('C:\\myPyCode\\my_first_module.py') as f: # (1) 파일 열기\n",
    "    file_string = f.read()                        # (2) 파일 읽기\n",
    "    print(file_string)"
   ]
  },
  {
   "cell_type": "markdown",
   "metadata": {},
   "source": [
    "### 모듈 불러오기"
   ]
  },
  {
   "cell_type": "markdown",
   "metadata": {},
   "source": [
    "**[10장: 182페이지]**"
   ]
  },
  {
   "cell_type": "code",
   "execution_count": 5,
   "metadata": {},
   "outputs": [
    {
     "name": "stdout",
     "output_type": "stream",
     "text": [
      "C:\\myPyCode\n"
     ]
    }
   ],
   "source": [
    "cd C:\\myPyCode"
   ]
  },
  {
   "cell_type": "markdown",
   "metadata": {},
   "source": [
    "**[10장: 183페이지]**"
   ]
  },
  {
   "cell_type": "code",
   "execution_count": 6,
   "metadata": {},
   "outputs": [
    {
     "name": "stdout",
     "output_type": "stream",
     "text": [
      "This is my first module.\n"
     ]
    }
   ],
   "source": [
    "import my_first_module   # 모듈을 불러와서\n",
    "\n",
    "my_first_module.my_function()   # 모듈 안의 함수를 실행"
   ]
  },
  {
   "cell_type": "markdown",
   "metadata": {},
   "source": [
    "**[10장: 183페이지]**\n",
    "- PYTHONPATH가 잘 설정됐는지 확인"
   ]
  },
  {
   "cell_type": "code",
   "execution_count": 7,
   "metadata": {},
   "outputs": [
    {
     "name": "stdout",
     "output_type": "stream",
     "text": [
      "C:\\myPyCode;C:\\myPyCode\\modules;C:\\myPyCode\\packages\n"
     ]
    }
   ],
   "source": [
    "!echo %PYTHONPATH%"
   ]
  },
  {
   "cell_type": "markdown",
   "metadata": {},
   "source": [
    "**[10장: 184페이지]**"
   ]
  },
  {
   "cell_type": "code",
   "execution_count": 8,
   "metadata": {
    "scrolled": false
   },
   "outputs": [
    {
     "name": "stdout",
     "output_type": "stream",
     "text": [
      "Overwriting C:\\myPyCode\\modules\\my_area.py\n"
     ]
    }
   ],
   "source": [
    "%%writefile C:\\myPyCode\\modules\\my_area.py\n",
    "# File name: my_area.py\n",
    "\n",
    "PI = 3.14\n",
    "def square_area(a): # 정사각형의 넓이 반환\n",
    "    return a ** 2\n",
    "\n",
    "def circle_area(r): # 원의 넓이 반환\n",
    "    return PI * r ** 2"
   ]
  },
  {
   "cell_type": "markdown",
   "metadata": {},
   "source": [
    "**[10장: 184페이지]**"
   ]
  },
  {
   "cell_type": "code",
   "execution_count": 9,
   "metadata": {},
   "outputs": [
    {
     "name": "stdout",
     "output_type": "stream",
     "text": [
      "C:\\myPyCode\n"
     ]
    }
   ],
   "source": [
    "cd C:\\myPyCode"
   ]
  },
  {
   "cell_type": "markdown",
   "metadata": {},
   "source": [
    "**[10장: 184페이지]**"
   ]
  },
  {
   "cell_type": "code",
   "execution_count": 10,
   "metadata": {},
   "outputs": [
    {
     "name": "stdout",
     "output_type": "stream",
     "text": [
      "pi = 3.14\n",
      "square area = 25\n",
      "circle area = 12.56\n"
     ]
    }
   ],
   "source": [
    "import my_area    # 모듈 불러오기\n",
    "\n",
    "print('pi =', my_area.PI) # 모듈의 변수 이용\n",
    "print('square area =', my_area.square_area(5)) # 모듈의 함수 이용      \n",
    "print('circle area =', my_area.circle_area(2))"
   ]
  },
  {
   "cell_type": "markdown",
   "metadata": {},
   "source": [
    "**[10장: 185페이지]**"
   ]
  },
  {
   "cell_type": "code",
   "execution_count": 11,
   "metadata": {},
   "outputs": [
    {
     "data": {
      "text/plain": [
       "['PI',\n",
       " '__builtins__',\n",
       " '__cached__',\n",
       " '__doc__',\n",
       " '__file__',\n",
       " '__loader__',\n",
       " '__name__',\n",
       " '__package__',\n",
       " '__spec__',\n",
       " 'circle_area',\n",
       " 'square_area']"
      ]
     },
     "execution_count": 11,
     "metadata": {},
     "output_type": "execute_result"
    }
   ],
   "source": [
    "dir(my_area)   # 불러온 모듈에서 사용가능한 변수, 함수, 클래스"
   ]
  },
  {
   "cell_type": "code",
   "execution_count": 12,
   "metadata": {},
   "outputs": [
    {
     "data": {
      "text/plain": [
       "'C:\\\\myPyCode\\\\modules\\\\my_area.py'"
      ]
     },
     "execution_count": 12,
     "metadata": {},
     "output_type": "execute_result"
    }
   ],
   "source": [
    "my_area.__file__"
   ]
  },
  {
   "cell_type": "code",
   "execution_count": 13,
   "metadata": {},
   "outputs": [
    {
     "name": "stdout",
     "output_type": "stream",
     "text": [
      "Note: you may need to restart the kernel to use updated packages.\n"
     ]
    },
    {
     "name": "stderr",
     "output_type": "stream",
     "text": [
      "'C:\\Users\\Seunggeun'은(는) 내부 또는 외부 명령, 실행할 수 있는 프로그램, 또는\n",
      "배치 파일이 아닙니다.\n"
     ]
    }
   ],
   "source": [
    "pip show my_area"
   ]
  },
  {
   "cell_type": "markdown",
   "metadata": {},
   "source": [
    "### 모듈을 불러오는 다른 형식"
   ]
  },
  {
   "cell_type": "markdown",
   "metadata": {},
   "source": [
    "#### 모듈의 내용 바로 선언"
   ]
  },
  {
   "cell_type": "markdown",
   "metadata": {},
   "source": [
    "**[10장: 186페이지]**"
   ]
  },
  {
   "cell_type": "code",
   "execution_count": 14,
   "metadata": {
    "scrolled": true
   },
   "outputs": [
    {
     "name": "stdout",
     "output_type": "stream",
     "text": [
      "pi = 3.14\n"
     ]
    }
   ],
   "source": [
    "from my_area import PI # 모듈의 변수 바로 불러오기\n",
    "\n",
    "print('pi =', PI) # 모듈의 변수 이용"
   ]
  },
  {
   "cell_type": "markdown",
   "metadata": {},
   "source": [
    "**[10장: 186페이지]**"
   ]
  },
  {
   "cell_type": "code",
   "execution_count": 15,
   "metadata": {},
   "outputs": [
    {
     "name": "stdout",
     "output_type": "stream",
     "text": [
      "square area = 25\n",
      "circle area = 12.56\n"
     ]
    }
   ],
   "source": [
    "from my_area import square_area\n",
    "from my_area import circle_area   # 모듈의 함수를 직접 호출\n",
    "\n",
    "print('square area =', square_area(5)) # 모듈의 함수 직접 사용 (모듈명없이)      \n",
    "print('circle area =', circle_area(2))   "
   ]
  },
  {
   "cell_type": "markdown",
   "metadata": {},
   "source": [
    "**[10장: 186페이지]**"
   ]
  },
  {
   "cell_type": "code",
   "execution_count": 16,
   "metadata": {},
   "outputs": [
    {
     "name": "stdout",
     "output_type": "stream",
     "text": [
      "pi = 3.14\n",
      "square area = 25\n",
      "circle area = 12.56\n"
     ]
    }
   ],
   "source": [
    "from my_area import PI, square_area, circle_area\n",
    "\n",
    "print('pi =', PI) # 모듈의 변수 직접 사용 (변수명 없이)\n",
    "print('square area =', square_area(5)) # 모듈의 함수 직접 사용      \n",
    "print('circle area =', circle_area(2))  "
   ]
  },
  {
   "cell_type": "markdown",
   "metadata": {},
   "source": [
    "**[10장: 187페이지]**"
   ]
  },
  {
   "cell_type": "code",
   "execution_count": 17,
   "metadata": {},
   "outputs": [
    {
     "name": "stdout",
     "output_type": "stream",
     "text": [
      "pi = 3.14\n",
      "square area = 25\n",
      "circle area = 12.56\n"
     ]
    }
   ],
   "source": [
    "from my_area import *    # 모듈명 없이 모든 변수, 함수, 클래스 이용 가능, 하지만 여러 모듈 이용시 주의\n",
    "\n",
    "print('pi =', PI) # 모듈의 변수 이용\n",
    "print('square area =', square_area(5)) # 모듈의 함수 이용\n",
    "print('circle area =', circle_area(2)) "
   ]
  },
  {
   "cell_type": "markdown",
   "metadata": {},
   "source": [
    "**[10장: 187 ~ 188페이지]**"
   ]
  },
  {
   "cell_type": "code",
   "execution_count": 18,
   "metadata": {},
   "outputs": [
    {
     "name": "stdout",
     "output_type": "stream",
     "text": [
      "Overwriting C:\\myPyCode\\modules\\my_module1.py\n"
     ]
    }
   ],
   "source": [
    "%%writefile C:\\myPyCode\\modules\\my_module1.py\n",
    "# File name: my_module1.py                     # my_module1.py 생성\n",
    "\n",
    "def func1():\n",
    "    print(\"func1 in  my_module1 \")\n",
    "\n",
    "def func2():\n",
    "    print(\"func2 in  my_module1 \")"
   ]
  },
  {
   "cell_type": "code",
   "execution_count": 19,
   "metadata": {},
   "outputs": [
    {
     "name": "stdout",
     "output_type": "stream",
     "text": [
      "Overwriting C:\\myPyCode\\modules\\my_module2.py\n"
     ]
    }
   ],
   "source": [
    "%%writefile C:\\myPyCode\\modules\\my_module2.py\n",
    "# File name: my_module2.py                     # my_module2.py 생성\n",
    "\n",
    "def func2():                             # module1의 함수와 중복되는 이름\n",
    "    print(\"func2 in  my_module2 \")\n",
    "\n",
    "def func3():\n",
    "    print(\"func3 in  my_module2 \")"
   ]
  },
  {
   "cell_type": "markdown",
   "metadata": {},
   "source": [
    "**[10장: 188페이지]**"
   ]
  },
  {
   "cell_type": "code",
   "execution_count": 20,
   "metadata": {},
   "outputs": [
    {
     "name": "stdout",
     "output_type": "stream",
     "text": [
      "func1 in  my_module1 \n",
      "func2 in  my_module2 \n",
      "func3 in  my_module2 \n"
     ]
    }
   ],
   "source": [
    "from my_module1 import *      # 모듈 두개의 모든 함수, 변수를 불러옴\n",
    "from my_module2 import *\n",
    "\n",
    "func1()\n",
    "func2()       #  나중에 호출된 모듈2의 함수가 실행\n",
    "func3()"
   ]
  },
  {
   "cell_type": "markdown",
   "metadata": {},
   "source": [
    "**[10장: 188페이지]**"
   ]
  },
  {
   "cell_type": "code",
   "execution_count": 21,
   "metadata": {},
   "outputs": [
    {
     "name": "stdout",
     "output_type": "stream",
     "text": [
      "func1 in  my_module1 \n",
      "func2 in  my_module1 \n",
      "func3 in  my_module2 \n"
     ]
    }
   ],
   "source": [
    "from my_module2 import *\n",
    "from my_module1 import *\n",
    "\n",
    "func1()\n",
    "func2()     #  나중에 호출된 모듈1의 함수가 실행\n",
    "func3()"
   ]
  },
  {
   "cell_type": "markdown",
   "metadata": {},
   "source": [
    "#### 모듈명을 별명으로 선언"
   ]
  },
  {
   "cell_type": "markdown",
   "metadata": {},
   "source": [
    "**[10장: 189페이지]**"
   ]
  },
  {
   "cell_type": "code",
   "execution_count": 22,
   "metadata": {},
   "outputs": [
    {
     "name": "stdout",
     "output_type": "stream",
     "text": [
      "pi = 3.14\n",
      "square area = 25\n",
      "circle area = 12.56\n"
     ]
    }
   ],
   "source": [
    "import my_area as area # 모듈명(my_area)에 별명(area)을 붙임 \n",
    "\n",
    "print('pi =', area.PI) # 모듈명 대신 별명 이용\n",
    "print('square area =', area.square_area(5))     \n",
    "print('circle area =', area.circle_area(2))"
   ]
  },
  {
   "cell_type": "markdown",
   "metadata": {},
   "source": [
    "**[10장: 190페이지]**"
   ]
  },
  {
   "cell_type": "code",
   "execution_count": 24,
   "metadata": {},
   "outputs": [
    {
     "name": "stdout",
     "output_type": "stream",
     "text": [
      "pi = 3.14\n",
      "square area = 25\n",
      "circle area = 12.56\n"
     ]
    }
   ],
   "source": [
    "from my_area import PI as pi   # 변수를 별명으로 호출\n",
    "from my_area import square_area as square   # 함수를 별명으로 호출\n",
    "from my_area import circle_area as circle\n",
    "\n",
    "print('pi =', pi) # 모듈 변수의 별명 이용\n",
    "print('square area =', square(5)) # 모듈 함수의 별명 이용\n",
    "print('circle area =', circle(2))  "
   ]
  },
  {
   "cell_type": "markdown",
   "metadata": {},
   "source": [
    "## 10.3 모듈을 직접 실행하는 경우와 임포트한 후 실행하는 경우 구분하기"
   ]
  },
  {
   "cell_type": "markdown",
   "metadata": {},
   "source": [
    "**[10장: 190페이지]**\n",
    "- %%writefile 파일위치 -> 파일 작성\n",
    "- %run 파일위치 -> 파일 실행\n",
    "- !type 파일위치 -> 파일 열기\n",
    "- with open(파일위치) as f: <br/>\n",
    "    text = f.read() <br/>\n",
    "    print(text)"
   ]
  },
  {
   "cell_type": "code",
   "execution_count": 31,
   "metadata": {},
   "outputs": [
    {
     "name": "stdout",
     "output_type": "stream",
     "text": [
      "Overwriting C:\\myPyCode\\modules\\my_module_test1.py\n"
     ]
    }
   ],
   "source": [
    "%%writefile C:\\myPyCode\\modules\\my_module_test1.py\n",
    "# File name: my_module_test1.py      # 모듈을 바로 생성\n",
    "\n",
    "def func(a):\n",
    "    print(\"입력 숫자:\", a)\n",
    "    \n",
    "func(3)"
   ]
  },
  {
   "cell_type": "markdown",
   "metadata": {},
   "source": [
    "**[10장: 191페이지]**"
   ]
  },
  {
   "cell_type": "code",
   "execution_count": 2,
   "metadata": {},
   "outputs": [
    {
     "name": "stdout",
     "output_type": "stream",
     "text": [
      "입력 숫자: 3\n"
     ]
    }
   ],
   "source": [
    "%run C:\\myPyCode\\modules\\my_module_test1.py"
   ]
  },
  {
   "cell_type": "markdown",
   "metadata": {},
   "source": [
    "**[10장: 191페이지]**"
   ]
  },
  {
   "cell_type": "code",
   "execution_count": 1,
   "metadata": {},
   "outputs": [
    {
     "name": "stdout",
     "output_type": "stream",
     "text": [
      "입력 숫자: 3\n"
     ]
    }
   ],
   "source": [
    "import my_module_test1"
   ]
  },
  {
   "cell_type": "markdown",
   "metadata": {},
   "source": [
    "**[10장: 192페이지]**\n",
    "- 직접호출(%run)과 import호출 구분하기"
   ]
  },
  {
   "cell_type": "code",
   "execution_count": 3,
   "metadata": {},
   "outputs": [
    {
     "name": "stdout",
     "output_type": "stream",
     "text": [
      "Overwriting C:\\myPyCode\\modules\\my_module_test2.py\n"
     ]
    }
   ],
   "source": [
    "%%writefile C:\\myPyCode\\modules\\my_module_test2.py\n",
    "# File name: my_module_test2.py\n",
    "\n",
    "def func(a):\n",
    "    print(\"입력 숫자:\",a)\n",
    "\n",
    "if __name__ == \"__main__\":       # import 호출시 실행되지 않도록 장치를 만듦\n",
    "    print(\"모듈을 직접 실행\")\n",
    "    func(3)\n",
    "    func(4)"
   ]
  },
  {
   "cell_type": "markdown",
   "metadata": {},
   "source": [
    "**[10장: 192페이지]**\n",
    "- %run 커멘드로 직접 실행"
   ]
  },
  {
   "cell_type": "code",
   "execution_count": 4,
   "metadata": {},
   "outputs": [
    {
     "name": "stdout",
     "output_type": "stream",
     "text": [
      "모듈을 직접 실행\n",
      "입력 숫자: 3\n",
      "입력 숫자: 4\n"
     ]
    }
   ],
   "source": [
    "%run C:\\myPyCode\\modules\\my_module_test2.py"
   ]
  },
  {
   "cell_type": "markdown",
   "metadata": {},
   "source": [
    "**[10장: 192페이지]**\n",
    "- import로 간접 실행 (실행 위치가 다르기 때문에 실행되지 않음)"
   ]
  },
  {
   "cell_type": "code",
   "execution_count": 5,
   "metadata": {},
   "outputs": [],
   "source": [
    "import my_module_test2"
   ]
  },
  {
   "cell_type": "markdown",
   "metadata": {},
   "source": [
    "**[10장: 193페이지]**"
   ]
  },
  {
   "cell_type": "code",
   "execution_count": 6,
   "metadata": {},
   "outputs": [
    {
     "name": "stdout",
     "output_type": "stream",
     "text": [
      "Overwriting C:\\myPyCode\\modules\\my_module_test3.py\n"
     ]
    }
   ],
   "source": [
    "%%writefile C:\\myPyCode\\modules\\my_module_test3.py\n",
    "# File name: my_module_test3.py\n",
    "\n",
    "def func(a):\n",
    "    print(\"입력 숫자:\",a)\n",
    "\n",
    "if __name__ == \"__main__\":\n",
    "    print(\"모듈을 직접 실행\")\n",
    "    func(3)\n",
    "    func(4)\n",
    "else:\n",
    "    print(\"모듈을 임포트해서 실행\")"
   ]
  },
  {
   "cell_type": "markdown",
   "metadata": {},
   "source": [
    "**[10장: 193페이지]**"
   ]
  },
  {
   "cell_type": "code",
   "execution_count": 7,
   "metadata": {},
   "outputs": [
    {
     "name": "stdout",
     "output_type": "stream",
     "text": [
      "모듈을 직접 실행\n",
      "입력 숫자: 3\n",
      "입력 숫자: 4\n"
     ]
    }
   ],
   "source": [
    "%run C:\\myPyCode\\modules\\my_module_test3.py"
   ]
  },
  {
   "cell_type": "markdown",
   "metadata": {},
   "source": [
    "**[10장: 194페이지]**"
   ]
  },
  {
   "cell_type": "code",
   "execution_count": 8,
   "metadata": {},
   "outputs": [
    {
     "name": "stdout",
     "output_type": "stream",
     "text": [
      "모듈을 임포트해서 실행\n"
     ]
    }
   ],
   "source": [
    "import my_module_test3"
   ]
  },
  {
   "cell_type": "markdown",
   "metadata": {},
   "source": [
    "## 10.4 내장 모듈"
   ]
  },
  {
   "cell_type": "markdown",
   "metadata": {},
   "source": [
    "### 난수 발생 모듈"
   ]
  },
  {
   "cell_type": "markdown",
   "metadata": {},
   "source": [
    "**[10장: 195페이지]**"
   ]
  },
  {
   "cell_type": "code",
   "execution_count": 49,
   "metadata": {},
   "outputs": [
    {
     "data": {
      "text/plain": [
       "0.5868707110364813"
      ]
     },
     "execution_count": 49,
     "metadata": {},
     "output_type": "execute_result"
    }
   ],
   "source": [
    "import random\n",
    "\n",
    "random.random()"
   ]
  },
  {
   "cell_type": "markdown",
   "metadata": {},
   "source": [
    "**[추가 연습]**\n",
    "- random()함수의 생성 값의 range 확인하기"
   ]
  },
  {
   "cell_type": "code",
   "execution_count": 88,
   "metadata": {},
   "outputs": [],
   "source": [
    "ls_random = []\n",
    "\n",
    "for _ in range(100000):\n",
    "    ls_random.append(random.random())"
   ]
  },
  {
   "cell_type": "code",
   "execution_count": 89,
   "metadata": {},
   "outputs": [
    {
     "data": {
      "text/plain": [
       "100000"
      ]
     },
     "execution_count": 89,
     "metadata": {},
     "output_type": "execute_result"
    }
   ],
   "source": [
    "len(ls_random)"
   ]
  },
  {
   "cell_type": "code",
   "execution_count": 90,
   "metadata": {},
   "outputs": [],
   "source": [
    "ls_count = []\n",
    "\n",
    "for num in ls_random:\n",
    "    if num <= 0.1:\n",
    "        ls_count.append(0.1)\n",
    "    elif num <= 0.2:\n",
    "        ls_count.append(0.2)\n",
    "    elif num <= 0.3:\n",
    "        ls_count.append(0.3)\n",
    "    elif num <= 0.4:\n",
    "        ls_count.append(0.4)\n",
    "    elif num <= 0.5:\n",
    "        ls_count.append(0.5)\n",
    "    elif num <= 0.6:\n",
    "        ls_count.append(0.6)\n",
    "    elif num <= 0.7:\n",
    "        ls_count.append(0.7)\n",
    "    elif num <= 0.8:\n",
    "        ls_count.append(0.8)\n",
    "    elif num <= 0.9:\n",
    "        ls_count.append(0.9)\n",
    "    else:\n",
    "        ls_count.append(1.0)"
   ]
  },
  {
   "cell_type": "code",
   "execution_count": 91,
   "metadata": {},
   "outputs": [
    {
     "name": "stdout",
     "output_type": "stream",
     "text": [
      "9974\n",
      "10076\n",
      "10066\n",
      "9940\n",
      "10232\n",
      "9841\n",
      "10073\n",
      "9973\n",
      "9899\n",
      "9926\n"
     ]
    }
   ],
   "source": [
    "print(ls_count.count(0.1))\n",
    "print(ls_count.count(0.2))\n",
    "print(ls_count.count(0.3))\n",
    "print(ls_count.count(0.4))\n",
    "print(ls_count.count(0.5))\n",
    "print(ls_count.count(0.6))\n",
    "print(ls_count.count(0.7))\n",
    "print(ls_count.count(0.8))\n",
    "print(ls_count.count(0.9))\n",
    "print(ls_count.count(1.0))"
   ]
  },
  {
   "cell_type": "code",
   "execution_count": 92,
   "metadata": {},
   "outputs": [],
   "source": [
    "ls_count_num = []\n",
    "\n",
    "ls_count_num.append(ls_count.count(0.1))\n",
    "ls_count_num.append(ls_count.count(0.2))\n",
    "ls_count_num.append(ls_count.count(0.3))\n",
    "ls_count_num.append(ls_count.count(0.4))\n",
    "ls_count_num.append(ls_count.count(0.5))\n",
    "ls_count_num.append(ls_count.count(0.6))\n",
    "ls_count_num.append(ls_count.count(0.7))\n",
    "ls_count_num.append(ls_count.count(0.8))\n",
    "ls_count_num.append(ls_count.count(0.9))\n",
    "ls_count_num.append(ls_count.count(1.0))"
   ]
  },
  {
   "cell_type": "code",
   "execution_count": 93,
   "metadata": {},
   "outputs": [
    {
     "name": "stdout",
     "output_type": "stream",
     "text": [
      "[9974, 10076, 10066, 9940, 10232, 9841, 10073, 9973, 9899, 9926]\n"
     ]
    }
   ],
   "source": [
    "print(ls_count_num)"
   ]
  },
  {
   "cell_type": "code",
   "execution_count": 94,
   "metadata": {},
   "outputs": [
    {
     "name": "stdout",
     "output_type": "stream",
     "text": [
      "오차범위: +- 0.391 %\n"
     ]
    }
   ],
   "source": [
    "print('오차범위: +-', ((max(ls_count_num) - min(ls_count_num)) / len(ls_random)) *100, '%')"
   ]
  },
  {
   "cell_type": "markdown",
   "metadata": {},
   "source": [
    "**[10장: 195페이지]**"
   ]
  },
  {
   "cell_type": "code",
   "execution_count": 95,
   "metadata": {},
   "outputs": [
    {
     "name": "stdout",
     "output_type": "stream",
     "text": [
      "주사위 두 개의 숫자: 4, 2\n"
     ]
    }
   ],
   "source": [
    "import random\n",
    "\n",
    "dice1 = random.randint(1,6) # 임의의 정수가 생성됨\n",
    "dice2 = random.randint(1,6) # 임의의 정수가 생성됨\n",
    "print('주사위 두 개의 숫자: {0}, {1}'.format(dice1, dice2))"
   ]
  },
  {
   "cell_type": "markdown",
   "metadata": {},
   "source": [
    "**[10장: 196페이지]**"
   ]
  },
  {
   "cell_type": "code",
   "execution_count": 97,
   "metadata": {},
   "outputs": [
    {
     "data": {
      "text/plain": [
       "8"
      ]
     },
     "execution_count": 97,
     "metadata": {},
     "output_type": "execute_result"
    }
   ],
   "source": [
    "import random\n",
    "\n",
    "random.randrange(0,11,2)"
   ]
  },
  {
   "cell_type": "markdown",
   "metadata": {},
   "source": [
    "**[10장: 196페이지]**"
   ]
  },
  {
   "cell_type": "code",
   "execution_count": 98,
   "metadata": {},
   "outputs": [
    {
     "name": "stdout",
     "output_type": "stream",
     "text": [
      "num1: 5, num2: 60\n"
     ]
    }
   ],
   "source": [
    "import random\n",
    "\n",
    "num1 = random.randrange(1, 10, 2) # 1 ~ 9(10-1) 중 임의의 홀수 선택\n",
    "num2 = random.randrange(0,100,10) # 0 ~ 99(100-1) 중 임의의10의 단위 숫자 선택\n",
    "print('num1: {0}, num2: {1}'.format(num1,num2))"
   ]
  },
  {
   "cell_type": "markdown",
   "metadata": {},
   "source": [
    "**[10장: 196페이지]**"
   ]
  },
  {
   "cell_type": "code",
   "execution_count": 103,
   "metadata": {},
   "outputs": [
    {
     "data": {
      "text/plain": [
       "'피자'"
      ]
     },
     "execution_count": 103,
     "metadata": {},
     "output_type": "execute_result"
    }
   ],
   "source": [
    "import random\n",
    "\n",
    "menu = ['비빔밥', '된장찌개', '볶음밥', '불고기', '스파게티', '피자', '탕수육']\n",
    "random.choice(menu)"
   ]
  },
  {
   "cell_type": "markdown",
   "metadata": {},
   "source": [
    "**[10장: 197페이지]**"
   ]
  },
  {
   "cell_type": "code",
   "execution_count": 127,
   "metadata": {},
   "outputs": [
    {
     "data": {
      "text/plain": [
       "['탕수육', '불고기']"
      ]
     },
     "execution_count": 127,
     "metadata": {},
     "output_type": "execute_result"
    }
   ],
   "source": [
    "import random\n",
    "\n",
    "random.sample(menu, 2) # 모집단에서 두 개의 인자 선택"
   ]
  },
  {
   "cell_type": "markdown",
   "metadata": {},
   "source": [
    "### 날짜 및 시간 관련 처리 모듈"
   ]
  },
  {
   "cell_type": "markdown",
   "metadata": {},
   "source": [
    "**[10장: 198페이지]**"
   ]
  },
  {
   "cell_type": "code",
   "execution_count": 131,
   "metadata": {},
   "outputs": [
    {
     "name": "stdout",
     "output_type": "stream",
     "text": [
      "2019-03-01\n"
     ]
    },
    {
     "data": {
      "text/plain": [
       "datetime.date"
      ]
     },
     "execution_count": 131,
     "metadata": {},
     "output_type": "execute_result"
    }
   ],
   "source": [
    "import datetime\n",
    "\n",
    "set_day = datetime.date(2019, 3, 1)\n",
    "print(set_day)\n",
    "type(set_day)"
   ]
  },
  {
   "cell_type": "markdown",
   "metadata": {},
   "source": [
    "**[10장: 198페이지]**"
   ]
  },
  {
   "cell_type": "code",
   "execution_count": 134,
   "metadata": {},
   "outputs": [
    {
     "name": "stdout",
     "output_type": "stream",
     "text": [
      "2019/3/1\n"
     ]
    }
   ],
   "source": [
    "print('{0}/{1}/{2}'.format(set_day.year,set_day.month,set_day.day ))"
   ]
  },
  {
   "cell_type": "code",
   "execution_count": 136,
   "metadata": {},
   "outputs": [
    {
     "data": {
      "text/plain": [
       "['__add__',\n",
       " '__class__',\n",
       " '__delattr__',\n",
       " '__dir__',\n",
       " '__doc__',\n",
       " '__eq__',\n",
       " '__format__',\n",
       " '__ge__',\n",
       " '__getattribute__',\n",
       " '__gt__',\n",
       " '__hash__',\n",
       " '__init__',\n",
       " '__init_subclass__',\n",
       " '__le__',\n",
       " '__lt__',\n",
       " '__ne__',\n",
       " '__new__',\n",
       " '__radd__',\n",
       " '__reduce__',\n",
       " '__reduce_ex__',\n",
       " '__repr__',\n",
       " '__rsub__',\n",
       " '__setattr__',\n",
       " '__sizeof__',\n",
       " '__str__',\n",
       " '__sub__',\n",
       " '__subclasshook__',\n",
       " 'ctime',\n",
       " 'day',\n",
       " 'fromordinal',\n",
       " 'fromtimestamp',\n",
       " 'isocalendar',\n",
       " 'isoformat',\n",
       " 'isoweekday',\n",
       " 'max',\n",
       " 'min',\n",
       " 'month',\n",
       " 'replace',\n",
       " 'resolution',\n",
       " 'strftime',\n",
       " 'timetuple',\n",
       " 'today',\n",
       " 'toordinal',\n",
       " 'weekday',\n",
       " 'year']"
      ]
     },
     "execution_count": 136,
     "metadata": {},
     "output_type": "execute_result"
    }
   ],
   "source": [
    "dir(set_day)"
   ]
  },
  {
   "cell_type": "markdown",
   "metadata": {},
   "source": [
    "**[10장: 198 ~ 199페이지]**"
   ]
  },
  {
   "cell_type": "code",
   "execution_count": 137,
   "metadata": {},
   "outputs": [
    {
     "name": "stdout",
     "output_type": "stream",
     "text": [
      "100 days, 0:00:00\n"
     ]
    }
   ],
   "source": [
    "import datetime\n",
    "\n",
    "day1 = datetime.date(2019, 4, 1)\n",
    "day2 = datetime.date(2019, 7, 10)\n",
    "diff_day = day2 - day1\n",
    "print(diff_day)"
   ]
  },
  {
   "cell_type": "markdown",
   "metadata": {},
   "source": [
    "**[10장: 199페이지]**"
   ]
  },
  {
   "cell_type": "code",
   "execution_count": 138,
   "metadata": {},
   "outputs": [
    {
     "data": {
      "text/plain": [
       "datetime.date"
      ]
     },
     "execution_count": 138,
     "metadata": {},
     "output_type": "execute_result"
    }
   ],
   "source": [
    "type(day1)"
   ]
  },
  {
   "cell_type": "code",
   "execution_count": 139,
   "metadata": {},
   "outputs": [
    {
     "data": {
      "text/plain": [
       "datetime.timedelta"
      ]
     },
     "execution_count": 139,
     "metadata": {},
     "output_type": "execute_result"
    }
   ],
   "source": [
    "type(diff_day)"
   ]
  },
  {
   "cell_type": "markdown",
   "metadata": {},
   "source": [
    "**[10장: 199페이지]**"
   ]
  },
  {
   "cell_type": "code",
   "execution_count": 140,
   "metadata": {},
   "outputs": [
    {
     "name": "stdout",
     "output_type": "stream",
     "text": [
      "** 지정된 두 날짜의 차이는 100일입니다. **\n"
     ]
    }
   ],
   "source": [
    "print(\"** 지정된 두 날짜의 차이는 {}일입니다. **\".format(diff_day.days))"
   ]
  },
  {
   "cell_type": "markdown",
   "metadata": {},
   "source": [
    "**[10장: 199페이지]**"
   ]
  },
  {
   "cell_type": "code",
   "execution_count": 142,
   "metadata": {},
   "outputs": [
    {
     "name": "stdout",
     "output_type": "stream",
     "text": [
      "2019-12-08\n"
     ]
    }
   ],
   "source": [
    "import datetime\n",
    "\n",
    "print(datetime.date.today())    # datetime 라이브러리의 date모듈의 today()메소드를 실행"
   ]
  },
  {
   "cell_type": "markdown",
   "metadata": {},
   "source": [
    "**[10장: 200페이지]**"
   ]
  },
  {
   "cell_type": "code",
   "execution_count": 144,
   "metadata": {},
   "outputs": [
    {
     "name": "stdout",
     "output_type": "stream",
     "text": [
      "23 days, 0:00:00\n"
     ]
    }
   ],
   "source": [
    "import datetime\n",
    "\n",
    "today = datetime.date.today()  # today()메소드의 값을 변수에 저장\n",
    "special_day = datetime.date(2019, 12, 31)    # 지정일을 변수에 저장\n",
    "print(special_day - today)   # 지정일과 오늘을 빼서 d-day를 계산"
   ]
  },
  {
   "cell_type": "markdown",
   "metadata": {},
   "source": [
    "**[10장: 200페이지]**"
   ]
  },
  {
   "cell_type": "code",
   "execution_count": 145,
   "metadata": {},
   "outputs": [
    {
     "name": "stdout",
     "output_type": "stream",
     "text": [
      "15:30:45\n"
     ]
    }
   ],
   "source": [
    "import datetime\n",
    "\n",
    "set_time = datetime.time(15, 30, 45)    # time 클래스로 만든 객체를 변수에 저장\n",
    "print(set_time)"
   ]
  },
  {
   "cell_type": "markdown",
   "metadata": {},
   "source": [
    "**[10장: 200페이지]**"
   ]
  },
  {
   "cell_type": "code",
   "execution_count": 148,
   "metadata": {},
   "outputs": [
    {
     "name": "stdout",
     "output_type": "stream",
     "text": [
      "15시 30분 45초\n"
     ]
    }
   ],
   "source": [
    "print('{0}시 {1}분 {2}초'.format(set_time.hour,set_time.minute,set_time.second ))"
   ]
  },
  {
   "cell_type": "markdown",
   "metadata": {},
   "source": [
    "**[10장: 200페이지]**"
   ]
  },
  {
   "cell_type": "code",
   "execution_count": 150,
   "metadata": {},
   "outputs": [
    {
     "name": "stdout",
     "output_type": "stream",
     "text": [
      "2018-10-09 10:20:00\n"
     ]
    }
   ],
   "source": [
    "import datetime\n",
    "\n",
    "set_dt = datetime.datetime(2018, 10, 9, 10, 20, 0)  # datetime 클래스로 만든 객체를 변수에 저장\n",
    "print(set_dt)"
   ]
  },
  {
   "cell_type": "markdown",
   "metadata": {},
   "source": [
    "**[10장: 200 ~ 201페이지]**"
   ]
  },
  {
   "cell_type": "code",
   "execution_count": 152,
   "metadata": {},
   "outputs": [
    {
     "name": "stdout",
     "output_type": "stream",
     "text": [
      "날짜 2018/10/9\n",
      "시각 10:20:0\n"
     ]
    }
   ],
   "source": [
    "print('날짜 {0}/{1}/{2}'.format(set_dt.year, set_dt.month, set_dt.day))    # 객체에 저장된 속성값을 각각 출력\n",
    "print('시각 {0}:{1}:{2}'.format(set_dt.hour, set_dt.minute, set_dt.second))"
   ]
  },
  {
   "cell_type": "code",
   "execution_count": 153,
   "metadata": {},
   "outputs": [
    {
     "data": {
      "text/plain": [
       "['__add__',\n",
       " '__class__',\n",
       " '__delattr__',\n",
       " '__dir__',\n",
       " '__doc__',\n",
       " '__eq__',\n",
       " '__format__',\n",
       " '__ge__',\n",
       " '__getattribute__',\n",
       " '__gt__',\n",
       " '__hash__',\n",
       " '__init__',\n",
       " '__init_subclass__',\n",
       " '__le__',\n",
       " '__lt__',\n",
       " '__ne__',\n",
       " '__new__',\n",
       " '__radd__',\n",
       " '__reduce__',\n",
       " '__reduce_ex__',\n",
       " '__repr__',\n",
       " '__rsub__',\n",
       " '__setattr__',\n",
       " '__sizeof__',\n",
       " '__str__',\n",
       " '__sub__',\n",
       " '__subclasshook__',\n",
       " 'astimezone',\n",
       " 'combine',\n",
       " 'ctime',\n",
       " 'date',\n",
       " 'day',\n",
       " 'dst',\n",
       " 'fold',\n",
       " 'fromordinal',\n",
       " 'fromtimestamp',\n",
       " 'hour',\n",
       " 'isocalendar',\n",
       " 'isoformat',\n",
       " 'isoweekday',\n",
       " 'max',\n",
       " 'microsecond',\n",
       " 'min',\n",
       " 'minute',\n",
       " 'month',\n",
       " 'now',\n",
       " 'replace',\n",
       " 'resolution',\n",
       " 'second',\n",
       " 'strftime',\n",
       " 'strptime',\n",
       " 'time',\n",
       " 'timestamp',\n",
       " 'timetuple',\n",
       " 'timetz',\n",
       " 'today',\n",
       " 'toordinal',\n",
       " 'tzinfo',\n",
       " 'tzname',\n",
       " 'utcfromtimestamp',\n",
       " 'utcnow',\n",
       " 'utcoffset',\n",
       " 'utctimetuple',\n",
       " 'weekday',\n",
       " 'year']"
      ]
     },
     "execution_count": 153,
     "metadata": {},
     "output_type": "execute_result"
    }
   ],
   "source": [
    "dir(set_dt)"
   ]
  },
  {
   "cell_type": "markdown",
   "metadata": {},
   "source": [
    "**[10장: 201페이지]**"
   ]
  },
  {
   "cell_type": "code",
   "execution_count": 155,
   "metadata": {},
   "outputs": [
    {
     "name": "stdout",
     "output_type": "stream",
     "text": [
      "2019-12-08 17:33:30.012986\n"
     ]
    },
    {
     "data": {
      "text/plain": [
       "datetime.datetime"
      ]
     },
     "execution_count": 155,
     "metadata": {},
     "output_type": "execute_result"
    }
   ],
   "source": [
    "import datetime\n",
    "\n",
    "now = datetime.datetime.now()   # datetime 모듈의 now()함수를 실행하여 얻은 객체를 now에 저장함\n",
    "print(now)\n",
    "type(now)        # datetime 라이브러리의 datetime 모듈 소속임을 알려줌"
   ]
  },
  {
   "cell_type": "markdown",
   "metadata": {},
   "source": [
    "**[10장: 201페이지]**"
   ]
  },
  {
   "cell_type": "code",
   "execution_count": 156,
   "metadata": {},
   "outputs": [
    {
     "name": "stdout",
     "output_type": "stream",
     "text": [
      "Date & Time: 2019-12-08, 17:33:30\n"
     ]
    }
   ],
   "source": [
    "print(\"Date & Time: {:%Y-%m-%d, %H:%M:%S}\".format(now))   # now 객체에 저장된 속성값을 각각 불러옴"
   ]
  },
  {
   "cell_type": "markdown",
   "metadata": {},
   "source": [
    "**[10장: 201페이지]**"
   ]
  },
  {
   "cell_type": "code",
   "execution_count": 157,
   "metadata": {},
   "outputs": [
    {
     "name": "stdout",
     "output_type": "stream",
     "text": [
      "Date: 2019, 12, 08\n",
      "Time: 17/33/30\n"
     ]
    }
   ],
   "source": [
    "print(\"Date: {:%Y, %m, %d}\".format(now))\n",
    "print(\"Time: {:%H/%M/%S}\".format(now))"
   ]
  },
  {
   "cell_type": "markdown",
   "metadata": {},
   "source": [
    "**[10장: 201 ~ 202페이지]**"
   ]
  },
  {
   "cell_type": "code",
   "execution_count": 158,
   "metadata": {},
   "outputs": [
    {
     "name": "stdout",
     "output_type": "stream",
     "text": [
      "현재 날짜 및 시각: 2019-12-08 17:34:04.603458\n",
      "차이: 23 days, 6:25:54.396542\n"
     ]
    }
   ],
   "source": [
    "now = datetime.datetime.now()     # 현재 시간 객체를 now 변수에 저장\n",
    "set_dt = datetime.datetime(2019, 12, 31, 23, 59, 59)   #datetime 클래스로 년월일시분초 를 지정일 변수에 저장함\n",
    "\n",
    "print(\"현재 날짜 및 시각:\", now)\n",
    "print(\"차이:\", set_dt - now)   # 지정일과 현재의 시간을 빼서 디데이를 구함"
   ]
  },
  {
   "cell_type": "markdown",
   "metadata": {},
   "source": [
    "**[10장: 202페이지]**"
   ]
  },
  {
   "cell_type": "code",
   "execution_count": 159,
   "metadata": {},
   "outputs": [
    {
     "name": "stdout",
     "output_type": "stream",
     "text": [
      "2019-07-01\n"
     ]
    }
   ],
   "source": [
    "from datetime import date, time, datetime   # 클래스를 직접 호출\n",
    "\n",
    "print(date(2019, 7, 1))   # 클래스 이름만으로 사용 (모듈명 없이)"
   ]
  },
  {
   "cell_type": "code",
   "execution_count": 160,
   "metadata": {},
   "outputs": [
    {
     "name": "stdout",
     "output_type": "stream",
     "text": [
      "2019-12-08\n"
     ]
    }
   ],
   "source": [
    "print(date.today())   # date 클래스의 today() 매소드를 출력"
   ]
  },
  {
   "cell_type": "code",
   "execution_count": 161,
   "metadata": {},
   "outputs": [
    {
     "name": "stdout",
     "output_type": "stream",
     "text": [
      "15:30:45\n"
     ]
    }
   ],
   "source": [
    "print(time(15, 30, 45))   # time 클래스에 인자를 넣어 객체를 출력"
   ]
  },
  {
   "cell_type": "code",
   "execution_count": 162,
   "metadata": {},
   "outputs": [
    {
     "name": "stdout",
     "output_type": "stream",
     "text": [
      "2020-02-14 18:10:50\n"
     ]
    }
   ],
   "source": [
    "print(datetime(2020, 2, 14, 18, 10, 50))    # datetime 클래스에 인자를 넣어 객체를 출력"
   ]
  },
  {
   "cell_type": "code",
   "execution_count": 163,
   "metadata": {},
   "outputs": [
    {
     "name": "stdout",
     "output_type": "stream",
     "text": [
      "2019-12-08 17:34:32.247537\n"
     ]
    }
   ],
   "source": [
    "print(datetime.now())    # now()메소드는 datetime에만 들어있음, datetime 클래스의 now()메소드 출력"
   ]
  },
  {
   "cell_type": "markdown",
   "metadata": {},
   "source": [
    "### 달력 생성 및 처리 모듈"
   ]
  },
  {
   "cell_type": "markdown",
   "metadata": {},
   "source": [
    "**[10장: 204페이지]**"
   ]
  },
  {
   "cell_type": "code",
   "execution_count": 165,
   "metadata": {},
   "outputs": [
    {
     "name": "stdout",
     "output_type": "stream",
     "text": [
      "                                  2020\n",
      "\n",
      "      January                   February                   March\n",
      "Mo Tu We Th Fr Sa Su      Mo Tu We Th Fr Sa Su      Mo Tu We Th Fr Sa Su\n",
      "       1  2  3  4  5                      1  2                         1\n",
      " 6  7  8  9 10 11 12       3  4  5  6  7  8  9       2  3  4  5  6  7  8\n",
      "13 14 15 16 17 18 19      10 11 12 13 14 15 16       9 10 11 12 13 14 15\n",
      "20 21 22 23 24 25 26      17 18 19 20 21 22 23      16 17 18 19 20 21 22\n",
      "27 28 29 30 31            24 25 26 27 28 29         23 24 25 26 27 28 29\n",
      "                                                    30 31\n",
      "\n",
      "       April                      May                       June\n",
      "Mo Tu We Th Fr Sa Su      Mo Tu We Th Fr Sa Su      Mo Tu We Th Fr Sa Su\n",
      "       1  2  3  4  5                   1  2  3       1  2  3  4  5  6  7\n",
      " 6  7  8  9 10 11 12       4  5  6  7  8  9 10       8  9 10 11 12 13 14\n",
      "13 14 15 16 17 18 19      11 12 13 14 15 16 17      15 16 17 18 19 20 21\n",
      "20 21 22 23 24 25 26      18 19 20 21 22 23 24      22 23 24 25 26 27 28\n",
      "27 28 29 30               25 26 27 28 29 30 31      29 30\n",
      "\n",
      "        July                     August                  September\n",
      "Mo Tu We Th Fr Sa Su      Mo Tu We Th Fr Sa Su      Mo Tu We Th Fr Sa Su\n",
      "       1  2  3  4  5                      1  2          1  2  3  4  5  6\n",
      " 6  7  8  9 10 11 12       3  4  5  6  7  8  9       7  8  9 10 11 12 13\n",
      "13 14 15 16 17 18 19      10 11 12 13 14 15 16      14 15 16 17 18 19 20\n",
      "20 21 22 23 24 25 26      17 18 19 20 21 22 23      21 22 23 24 25 26 27\n",
      "27 28 29 30 31            24 25 26 27 28 29 30      28 29 30\n",
      "                          31\n",
      "\n",
      "      October                   November                  December\n",
      "Mo Tu We Th Fr Sa Su      Mo Tu We Th Fr Sa Su      Mo Tu We Th Fr Sa Su\n",
      "          1  2  3  4                         1          1  2  3  4  5  6\n",
      " 5  6  7  8  9 10 11       2  3  4  5  6  7  8       7  8  9 10 11 12 13\n",
      "12 13 14 15 16 17 18       9 10 11 12 13 14 15      14 15 16 17 18 19 20\n",
      "19 20 21 22 23 24 25      16 17 18 19 20 21 22      21 22 23 24 25 26 27\n",
      "26 27 28 29 30 31         23 24 25 26 27 28 29      28 29 30 31\n",
      "                          30\n",
      "\n"
     ]
    }
   ],
   "source": [
    "import calendar       # calendar 내장 모듈 호출\n",
    "\n",
    "print(calendar.calendar(2020))   # calendar 모듈의 calendar() 메소드로 2020 인자를 넣어 객체 출력"
   ]
  },
  {
   "cell_type": "markdown",
   "metadata": {},
   "source": [
    "**[10장: 205페이지]**"
   ]
  },
  {
   "cell_type": "code",
   "execution_count": 169,
   "metadata": {},
   "outputs": [
    {
     "name": "stdout",
     "output_type": "stream",
     "text": [
      "                                                            2019\n",
      "\n",
      "      January                   February                   March                     April                      May\n",
      "Mo Tu We Th Fr Sa Su      Mo Tu We Th Fr Sa Su      Mo Tu We Th Fr Sa Su      Mo Tu We Th Fr Sa Su      Mo Tu We Th Fr Sa Su\n",
      "    1  2  3  4  5  6                   1  2  3                   1  2  3       1  2  3  4  5  6  7             1  2  3  4  5\n",
      " 7  8  9 10 11 12 13       4  5  6  7  8  9 10       4  5  6  7  8  9 10       8  9 10 11 12 13 14       6  7  8  9 10 11 12\n",
      "14 15 16 17 18 19 20      11 12 13 14 15 16 17      11 12 13 14 15 16 17      15 16 17 18 19 20 21      13 14 15 16 17 18 19\n",
      "21 22 23 24 25 26 27      18 19 20 21 22 23 24      18 19 20 21 22 23 24      22 23 24 25 26 27 28      20 21 22 23 24 25 26\n",
      "28 29 30 31               25 26 27 28               25 26 27 28 29 30 31      29 30                     27 28 29 30 31\n",
      "\n",
      "        June                      July                     August                  September                  October\n",
      "Mo Tu We Th Fr Sa Su      Mo Tu We Th Fr Sa Su      Mo Tu We Th Fr Sa Su      Mo Tu We Th Fr Sa Su      Mo Tu We Th Fr Sa Su\n",
      "                1  2       1  2  3  4  5  6  7                1  2  3  4                         1          1  2  3  4  5  6\n",
      " 3  4  5  6  7  8  9       8  9 10 11 12 13 14       5  6  7  8  9 10 11       2  3  4  5  6  7  8       7  8  9 10 11 12 13\n",
      "10 11 12 13 14 15 16      15 16 17 18 19 20 21      12 13 14 15 16 17 18       9 10 11 12 13 14 15      14 15 16 17 18 19 20\n",
      "17 18 19 20 21 22 23      22 23 24 25 26 27 28      19 20 21 22 23 24 25      16 17 18 19 20 21 22      21 22 23 24 25 26 27\n",
      "24 25 26 27 28 29 30      29 30 31                  26 27 28 29 30 31         23 24 25 26 27 28 29      28 29 30 31\n",
      "                                                                              30\n",
      "\n",
      "      November                  December\n",
      "Mo Tu We Th Fr Sa Su      Mo Tu We Th Fr Sa Su\n",
      "             1  2  3                         1\n",
      " 4  5  6  7  8  9 10       2  3  4  5  6  7  8\n",
      "11 12 13 14 15 16 17       9 10 11 12 13 14 15\n",
      "18 19 20 21 22 23 24      16 17 18 19 20 21 22\n",
      "25 26 27 28 29 30         23 24 25 26 27 28 29\n",
      "                          30 31\n",
      "\n"
     ]
    }
   ],
   "source": [
    "print(calendar.calendar(2019, m=5))   # 가로로 몇 행으로 구성할 지 세부사항 입력 가능"
   ]
  },
  {
   "cell_type": "markdown",
   "metadata": {},
   "source": [
    "**[10장: 206페이지]**"
   ]
  },
  {
   "cell_type": "code",
   "execution_count": 170,
   "metadata": {
    "scrolled": true
   },
   "outputs": [
    {
     "name": "stdout",
     "output_type": "stream",
     "text": [
      "   September 2020\n",
      "Mo Tu We Th Fr Sa Su\n",
      "    1  2  3  4  5  6\n",
      " 7  8  9 10 11 12 13\n",
      "14 15 16 17 18 19 20\n",
      "21 22 23 24 25 26 27\n",
      "28 29 30\n",
      "\n"
     ]
    }
   ],
   "source": [
    "print(calendar.month(2020,9))   # calendar 모듈의 month 클래스에 인자를 넣어 2020년 9월 달력 객체를 출력"
   ]
  },
  {
   "cell_type": "markdown",
   "metadata": {},
   "source": [
    "**[10장: 206페이지]**"
   ]
  },
  {
   "cell_type": "code",
   "execution_count": 171,
   "metadata": {},
   "outputs": [
    {
     "data": {
      "text/plain": [
       "(5, 29)"
      ]
     },
     "execution_count": 171,
     "metadata": {},
     "output_type": "execute_result"
    }
   ],
   "source": [
    "calendar.monthrange(2020,2)   # 입력 년, 월의 시작 요일(0~6 = 월~일)과 일수를 출력"
   ]
  },
  {
   "cell_type": "markdown",
   "metadata": {},
   "source": [
    "**[10장: 206페이지]**"
   ]
  },
  {
   "cell_type": "code",
   "execution_count": 173,
   "metadata": {},
   "outputs": [
    {
     "data": {
      "text/plain": [
       "0"
      ]
     },
     "execution_count": 173,
     "metadata": {},
     "output_type": "execute_result"
    }
   ],
   "source": [
    "calendar.firstweekday()   # 한 주의 시작하는 날을 출력"
   ]
  },
  {
   "cell_type": "markdown",
   "metadata": {},
   "source": [
    "**[10장: 207페이지]**"
   ]
  },
  {
   "cell_type": "code",
   "execution_count": 174,
   "metadata": {},
   "outputs": [
    {
     "name": "stdout",
     "output_type": "stream",
     "text": [
      "   September 2020\n",
      "Su Mo Tu We Th Fr Sa\n",
      "       1  2  3  4  5\n",
      " 6  7  8  9 10 11 12\n",
      "13 14 15 16 17 18 19\n",
      "20 21 22 23 24 25 26\n",
      "27 28 29 30\n",
      "\n"
     ]
    }
   ],
   "source": [
    "calendar.setfirstweekday(6)   # 한 주를 시작하는 첫째날을 인자의 요일로 설정\n",
    "print(calendar.month(2020,9))   # 일요일부터 시작되는 달력이 출력됨"
   ]
  },
  {
   "cell_type": "markdown",
   "metadata": {},
   "source": [
    "**[10장: 208페이지]**"
   ]
  },
  {
   "cell_type": "code",
   "execution_count": 175,
   "metadata": {},
   "outputs": [
    {
     "name": "stdout",
     "output_type": "stream",
     "text": [
      "6\n"
     ]
    }
   ],
   "source": [
    "print(calendar.weekday(2018, 10, 14))   # 해당 날짜가 무슨 요일인지?"
   ]
  },
  {
   "cell_type": "markdown",
   "metadata": {},
   "source": [
    "**[10장: 208페이지]**"
   ]
  },
  {
   "cell_type": "code",
   "execution_count": 177,
   "metadata": {},
   "outputs": [
    {
     "name": "stdout",
     "output_type": "stream",
     "text": [
      "False\n",
      "True\n"
     ]
    }
   ],
   "source": [
    "print(calendar.isleap(2018))   # 2018년이 윤년인지?\n",
    "print(calendar.isleap(2020))   # 2020년이 윤년인지?"
   ]
  },
  {
   "cell_type": "markdown",
   "metadata": {},
   "source": [
    "위의 출력 결과에서 2020년은 윤년인 것을 알 수 있습니다."
   ]
  },
  {
   "cell_type": "markdown",
   "metadata": {},
   "source": [
    "## 10.5 패키지"
   ]
  },
  {
   "cell_type": "markdown",
   "metadata": {},
   "source": [
    "### 패키지의 구조"
   ]
  },
  {
   "cell_type": "markdown",
   "metadata": {},
   "source": [
    "### 패키지 만들기"
   ]
  },
  {
   "cell_type": "markdown",
   "metadata": {},
   "source": [
    "**[10장: 210페이지]**"
   ]
  },
  {
   "cell_type": "code",
   "execution_count": 1,
   "metadata": {},
   "outputs": [
    {
     "name": "stderr",
     "output_type": "stream",
     "text": [
      "하위 디렉터리 또는 파일 C:\\myPyCode\\packages\\image이(가) 이미 있습니다.\n",
      "다음 내용 진행 중 오류 발생: C:\\myPyCode\\packages\\image.\n",
      "하위 디렉터리 또는 파일 C:\\myPyCode\\packages\\image\\io_file이(가) 이미 있습니다.\n",
      "다음 내용 진행 중 오류 발생: C:\\myPyCode\\packages\\image\\io_file.\n"
     ]
    }
   ],
   "source": [
    "mkdir C:\\myPyCode\\packages\\image; C:\\myPyCode\\packages\\image\\io_file"
   ]
  },
  {
   "cell_type": "markdown",
   "metadata": {},
   "source": [
    "**[10장: 210페이지]**"
   ]
  },
  {
   "cell_type": "code",
   "execution_count": 2,
   "metadata": {},
   "outputs": [
    {
     "name": "stdout",
     "output_type": "stream",
     "text": [
      "Overwriting C:\\myPyCode\\packages\\image\\__init__.py\n"
     ]
    }
   ],
   "source": [
    "%%writefile C:\\myPyCode\\packages\\image\\__init__.py\n",
    "# File name: __init__.py"
   ]
  },
  {
   "cell_type": "code",
   "execution_count": 3,
   "metadata": {},
   "outputs": [
    {
     "name": "stdout",
     "output_type": "stream",
     "text": [
      "Overwriting C:\\myPyCode\\packages\\image\\io_file\\__init__.py\n"
     ]
    }
   ],
   "source": [
    "%%writefile C:\\myPyCode\\packages\\image\\io_file\\__init__.py\n",
    "# File name: __init__.py"
   ]
  },
  {
   "cell_type": "markdown",
   "metadata": {},
   "source": [
    "**[10장: 210페이지]**"
   ]
  },
  {
   "cell_type": "code",
   "execution_count": 4,
   "metadata": {
    "scrolled": true
   },
   "outputs": [
    {
     "name": "stdout",
     "output_type": "stream",
     "text": [
      "Overwriting C:\\myPyCode\\packages\\image\\io_file\\imgread.py\n"
     ]
    }
   ],
   "source": [
    "%%writefile C:\\myPyCode\\packages\\image\\io_file\\imgread.py\n",
    "# File name: imgread.py\n",
    "    \n",
    "def pngread():\n",
    "    print(\"pngread in imgread module\")\n",
    "\n",
    "def jpgread():\n",
    "    print(\"jpgread in imgread module\")\n"
   ]
  },
  {
   "cell_type": "markdown",
   "metadata": {},
   "source": [
    "**[10장: 210페이지]**"
   ]
  },
  {
   "cell_type": "code",
   "execution_count": 6,
   "metadata": {},
   "outputs": [
    {
     "name": "stdout",
     "output_type": "stream",
     "text": [
      "폴더 PATH의 목록입니다.\n",
      "볼륨 일련 번호는 D8AD-952F입니다.\n",
      "C:\\MYPYCODE\\PACKAGES\n",
      "└─image\n",
      "    │  __init__.py\n",
      "    │  \n",
      "    ├─io_file\n",
      "    │  │  imgread.py\n",
      "    │  │  __init__.py\n",
      "    │  │  \n",
      "    │  └─__pycache__\n",
      "    │          imgread.cpython-36.pyc\n",
      "    │          __init__.cpython-36.pyc\n",
      "    │          \n",
      "    └─__pycache__\n",
      "            __init__.cpython-36.pyc\n",
      "            \n"
     ]
    }
   ],
   "source": [
    "!tree /F  c:\\myPyCode\\packages"
   ]
  },
  {
   "cell_type": "markdown",
   "metadata": {},
   "source": [
    "### 패키지 사용하기"
   ]
  },
  {
   "cell_type": "markdown",
   "metadata": {},
   "source": [
    "**[10장: 211페이지]**"
   ]
  },
  {
   "cell_type": "code",
   "execution_count": 5,
   "metadata": {},
   "outputs": [
    {
     "name": "stdout",
     "output_type": "stream",
     "text": [
      "pngread in imgread module\n",
      "jpgread in imgread module\n"
     ]
    }
   ],
   "source": [
    "import image.io_file.imgread #  import 패키지.폴더.모듈\n",
    "    \n",
    "image.io_file.imgread.pngread() # imgread 모듈 내의 pngread() 함수 호출 \n",
    "image.io_file.imgread.jpgread() # imgread 모듈 내의 jpgread() 함수 호출"
   ]
  },
  {
   "cell_type": "markdown",
   "metadata": {},
   "source": [
    "**[10장: 211페이지]**"
   ]
  },
  {
   "cell_type": "code",
   "execution_count": 10,
   "metadata": {},
   "outputs": [
    {
     "name": "stdout",
     "output_type": "stream",
     "text": [
      "pngread in imgread module\n",
      "jpgread in imgread module\n"
     ]
    }
   ],
   "source": [
    "from image.io_file import imgread\n",
    "                              # from _ import _ 로 모듈을 호출하면 모듈명.함수명 만 입력해서 사용가능\n",
    "imgread.pngread()   # 모듈명.함수명 으로 함수 호출\n",
    "imgread.jpgread()"
   ]
  },
  {
   "cell_type": "markdown",
   "metadata": {},
   "source": [
    "**[10장: 212페이지]**"
   ]
  },
  {
   "cell_type": "code",
   "execution_count": 12,
   "metadata": {},
   "outputs": [
    {
     "name": "stdout",
     "output_type": "stream",
     "text": [
      "pngread in imgread module\n"
     ]
    }
   ],
   "source": [
    "from image.io_file.imgread import pngread   # 파일에서 함수를 호출하면 함수명 만 입력해서 사용가능\n",
    "\n",
    "pngread()  # 함수명만 입력해서 함수 호출"
   ]
  },
  {
   "cell_type": "markdown",
   "metadata": {},
   "source": [
    "**[10장: 212페이지]**"
   ]
  },
  {
   "cell_type": "code",
   "execution_count": 13,
   "metadata": {},
   "outputs": [
    {
     "name": "stdout",
     "output_type": "stream",
     "text": [
      "pngread in imgread module\n",
      "jpgread in imgread module\n"
     ]
    }
   ],
   "source": [
    "from image.io_file.imgread import *    # 모듈에서 *을 호출하면 모든 함수를 함수명만 입력해서 사용가능\n",
    "\n",
    "pngread()  # 함수명만 입력해서 함수 호출\n",
    "jpgread()"
   ]
  },
  {
   "cell_type": "markdown",
   "metadata": {},
   "source": [
    "**[10장: 212페이지]**"
   ]
  },
  {
   "cell_type": "code",
   "execution_count": 14,
   "metadata": {},
   "outputs": [
    {
     "name": "stdout",
     "output_type": "stream",
     "text": [
      "pngread in imgread module\n",
      "jpgread in imgread module\n"
     ]
    }
   ],
   "source": [
    "from image.io_file.imgread import pngread, jpgread   # 여러개의 함수를 선택적으로 불러올 수 있음\n",
    "\n",
    "pngread()\n",
    "jpgread()"
   ]
  },
  {
   "cell_type": "markdown",
   "metadata": {},
   "source": [
    "**[10장: 212 ~ 213페이지]**"
   ]
  },
  {
   "cell_type": "code",
   "execution_count": 15,
   "metadata": {},
   "outputs": [
    {
     "name": "stdout",
     "output_type": "stream",
     "text": [
      "pngread in imgread module\n",
      "jpgread in imgread module\n"
     ]
    }
   ],
   "source": [
    "from image.io_file import imgread as img    # 모듈명을 별명으로 불러올 수 있음\n",
    "\n",
    "img.pngread()   # 모듈별명.함수명 으로 함수 호출\n",
    "img.jpgread()"
   ]
  },
  {
   "cell_type": "markdown",
   "metadata": {},
   "source": [
    "**[10장: 213페이지]**"
   ]
  },
  {
   "cell_type": "code",
   "execution_count": 16,
   "metadata": {},
   "outputs": [
    {
     "name": "stdout",
     "output_type": "stream",
     "text": [
      "pngread in imgread module\n",
      "jpgread in imgread module\n"
     ]
    }
   ],
   "source": [
    "from image.io_file.imgread import pngread as pread   # 함수명을 별명으로 불러올 수 있음\n",
    "from image.io_file.imgread import jpgread as jread\n",
    "\n",
    "pread()  #함수별명 으로 함수호출\n",
    "jread()"
   ]
  },
  {
   "cell_type": "markdown",
   "metadata": {
    "collapsed": true
   },
   "source": [
    "## 10.6 정리"
   ]
  }
 ],
 "metadata": {
  "anaconda-cloud": {},
  "kernelspec": {
   "display_name": "Python 3",
   "language": "python",
   "name": "python3"
  },
  "language_info": {
   "codemirror_mode": {
    "name": "ipython",
    "version": 3
   },
   "file_extension": ".py",
   "mimetype": "text/x-python",
   "name": "python",
   "nbconvert_exporter": "python",
   "pygments_lexer": "ipython3",
   "version": "3.6.8"
  },
  "latex_envs": {
   "LaTeX_envs_menu_present": true,
   "autoclose": false,
   "autocomplete": true,
   "bibliofile": "biblio.bib",
   "cite_by": "apalike",
   "current_citInitial": 1,
   "eqLabelWithNumbers": true,
   "eqNumInitial": 1,
   "hotkeys": {
    "equation": "Ctrl-E",
    "itemize": "Ctrl-I"
   },
   "labels_anchors": false,
   "latex_user_defs": false,
   "report_style_numbering": false,
   "user_envs_cfg": false
  },
  "nav_menu": {},
  "toc": {
   "nav_menu": {
    "height": "289px",
    "width": "252px"
   },
   "number_sections": false,
   "sideBar": true,
   "skip_h1_title": false,
   "toc_cell": false,
   "toc_position": {
    "height": "582px",
    "left": "0px",
    "right": "1135px",
    "top": "111px",
    "width": "231px"
   },
   "toc_section_display": "block",
   "toc_window_display": false
  },
  "toc_position": {
   "height": "533px",
   "left": "0px",
   "right": "979.167px",
   "top": "107px",
   "width": "273px"
  }
 },
 "nbformat": 4,
 "nbformat_minor": 1
}

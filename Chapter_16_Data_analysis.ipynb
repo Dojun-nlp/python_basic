{
 "cells": [
  {
   "cell_type": "markdown",
   "metadata": {
    "toc-hr-collapsed": false
   },
   "source": [
    "# 16장 실전 데이터 분석 프로젝트"
   ]
  },
  {
   "cell_type": "markdown",
   "metadata": {},
   "source": [
    "## 16.1 데이터 분석 프로세스"
   ]
  },
  {
   "cell_type": "markdown",
   "metadata": {
    "toc-hr-collapsed": false
   },
   "source": [
    "## 16.2 데이터 획득, 처리, 시각화 심화"
   ]
  },
  {
   "cell_type": "markdown",
   "metadata": {},
   "source": [
    "### 깃허브에서 파일 다운로드"
   ]
  },
  {
   "cell_type": "markdown",
   "metadata": {},
   "source": [
    "**[16장: 533 ~ 534페이지]**"
   ]
  },
  {
   "cell_type": "code",
   "execution_count": 2,
   "metadata": {},
   "outputs": [
    {
     "data": {
      "text/plain": [
       "b\"# \\xeb\\x8d\\xb0\\xec\\x9d\\xb4\\xed\\x84\\xb0 \\xeb\\xb6\\x84\\xec\\x84\\x9d\\xec\\x9d\\x84 \\xec\\x9c\\x84\\xed\\x95\\x9c \\xed\\x8c\\x8c\\xec\\x9d\\xb4\\xec\\x8d\\xac \\xec\\xb2\\xa0\\xec\\xa0\\x80 \\xec\\x9e\\x85\\xeb\\xac\\xb8\\n\\n- \\xec\\x95\\x95\\xec\\xb6\\x95 \\xed\\x8c\\x8c\\xec\\x9d\\xbc(zip \\xed\\x8c\\x8c\\xec\\x9d\\xbc) \\xeb\\x8b\\xa4\\xec\\x9a\\xb4\\xeb\\xa1\\x9c\\xeb\\x93\\x9c: https://github.com/wikibook/python-for-data-analysis-rev/archive/master.zip\\n  - \\xec\\x95\\x95\\xec\\xb6\\x95 \\xed\\x8c\\x8c\\xec\\x9d\\xbc\\xec\\x9d\\x84 \\xeb\\x8b\\xa4\\xec\\x9a\\xb4\\xeb\\xa1\\x9c\\xeb\\x93\\x9c \\xeb\\xb0\\x9b\\xea\\xb3\\xa0 \\xec\\x95\\x95\\xec\\xb6\\x95\\xec\\x9d\\x84 \\xed\\x92\\x89\\xeb\\x8b\\x88\\xeb\\x8b\\xa4.\\n  \\n- \\xec\\x86\\x8c\\xec\\x8a\\xa4 \\xec\\xbd\\x94\\xeb\\x93\\x9c \\xec\\x9c\\x84\\xec\\xb9\\x98: /notebook \\xed\\x8f\\xb4\\xeb\\x8d\\x94\\n  - notebook \\xed\\x8f\\xb4\\xeb\\x8d\\x94\\xec\\x97\\x90\\xeb\\x8a\\x94 \\xec\\x9d\\xb4 \\xec\\xb1\\x85\\xec\\x97\\x90\\xec\\x84\\x9c \\xec\\x82\\xac\\xec\\x9a\\xa9\\xed\\x95\\x9c \\xec\\xbd\\x94\\xeb\\x93\\x9c\\xea\\xb0\\x80 \\xeb\\x85\\xb8\\xed\\x8a\\xb8\\xeb\\xb6\\x81 \\xed\\x8c\\x8c\\xec\\x9d\\xbc(*.ipynb)\\xeb\\xa1\\x9c \\xec\\x9e\\x88\\xec\\x8a\\xb5\\xeb\\x8b\\x88\\xeb\\x8b\\xa4.\\n  - 3\\xec\\x9e\\xa5(Chapter_03)\\xec\\x97\\x90\\xec\\x84\\x9c ~ 16\\xec\\x9e\\xa5(Chapter_16)\\xea\\xb9\\x8c\\xec\\xa7\\x80\\xec\\x9d\\x98 \\xec\\xbd\\x94\\xeb\\x93\\x9c\\xea\\xb0\\x80 \\xeb\\x93\\xa4\\xec\\x96\\xb4\\xec\\x9e\\x88\\xec\\x8a\\xb5\\xeb\\x8b\\x88\\xeb\\x8b\\xa4.\\n- \\xeb\\x8d\\xb0\\xec\\x9d\\xb4\\xed\\x84\\xb0 \\xed\\x8c\\x8c\\xec\\x9d\\xbc \\xec\\x9c\\x84\\xec\\xb9\\x98: /data \\xed\\x8f\\xb4\\xeb\\x8d\\x94\\n  - data \\xed\\x8f\\xb4\\xeb\\x8d\\x94\\xec\\x97\\x90\\xeb\\x8a\\x94 \\xec\\x9d\\xb4 \\xec\\xb1\\x85\\xec\\x9d\\x98 \\xec\\xbd\\x94\\xeb\\x93\\x9c\\xec\\x97\\x90\\xec\\x84\\x9c \\xec\\x82\\xac\\xec\\x9a\\xa9\\xed\\x95\\x9c \\xeb\\x8d\\xb0\\xec\\x9d\\xb4\\xed\\x84\\xb0 \\xed\\x8c\\x8c\\xec\\x9d\\xbc\\xec\\x9d\\xb4 \\xec\\x9e\\x88\\xec\\x8a\\xb5\\xeb\\x8b\\x88\\xeb\\x8b\\xa4.\\n  - \\xeb\\x8b\\xa4\\xec\\x9a\\xb4\\xeb\\xa1\\x9c\\xeb\\x93\\x9c \\xeb\\xb0\\x9b\\xec\\x9d\\x80 data \\xed\\x8f\\xb4\\xeb\\x8d\\x94 \\xeb\\x82\\xb4\\xec\\x9d\\x98 \\xed\\x8c\\x8c\\xec\\x9d\\xbc\\xec\\x9d\\x80 \\xec\\x9e\\x90\\xec\\x8b\\xa0\\xec\\x9d\\xb4 \\xec\\x9d\\xb4\\xec\\x9a\\xa9\\xed\\x95\\x98\\xeb\\x8a\\x94 \\xec\\x9e\\x91\\xec\\x97\\x85 \\xed\\x8f\\xb4\\xeb\\x8d\\x94 \\xeb\\x82\\xb4\\xec\\x9d\\x98 data \\xed\\x8f\\xb4\\xeb\\x8d\\x94(\\xec\\x97\\xac\\xea\\xb8\\xb0\\xec\\x84\\x9c\\xeb\\x8a\\x94 C:\\\\myPyCode\\\\data)\\xec\\x97\\x90 \\xeb\\xb3\\xb5\\xec\\x82\\xac\\xed\\x95\\xb4\\xec\\x84\\x9c \\xec\\x9d\\xb4\\xec\\x9a\\xa9\\xed\\x95\\x98\\xeb\\xa9\\xb4 \\xeb\\x90\\xa9\\xeb\\x8b\\x88\\xeb\\x8b\\xa4.\\n\\n- \\xec\\xa3\\xbc\\xed\\x94\\xbc\\xed\\x84\\xb0 \\xeb\\x85\\xb8\\xed\\x8a\\xb8\\xeb\\xb6\\x81 \\xec\\xb2\\xa0\\xec\\xb9\\x98 \\xeb\\xb0\\x8f \\xec\\x82\\xac\\xec\\x9a\\xa9 \\xeb\\xb0\\xa9\\xeb\\xb2\\x95\\n  - \\xec\\x9d\\xb4 \\xec\\xb1\\x85 2\\xec\\x9e\\xa5\\xec\\x9d\\x98 \\xeb\\x82\\xb4\\xec\\x9a\\xa9\\xec\\x9d\\x84 \\xec\\xb0\\xb8\\xea\\xb3\\xa0\\xed\\x95\\x98\\xec\\x84\\xb8\\xec\\x9a\\x94.\\n\\n- \\xeb\\x85\\xb8\\xed\\x8a\\xb8\\xeb\\xb6\\x81 \\xed\\x99\\x9c\\xec\\x9a\\xa9 \\xeb\\xb0\\xa9\\xeb\\xb2\\x95\\n  1. notebook \\xed\\x8f\\xb4\\xeb\\x8d\\x94\\xec\\x97\\x90 \\xec\\x9e\\x88\\xeb\\x8a\\x94 \\xeb\\x85\\xb8\\xed\\x8a\\xb8\\xeb\\xb6\\x81 \\xed\\x8c\\x8c\\xec\\x9d\\xbc\\xec\\x9d\\x84 \\xec\\x9e\\x90\\xec\\x8b\\xa0\\xec\\x9d\\x98 \\xec\\x9e\\x91\\xec\\x97\\x85 \\xed\\x8f\\xb4\\xeb\\x8d\\x94(\\xec\\x97\\xac\\xea\\xb8\\xb0\\xec\\x84\\x9c\\xeb\\x8a\\x94 C:\\\\myPyCode)\\xec\\x97\\x90 \\xeb\\xb3\\xb5\\xec\\x82\\xac\\xed\\x95\\xa9\\xeb\\x8b\\x88\\xeb\\x8b\\xa4.\\n  2. Anaconda Prompt\\xeb\\xa5\\xbc \\xec\\x8b\\xa4\\xed\\x96\\x89\\xed\\x95\\xb4\\xec\\x84\\x9c \\xec\\x9e\\x91\\xec\\x97\\x85 \\xed\\x8f\\xb4\\xeb\\x8d\\x94\\xeb\\xa1\\x9c \\xec\\x9d\\xb4\\xeb\\x8f\\x99(\\xeb\\xa7\\x8c\\xec\\x95\\xbd \\xec\\x9e\\x91\\xec\\x97\\x85 \\xed\\x8f\\xb4\\xeb\\x8d\\x94\\xea\\xb0\\x80 C:\\\\myPyCode\\xeb\\x9d\\xbc\\xeb\\xa9\\xb4 'cd C:\\\\myPyCode')\\xed\\x95\\xa9\\xeb\\x8b\\x88\\xeb\\x8b\\xa4.\\n  3. \\xeb\\xaa\\x85\\xeb\\xa0\\xb9\\xec\\xb0\\xbd\\xec\\x97\\x90 'jupyter notebook'\\xec\\x9d\\x84 \\xec\\x9e\\x85\\xeb\\xa0\\xa5\\xed\\x95\\xa9\\xeb\\x8b\\x88\\xeb\\x8b\\xa4.\\n  4. \\xeb\\x8b\\xa4\\xec\\x9a\\xb4\\xeb\\xa1\\x9c\\xeb\\x93\\x9c \\xeb\\xb0\\x9b\\xec\\x9d\\x80 \\xeb\\x85\\xb8\\xed\\x8a\\xb8\\xeb\\xb6\\x81 \\xed\\x8c\\x8c\\xec\\x9d\\xbc\\xec\\x9d\\xb4 \\xeb\\xb3\\xb4\\xec\\x9d\\xb4\\xeb\\x8a\\x94\\xeb\\x8d\\xb0 \\xed\\x95\\x84\\xec\\x9a\\x94\\xed\\x95\\x9c \\xec\\x9e\\xa5(Chapter)\\xec\\x9d\\x98 \\xeb\\x85\\xb8\\xed\\x8a\\xb8\\xeb\\xb6\\x81\\xec\\x9d\\x84 \\xed\\x81\\xb4\\xeb\\xa6\\xad\\xed\\x95\\x98\\xeb\\xa9\\xb4 \\xed\\x95\\xb4\\xeb\\x8b\\xb9 \\xeb\\x85\\xb8\\xed\\x8a\\xb8\\xeb\\xb6\\x81\\xec\\x9d\\xb4 \\xec\\x97\\xb4\\xeb\\xa6\\xbd\\xeb\\x8b\\x88\\xeb\\x8b\\xa4.\\n  5. \\xec\\xbd\\x94\\xeb\\x93\\x9c \\xec\\x85\\x80\\xec\\x97\\x90 \\xec\\x9e\\x88\\xeb\\x8a\\x94 \\xec\\xbd\\x94\\xeb\\x93\\x9c\\xeb\\xa5\\xbc \\xec\\xa7\\x81\\xec\\xa0\\x91 \\xec\\x8b\\xa4\\xed\\x96\\x89\\xed\\x95\\xb4\\xeb\\x8f\\x84 \\xeb\\x90\\x98\\xea\\xb3\\xa0, \\xec\\x9e\\x90\\xec\\x8b\\xa0\\xec\\x9d\\xb4 \\xeb\\xa7\\x8c\\xeb\\x93\\xa0 \\xeb\\x85\\xb8\\xed\\x8a\\xb8\\xeb\\xb6\\x81\\xec\\x97\\x90 \\xed\\x95\\xb4\\xeb\\x8b\\xb9 \\xec\\xbd\\x94\\xeb\\x93\\x9c\\xeb\\xa5\\xbc \\xeb\\xb3\\xb5\\xec\\x82\\xac\\xed\\x95\\x9c \\xed\\x9b\\x84 \\xec\\x8b\\xa4\\xed\\x96\\x89\\xed\\x95\\xb4\\xeb\\x8f\\x84 \\xeb\\x90\\xa9\\xeb\\x8b\\x88\\xeb\\x8b\\xa4.\\n  \\n- \\xeb\\x85\\xb8\\xed\\x8a\\xb8\\xeb\\xb6\\x81\\xec\\x97\\x90\\xec\\x84\\x9c \\xec\\xbd\\x94\\xeb\\x93\\x9c \\xec\\xb0\\xbe\\xea\\xb8\\xb0\\n  - \\xeb\\x85\\xb8\\xed\\x8a\\xb8\\xeb\\xb6\\x81\\xec\\x9d\\x98 \\xec\\xbd\\x94\\xeb\\x93\\x9c \\xec\\x85\\x80 \\xec\\x9c\\x84\\xec\\x97\\x90 \\xec\\xbd\\x94\\xeb\\x93\\x9c\\xea\\xb0\\x80 \\xec\\x9e\\x88\\xeb\\x8a\\x94 \\xec\\xb1\\x85\\xec\\x9d\\x98 \\xec\\x9e\\xa5\\xea\\xb3\\xbc \\xed\\x8e\\x98\\xec\\x9d\\xb4\\xec\\xa7\\x80\\xeb\\xa5\\xbc \\xed\\x91\\x9c\\xec\\x8b\\x9c\\xed\\x96\\x88\\xec\\x8a\\xb5\\xeb\\x8b\\x88\\xeb\\x8b\\xa4.\\n  - \\xec\\xb1\\x85\\xec\\x9d\\x98 \\xec\\x9e\\xa5\\xea\\xb3\\xbc \\xed\\x8e\\x98\\xec\\x9d\\xb4\\xec\\xa7\\x80 \\xed\\x91\\x9c\\xec\\x8b\\x9c \\xec\\x98\\x88: [3\\xec\\x9e\\xa5: 30\\xed\\x8e\\x98\\xec\\x9d\\xb4\\xec\\xa7\\x80]\\n\""
      ]
     },
     "execution_count": 2,
     "metadata": {},
     "output_type": "execute_result"
    }
   ],
   "source": [
    "import requests\n",
    "\n",
    "# 깃허브의 파일 URL\n",
    "url = 'https://github.com/wikibook/python-for-data-analysis-rev/raw/master/readme.txt'\n",
    "\n",
    "# URL에 해당하는 파일을 내려받음\n",
    "r = requests.get(url)\n",
    "\n",
    "# 파일을 저장할 폴더와 파일명을 지정\n",
    "file_name = 'C:/myPyCode/data/readme.txt'\n",
    "\n",
    "# 내려받은 파일을 지정한 폴더에 저장 (wb - 바이너리 형태로 쓰기)\n",
    "with open(file_name, 'wb') as f:\n",
    "    f.write(r.content)\n",
    "\n",
    "r.content"
   ]
  },
  {
   "cell_type": "markdown",
   "metadata": {},
   "source": [
    "**[16장: 534페이지]**"
   ]
  },
  {
   "cell_type": "code",
   "execution_count": 4,
   "metadata": {},
   "outputs": [
    {
     "data": {
      "text/plain": [
       "True"
      ]
     },
     "execution_count": 4,
     "metadata": {},
     "output_type": "execute_result"
    }
   ],
   "source": [
    "import os    # 모듈 호출\n",
    "\n",
    "os.path.isfile(file_name)    # 해당파일이 제대로 생성되었는지 확인"
   ]
  },
  {
   "cell_type": "markdown",
   "metadata": {
    "toc-hr-collapsed": false
   },
   "source": [
    "### 데이터에서 결측치 확인 및 처리"
   ]
  },
  {
   "cell_type": "markdown",
   "metadata": {},
   "source": [
    "#### 결측치 확인"
   ]
  },
  {
   "cell_type": "markdown",
   "metadata": {},
   "source": [
    "**[16장: 535페이지]**"
   ]
  },
  {
   "cell_type": "code",
   "execution_count": 5,
   "metadata": {},
   "outputs": [
    {
     "name": "stdout",
     "output_type": "stream",
     "text": [
      "연도,제품1,제품2,제품3,제품4\n",
      "2015,250,150,,\n",
      "2016,200,160,170,\n",
      "2017,150,200,100,150\n",
      "2018,120,230,130,170\n",
      "2019,,250,140,\n"
     ]
    }
   ],
   "source": [
    "!type C:\\myPyCode\\data\\missing_data_test.csv"
   ]
  },
  {
   "cell_type": "markdown",
   "metadata": {},
   "source": [
    "**[16장: 535페이지]**"
   ]
  },
  {
   "cell_type": "code",
   "execution_count": 6,
   "metadata": {},
   "outputs": [
    {
     "data": {
      "text/html": [
       "<div>\n",
       "<style scoped>\n",
       "    .dataframe tbody tr th:only-of-type {\n",
       "        vertical-align: middle;\n",
       "    }\n",
       "\n",
       "    .dataframe tbody tr th {\n",
       "        vertical-align: top;\n",
       "    }\n",
       "\n",
       "    .dataframe thead th {\n",
       "        text-align: right;\n",
       "    }\n",
       "</style>\n",
       "<table border=\"1\" class=\"dataframe\">\n",
       "  <thead>\n",
       "    <tr style=\"text-align: right;\">\n",
       "      <th></th>\n",
       "      <th>제품1</th>\n",
       "      <th>제품2</th>\n",
       "      <th>제품3</th>\n",
       "      <th>제품4</th>\n",
       "    </tr>\n",
       "    <tr>\n",
       "      <th>연도</th>\n",
       "      <th></th>\n",
       "      <th></th>\n",
       "      <th></th>\n",
       "      <th></th>\n",
       "    </tr>\n",
       "  </thead>\n",
       "  <tbody>\n",
       "    <tr>\n",
       "      <th>2015</th>\n",
       "      <td>250.0</td>\n",
       "      <td>150</td>\n",
       "      <td>NaN</td>\n",
       "      <td>NaN</td>\n",
       "    </tr>\n",
       "    <tr>\n",
       "      <th>2016</th>\n",
       "      <td>200.0</td>\n",
       "      <td>160</td>\n",
       "      <td>170.0</td>\n",
       "      <td>NaN</td>\n",
       "    </tr>\n",
       "    <tr>\n",
       "      <th>2017</th>\n",
       "      <td>150.0</td>\n",
       "      <td>200</td>\n",
       "      <td>100.0</td>\n",
       "      <td>150.0</td>\n",
       "    </tr>\n",
       "    <tr>\n",
       "      <th>2018</th>\n",
       "      <td>120.0</td>\n",
       "      <td>230</td>\n",
       "      <td>130.0</td>\n",
       "      <td>170.0</td>\n",
       "    </tr>\n",
       "    <tr>\n",
       "      <th>2019</th>\n",
       "      <td>NaN</td>\n",
       "      <td>250</td>\n",
       "      <td>140.0</td>\n",
       "      <td>NaN</td>\n",
       "    </tr>\n",
       "  </tbody>\n",
       "</table>\n",
       "</div>"
      ],
      "text/plain": [
       "        제품1  제품2    제품3    제품4\n",
       "연도                            \n",
       "2015  250.0  150    NaN    NaN\n",
       "2016  200.0  160  170.0    NaN\n",
       "2017  150.0  200  100.0  150.0\n",
       "2018  120.0  230  130.0  170.0\n",
       "2019    NaN  250  140.0    NaN"
      ]
     },
     "execution_count": 6,
     "metadata": {},
     "output_type": "execute_result"
    }
   ],
   "source": [
    "import pandas as pd\n",
    "\n",
    "data_file = \"C:/myPyCode/data/missing_data_test.csv\"\n",
    "\n",
    "df = pd.read_csv(data_file, encoding = \"cp949\", index_col = \"연도\")\n",
    "\n",
    "df"
   ]
  },
  {
   "cell_type": "markdown",
   "metadata": {},
   "source": [
    "**[16장: 535페이지]**"
   ]
  },
  {
   "cell_type": "code",
   "execution_count": 8,
   "metadata": {},
   "outputs": [
    {
     "data": {
      "text/html": [
       "<div>\n",
       "<style scoped>\n",
       "    .dataframe tbody tr th:only-of-type {\n",
       "        vertical-align: middle;\n",
       "    }\n",
       "\n",
       "    .dataframe tbody tr th {\n",
       "        vertical-align: top;\n",
       "    }\n",
       "\n",
       "    .dataframe thead th {\n",
       "        text-align: right;\n",
       "    }\n",
       "</style>\n",
       "<table border=\"1\" class=\"dataframe\">\n",
       "  <thead>\n",
       "    <tr style=\"text-align: right;\">\n",
       "      <th></th>\n",
       "      <th>제품1</th>\n",
       "      <th>제품2</th>\n",
       "      <th>제품3</th>\n",
       "      <th>제품4</th>\n",
       "    </tr>\n",
       "    <tr>\n",
       "      <th>연도</th>\n",
       "      <th></th>\n",
       "      <th></th>\n",
       "      <th></th>\n",
       "      <th></th>\n",
       "    </tr>\n",
       "  </thead>\n",
       "  <tbody>\n",
       "    <tr>\n",
       "      <th>2015</th>\n",
       "      <td>False</td>\n",
       "      <td>False</td>\n",
       "      <td>True</td>\n",
       "      <td>True</td>\n",
       "    </tr>\n",
       "    <tr>\n",
       "      <th>2016</th>\n",
       "      <td>False</td>\n",
       "      <td>False</td>\n",
       "      <td>False</td>\n",
       "      <td>True</td>\n",
       "    </tr>\n",
       "    <tr>\n",
       "      <th>2017</th>\n",
       "      <td>False</td>\n",
       "      <td>False</td>\n",
       "      <td>False</td>\n",
       "      <td>False</td>\n",
       "    </tr>\n",
       "    <tr>\n",
       "      <th>2018</th>\n",
       "      <td>False</td>\n",
       "      <td>False</td>\n",
       "      <td>False</td>\n",
       "      <td>False</td>\n",
       "    </tr>\n",
       "    <tr>\n",
       "      <th>2019</th>\n",
       "      <td>True</td>\n",
       "      <td>False</td>\n",
       "      <td>False</td>\n",
       "      <td>True</td>\n",
       "    </tr>\n",
       "  </tbody>\n",
       "</table>\n",
       "</div>"
      ],
      "text/plain": [
       "        제품1    제품2    제품3    제품4\n",
       "연도                              \n",
       "2015  False  False   True   True\n",
       "2016  False  False  False   True\n",
       "2017  False  False  False  False\n",
       "2018  False  False  False  False\n",
       "2019   True  False  False   True"
      ]
     },
     "execution_count": 8,
     "metadata": {},
     "output_type": "execute_result"
    }
   ],
   "source": [
    "df.isnull()   # 결측값 확인하기"
   ]
  },
  {
   "cell_type": "markdown",
   "metadata": {},
   "source": [
    "**[16장: 536페이지]**"
   ]
  },
  {
   "cell_type": "code",
   "execution_count": 11,
   "metadata": {},
   "outputs": [
    {
     "data": {
      "text/plain": [
       "제품1    1\n",
       "제품2    0\n",
       "제품3    1\n",
       "제품4    3\n",
       "dtype: int64"
      ]
     },
     "execution_count": 11,
     "metadata": {},
     "output_type": "execute_result"
    }
   ],
   "source": [
    "df.isnull().sum()   # 각 컬럼별로 결측값 개수 합산"
   ]
  },
  {
   "cell_type": "markdown",
   "metadata": {},
   "source": [
    "#### 결측치 처리"
   ]
  },
  {
   "cell_type": "markdown",
   "metadata": {},
   "source": [
    "**[16장: 537페이지]**"
   ]
  },
  {
   "cell_type": "code",
   "execution_count": 15,
   "metadata": {},
   "outputs": [
    {
     "data": {
      "text/html": [
       "<div>\n",
       "<style scoped>\n",
       "    .dataframe tbody tr th:only-of-type {\n",
       "        vertical-align: middle;\n",
       "    }\n",
       "\n",
       "    .dataframe tbody tr th {\n",
       "        vertical-align: top;\n",
       "    }\n",
       "\n",
       "    .dataframe thead th {\n",
       "        text-align: right;\n",
       "    }\n",
       "</style>\n",
       "<table border=\"1\" class=\"dataframe\">\n",
       "  <thead>\n",
       "    <tr style=\"text-align: right;\">\n",
       "      <th></th>\n",
       "      <th>제품1</th>\n",
       "      <th>제품2</th>\n",
       "      <th>제품3</th>\n",
       "      <th>제품4</th>\n",
       "    </tr>\n",
       "    <tr>\n",
       "      <th>연도</th>\n",
       "      <th></th>\n",
       "      <th></th>\n",
       "      <th></th>\n",
       "      <th></th>\n",
       "    </tr>\n",
       "  </thead>\n",
       "  <tbody>\n",
       "    <tr>\n",
       "      <th>2015</th>\n",
       "      <td>250.0</td>\n",
       "      <td>150</td>\n",
       "      <td>NaN</td>\n",
       "      <td>NaN</td>\n",
       "    </tr>\n",
       "    <tr>\n",
       "      <th>2016</th>\n",
       "      <td>200.0</td>\n",
       "      <td>160</td>\n",
       "      <td>170.0</td>\n",
       "      <td>NaN</td>\n",
       "    </tr>\n",
       "    <tr>\n",
       "      <th>2017</th>\n",
       "      <td>150.0</td>\n",
       "      <td>200</td>\n",
       "      <td>100.0</td>\n",
       "      <td>150.0</td>\n",
       "    </tr>\n",
       "    <tr>\n",
       "      <th>2018</th>\n",
       "      <td>120.0</td>\n",
       "      <td>230</td>\n",
       "      <td>130.0</td>\n",
       "      <td>170.0</td>\n",
       "    </tr>\n",
       "  </tbody>\n",
       "</table>\n",
       "</div>"
      ],
      "text/plain": [
       "        제품1  제품2    제품3    제품4\n",
       "연도                            \n",
       "2015  250.0  150    NaN    NaN\n",
       "2016  200.0  160  170.0    NaN\n",
       "2017  150.0  200  100.0  150.0\n",
       "2018  120.0  230  130.0  170.0"
      ]
     },
     "execution_count": 15,
     "metadata": {},
     "output_type": "execute_result"
    }
   ],
   "source": [
    "df.drop(index=[2019])   # 해당 인덱스 행을 삭제"
   ]
  },
  {
   "cell_type": "markdown",
   "metadata": {},
   "source": [
    "**[16장: 537페이지]**"
   ]
  },
  {
   "cell_type": "code",
   "execution_count": 16,
   "metadata": {},
   "outputs": [
    {
     "data": {
      "text/html": [
       "<div>\n",
       "<style scoped>\n",
       "    .dataframe tbody tr th:only-of-type {\n",
       "        vertical-align: middle;\n",
       "    }\n",
       "\n",
       "    .dataframe tbody tr th {\n",
       "        vertical-align: top;\n",
       "    }\n",
       "\n",
       "    .dataframe thead th {\n",
       "        text-align: right;\n",
       "    }\n",
       "</style>\n",
       "<table border=\"1\" class=\"dataframe\">\n",
       "  <thead>\n",
       "    <tr style=\"text-align: right;\">\n",
       "      <th></th>\n",
       "      <th>제품1</th>\n",
       "      <th>제품2</th>\n",
       "    </tr>\n",
       "    <tr>\n",
       "      <th>연도</th>\n",
       "      <th></th>\n",
       "      <th></th>\n",
       "    </tr>\n",
       "  </thead>\n",
       "  <tbody>\n",
       "    <tr>\n",
       "      <th>2015</th>\n",
       "      <td>250.0</td>\n",
       "      <td>150</td>\n",
       "    </tr>\n",
       "    <tr>\n",
       "      <th>2016</th>\n",
       "      <td>200.0</td>\n",
       "      <td>160</td>\n",
       "    </tr>\n",
       "    <tr>\n",
       "      <th>2017</th>\n",
       "      <td>150.0</td>\n",
       "      <td>200</td>\n",
       "    </tr>\n",
       "    <tr>\n",
       "      <th>2018</th>\n",
       "      <td>120.0</td>\n",
       "      <td>230</td>\n",
       "    </tr>\n",
       "    <tr>\n",
       "      <th>2019</th>\n",
       "      <td>NaN</td>\n",
       "      <td>250</td>\n",
       "    </tr>\n",
       "  </tbody>\n",
       "</table>\n",
       "</div>"
      ],
      "text/plain": [
       "        제품1  제품2\n",
       "연도              \n",
       "2015  250.0  150\n",
       "2016  200.0  160\n",
       "2017  150.0  200\n",
       "2018  120.0  230\n",
       "2019    NaN  250"
      ]
     },
     "execution_count": 16,
     "metadata": {},
     "output_type": "execute_result"
    }
   ],
   "source": [
    "df.drop(columns=['제품3', '제품4'])  # 해당 컬럼 열을 삭제"
   ]
  },
  {
   "cell_type": "markdown",
   "metadata": {},
   "source": [
    "**[16장: 538페이지]** "
   ]
  },
  {
   "cell_type": "code",
   "execution_count": 17,
   "metadata": {},
   "outputs": [
    {
     "data": {
      "text/html": [
       "<div>\n",
       "<style scoped>\n",
       "    .dataframe tbody tr th:only-of-type {\n",
       "        vertical-align: middle;\n",
       "    }\n",
       "\n",
       "    .dataframe tbody tr th {\n",
       "        vertical-align: top;\n",
       "    }\n",
       "\n",
       "    .dataframe thead th {\n",
       "        text-align: right;\n",
       "    }\n",
       "</style>\n",
       "<table border=\"1\" class=\"dataframe\">\n",
       "  <thead>\n",
       "    <tr style=\"text-align: right;\">\n",
       "      <th></th>\n",
       "      <th>제품1</th>\n",
       "      <th>제품2</th>\n",
       "    </tr>\n",
       "    <tr>\n",
       "      <th>연도</th>\n",
       "      <th></th>\n",
       "      <th></th>\n",
       "    </tr>\n",
       "  </thead>\n",
       "  <tbody>\n",
       "    <tr>\n",
       "      <th>2015</th>\n",
       "      <td>250.0</td>\n",
       "      <td>150</td>\n",
       "    </tr>\n",
       "    <tr>\n",
       "      <th>2016</th>\n",
       "      <td>200.0</td>\n",
       "      <td>160</td>\n",
       "    </tr>\n",
       "    <tr>\n",
       "      <th>2017</th>\n",
       "      <td>150.0</td>\n",
       "      <td>200</td>\n",
       "    </tr>\n",
       "  </tbody>\n",
       "</table>\n",
       "</div>"
      ],
      "text/plain": [
       "        제품1  제품2\n",
       "연도              \n",
       "2015  250.0  150\n",
       "2016  200.0  160\n",
       "2017  150.0  200"
      ]
     },
     "execution_count": 17,
     "metadata": {},
     "output_type": "execute_result"
    }
   ],
   "source": [
    "df.drop(index=[2018, 2019], columns=['제품3', '제품4'])  # 컬럼, 인덱스를 선택하여 삭제"
   ]
  },
  {
   "cell_type": "markdown",
   "metadata": {},
   "source": [
    "**[16장: 538페이지]** "
   ]
  },
  {
   "cell_type": "code",
   "execution_count": 20,
   "metadata": {},
   "outputs": [
    {
     "data": {
      "text/html": [
       "<div>\n",
       "<style scoped>\n",
       "    .dataframe tbody tr th:only-of-type {\n",
       "        vertical-align: middle;\n",
       "    }\n",
       "\n",
       "    .dataframe tbody tr th {\n",
       "        vertical-align: top;\n",
       "    }\n",
       "\n",
       "    .dataframe thead th {\n",
       "        text-align: right;\n",
       "    }\n",
       "</style>\n",
       "<table border=\"1\" class=\"dataframe\">\n",
       "  <thead>\n",
       "    <tr style=\"text-align: right;\">\n",
       "      <th></th>\n",
       "      <th>제품1</th>\n",
       "      <th>제품2</th>\n",
       "      <th>제품3</th>\n",
       "      <th>제품4</th>\n",
       "    </tr>\n",
       "    <tr>\n",
       "      <th>연도</th>\n",
       "      <th></th>\n",
       "      <th></th>\n",
       "      <th></th>\n",
       "      <th></th>\n",
       "    </tr>\n",
       "  </thead>\n",
       "  <tbody>\n",
       "    <tr>\n",
       "      <th>2017</th>\n",
       "      <td>150.0</td>\n",
       "      <td>200</td>\n",
       "      <td>100.0</td>\n",
       "      <td>150.0</td>\n",
       "    </tr>\n",
       "    <tr>\n",
       "      <th>2018</th>\n",
       "      <td>120.0</td>\n",
       "      <td>230</td>\n",
       "      <td>130.0</td>\n",
       "      <td>170.0</td>\n",
       "    </tr>\n",
       "  </tbody>\n",
       "</table>\n",
       "</div>"
      ],
      "text/plain": [
       "        제품1  제품2    제품3    제품4\n",
       "연도                            \n",
       "2017  150.0  200  100.0  150.0\n",
       "2018  120.0  230  130.0  170.0"
      ]
     },
     "execution_count": 20,
     "metadata": {},
     "output_type": "execute_result"
    }
   ],
   "source": [
    "df.dropna() # 결측값이 포함된 행을 삭제함\n",
    "             #df.dropna(axis=0)도 결과는 같음"
   ]
  },
  {
   "cell_type": "markdown",
   "metadata": {},
   "source": [
    "**[16장: 539페이지]** "
   ]
  },
  {
   "cell_type": "code",
   "execution_count": 21,
   "metadata": {},
   "outputs": [
    {
     "data": {
      "text/html": [
       "<div>\n",
       "<style scoped>\n",
       "    .dataframe tbody tr th:only-of-type {\n",
       "        vertical-align: middle;\n",
       "    }\n",
       "\n",
       "    .dataframe tbody tr th {\n",
       "        vertical-align: top;\n",
       "    }\n",
       "\n",
       "    .dataframe thead th {\n",
       "        text-align: right;\n",
       "    }\n",
       "</style>\n",
       "<table border=\"1\" class=\"dataframe\">\n",
       "  <thead>\n",
       "    <tr style=\"text-align: right;\">\n",
       "      <th></th>\n",
       "      <th>제품1</th>\n",
       "      <th>제품2</th>\n",
       "      <th>제품3</th>\n",
       "      <th>제품4</th>\n",
       "    </tr>\n",
       "    <tr>\n",
       "      <th>연도</th>\n",
       "      <th></th>\n",
       "      <th></th>\n",
       "      <th></th>\n",
       "      <th></th>\n",
       "    </tr>\n",
       "  </thead>\n",
       "  <tbody>\n",
       "    <tr>\n",
       "      <th>2015</th>\n",
       "      <td>250.0</td>\n",
       "      <td>150</td>\n",
       "      <td>NaN</td>\n",
       "      <td>NaN</td>\n",
       "    </tr>\n",
       "    <tr>\n",
       "      <th>2016</th>\n",
       "      <td>200.0</td>\n",
       "      <td>160</td>\n",
       "      <td>170.0</td>\n",
       "      <td>NaN</td>\n",
       "    </tr>\n",
       "    <tr>\n",
       "      <th>2017</th>\n",
       "      <td>150.0</td>\n",
       "      <td>200</td>\n",
       "      <td>100.0</td>\n",
       "      <td>150.0</td>\n",
       "    </tr>\n",
       "    <tr>\n",
       "      <th>2018</th>\n",
       "      <td>120.0</td>\n",
       "      <td>230</td>\n",
       "      <td>130.0</td>\n",
       "      <td>170.0</td>\n",
       "    </tr>\n",
       "  </tbody>\n",
       "</table>\n",
       "</div>"
      ],
      "text/plain": [
       "        제품1  제품2    제품3    제품4\n",
       "연도                            \n",
       "2015  250.0  150    NaN    NaN\n",
       "2016  200.0  160  170.0    NaN\n",
       "2017  150.0  200  100.0  150.0\n",
       "2018  120.0  230  130.0  170.0"
      ]
     },
     "execution_count": 21,
     "metadata": {},
     "output_type": "execute_result"
    }
   ],
   "source": [
    "df.dropna(axis=0, subset=['제품1'])  #선택한 컬럼에서 결측값이 포함된 행을 삭제"
   ]
  },
  {
   "cell_type": "markdown",
   "metadata": {},
   "source": [
    "**[16장: 539페이지]** "
   ]
  },
  {
   "cell_type": "code",
   "execution_count": 24,
   "metadata": {},
   "outputs": [
    {
     "data": {
      "text/html": [
       "<div>\n",
       "<style scoped>\n",
       "    .dataframe tbody tr th:only-of-type {\n",
       "        vertical-align: middle;\n",
       "    }\n",
       "\n",
       "    .dataframe tbody tr th {\n",
       "        vertical-align: top;\n",
       "    }\n",
       "\n",
       "    .dataframe thead th {\n",
       "        text-align: right;\n",
       "    }\n",
       "</style>\n",
       "<table border=\"1\" class=\"dataframe\">\n",
       "  <thead>\n",
       "    <tr style=\"text-align: right;\">\n",
       "      <th></th>\n",
       "      <th>제품1</th>\n",
       "      <th>제품2</th>\n",
       "      <th>제품3</th>\n",
       "      <th>제품4</th>\n",
       "    </tr>\n",
       "    <tr>\n",
       "      <th>연도</th>\n",
       "      <th></th>\n",
       "      <th></th>\n",
       "      <th></th>\n",
       "      <th></th>\n",
       "    </tr>\n",
       "  </thead>\n",
       "  <tbody>\n",
       "    <tr>\n",
       "      <th>2015</th>\n",
       "      <td>250.0</td>\n",
       "      <td>150</td>\n",
       "      <td>NaN</td>\n",
       "      <td>NaN</td>\n",
       "    </tr>\n",
       "    <tr>\n",
       "      <th>2016</th>\n",
       "      <td>200.0</td>\n",
       "      <td>160</td>\n",
       "      <td>170.0</td>\n",
       "      <td>NaN</td>\n",
       "    </tr>\n",
       "    <tr>\n",
       "      <th>2017</th>\n",
       "      <td>150.0</td>\n",
       "      <td>200</td>\n",
       "      <td>100.0</td>\n",
       "      <td>150.0</td>\n",
       "    </tr>\n",
       "    <tr>\n",
       "      <th>2018</th>\n",
       "      <td>120.0</td>\n",
       "      <td>230</td>\n",
       "      <td>130.0</td>\n",
       "      <td>170.0</td>\n",
       "    </tr>\n",
       "    <tr>\n",
       "      <th>2019</th>\n",
       "      <td>NaN</td>\n",
       "      <td>250</td>\n",
       "      <td>140.0</td>\n",
       "      <td>NaN</td>\n",
       "    </tr>\n",
       "  </tbody>\n",
       "</table>\n",
       "</div>"
      ],
      "text/plain": [
       "        제품1  제품2    제품3    제품4\n",
       "연도                            \n",
       "2015  250.0  150    NaN    NaN\n",
       "2016  200.0  160  170.0    NaN\n",
       "2017  150.0  200  100.0  150.0\n",
       "2018  120.0  230  130.0  170.0\n",
       "2019    NaN  250  140.0    NaN"
      ]
     },
     "execution_count": 24,
     "metadata": {},
     "output_type": "execute_result"
    }
   ],
   "source": [
    "df"
   ]
  },
  {
   "cell_type": "code",
   "execution_count": 23,
   "metadata": {},
   "outputs": [
    {
     "data": {
      "text/html": [
       "<div>\n",
       "<style scoped>\n",
       "    .dataframe tbody tr th:only-of-type {\n",
       "        vertical-align: middle;\n",
       "    }\n",
       "\n",
       "    .dataframe tbody tr th {\n",
       "        vertical-align: top;\n",
       "    }\n",
       "\n",
       "    .dataframe thead th {\n",
       "        text-align: right;\n",
       "    }\n",
       "</style>\n",
       "<table border=\"1\" class=\"dataframe\">\n",
       "  <thead>\n",
       "    <tr style=\"text-align: right;\">\n",
       "      <th></th>\n",
       "      <th>제품2</th>\n",
       "    </tr>\n",
       "    <tr>\n",
       "      <th>연도</th>\n",
       "      <th></th>\n",
       "    </tr>\n",
       "  </thead>\n",
       "  <tbody>\n",
       "    <tr>\n",
       "      <th>2015</th>\n",
       "      <td>150</td>\n",
       "    </tr>\n",
       "    <tr>\n",
       "      <th>2016</th>\n",
       "      <td>160</td>\n",
       "    </tr>\n",
       "    <tr>\n",
       "      <th>2017</th>\n",
       "      <td>200</td>\n",
       "    </tr>\n",
       "    <tr>\n",
       "      <th>2018</th>\n",
       "      <td>230</td>\n",
       "    </tr>\n",
       "    <tr>\n",
       "      <th>2019</th>\n",
       "      <td>250</td>\n",
       "    </tr>\n",
       "  </tbody>\n",
       "</table>\n",
       "</div>"
      ],
      "text/plain": [
       "      제품2\n",
       "연도       \n",
       "2015  150\n",
       "2016  160\n",
       "2017  200\n",
       "2018  230\n",
       "2019  250"
      ]
     },
     "execution_count": 23,
     "metadata": {},
     "output_type": "execute_result"
    }
   ],
   "source": [
    "df.dropna(axis=1)    # 결측값이 포함된 열을 삭제"
   ]
  },
  {
   "cell_type": "markdown",
   "metadata": {},
   "source": [
    "**[16장: 539페이지]** "
   ]
  },
  {
   "cell_type": "code",
   "execution_count": 25,
   "metadata": {},
   "outputs": [
    {
     "data": {
      "text/html": [
       "<div>\n",
       "<style scoped>\n",
       "    .dataframe tbody tr th:only-of-type {\n",
       "        vertical-align: middle;\n",
       "    }\n",
       "\n",
       "    .dataframe tbody tr th {\n",
       "        vertical-align: top;\n",
       "    }\n",
       "\n",
       "    .dataframe thead th {\n",
       "        text-align: right;\n",
       "    }\n",
       "</style>\n",
       "<table border=\"1\" class=\"dataframe\">\n",
       "  <thead>\n",
       "    <tr style=\"text-align: right;\">\n",
       "      <th></th>\n",
       "      <th>제품1</th>\n",
       "      <th>제품2</th>\n",
       "      <th>제품3</th>\n",
       "      <th>제품4</th>\n",
       "    </tr>\n",
       "    <tr>\n",
       "      <th>연도</th>\n",
       "      <th></th>\n",
       "      <th></th>\n",
       "      <th></th>\n",
       "      <th></th>\n",
       "    </tr>\n",
       "  </thead>\n",
       "  <tbody>\n",
       "    <tr>\n",
       "      <th>2015</th>\n",
       "      <td>250.0</td>\n",
       "      <td>150</td>\n",
       "      <td>NaN</td>\n",
       "      <td>NaN</td>\n",
       "    </tr>\n",
       "    <tr>\n",
       "      <th>2016</th>\n",
       "      <td>200.0</td>\n",
       "      <td>160</td>\n",
       "      <td>170.0</td>\n",
       "      <td>NaN</td>\n",
       "    </tr>\n",
       "    <tr>\n",
       "      <th>2017</th>\n",
       "      <td>150.0</td>\n",
       "      <td>200</td>\n",
       "      <td>100.0</td>\n",
       "      <td>150.0</td>\n",
       "    </tr>\n",
       "    <tr>\n",
       "      <th>2018</th>\n",
       "      <td>120.0</td>\n",
       "      <td>230</td>\n",
       "      <td>130.0</td>\n",
       "      <td>170.0</td>\n",
       "    </tr>\n",
       "    <tr>\n",
       "      <th>2019</th>\n",
       "      <td>NaN</td>\n",
       "      <td>250</td>\n",
       "      <td>140.0</td>\n",
       "      <td>NaN</td>\n",
       "    </tr>\n",
       "  </tbody>\n",
       "</table>\n",
       "</div>"
      ],
      "text/plain": [
       "        제품1  제품2    제품3    제품4\n",
       "연도                            \n",
       "2015  250.0  150    NaN    NaN\n",
       "2016  200.0  160  170.0    NaN\n",
       "2017  150.0  200  100.0  150.0\n",
       "2018  120.0  230  130.0  170.0\n",
       "2019    NaN  250  140.0    NaN"
      ]
     },
     "execution_count": 25,
     "metadata": {},
     "output_type": "execute_result"
    }
   ],
   "source": [
    "df"
   ]
  },
  {
   "cell_type": "code",
   "execution_count": 26,
   "metadata": {},
   "outputs": [
    {
     "data": {
      "text/html": [
       "<div>\n",
       "<style scoped>\n",
       "    .dataframe tbody tr th:only-of-type {\n",
       "        vertical-align: middle;\n",
       "    }\n",
       "\n",
       "    .dataframe tbody tr th {\n",
       "        vertical-align: top;\n",
       "    }\n",
       "\n",
       "    .dataframe thead th {\n",
       "        text-align: right;\n",
       "    }\n",
       "</style>\n",
       "<table border=\"1\" class=\"dataframe\">\n",
       "  <thead>\n",
       "    <tr style=\"text-align: right;\">\n",
       "      <th></th>\n",
       "      <th>제품1</th>\n",
       "      <th>제품2</th>\n",
       "    </tr>\n",
       "    <tr>\n",
       "      <th>연도</th>\n",
       "      <th></th>\n",
       "      <th></th>\n",
       "    </tr>\n",
       "  </thead>\n",
       "  <tbody>\n",
       "    <tr>\n",
       "      <th>2015</th>\n",
       "      <td>250.0</td>\n",
       "      <td>150</td>\n",
       "    </tr>\n",
       "    <tr>\n",
       "      <th>2016</th>\n",
       "      <td>200.0</td>\n",
       "      <td>160</td>\n",
       "    </tr>\n",
       "    <tr>\n",
       "      <th>2017</th>\n",
       "      <td>150.0</td>\n",
       "      <td>200</td>\n",
       "    </tr>\n",
       "    <tr>\n",
       "      <th>2018</th>\n",
       "      <td>120.0</td>\n",
       "      <td>230</td>\n",
       "    </tr>\n",
       "    <tr>\n",
       "      <th>2019</th>\n",
       "      <td>NaN</td>\n",
       "      <td>250</td>\n",
       "    </tr>\n",
       "  </tbody>\n",
       "</table>\n",
       "</div>"
      ],
      "text/plain": [
       "        제품1  제품2\n",
       "연도              \n",
       "2015  250.0  150\n",
       "2016  200.0  160\n",
       "2017  150.0  200\n",
       "2018  120.0  230\n",
       "2019    NaN  250"
      ]
     },
     "execution_count": 26,
     "metadata": {},
     "output_type": "execute_result"
    }
   ],
   "source": [
    "df.dropna(axis=1, subset=[2015])  # 2015 인덱스 행에서 결측치가 있는 열을 모두 삭제"
   ]
  },
  {
   "cell_type": "markdown",
   "metadata": {},
   "source": [
    "**[16장: 540페이지]** "
   ]
  },
  {
   "cell_type": "code",
   "execution_count": 27,
   "metadata": {},
   "outputs": [
    {
     "data": {
      "text/html": [
       "<div>\n",
       "<style scoped>\n",
       "    .dataframe tbody tr th:only-of-type {\n",
       "        vertical-align: middle;\n",
       "    }\n",
       "\n",
       "    .dataframe tbody tr th {\n",
       "        vertical-align: top;\n",
       "    }\n",
       "\n",
       "    .dataframe thead th {\n",
       "        text-align: right;\n",
       "    }\n",
       "</style>\n",
       "<table border=\"1\" class=\"dataframe\">\n",
       "  <thead>\n",
       "    <tr style=\"text-align: right;\">\n",
       "      <th></th>\n",
       "      <th>제품2</th>\n",
       "      <th>제품3</th>\n",
       "    </tr>\n",
       "    <tr>\n",
       "      <th>연도</th>\n",
       "      <th></th>\n",
       "      <th></th>\n",
       "    </tr>\n",
       "  </thead>\n",
       "  <tbody>\n",
       "    <tr>\n",
       "      <th>2015</th>\n",
       "      <td>150</td>\n",
       "      <td>NaN</td>\n",
       "    </tr>\n",
       "    <tr>\n",
       "      <th>2016</th>\n",
       "      <td>160</td>\n",
       "      <td>170.0</td>\n",
       "    </tr>\n",
       "    <tr>\n",
       "      <th>2017</th>\n",
       "      <td>200</td>\n",
       "      <td>100.0</td>\n",
       "    </tr>\n",
       "    <tr>\n",
       "      <th>2018</th>\n",
       "      <td>230</td>\n",
       "      <td>130.0</td>\n",
       "    </tr>\n",
       "    <tr>\n",
       "      <th>2019</th>\n",
       "      <td>250</td>\n",
       "      <td>140.0</td>\n",
       "    </tr>\n",
       "  </tbody>\n",
       "</table>\n",
       "</div>"
      ],
      "text/plain": [
       "      제품2    제품3\n",
       "연도              \n",
       "2015  150    NaN\n",
       "2016  160  170.0\n",
       "2017  200  100.0\n",
       "2018  230  130.0\n",
       "2019  250  140.0"
      ]
     },
     "execution_count": 27,
     "metadata": {},
     "output_type": "execute_result"
    }
   ],
   "source": [
    "df.dropna(axis=1, subset=[2016, 2019])"
   ]
  },
  {
   "cell_type": "markdown",
   "metadata": {},
   "source": [
    "**[16장: 541페이지]**"
   ]
  },
  {
   "cell_type": "code",
   "execution_count": 28,
   "metadata": {},
   "outputs": [
    {
     "data": {
      "text/html": [
       "<div>\n",
       "<style scoped>\n",
       "    .dataframe tbody tr th:only-of-type {\n",
       "        vertical-align: middle;\n",
       "    }\n",
       "\n",
       "    .dataframe tbody tr th {\n",
       "        vertical-align: top;\n",
       "    }\n",
       "\n",
       "    .dataframe thead th {\n",
       "        text-align: right;\n",
       "    }\n",
       "</style>\n",
       "<table border=\"1\" class=\"dataframe\">\n",
       "  <thead>\n",
       "    <tr style=\"text-align: right;\">\n",
       "      <th></th>\n",
       "      <th>제품1</th>\n",
       "      <th>제품2</th>\n",
       "      <th>제품3</th>\n",
       "      <th>제품4</th>\n",
       "    </tr>\n",
       "    <tr>\n",
       "      <th>연도</th>\n",
       "      <th></th>\n",
       "      <th></th>\n",
       "      <th></th>\n",
       "      <th></th>\n",
       "    </tr>\n",
       "  </thead>\n",
       "  <tbody>\n",
       "    <tr>\n",
       "      <th>2015</th>\n",
       "      <td>250.0</td>\n",
       "      <td>150</td>\n",
       "      <td>0.0</td>\n",
       "      <td>0.0</td>\n",
       "    </tr>\n",
       "    <tr>\n",
       "      <th>2016</th>\n",
       "      <td>200.0</td>\n",
       "      <td>160</td>\n",
       "      <td>170.0</td>\n",
       "      <td>0.0</td>\n",
       "    </tr>\n",
       "    <tr>\n",
       "      <th>2017</th>\n",
       "      <td>150.0</td>\n",
       "      <td>200</td>\n",
       "      <td>100.0</td>\n",
       "      <td>150.0</td>\n",
       "    </tr>\n",
       "    <tr>\n",
       "      <th>2018</th>\n",
       "      <td>120.0</td>\n",
       "      <td>230</td>\n",
       "      <td>130.0</td>\n",
       "      <td>170.0</td>\n",
       "    </tr>\n",
       "    <tr>\n",
       "      <th>2019</th>\n",
       "      <td>0.0</td>\n",
       "      <td>250</td>\n",
       "      <td>140.0</td>\n",
       "      <td>0.0</td>\n",
       "    </tr>\n",
       "  </tbody>\n",
       "</table>\n",
       "</div>"
      ],
      "text/plain": [
       "        제품1  제품2    제품3    제품4\n",
       "연도                            \n",
       "2015  250.0  150    0.0    0.0\n",
       "2016  200.0  160  170.0    0.0\n",
       "2017  150.0  200  100.0  150.0\n",
       "2018  120.0  230  130.0  170.0\n",
       "2019    0.0  250  140.0    0.0"
      ]
     },
     "execution_count": 28,
     "metadata": {},
     "output_type": "execute_result"
    }
   ],
   "source": [
    "df.fillna(0)   # 결측치를 0으로 바꿈"
   ]
  },
  {
   "cell_type": "markdown",
   "metadata": {},
   "source": [
    "**[16장: 541페이지]**"
   ]
  },
  {
   "cell_type": "code",
   "execution_count": 30,
   "metadata": {},
   "outputs": [
    {
     "data": {
      "text/html": [
       "<div>\n",
       "<style scoped>\n",
       "    .dataframe tbody tr th:only-of-type {\n",
       "        vertical-align: middle;\n",
       "    }\n",
       "\n",
       "    .dataframe tbody tr th {\n",
       "        vertical-align: top;\n",
       "    }\n",
       "\n",
       "    .dataframe thead th {\n",
       "        text-align: right;\n",
       "    }\n",
       "</style>\n",
       "<table border=\"1\" class=\"dataframe\">\n",
       "  <thead>\n",
       "    <tr style=\"text-align: right;\">\n",
       "      <th></th>\n",
       "      <th>제품1</th>\n",
       "      <th>제품2</th>\n",
       "      <th>제품3</th>\n",
       "      <th>제품4</th>\n",
       "    </tr>\n",
       "    <tr>\n",
       "      <th>연도</th>\n",
       "      <th></th>\n",
       "      <th></th>\n",
       "      <th></th>\n",
       "      <th></th>\n",
       "    </tr>\n",
       "  </thead>\n",
       "  <tbody>\n",
       "    <tr>\n",
       "      <th>2015</th>\n",
       "      <td>250.0</td>\n",
       "      <td>150</td>\n",
       "      <td>170.0</td>\n",
       "      <td>150.0</td>\n",
       "    </tr>\n",
       "    <tr>\n",
       "      <th>2016</th>\n",
       "      <td>200.0</td>\n",
       "      <td>160</td>\n",
       "      <td>170.0</td>\n",
       "      <td>150.0</td>\n",
       "    </tr>\n",
       "    <tr>\n",
       "      <th>2017</th>\n",
       "      <td>150.0</td>\n",
       "      <td>200</td>\n",
       "      <td>100.0</td>\n",
       "      <td>150.0</td>\n",
       "    </tr>\n",
       "    <tr>\n",
       "      <th>2018</th>\n",
       "      <td>120.0</td>\n",
       "      <td>230</td>\n",
       "      <td>130.0</td>\n",
       "      <td>170.0</td>\n",
       "    </tr>\n",
       "    <tr>\n",
       "      <th>2019</th>\n",
       "      <td>NaN</td>\n",
       "      <td>250</td>\n",
       "      <td>140.0</td>\n",
       "      <td>NaN</td>\n",
       "    </tr>\n",
       "  </tbody>\n",
       "</table>\n",
       "</div>"
      ],
      "text/plain": [
       "        제품1  제품2    제품3    제품4\n",
       "연도                            \n",
       "2015  250.0  150  170.0  150.0\n",
       "2016  200.0  160  170.0  150.0\n",
       "2017  150.0  200  100.0  150.0\n",
       "2018  120.0  230  130.0  170.0\n",
       "2019    NaN  250  140.0    NaN"
      ]
     },
     "execution_count": 30,
     "metadata": {},
     "output_type": "execute_result"
    }
   ],
   "source": [
    "df.fillna(method='bfill')  # 결측치를 다음열의 값으로 변경"
   ]
  },
  {
   "cell_type": "markdown",
   "metadata": {},
   "source": [
    "**[16장: 541페이지]**"
   ]
  },
  {
   "cell_type": "code",
   "execution_count": 31,
   "metadata": {},
   "outputs": [
    {
     "data": {
      "text/html": [
       "<div>\n",
       "<style scoped>\n",
       "    .dataframe tbody tr th:only-of-type {\n",
       "        vertical-align: middle;\n",
       "    }\n",
       "\n",
       "    .dataframe tbody tr th {\n",
       "        vertical-align: top;\n",
       "    }\n",
       "\n",
       "    .dataframe thead th {\n",
       "        text-align: right;\n",
       "    }\n",
       "</style>\n",
       "<table border=\"1\" class=\"dataframe\">\n",
       "  <thead>\n",
       "    <tr style=\"text-align: right;\">\n",
       "      <th></th>\n",
       "      <th>제품1</th>\n",
       "      <th>제품2</th>\n",
       "      <th>제품3</th>\n",
       "      <th>제품4</th>\n",
       "    </tr>\n",
       "    <tr>\n",
       "      <th>연도</th>\n",
       "      <th></th>\n",
       "      <th></th>\n",
       "      <th></th>\n",
       "      <th></th>\n",
       "    </tr>\n",
       "  </thead>\n",
       "  <tbody>\n",
       "    <tr>\n",
       "      <th>2015</th>\n",
       "      <td>250.0</td>\n",
       "      <td>150</td>\n",
       "      <td>NaN</td>\n",
       "      <td>NaN</td>\n",
       "    </tr>\n",
       "    <tr>\n",
       "      <th>2016</th>\n",
       "      <td>200.0</td>\n",
       "      <td>160</td>\n",
       "      <td>170.0</td>\n",
       "      <td>NaN</td>\n",
       "    </tr>\n",
       "    <tr>\n",
       "      <th>2017</th>\n",
       "      <td>150.0</td>\n",
       "      <td>200</td>\n",
       "      <td>100.0</td>\n",
       "      <td>150.0</td>\n",
       "    </tr>\n",
       "    <tr>\n",
       "      <th>2018</th>\n",
       "      <td>120.0</td>\n",
       "      <td>230</td>\n",
       "      <td>130.0</td>\n",
       "      <td>170.0</td>\n",
       "    </tr>\n",
       "    <tr>\n",
       "      <th>2019</th>\n",
       "      <td>120.0</td>\n",
       "      <td>250</td>\n",
       "      <td>140.0</td>\n",
       "      <td>170.0</td>\n",
       "    </tr>\n",
       "  </tbody>\n",
       "</table>\n",
       "</div>"
      ],
      "text/plain": [
       "        제품1  제품2    제품3    제품4\n",
       "연도                            \n",
       "2015  250.0  150    NaN    NaN\n",
       "2016  200.0  160  170.0    NaN\n",
       "2017  150.0  200  100.0  150.0\n",
       "2018  120.0  230  130.0  170.0\n",
       "2019  120.0  250  140.0  170.0"
      ]
     },
     "execution_count": 31,
     "metadata": {},
     "output_type": "execute_result"
    }
   ],
   "source": [
    "df.fillna(method='ffill')   # 이전 열의 값으로 결측치를 채움"
   ]
  },
  {
   "cell_type": "markdown",
   "metadata": {},
   "source": [
    "**[16장: 542페이지]**"
   ]
  },
  {
   "cell_type": "code",
   "execution_count": 32,
   "metadata": {},
   "outputs": [
    {
     "data": {
      "text/html": [
       "<div>\n",
       "<style scoped>\n",
       "    .dataframe tbody tr th:only-of-type {\n",
       "        vertical-align: middle;\n",
       "    }\n",
       "\n",
       "    .dataframe tbody tr th {\n",
       "        vertical-align: top;\n",
       "    }\n",
       "\n",
       "    .dataframe thead th {\n",
       "        text-align: right;\n",
       "    }\n",
       "</style>\n",
       "<table border=\"1\" class=\"dataframe\">\n",
       "  <thead>\n",
       "    <tr style=\"text-align: right;\">\n",
       "      <th></th>\n",
       "      <th>제품1</th>\n",
       "      <th>제품2</th>\n",
       "      <th>제품3</th>\n",
       "      <th>제품4</th>\n",
       "    </tr>\n",
       "    <tr>\n",
       "      <th>연도</th>\n",
       "      <th></th>\n",
       "      <th></th>\n",
       "      <th></th>\n",
       "      <th></th>\n",
       "    </tr>\n",
       "  </thead>\n",
       "  <tbody>\n",
       "    <tr>\n",
       "      <th>2015</th>\n",
       "      <td>250.0</td>\n",
       "      <td>150</td>\n",
       "      <td>NaN</td>\n",
       "      <td>400.0</td>\n",
       "    </tr>\n",
       "    <tr>\n",
       "      <th>2016</th>\n",
       "      <td>200.0</td>\n",
       "      <td>160</td>\n",
       "      <td>170.0</td>\n",
       "      <td>400.0</td>\n",
       "    </tr>\n",
       "    <tr>\n",
       "      <th>2017</th>\n",
       "      <td>150.0</td>\n",
       "      <td>200</td>\n",
       "      <td>100.0</td>\n",
       "      <td>150.0</td>\n",
       "    </tr>\n",
       "    <tr>\n",
       "      <th>2018</th>\n",
       "      <td>120.0</td>\n",
       "      <td>230</td>\n",
       "      <td>130.0</td>\n",
       "      <td>170.0</td>\n",
       "    </tr>\n",
       "    <tr>\n",
       "      <th>2019</th>\n",
       "      <td>100.0</td>\n",
       "      <td>250</td>\n",
       "      <td>140.0</td>\n",
       "      <td>400.0</td>\n",
       "    </tr>\n",
       "  </tbody>\n",
       "</table>\n",
       "</div>"
      ],
      "text/plain": [
       "        제품1  제품2    제품3    제품4\n",
       "연도                            \n",
       "2015  250.0  150    NaN  400.0\n",
       "2016  200.0  160  170.0  400.0\n",
       "2017  150.0  200  100.0  150.0\n",
       "2018  120.0  230  130.0  170.0\n",
       "2019  100.0  250  140.0  400.0"
      ]
     },
     "execution_count": 32,
     "metadata": {},
     "output_type": "execute_result"
    }
   ],
   "source": [
    "values = {'제품1': 100,  '제품4': 400}\n",
    "df.fillna(value=values)   # 딕셔너리를 생성하여 열을 지정해서 결측치를 채움"
   ]
  },
  {
   "cell_type": "markdown",
   "metadata": {},
   "source": [
    "### 데이터의 요약 및 재구성"
   ]
  },
  {
   "cell_type": "markdown",
   "metadata": {},
   "source": [
    "#### 데이터의 구조 살펴보기"
   ]
  },
  {
   "cell_type": "markdown",
   "metadata": {},
   "source": [
    "**[16장: 543페이지]**"
   ]
  },
  {
   "cell_type": "code",
   "execution_count": 33,
   "metadata": {},
   "outputs": [
    {
     "data": {
      "text/html": [
       "<div>\n",
       "<style scoped>\n",
       "    .dataframe tbody tr th:only-of-type {\n",
       "        vertical-align: middle;\n",
       "    }\n",
       "\n",
       "    .dataframe tbody tr th {\n",
       "        vertical-align: top;\n",
       "    }\n",
       "\n",
       "    .dataframe thead th {\n",
       "        text-align: right;\n",
       "    }\n",
       "</style>\n",
       "<table border=\"1\" class=\"dataframe\">\n",
       "  <thead>\n",
       "    <tr style=\"text-align: right;\">\n",
       "      <th></th>\n",
       "      <th>매장명</th>\n",
       "      <th>제품종류</th>\n",
       "      <th>모델명</th>\n",
       "      <th>판매</th>\n",
       "      <th>재고</th>\n",
       "    </tr>\n",
       "  </thead>\n",
       "  <tbody>\n",
       "    <tr>\n",
       "      <th>0</th>\n",
       "      <td>A</td>\n",
       "      <td>스마트폰</td>\n",
       "      <td>S1</td>\n",
       "      <td>1</td>\n",
       "      <td>2</td>\n",
       "    </tr>\n",
       "    <tr>\n",
       "      <th>1</th>\n",
       "      <td>A</td>\n",
       "      <td>스마트폰</td>\n",
       "      <td>S2</td>\n",
       "      <td>2</td>\n",
       "      <td>5</td>\n",
       "    </tr>\n",
       "    <tr>\n",
       "      <th>2</th>\n",
       "      <td>A</td>\n",
       "      <td>TV</td>\n",
       "      <td>V1</td>\n",
       "      <td>3</td>\n",
       "      <td>5</td>\n",
       "    </tr>\n",
       "    <tr>\n",
       "      <th>3</th>\n",
       "      <td>B</td>\n",
       "      <td>스마트폰</td>\n",
       "      <td>S2</td>\n",
       "      <td>4</td>\n",
       "      <td>6</td>\n",
       "    </tr>\n",
       "    <tr>\n",
       "      <th>4</th>\n",
       "      <td>B</td>\n",
       "      <td>스마트폰</td>\n",
       "      <td>S1</td>\n",
       "      <td>5</td>\n",
       "      <td>8</td>\n",
       "    </tr>\n",
       "    <tr>\n",
       "      <th>5</th>\n",
       "      <td>B</td>\n",
       "      <td>TV</td>\n",
       "      <td>V1</td>\n",
       "      <td>6</td>\n",
       "      <td>9</td>\n",
       "    </tr>\n",
       "    <tr>\n",
       "      <th>6</th>\n",
       "      <td>C</td>\n",
       "      <td>스마트폰</td>\n",
       "      <td>S2</td>\n",
       "      <td>2</td>\n",
       "      <td>4</td>\n",
       "    </tr>\n",
       "    <tr>\n",
       "      <th>7</th>\n",
       "      <td>C</td>\n",
       "      <td>TV</td>\n",
       "      <td>V1</td>\n",
       "      <td>3</td>\n",
       "      <td>6</td>\n",
       "    </tr>\n",
       "    <tr>\n",
       "      <th>8</th>\n",
       "      <td>C</td>\n",
       "      <td>TV</td>\n",
       "      <td>V2</td>\n",
       "      <td>7</td>\n",
       "      <td>9</td>\n",
       "    </tr>\n",
       "  </tbody>\n",
       "</table>\n",
       "</div>"
      ],
      "text/plain": [
       "  매장명  제품종류 모델명  판매  재고\n",
       "0   A  스마트폰  S1   1   2\n",
       "1   A  스마트폰  S2   2   5\n",
       "2   A    TV  V1   3   5\n",
       "3   B  스마트폰  S2   4   6\n",
       "4   B  스마트폰  S1   5   8\n",
       "5   B    TV  V1   6   9\n",
       "6   C  스마트폰  S2   2   4\n",
       "7   C    TV  V1   3   6\n",
       "8   C    TV  V2   7   9"
      ]
     },
     "execution_count": 33,
     "metadata": {},
     "output_type": "execute_result"
    }
   ],
   "source": [
    "import pandas as pd\n",
    "\n",
    "data_file = \"C:/myPyCode/data/total_sales_data.csv\"\n",
    "\n",
    "df_sales = pd.read_csv(data_file)\n",
    "df_sales"
   ]
  },
  {
   "cell_type": "markdown",
   "metadata": {},
   "source": [
    "**[16장: 543페이지]**"
   ]
  },
  {
   "cell_type": "code",
   "execution_count": 34,
   "metadata": {},
   "outputs": [
    {
     "name": "stdout",
     "output_type": "stream",
     "text": [
      "<class 'pandas.core.frame.DataFrame'>\n",
      "RangeIndex: 9 entries, 0 to 8\n",
      "Data columns (total 5 columns):\n",
      "매장명     9 non-null object\n",
      "제품종류    9 non-null object\n",
      "모델명     9 non-null object\n",
      "판매      9 non-null int64\n",
      "재고      9 non-null int64\n",
      "dtypes: int64(2), object(3)\n",
      "memory usage: 440.0+ bytes\n"
     ]
    }
   ],
   "source": [
    "df_sales.info()    # 데이터프레임 정보 출력"
   ]
  },
  {
   "cell_type": "markdown",
   "metadata": {},
   "source": [
    "**[16장: 544페이지]**"
   ]
  },
  {
   "cell_type": "code",
   "execution_count": 36,
   "metadata": {},
   "outputs": [
    {
     "data": {
      "text/plain": [
       "C    3\n",
       "A    3\n",
       "B    3\n",
       "Name: 매장명, dtype: int64"
      ]
     },
     "execution_count": 36,
     "metadata": {},
     "output_type": "execute_result"
    }
   ],
   "source": [
    "df_sales['매장명'].value_counts()   # 해당 열 데이터값의 개수"
   ]
  },
  {
   "cell_type": "markdown",
   "metadata": {},
   "source": [
    "**[16장: 545페이지]**"
   ]
  },
  {
   "cell_type": "code",
   "execution_count": 38,
   "metadata": {},
   "outputs": [
    {
     "data": {
      "text/plain": [
       "스마트폰    5\n",
       "TV      4\n",
       "Name: 제품종류, dtype: int64"
      ]
     },
     "execution_count": 38,
     "metadata": {},
     "output_type": "execute_result"
    }
   ],
   "source": [
    "df_sales['제품종류'].value_counts()"
   ]
  },
  {
   "cell_type": "code",
   "execution_count": 39,
   "metadata": {},
   "outputs": [
    {
     "data": {
      "text/plain": [
       "S2    3\n",
       "V1    3\n",
       "S1    2\n",
       "V2    1\n",
       "Name: 모델명, dtype: int64"
      ]
     },
     "execution_count": 39,
     "metadata": {},
     "output_type": "execute_result"
    }
   ],
   "source": [
    "df_sales['모델명'].value_counts()"
   ]
  },
  {
   "cell_type": "markdown",
   "metadata": {},
   "source": [
    "#### 피벗 테이블로 데이터 재구성하기"
   ]
  },
  {
   "cell_type": "markdown",
   "metadata": {},
   "source": [
    "**[16장: 546페이지]**"
   ]
  },
  {
   "cell_type": "code",
   "execution_count": 40,
   "metadata": {},
   "outputs": [
    {
     "data": {
      "text/html": [
       "<div>\n",
       "<style scoped>\n",
       "    .dataframe tbody tr th:only-of-type {\n",
       "        vertical-align: middle;\n",
       "    }\n",
       "\n",
       "    .dataframe tbody tr th {\n",
       "        vertical-align: top;\n",
       "    }\n",
       "\n",
       "    .dataframe thead th {\n",
       "        text-align: right;\n",
       "    }\n",
       "</style>\n",
       "<table border=\"1\" class=\"dataframe\">\n",
       "  <thead>\n",
       "    <tr style=\"text-align: right;\">\n",
       "      <th></th>\n",
       "      <th>매장명</th>\n",
       "      <th>제품종류</th>\n",
       "      <th>모델명</th>\n",
       "      <th>판매</th>\n",
       "      <th>재고</th>\n",
       "    </tr>\n",
       "  </thead>\n",
       "  <tbody>\n",
       "    <tr>\n",
       "      <th>0</th>\n",
       "      <td>A</td>\n",
       "      <td>스마트폰</td>\n",
       "      <td>S1</td>\n",
       "      <td>1</td>\n",
       "      <td>2</td>\n",
       "    </tr>\n",
       "    <tr>\n",
       "      <th>1</th>\n",
       "      <td>A</td>\n",
       "      <td>스마트폰</td>\n",
       "      <td>S2</td>\n",
       "      <td>2</td>\n",
       "      <td>5</td>\n",
       "    </tr>\n",
       "    <tr>\n",
       "      <th>2</th>\n",
       "      <td>A</td>\n",
       "      <td>TV</td>\n",
       "      <td>V1</td>\n",
       "      <td>3</td>\n",
       "      <td>5</td>\n",
       "    </tr>\n",
       "    <tr>\n",
       "      <th>3</th>\n",
       "      <td>B</td>\n",
       "      <td>스마트폰</td>\n",
       "      <td>S2</td>\n",
       "      <td>4</td>\n",
       "      <td>6</td>\n",
       "    </tr>\n",
       "    <tr>\n",
       "      <th>4</th>\n",
       "      <td>B</td>\n",
       "      <td>스마트폰</td>\n",
       "      <td>S1</td>\n",
       "      <td>5</td>\n",
       "      <td>8</td>\n",
       "    </tr>\n",
       "    <tr>\n",
       "      <th>5</th>\n",
       "      <td>B</td>\n",
       "      <td>TV</td>\n",
       "      <td>V1</td>\n",
       "      <td>6</td>\n",
       "      <td>9</td>\n",
       "    </tr>\n",
       "    <tr>\n",
       "      <th>6</th>\n",
       "      <td>C</td>\n",
       "      <td>스마트폰</td>\n",
       "      <td>S2</td>\n",
       "      <td>2</td>\n",
       "      <td>4</td>\n",
       "    </tr>\n",
       "    <tr>\n",
       "      <th>7</th>\n",
       "      <td>C</td>\n",
       "      <td>TV</td>\n",
       "      <td>V1</td>\n",
       "      <td>3</td>\n",
       "      <td>6</td>\n",
       "    </tr>\n",
       "    <tr>\n",
       "      <th>8</th>\n",
       "      <td>C</td>\n",
       "      <td>TV</td>\n",
       "      <td>V2</td>\n",
       "      <td>7</td>\n",
       "      <td>9</td>\n",
       "    </tr>\n",
       "  </tbody>\n",
       "</table>\n",
       "</div>"
      ],
      "text/plain": [
       "  매장명  제품종류 모델명  판매  재고\n",
       "0   A  스마트폰  S1   1   2\n",
       "1   A  스마트폰  S2   2   5\n",
       "2   A    TV  V1   3   5\n",
       "3   B  스마트폰  S2   4   6\n",
       "4   B  스마트폰  S1   5   8\n",
       "5   B    TV  V1   6   9\n",
       "6   C  스마트폰  S2   2   4\n",
       "7   C    TV  V1   3   6\n",
       "8   C    TV  V2   7   9"
      ]
     },
     "execution_count": 40,
     "metadata": {},
     "output_type": "execute_result"
    }
   ],
   "source": [
    "df_sales"
   ]
  },
  {
   "cell_type": "markdown",
   "metadata": {},
   "source": [
    "**[16장: 546페이지]**"
   ]
  },
  {
   "cell_type": "code",
   "execution_count": 42,
   "metadata": {},
   "outputs": [
    {
     "data": {
      "text/html": [
       "<div>\n",
       "<style scoped>\n",
       "    .dataframe tbody tr th:only-of-type {\n",
       "        vertical-align: middle;\n",
       "    }\n",
       "\n",
       "    .dataframe tbody tr th {\n",
       "        vertical-align: top;\n",
       "    }\n",
       "\n",
       "    .dataframe thead th {\n",
       "        text-align: right;\n",
       "    }\n",
       "</style>\n",
       "<table border=\"1\" class=\"dataframe\">\n",
       "  <thead>\n",
       "    <tr style=\"text-align: right;\">\n",
       "      <th></th>\n",
       "      <th></th>\n",
       "      <th></th>\n",
       "      <th>재고</th>\n",
       "      <th>판매</th>\n",
       "    </tr>\n",
       "    <tr>\n",
       "      <th>매장명</th>\n",
       "      <th>제품종류</th>\n",
       "      <th>모델명</th>\n",
       "      <th></th>\n",
       "      <th></th>\n",
       "    </tr>\n",
       "  </thead>\n",
       "  <tbody>\n",
       "    <tr>\n",
       "      <th rowspan=\"3\" valign=\"top\">A</th>\n",
       "      <th>TV</th>\n",
       "      <th>V1</th>\n",
       "      <td>5</td>\n",
       "      <td>3</td>\n",
       "    </tr>\n",
       "    <tr>\n",
       "      <th rowspan=\"2\" valign=\"top\">스마트폰</th>\n",
       "      <th>S1</th>\n",
       "      <td>2</td>\n",
       "      <td>1</td>\n",
       "    </tr>\n",
       "    <tr>\n",
       "      <th>S2</th>\n",
       "      <td>5</td>\n",
       "      <td>2</td>\n",
       "    </tr>\n",
       "    <tr>\n",
       "      <th rowspan=\"3\" valign=\"top\">B</th>\n",
       "      <th>TV</th>\n",
       "      <th>V1</th>\n",
       "      <td>9</td>\n",
       "      <td>6</td>\n",
       "    </tr>\n",
       "    <tr>\n",
       "      <th rowspan=\"2\" valign=\"top\">스마트폰</th>\n",
       "      <th>S1</th>\n",
       "      <td>8</td>\n",
       "      <td>5</td>\n",
       "    </tr>\n",
       "    <tr>\n",
       "      <th>S2</th>\n",
       "      <td>6</td>\n",
       "      <td>4</td>\n",
       "    </tr>\n",
       "    <tr>\n",
       "      <th rowspan=\"3\" valign=\"top\">C</th>\n",
       "      <th rowspan=\"2\" valign=\"top\">TV</th>\n",
       "      <th>V1</th>\n",
       "      <td>6</td>\n",
       "      <td>3</td>\n",
       "    </tr>\n",
       "    <tr>\n",
       "      <th>V2</th>\n",
       "      <td>9</td>\n",
       "      <td>7</td>\n",
       "    </tr>\n",
       "    <tr>\n",
       "      <th>스마트폰</th>\n",
       "      <th>S2</th>\n",
       "      <td>4</td>\n",
       "      <td>2</td>\n",
       "    </tr>\n",
       "  </tbody>\n",
       "</table>\n",
       "</div>"
      ],
      "text/plain": [
       "              재고  판매\n",
       "매장명 제품종류 모델명        \n",
       "A   TV   V1    5   3\n",
       "    스마트폰 S1    2   1\n",
       "         S2    5   2\n",
       "B   TV   V1    9   6\n",
       "    스마트폰 S1    8   5\n",
       "         S2    6   4\n",
       "C   TV   V1    6   3\n",
       "         V2    9   7\n",
       "    스마트폰 S2    4   2"
      ]
     },
     "execution_count": 42,
     "metadata": {},
     "output_type": "execute_result"
    }
   ],
   "source": [
    "df_sales.pivot_table(index=[\"매장명\", \"제품종류\", \"모델명\"],\n",
    "                     values =[\"판매\",\"재고\"], aggfunc='sum')   # pivot_table 하고 aggfunc = 'sum'"
   ]
  },
  {
   "cell_type": "code",
   "execution_count": 45,
   "metadata": {},
   "outputs": [
    {
     "data": {
      "text/html": [
       "<div>\n",
       "<style scoped>\n",
       "    .dataframe tbody tr th:only-of-type {\n",
       "        vertical-align: middle;\n",
       "    }\n",
       "\n",
       "    .dataframe tbody tr th {\n",
       "        vertical-align: top;\n",
       "    }\n",
       "\n",
       "    .dataframe thead th {\n",
       "        text-align: right;\n",
       "    }\n",
       "</style>\n",
       "<table border=\"1\" class=\"dataframe\">\n",
       "  <thead>\n",
       "    <tr style=\"text-align: right;\">\n",
       "      <th></th>\n",
       "      <th></th>\n",
       "      <th></th>\n",
       "      <th>재고</th>\n",
       "      <th>판매</th>\n",
       "    </tr>\n",
       "    <tr>\n",
       "      <th>매장명</th>\n",
       "      <th>제품종류</th>\n",
       "      <th>모델명</th>\n",
       "      <th></th>\n",
       "      <th></th>\n",
       "    </tr>\n",
       "  </thead>\n",
       "  <tbody>\n",
       "    <tr>\n",
       "      <th rowspan=\"3\" valign=\"top\">A</th>\n",
       "      <th>TV</th>\n",
       "      <th>V1</th>\n",
       "      <td>5</td>\n",
       "      <td>3</td>\n",
       "    </tr>\n",
       "    <tr>\n",
       "      <th rowspan=\"2\" valign=\"top\">스마트폰</th>\n",
       "      <th>S1</th>\n",
       "      <td>2</td>\n",
       "      <td>1</td>\n",
       "    </tr>\n",
       "    <tr>\n",
       "      <th>S2</th>\n",
       "      <td>5</td>\n",
       "      <td>2</td>\n",
       "    </tr>\n",
       "    <tr>\n",
       "      <th rowspan=\"3\" valign=\"top\">B</th>\n",
       "      <th>TV</th>\n",
       "      <th>V1</th>\n",
       "      <td>9</td>\n",
       "      <td>6</td>\n",
       "    </tr>\n",
       "    <tr>\n",
       "      <th rowspan=\"2\" valign=\"top\">스마트폰</th>\n",
       "      <th>S1</th>\n",
       "      <td>8</td>\n",
       "      <td>5</td>\n",
       "    </tr>\n",
       "    <tr>\n",
       "      <th>S2</th>\n",
       "      <td>6</td>\n",
       "      <td>4</td>\n",
       "    </tr>\n",
       "    <tr>\n",
       "      <th rowspan=\"3\" valign=\"top\">C</th>\n",
       "      <th rowspan=\"2\" valign=\"top\">TV</th>\n",
       "      <th>V1</th>\n",
       "      <td>6</td>\n",
       "      <td>3</td>\n",
       "    </tr>\n",
       "    <tr>\n",
       "      <th>V2</th>\n",
       "      <td>9</td>\n",
       "      <td>7</td>\n",
       "    </tr>\n",
       "    <tr>\n",
       "      <th>스마트폰</th>\n",
       "      <th>S2</th>\n",
       "      <td>4</td>\n",
       "      <td>2</td>\n",
       "    </tr>\n",
       "  </tbody>\n",
       "</table>\n",
       "</div>"
      ],
      "text/plain": [
       "              재고  판매\n",
       "매장명 제품종류 모델명        \n",
       "A   TV   V1    5   3\n",
       "    스마트폰 S1    2   1\n",
       "         S2    5   2\n",
       "B   TV   V1    9   6\n",
       "    스마트폰 S1    8   5\n",
       "         S2    6   4\n",
       "C   TV   V1    6   3\n",
       "         V2    9   7\n",
       "    스마트폰 S2    4   2"
      ]
     },
     "execution_count": 45,
     "metadata": {},
     "output_type": "execute_result"
    }
   ],
   "source": [
    "df_sales.pivot_table(index=[\"매장명\", \"제품종류\", \"모델명\"],\n",
    "                     values =[\"판매\",\"재고\"], aggfunc='mean')   # pivot_table 하고 aggfunc = 'mean'"
   ]
  },
  {
   "cell_type": "markdown",
   "metadata": {},
   "source": [
    "**[16장: 547페이지]**"
   ]
  },
  {
   "cell_type": "code",
   "execution_count": 47,
   "metadata": {},
   "outputs": [
    {
     "data": {
      "text/html": [
       "<div>\n",
       "<style scoped>\n",
       "    .dataframe tbody tr th:only-of-type {\n",
       "        vertical-align: middle;\n",
       "    }\n",
       "\n",
       "    .dataframe tbody tr th {\n",
       "        vertical-align: top;\n",
       "    }\n",
       "\n",
       "    .dataframe thead tr th {\n",
       "        text-align: left;\n",
       "    }\n",
       "\n",
       "    .dataframe thead tr:last-of-type th {\n",
       "        text-align: right;\n",
       "    }\n",
       "</style>\n",
       "<table border=\"1\" class=\"dataframe\">\n",
       "  <thead>\n",
       "    <tr>\n",
       "      <th></th>\n",
       "      <th colspan=\"2\" halign=\"left\">재고</th>\n",
       "      <th colspan=\"2\" halign=\"left\">판매</th>\n",
       "    </tr>\n",
       "    <tr>\n",
       "      <th>제품종류</th>\n",
       "      <th>TV</th>\n",
       "      <th>스마트폰</th>\n",
       "      <th>TV</th>\n",
       "      <th>스마트폰</th>\n",
       "    </tr>\n",
       "    <tr>\n",
       "      <th>매장명</th>\n",
       "      <th></th>\n",
       "      <th></th>\n",
       "      <th></th>\n",
       "      <th></th>\n",
       "    </tr>\n",
       "  </thead>\n",
       "  <tbody>\n",
       "    <tr>\n",
       "      <th>A</th>\n",
       "      <td>5</td>\n",
       "      <td>7</td>\n",
       "      <td>3</td>\n",
       "      <td>3</td>\n",
       "    </tr>\n",
       "    <tr>\n",
       "      <th>B</th>\n",
       "      <td>9</td>\n",
       "      <td>14</td>\n",
       "      <td>6</td>\n",
       "      <td>9</td>\n",
       "    </tr>\n",
       "    <tr>\n",
       "      <th>C</th>\n",
       "      <td>15</td>\n",
       "      <td>4</td>\n",
       "      <td>10</td>\n",
       "      <td>2</td>\n",
       "    </tr>\n",
       "  </tbody>\n",
       "</table>\n",
       "</div>"
      ],
      "text/plain": [
       "      재고       판매     \n",
       "제품종류  TV 스마트폰  TV 스마트폰\n",
       "매장명                   \n",
       "A      5    7   3    3\n",
       "B      9   14   6    9\n",
       "C     15    4  10    2"
      ]
     },
     "execution_count": 47,
     "metadata": {},
     "output_type": "execute_result"
    }
   ],
   "source": [
    "df_sales.pivot_table(index=[\"매장명\"], columns = [\"제품종류\"],\n",
    "                     values =[\"판매\",\"재고\"], aggfunc='sum')"
   ]
  },
  {
   "cell_type": "markdown",
   "metadata": {},
   "source": [
    "**[16장: 547페이지]**"
   ]
  },
  {
   "cell_type": "code",
   "execution_count": 49,
   "metadata": {},
   "outputs": [
    {
     "data": {
      "text/html": [
       "<div>\n",
       "<style scoped>\n",
       "    .dataframe tbody tr th:only-of-type {\n",
       "        vertical-align: middle;\n",
       "    }\n",
       "\n",
       "    .dataframe tbody tr th {\n",
       "        vertical-align: top;\n",
       "    }\n",
       "\n",
       "    .dataframe thead tr th {\n",
       "        text-align: left;\n",
       "    }\n",
       "\n",
       "    .dataframe thead tr:last-of-type th {\n",
       "        text-align: right;\n",
       "    }\n",
       "</style>\n",
       "<table border=\"1\" class=\"dataframe\">\n",
       "  <thead>\n",
       "    <tr>\n",
       "      <th></th>\n",
       "      <th colspan=\"2\" halign=\"left\">재고</th>\n",
       "      <th colspan=\"2\" halign=\"left\">판매</th>\n",
       "    </tr>\n",
       "    <tr>\n",
       "      <th>제품종류</th>\n",
       "      <th>TV</th>\n",
       "      <th>스마트폰</th>\n",
       "      <th>TV</th>\n",
       "      <th>스마트폰</th>\n",
       "    </tr>\n",
       "    <tr>\n",
       "      <th>매장명</th>\n",
       "      <th></th>\n",
       "      <th></th>\n",
       "      <th></th>\n",
       "      <th></th>\n",
       "    </tr>\n",
       "  </thead>\n",
       "  <tbody>\n",
       "    <tr>\n",
       "      <th>A</th>\n",
       "      <td>1</td>\n",
       "      <td>2</td>\n",
       "      <td>1</td>\n",
       "      <td>2</td>\n",
       "    </tr>\n",
       "    <tr>\n",
       "      <th>B</th>\n",
       "      <td>1</td>\n",
       "      <td>2</td>\n",
       "      <td>1</td>\n",
       "      <td>2</td>\n",
       "    </tr>\n",
       "    <tr>\n",
       "      <th>C</th>\n",
       "      <td>2</td>\n",
       "      <td>1</td>\n",
       "      <td>2</td>\n",
       "      <td>1</td>\n",
       "    </tr>\n",
       "  </tbody>\n",
       "</table>\n",
       "</div>"
      ],
      "text/plain": [
       "     재고      판매     \n",
       "제품종류 TV 스마트폰 TV 스마트폰\n",
       "매장명                 \n",
       "A     1    2  1    2\n",
       "B     1    2  1    2\n",
       "C     2    1  2    1"
      ]
     },
     "execution_count": 49,
     "metadata": {},
     "output_type": "execute_result"
    }
   ],
   "source": [
    "df_sales.pivot_table(index=[\"매장명\"], columns = [\"제품종류\"],\n",
    "                     values =[\"판매\",\"재고\"], aggfunc='count')"
   ]
  },
  {
   "cell_type": "markdown",
   "metadata": {},
   "source": [
    "### 워드 클라우드를 이용한 데이터 시각화"
   ]
  },
  {
   "cell_type": "markdown",
   "metadata": {},
   "source": [
    "**[16장: 549~550페이지]**"
   ]
  },
  {
   "cell_type": "code",
   "execution_count": 6,
   "metadata": {},
   "outputs": [],
   "source": [
    "pip install wordcloud    # 워드클라우드 모듈 설치"
   ]
  },
  {
   "cell_type": "code",
   "execution_count": 56,
   "metadata": {},
   "outputs": [
    {
     "data": {
      "image/png": "[encoded data removed]",
      "text/plain": [
       "<Figure size 432x288 with 1 Axes>"
      ]
     },
     "metadata": {
      "needs_background": "light"
     },
     "output_type": "display_data"
    }
   ],
   "source": [
    "from wordcloud import WordCloud    # 클래스 호출\n",
    "import matplotlib.pyplot as plt    # pyplot 모듈 호출\n",
    "\n",
    "file_name = 'C:/myPyCode/data/littleprince_djvu.txt'    # 텍스트파일위치 변수에 저장\n",
    "\n",
    "with open(file_name) as f:         # 파일을 읽기 모드로 열기\n",
    "    text = f.read()                # 파일의 내용 읽어오기\n",
    "\n",
    "wordcloud_image = WordCloud().generate(text)           # 워드 클라우드의 이미지 생성\n",
    "\n",
    "plt.imshow(wordcloud_image, interpolation='bilinear')  # pyplot의 imshow()메소드를 써서 이미지를 화면에 출력할 세팅\n",
    "plt.axis(\"off\")                                        # 축 정보 지우기\n",
    "plt.show()"
   ]
  },
  {
   "cell_type": "markdown",
   "metadata": {},
   "source": [
    "**[16장: 550페이지]**"
   ]
  },
  {
   "cell_type": "code",
   "execution_count": 57,
   "metadata": {},
   "outputs": [
    {
     "data": {
      "image/png": "[encoded data removed]",
      "text/plain": [
       "<Figure size 432x288 with 1 Axes>"
      ]
     },
     "metadata": {
      "needs_background": "light"
     },
     "output_type": "display_data"
    }
   ],
   "source": [
    "wordcloud_image = WordCloud(background_color='white', max_font_size=600, width=1600, height=800).generate(text)\n",
    "                            # 괄호 안에 속성 정보 기입\n",
    "\n",
    "plt.imshow(wordcloud_image, interpolation=\"bilinear\") # 출력 세팅\n",
    "plt.axis(\"off\")\n",
    "plt.show()                                            # 출력"
   ]
  },
  {
   "cell_type": "markdown",
   "metadata": {},
   "source": [
    "**[16장: 551페이지]**"
   ]
  },
  {
   "cell_type": "code",
   "execution_count": 58,
   "metadata": {},
   "outputs": [],
   "source": [
    "image_file_name = 'C:/myPyCode/figures/little_prince.png'  # 이미지파일명 지정\n",
    "\n",
    "wordcloud_image.to_file(image_file_name)      # 이미지파일로 저장\n",
    "plt.show()"
   ]
  },
  {
   "cell_type": "markdown",
   "metadata": {},
   "source": [
    "**[16장: 551페이지]**\n",
    "- wordcount 데이터프레임 파일로 워드클라우드 생성하기"
   ]
  },
  {
   "cell_type": "code",
   "execution_count": 59,
   "metadata": {},
   "outputs": [
    {
     "data": {
      "text/html": [
       "<div>\n",
       "<style scoped>\n",
       "    .dataframe tbody tr th:only-of-type {\n",
       "        vertical-align: middle;\n",
       "    }\n",
       "\n",
       "    .dataframe tbody tr th {\n",
       "        vertical-align: top;\n",
       "    }\n",
       "\n",
       "    .dataframe thead th {\n",
       "        text-align: right;\n",
       "    }\n",
       "</style>\n",
       "<table border=\"1\" class=\"dataframe\">\n",
       "  <thead>\n",
       "    <tr style=\"text-align: right;\">\n",
       "      <th></th>\n",
       "      <th>빈도</th>\n",
       "    </tr>\n",
       "    <tr>\n",
       "      <th>단어</th>\n",
       "      <th></th>\n",
       "    </tr>\n",
       "  </thead>\n",
       "  <tbody>\n",
       "    <tr>\n",
       "      <th>산업혁명</th>\n",
       "      <td>1662</td>\n",
       "    </tr>\n",
       "    <tr>\n",
       "      <th>기술</th>\n",
       "      <td>1223</td>\n",
       "    </tr>\n",
       "    <tr>\n",
       "      <th>사업</th>\n",
       "      <td>1126</td>\n",
       "    </tr>\n",
       "    <tr>\n",
       "      <th>혁신</th>\n",
       "      <td>1084</td>\n",
       "    </tr>\n",
       "    <tr>\n",
       "      <th>경제</th>\n",
       "      <td>1000</td>\n",
       "    </tr>\n",
       "  </tbody>\n",
       "</table>\n",
       "</div>"
      ],
      "text/plain": [
       "        빈도\n",
       "단어        \n",
       "산업혁명  1662\n",
       "기술    1223\n",
       "사업    1126\n",
       "혁신    1084\n",
       "경제    1000"
      ]
     },
     "execution_count": 59,
     "metadata": {},
     "output_type": "execute_result"
    }
   ],
   "source": [
    "import pandas as pd   # 모듈 호출\n",
    "\n",
    "word_count_file = \"C:/myPyCode/data/word_count.csv\"  # 파일 위치를 변수에 저장   \n",
    "word_count = pd.read_csv(word_count_file, index_col = '단어')  # 불러오기\n",
    "\n",
    "word_count.head(5)  # 상위 5줄 호출"
   ]
  },
  {
   "cell_type": "markdown",
   "metadata": {},
   "source": [
    "**[16장: 552페이지]**"
   ]
  },
  {
   "cell_type": "code",
   "execution_count": 60,
   "metadata": {},
   "outputs": [
    {
     "data": {
      "text/plain": [
       "단어\n",
       "산업혁명    1662\n",
       "기술      1223\n",
       "사업      1126\n",
       "혁신      1084\n",
       "경제      1000\n",
       "Name: 빈도, dtype: int64"
      ]
     },
     "execution_count": 60,
     "metadata": {},
     "output_type": "execute_result"
    }
   ],
   "source": [
    "word_count['빈도'][0:5]  # 빈도 컬럼에서 0에서 5전까지 출력"
   ]
  },
  {
   "cell_type": "markdown",
   "metadata": {},
   "source": [
    "**[16장: 552페이지]**"
   ]
  },
  {
   "cell_type": "code",
   "execution_count": 61,
   "metadata": {},
   "outputs": [
    {
     "data": {
      "text/plain": [
       "pandas.core.series.Series"
      ]
     },
     "execution_count": 61,
     "metadata": {},
     "output_type": "execute_result"
    }
   ],
   "source": [
    "type(word_count['빈도'])"
   ]
  },
  {
   "cell_type": "markdown",
   "metadata": {},
   "source": [
    "**[16장: 553페이지]**\n",
    "- WordCloud() 클래스에 입력변수를 지정해서 객체를 생성\n",
    "- 객체명.generate(text): 텍스트로부터 이미지 생성\n",
    "- 객체명.generate_from_frequencies(frequencies): wordcount 데이터프레임으로부터 이미지 생성\n",
    "- plt.imshow(이미지파일, interpolation=\"bilinear\"): 이미지파일 출력 "
   ]
  },
  {
   "cell_type": "code",
   "execution_count": 63,
   "metadata": {},
   "outputs": [
    {
     "data": {
      "image/png": "[encoded data removed]",
      "text/plain": [
       "<Figure size 432x288 with 1 Axes>"
      ]
     },
     "metadata": {
      "needs_background": "light"
     },
     "output_type": "display_data"
    }
   ],
   "source": [
    "from wordcloud import WordCloud     # 워드클라우드 클래스 호출\n",
    "import matplotlib.pyplot as plt     # 파이플롯 모듈 호출\n",
    "\n",
    "korean_font_path = 'C:/Windows/Fonts/malgun.ttf' # 한글 폰트(맑은 고딕) 위치 지정하기\n",
    "\n",
    "wc = WordCloud(font_path=korean_font_path, background_color='white')  # 워드 클라우드 이미지 생성(폰트, 배경색 지정)\n",
    "\n",
    "frequencies = word_count['빈도'][:]      # 데이터프레임의 한 컬럼의 줄 (Series) 선택\n",
    "wordcloud_image = wc.generate_from_frequencies(frequencies)  # 이미지 생성\n",
    "\n",
    "\n",
    "plt.imshow(wordcloud_image, interpolation=\"bilinear\")   # 이미지 출력 세팅\n",
    "plt.axis(\"off\")                                         # 축 정보 삭제\n",
    "plt.show()                                              # 출력"
   ]
  },
  {
   "cell_type": "markdown",
   "metadata": {},
   "source": [
    "## 16.3 실전 데이터(서울시 업무추진비) 분석"
   ]
  },
  {
   "cell_type": "markdown",
   "metadata": {},
   "source": [
    "### 데이터 분석의 주제 선정"
   ]
  },
  {
   "cell_type": "markdown",
   "metadata": {},
   "source": [
    "### 데이터 수집"
   ]
  },
  {
   "cell_type": "markdown",
   "metadata": {},
   "source": [
    "**[16장: 557~558페이지]**"
   ]
  },
  {
   "cell_type": "code",
   "execution_count": 65,
   "metadata": {},
   "outputs": [],
   "source": [
    "import requests\n",
    "import os\n",
    "import pathlib\n",
    "\n",
    "#인자: 확장자, 연도, 내려받을 폴더\n",
    "def get_seoul_expense_list(extension, year, data_folder): \n",
    "\n",
    "    # 깃허브의 데이터 위치 지정\n",
    "    # ex) 'https://github.com/seoul-opengov/opengov/raw/master/expense_list2016/'\n",
    "    expense_list_year_url = 'https://github.com/seoul-opengov/opengov/raw/master/expense_list' + str(year) + '/'\n",
    "\n",
    "    # 데이터를 내려받을 폴더 지정\n",
    "    # ex) 'C:/myPyCode/data/seoul_expense/2016/'\n",
    "    expense_list_year_dir = data_folder + str(year) + '/'\n",
    "    \n",
    "    # 내려받을 폴더가 없다면 폴더 생성\n",
    "    if(os.path.isdir(expense_list_year_dir)):\n",
    "        print(\"데이터 폴더({0})가 이미 있습니다. {0}년 데이터의 다운로드를 시작합니다.\".format(year))\n",
    "    else:\n",
    "        print(\"데이터 폴더({0})가 없어서 생성했습니다. {0}년 데이터의 다운로드를 시작합니다.\".format(year))\n",
    "        # 폴더 생성\n",
    "        pathlib.Path(expense_list_year_dir).mkdir(parents=True, exist_ok=True) \n",
    "        \n",
    "    # 지정한 폴더로 1월 ~ 12월 업무추진비 파일을 다운로드\n",
    "    for k in range(12):\n",
    "        file_name = '{0}{1:02d}_expense_list.{2}'.format(year, k+1, extension)    \n",
    "        url = expense_list_year_url + file_name\n",
    "        print(url)\n",
    "        r = requests.get(url)\n",
    "        with open(expense_list_year_dir + file_name, 'wb') as f:\n",
    "            f.write(r.content)"
   ]
  },
  {
   "cell_type": "markdown",
   "metadata": {},
   "source": [
    "**[16장: 558~559페이지]**"
   ]
  },
  {
   "cell_type": "code",
   "execution_count": 66,
   "metadata": {},
   "outputs": [
    {
     "name": "stdout",
     "output_type": "stream",
     "text": [
      "데이터 폴더(2016)가 이미 있습니다. 2016년 데이터의 다운로드를 시작합니다.\n",
      "https://github.com/seoul-opengov/opengov/raw/master/expense_list2016/201601_expense_list.csv\n",
      "https://github.com/seoul-opengov/opengov/raw/master/expense_list2016/201602_expense_list.csv\n",
      "https://github.com/seoul-opengov/opengov/raw/master/expense_list2016/201603_expense_list.csv\n",
      "https://github.com/seoul-opengov/opengov/raw/master/expense_list2016/201604_expense_list.csv\n",
      "https://github.com/seoul-opengov/opengov/raw/master/expense_list2016/201605_expense_list.csv\n",
      "https://github.com/seoul-opengov/opengov/raw/master/expense_list2016/201606_expense_list.csv\n",
      "https://github.com/seoul-opengov/opengov/raw/master/expense_list2016/201607_expense_list.csv\n",
      "https://github.com/seoul-opengov/opengov/raw/master/expense_list2016/201608_expense_list.csv\n",
      "https://github.com/seoul-opengov/opengov/raw/master/expense_list2016/201609_expense_list.csv\n",
      "https://github.com/seoul-opengov/opengov/raw/master/expense_list2016/201610_expense_list.csv\n",
      "https://github.com/seoul-opengov/opengov/raw/master/expense_list2016/201611_expense_list.csv\n",
      "https://github.com/seoul-opengov/opengov/raw/master/expense_list2016/201612_expense_list.csv\n"
     ]
    }
   ],
   "source": [
    "# 내려받을 업무추진비 데이터의 파일 형식을 지정\n",
    "extension = \"csv\" \n",
    "\n",
    "# 내려받을 업무추진비 데이터의 연도를 지정\n",
    "year = 2016 \n",
    "\n",
    "# 내려받을 업무추진비 데이터의 폴더를 지정\n",
    "data_folder = 'C:/myPyCode/data/seoul_expense/' \n",
    "\n",
    "# 함수를 실행\n",
    "get_seoul_expense_list(extension, year, data_folder)"
   ]
  },
  {
   "cell_type": "markdown",
   "metadata": {},
   "source": [
    "**[16장: 559~560페이지]**"
   ]
  },
  {
   "cell_type": "code",
   "execution_count": 67,
   "metadata": {},
   "outputs": [
    {
     "name": "stdout",
     "output_type": "stream",
     "text": [
      "[폴더 이름] C:/myPyCode/data/seoul_expense/2016/\n",
      "* CSV 파일: ['201601_expense_list.csv', '201602_expense_list.csv', '201603_expense_list.csv', '201604_expense_list.csv', '201605_expense_list.csv', '201606_expense_list.csv', '201607_expense_list.csv', '201608_expense_list.csv', '201609_expense_list.csv', '201610_expense_list.csv', '201611_expense_list.csv', '201612_expense_list.csv']\n"
     ]
    }
   ],
   "source": [
    "import glob\n",
    "\n",
    "path_name = 'C:/myPyCode/data/seoul_expense/2016/' # 폴더 이름\n",
    "\n",
    "# 지정 폴더에서 파일명에 list.csv가 포함된 파일만 지정\n",
    "file_name_for_glob = path_name + \"*list.csv\" \n",
    "\n",
    "csv_files = []\n",
    "for csv_file in glob.glob(file_name_for_glob): \n",
    "    # 반환값에서 폴더는 제거하고 파일 이름만 추출\n",
    "    csv_files.append(csv_file.split(\"\\\\\")[-1]) \n",
    "\n",
    "print(\"[폴더 이름]\", path_name) # 폴더명 출력\n",
    "print(\"* CSV 파일:\", csv_files)"
   ]
  },
  {
   "cell_type": "markdown",
   "metadata": {},
   "source": [
    "**[16장: 560페이지]**"
   ]
  },
  {
   "cell_type": "code",
   "execution_count": 68,
   "metadata": {},
   "outputs": [
    {
     "name": "stdout",
     "output_type": "stream",
     "text": [
      "데이터 폴더(2016)가 이미 있습니다. 2016년 데이터의 다운로드를 시작합니다.\n",
      "https://github.com/seoul-opengov/opengov/raw/master/expense_list2016/201601_expense_list.csv\n",
      "https://github.com/seoul-opengov/opengov/raw/master/expense_list2016/201602_expense_list.csv\n",
      "https://github.com/seoul-opengov/opengov/raw/master/expense_list2016/201603_expense_list.csv\n",
      "https://github.com/seoul-opengov/opengov/raw/master/expense_list2016/201604_expense_list.csv\n",
      "https://github.com/seoul-opengov/opengov/raw/master/expense_list2016/201605_expense_list.csv\n",
      "https://github.com/seoul-opengov/opengov/raw/master/expense_list2016/201606_expense_list.csv\n",
      "https://github.com/seoul-opengov/opengov/raw/master/expense_list2016/201607_expense_list.csv\n",
      "https://github.com/seoul-opengov/opengov/raw/master/expense_list2016/201608_expense_list.csv\n",
      "https://github.com/seoul-opengov/opengov/raw/master/expense_list2016/201609_expense_list.csv\n",
      "https://github.com/seoul-opengov/opengov/raw/master/expense_list2016/201610_expense_list.csv\n",
      "https://github.com/seoul-opengov/opengov/raw/master/expense_list2016/201611_expense_list.csv\n",
      "https://github.com/seoul-opengov/opengov/raw/master/expense_list2016/201612_expense_list.csv\n",
      "데이터 폴더(2017)가 이미 있습니다. 2017년 데이터의 다운로드를 시작합니다.\n",
      "https://github.com/seoul-opengov/opengov/raw/master/expense_list2017/201701_expense_list.csv\n",
      "https://github.com/seoul-opengov/opengov/raw/master/expense_list2017/201702_expense_list.csv\n",
      "https://github.com/seoul-opengov/opengov/raw/master/expense_list2017/201703_expense_list.csv\n",
      "https://github.com/seoul-opengov/opengov/raw/master/expense_list2017/201704_expense_list.csv\n",
      "https://github.com/seoul-opengov/opengov/raw/master/expense_list2017/201705_expense_list.csv\n",
      "https://github.com/seoul-opengov/opengov/raw/master/expense_list2017/201706_expense_list.csv\n",
      "https://github.com/seoul-opengov/opengov/raw/master/expense_list2017/201707_expense_list.csv\n",
      "https://github.com/seoul-opengov/opengov/raw/master/expense_list2017/201708_expense_list.csv\n",
      "https://github.com/seoul-opengov/opengov/raw/master/expense_list2017/201709_expense_list.csv\n",
      "https://github.com/seoul-opengov/opengov/raw/master/expense_list2017/201710_expense_list.csv\n",
      "https://github.com/seoul-opengov/opengov/raw/master/expense_list2017/201711_expense_list.csv\n",
      "https://github.com/seoul-opengov/opengov/raw/master/expense_list2017/201712_expense_list.csv\n",
      "데이터 폴더(2018)가 이미 있습니다. 2018년 데이터의 다운로드를 시작합니다.\n",
      "https://github.com/seoul-opengov/opengov/raw/master/expense_list2018/201801_expense_list.csv\n",
      "https://github.com/seoul-opengov/opengov/raw/master/expense_list2018/201802_expense_list.csv\n",
      "https://github.com/seoul-opengov/opengov/raw/master/expense_list2018/201803_expense_list.csv\n",
      "https://github.com/seoul-opengov/opengov/raw/master/expense_list2018/201804_expense_list.csv\n",
      "https://github.com/seoul-opengov/opengov/raw/master/expense_list2018/201805_expense_list.csv\n",
      "https://github.com/seoul-opengov/opengov/raw/master/expense_list2018/201806_expense_list.csv\n",
      "https://github.com/seoul-opengov/opengov/raw/master/expense_list2018/201807_expense_list.csv\n",
      "https://github.com/seoul-opengov/opengov/raw/master/expense_list2018/201808_expense_list.csv\n",
      "https://github.com/seoul-opengov/opengov/raw/master/expense_list2018/201809_expense_list.csv\n",
      "https://github.com/seoul-opengov/opengov/raw/master/expense_list2018/201810_expense_list.csv\n",
      "https://github.com/seoul-opengov/opengov/raw/master/expense_list2018/201811_expense_list.csv\n",
      "https://github.com/seoul-opengov/opengov/raw/master/expense_list2018/201812_expense_list.csv\n",
      "모든 데이터를 다운로드 받았습니다.\n"
     ]
    }
   ],
   "source": [
    "data_folder = 'C:/myPyCode/data/seoul_expense/'\n",
    "\n",
    "years = [2016, 2017, 2018] # 다운로드받을 연도를 지정\n",
    "\n",
    "extension = \"csv\"\n",
    "# extension = \"xlsx\"\n",
    "# extension = \"xml\"\n",
    "\n",
    "for year in years:\n",
    "    get_seoul_expense_list(extension, year, data_folder)\n",
    "\n",
    "print(\"모든 데이터를 다운로드 받았습니다.\")"
   ]
  },
  {
   "cell_type": "markdown",
   "metadata": {},
   "source": [
    "**[16장: 561페이지]**"
   ]
  },
  {
   "cell_type": "code",
   "execution_count": 69,
   "metadata": {},
   "outputs": [
    {
     "name": "stdout",
     "output_type": "stream",
     "text": [
      "[폴더 이름] C:/myPyCode/data/seoul_expense/2016/\n",
      "* CSV 파일: ['201601_expense_list.csv', '201602_expense_list.csv', '201603_expense_list.csv', '201604_expense_list.csv', '201605_expense_list.csv', '201606_expense_list.csv', '201607_expense_list.csv', '201608_expense_list.csv', '201609_expense_list.csv', '201610_expense_list.csv', '201611_expense_list.csv', '201612_expense_list.csv']\n",
      "[폴더 이름] C:/myPyCode/data/seoul_expense/2017/\n",
      "* CSV 파일: ['201701_expense_list.csv', '201702_expense_list.csv', '201703_expense_list.csv', '201704_expense_list.csv', '201705_expense_list.csv', '201706_expense_list.csv', '201707_expense_list.csv', '201708_expense_list.csv', '201709_expense_list.csv', '201710_expense_list.csv', '201711_expense_list.csv', '201712_expense_list.csv']\n",
      "[폴더 이름] C:/myPyCode/data/seoul_expense/2018/\n",
      "* CSV 파일: ['201801_expense_list.csv', '201802_expense_list.csv', '201803_expense_list.csv', '201804_expense_list.csv', '201805_expense_list.csv', '201806_expense_list.csv', '201807_expense_list.csv', '201808_expense_list.csv', '201809_expense_list.csv', '201810_expense_list.csv', '201811_expense_list.csv', '201812_expense_list.csv']\n"
     ]
    }
   ],
   "source": [
    "import glob\n",
    "\n",
    "data_folder = 'C:/myPyCode/data/seoul_expense/'\n",
    "\n",
    "years = [2016, 2017, 2018] # 다운로드받을 연도를 지정\n",
    "\n",
    "for year in years:\n",
    "    path_name = data_folder + str(year) + \"/\" # 연도별 폴더명을 지정\n",
    "    \n",
    "    # 지정 폴더에서 파일명에 list.csv가 포함된 파일만 지정\n",
    "    file_name_for_glob = path_name + \"*list.csv\"\n",
    "    \n",
    "    csv_files = []\n",
    "    for csv_file in glob.glob(file_name_for_glob): \n",
    "        # 반환값에서 폴더는 제거하고 파일명만 추출\n",
    "        csv_files.append(csv_file.split(\"\\\\\")[-1]) \n",
    "\n",
    "    print(\"[폴더 이름]\", path_name) # 폴더명 출력\n",
    "    print(\"* CSV 파일:\", csv_files)"
   ]
  },
  {
   "cell_type": "markdown",
   "metadata": {},
   "source": [
    "### 데이터 처리"
   ]
  },
  {
   "cell_type": "markdown",
   "metadata": {},
   "source": [
    "#### 수집된 데이터 파일의 구조 분석"
   ]
  },
  {
   "cell_type": "markdown",
   "metadata": {},
   "source": [
    "**[16장: 562페이지]**"
   ]
  },
  {
   "cell_type": "code",
   "execution_count": 71,
   "metadata": {},
   "outputs": [
    {
     "name": "stdout",
     "output_type": "stream",
     "text": [
      "\n",
      "\n",
      "\n",
      "\n",
      "\n",
      "\n"
     ]
    }
   ],
   "source": [
    "data_file = 'C:/myPyCode/data/seoul_expense/2016/201601_expense_list.csv'\n",
    "\n",
    "with open(data_file, encoding='utf-8') as f:\n",
    "    line1 = f.readline()\n",
    "    line2 = f.readline()\n",
    "    line3 = f.readline()\n",
    "\n",
    "    print(line1)\n",
    "    print(line2)\n",
    "    print(line3)"
   ]
  },
  {
   "cell_type": "markdown",
   "metadata": {},
   "source": [
    "**[16장: 563페이지]**"
   ]
  },
  {
   "cell_type": "code",
   "execution_count": 72,
   "metadata": {},
   "outputs": [
    {
     "name": "stdout",
     "output_type": "stream",
     "text": [
      "[각 줄의 데이터값의 개수]\n",
      "첫째 줄:1, 둘째 줄:1, 셋째 줄:1\n"
     ]
    }
   ],
   "source": [
    "line1_len = len(line1.split(','))\n",
    "line2_len = len(line2.split(','))\n",
    "line3_len = len(line3.split(','))\n",
    "\n",
    "print(\"[각 줄의 데이터값의 개수]\")\n",
    "print(\"첫째 줄:{}, 둘째 줄:{}, 셋째 줄:{}\".format(line1_len, line2_len, line3_len))"
   ]
  },
  {
   "cell_type": "markdown",
   "metadata": {},
   "source": [
    "**[16장: 563페이지]**"
   ]
  },
  {
   "cell_type": "code",
   "execution_count": 73,
   "metadata": {},
   "outputs": [],
   "source": [
    "def get_value_count(line):\n",
    "    \n",
    "    line_rep_list = []\n",
    "    for k, x in enumerate(line.split('\"')):\n",
    "        if(k % 2 != 0):\n",
    "            x = x.replace(',', '')\n",
    "        line_rep_list.append(x)\n",
    "        \n",
    "    line_rep_str = ''.join(line_rep_list) \n",
    "           \n",
    "    return len(line_rep_str.split(','))"
   ]
  },
  {
   "cell_type": "markdown",
   "metadata": {},
   "source": [
    "**[16장: 564페이지]**"
   ]
  },
  {
   "cell_type": "code",
   "execution_count": 74,
   "metadata": {},
   "outputs": [
    {
     "name": "stdout",
     "output_type": "stream",
     "text": [
      "[각 줄의 데이터값의 개수]\n",
      "첫째 줄:1, 둘째 줄:1, 셋째 줄:1\n"
     ]
    }
   ],
   "source": [
    "line1_len = get_value_count(line1)\n",
    "line2_len = get_value_count(line2)\n",
    "line3_len = get_value_count(line3)\n",
    "\n",
    "print(\"[각 줄의 데이터값의 개수]\")\n",
    "print(\"첫째 줄:{}, 둘째 줄:{}, 셋째 줄:{}\".format(line1_len, line2_len, line3_len))"
   ]
  },
  {
   "cell_type": "markdown",
   "metadata": {},
   "source": [
    "#### 첫 번째 줄의 열 이름과 개수 변경"
   ]
  },
  {
   "cell_type": "markdown",
   "metadata": {},
   "source": [
    "**[16장: 565페이지]**"
   ]
  },
  {
   "cell_type": "code",
   "execution_count": 75,
   "metadata": {},
   "outputs": [],
   "source": [
    "def change_csv_file_first_line_value(old_file_name, new_file_name):\n",
    "    with open(old_file_name, encoding='utf-8') as f:  # 파일을 읽기 모드로 열기\n",
    "        # 전체 데이터를 읽어서 한 줄씩 lines 리스트의 각 요소에 할당\n",
    "        lines = f.read().splitlines()\n",
    "    \n",
    "    # 첫째 줄의 내용을 변경할 열 이름을 지정해서 변경\n",
    "    lines[0] = 'nid,제목,url,부서레벨1,부서레벨2,부서레벨3,부서레벨4,부서레벨5,\\\n",
    "집행연도,집행월,예산,집행,구분,부서명,집행일시,집행장소,집행목적,대상인원,결제방법,집행금액'\n",
    "    \n",
    "    with open(new_file_name, 'w', encoding='utf-8') as f:  # 파일을 쓰기 모드로 열기\n",
    "        # 리스트 내의 각 요소를 개행문자(\\n)로 연결해서 파일로 저장\n",
    "        f.write('\\n'.join(lines))"
   ]
  },
  {
   "cell_type": "markdown",
   "metadata": {},
   "source": [
    "**[16장: 565페이지]**"
   ]
  },
  {
   "cell_type": "code",
   "execution_count": 76,
   "metadata": {},
   "outputs": [],
   "source": [
    "# 기존의 파일\n",
    "old_file_name = 'C:/myPyCode/data/seoul_expense/2016/201601_expense_list.csv'\n",
    "\n",
    "# 새로운 파일\n",
    "new_file_name = 'C:/myPyCode/data/seoul_expense/2016/201601_expense_list_new.csv' \n",
    "\n",
    "# 첫째 줄의 내용을 변경한 새로운 파일 생성\n",
    "change_csv_file_first_line_value(old_file_name, new_file_name)"
   ]
  },
  {
   "cell_type": "markdown",
   "metadata": {},
   "source": [
    "**[16장: 565페이지]**"
   ]
  },
  {
   "cell_type": "code",
   "execution_count": 77,
   "metadata": {},
   "outputs": [
    {
     "name": "stdout",
     "output_type": "stream",
     "text": [
      "nid,제목,url,부서레벨1,부서레벨2,부서레벨3,부서레벨4,부서레벨5,집행연도,집행월,예산,집행,구분,부서명,집행일시,집행장소,집행목적,대상인원,결제방법,집행금액\n",
      "\n",
      "\n",
      "\n",
      "\n",
      "\n"
     ]
    }
   ],
   "source": [
    "with open(new_file_name, encoding='utf-8') as f:  # 파일을 읽기 모드로 열기\n",
    "    for k in range(3):\n",
    "        print(f.readline())"
   ]
  },
  {
   "cell_type": "markdown",
   "metadata": {},
   "source": [
    "**[16장: 566페이지]**"
   ]
  },
  {
   "cell_type": "code",
   "execution_count": 78,
   "metadata": {},
   "outputs": [],
   "source": [
    "# 인자: 연도, 데이터 파일이 있는 폴더\n",
    "def change_year_csv_file_first_line_value(year, data_folder): \n",
    "\n",
    "    # 데이터 파일이 있는 폴더 지정\n",
    "    # ex) 'C:/myPyCode/data/seoul_expense/2016/'\n",
    "    expense_list_year_dir = data_folder + str(year) + '/'\n",
    "    \n",
    "    extension = 'csv' # 확장자 이름\n",
    "    \n",
    "    # 지정한 폴더에 있는 월별 업무추진비 파일에서 첫 번째 줄의 열 이름을 변경 \n",
    "    for k in range(12):\n",
    "        # 기존의 파일 이름 지정\n",
    "        old_file_name = expense_list_year_dir + '{0}{1:02d}_expense_list.{2}'.format(year, k+1, extension) \n",
    "        \n",
    "        # 새로운 파일 이름 지정\n",
    "        new_file_name = expense_list_year_dir + '{0}{1:02d}_expense_list_new.{2}'.format(year, k+1, extension) \n",
    "  \n",
    "        # 첫째 줄의 내용을 변경한 새로운 파일 생성\n",
    "        change_csv_file_first_line_value(old_file_name, new_file_name)"
   ]
  },
  {
   "cell_type": "markdown",
   "metadata": {},
   "source": [
    "**[16장: 566 ~ 567페이지]**"
   ]
  },
  {
   "cell_type": "code",
   "execution_count": 79,
   "metadata": {},
   "outputs": [
    {
     "name": "stdout",
     "output_type": "stream",
     "text": [
      "2016년 데이터의 첫 번째 줄의 열 이름을 변경해서 새 파일에 저장합니다.\n",
      "2017년 데이터의 첫 번째 줄의 열 이름을 변경해서 새 파일에 저장합니다.\n",
      "2018년 데이터의 첫 번째 줄의 열 이름을 변경해서 새 파일에 저장합니다.\n",
      "모든 데이터의 첫 번째 줄의 열 이름을 변경해서 새 파일로 저장했습니다.\n"
     ]
    }
   ],
   "source": [
    "data_folder = 'C:/myPyCode/data/seoul_expense/'\n",
    "\n",
    "years = [2016, 2017, 2018] # 연도를 지정\n",
    "\n",
    "for year in years:\n",
    "    print(\"{}년 데이터의 첫 번째 줄의 열 이름을 변경해서 새 파일에 저장합니다.\".format(year))\n",
    "    change_year_csv_file_first_line_value(year, data_folder)\n",
    "\n",
    "print(\"모든 데이터의 첫 번째 줄의 열 이름을 변경해서 새 파일로 저장했습니다.\")"
   ]
  },
  {
   "cell_type": "markdown",
   "metadata": {},
   "source": [
    "**[16장: 567페이지]**"
   ]
  },
  {
   "cell_type": "code",
   "execution_count": 80,
   "metadata": {},
   "outputs": [
    {
     "name": "stdout",
     "output_type": "stream",
     "text": [
      "[폴더 이름] C:/myPyCode/data/seoul_expense/2016\n",
      "* 새롭게 생성된 CSV 파일: ['201601_expense_list_new.csv', '201602_expense_list_new.csv', '201603_expense_list_new.csv', '201604_expense_list_new.csv', '201605_expense_list_new.csv', '201606_expense_list_new.csv', '201607_expense_list_new.csv', '201608_expense_list_new.csv', '201609_expense_list_new.csv', '201610_expense_list_new.csv', '201611_expense_list_new.csv', '201612_expense_list_new.csv']\n",
      "[폴더 이름] C:/myPyCode/data/seoul_expense/2017\n",
      "* 새롭게 생성된 CSV 파일: ['201701_expense_list_new.csv', '201702_expense_list_new.csv', '201703_expense_list_new.csv', '201704_expense_list_new.csv', '201705_expense_list_new.csv', '201706_expense_list_new.csv', '201707_expense_list_new.csv', '201708_expense_list_new.csv', '201709_expense_list_new.csv', '201710_expense_list_new.csv', '201711_expense_list_new.csv', '201712_expense_list_new.csv']\n",
      "[폴더 이름] C:/myPyCode/data/seoul_expense/2018\n",
      "* 새롭게 생성된 CSV 파일: ['201801_expense_list_new.csv', '201802_expense_list_new.csv', '201803_expense_list_new.csv', '201804_expense_list_new.csv', '201805_expense_list_new.csv', '201806_expense_list_new.csv', '201807_expense_list_new.csv', '201808_expense_list_new.csv', '201809_expense_list_new.csv', '201810_expense_list_new.csv', '201811_expense_list_new.csv', '201812_expense_list_new.csv']\n"
     ]
    }
   ],
   "source": [
    "import glob\n",
    "\n",
    "data_folder = 'C:/myPyCode/data/seoul_expense/'\n",
    "\n",
    "years = [2016, 2017, 2018] # 연도를 지정\n",
    "\n",
    "for year in years:\n",
    "    path_name = data_folder + str(year) # 폴더명을 지정\n",
    "    print(\"[폴더 이름]\", path_name) # 폴더명 출력\n",
    "\n",
    "    new_csv_files = []\n",
    "    \n",
    "    # 지정 폴더에서 파일명에 _new.csv가 포함된 파일만 지정\n",
    "    file_name_for_glob = path_name + \"/*_new.csv\" \n",
    "    \n",
    "    for new_csv_file in glob.glob(file_name_for_glob): \n",
    "        # 반환값에서 폴더는 제거하고 파일 이름만 추출\n",
    "        new_csv_files.append(new_csv_file.split(\"\\\\\")[-1]) \n",
    "    \n",
    "    print(\"* 새롭게 생성된 CSV 파일:\", new_csv_files)"
   ]
  },
  {
   "cell_type": "markdown",
   "metadata": {},
   "source": [
    "#### 데이터의 구조 및 결측치 살펴보기"
   ]
  },
  {
   "cell_type": "markdown",
   "metadata": {},
   "source": [
    "**[16장: 568페이지]**"
   ]
  },
  {
   "cell_type": "code",
   "execution_count": 81,
   "metadata": {},
   "outputs": [],
   "source": [
    "import pandas as pd\n",
    "\n",
    "expense_list2016_dir = 'C:/myPyCode/data/seoul_expense/2016/'\n",
    "file_name = \"201601_expense_list_new.csv\"\n",
    "\n",
    "df = pd.read_csv(expense_list2016_dir + file_name)"
   ]
  },
  {
   "cell_type": "markdown",
   "metadata": {},
   "source": [
    "**[16장: 568페이지]**"
   ]
  },
  {
   "cell_type": "code",
   "execution_count": 82,
   "metadata": {},
   "outputs": [
    {
     "data": {
      "text/html": [
       "<div>\n",
       "<style scoped>\n",
       "    .dataframe tbody tr th:only-of-type {\n",
       "        vertical-align: middle;\n",
       "    }\n",
       "\n",
       "    .dataframe tbody tr th {\n",
       "        vertical-align: top;\n",
       "    }\n",
       "\n",
       "    .dataframe thead th {\n",
       "        text-align: right;\n",
       "    }\n",
       "</style>\n",
       "<table border=\"1\" class=\"dataframe\">\n",
       "  <thead>\n",
       "    <tr style=\"text-align: right;\">\n",
       "      <th></th>\n",
       "      <th>nid</th>\n",
       "      <th>제목</th>\n",
       "      <th>url</th>\n",
       "      <th>부서레벨1</th>\n",
       "      <th>부서레벨2</th>\n",
       "      <th>부서레벨3</th>\n",
       "      <th>부서레벨4</th>\n",
       "      <th>부서레벨5</th>\n",
       "      <th>집행연도</th>\n",
       "      <th>집행월</th>\n",
       "      <th>예산</th>\n",
       "      <th>집행</th>\n",
       "      <th>구분</th>\n",
       "      <th>부서명</th>\n",
       "      <th>집행일시</th>\n",
       "      <th>집행장소</th>\n",
       "      <th>집행목적</th>\n",
       "      <th>대상인원</th>\n",
       "      <th>결제방법</th>\n",
       "      <th>집행금액</th>\n",
       "    </tr>\n",
       "  </thead>\n",
       "  <tbody>\n",
       "    <tr>\n",
       "      <th>0</th>\n",
       "      <td>&lt;!DOCTYPE html&gt;</td>\n",
       "      <td>NaN</td>\n",
       "      <td>NaN</td>\n",
       "      <td>NaN</td>\n",
       "      <td>NaN</td>\n",
       "      <td>NaN</td>\n",
       "      <td>NaN</td>\n",
       "      <td>NaN</td>\n",
       "      <td>NaN</td>\n",
       "      <td>NaN</td>\n",
       "      <td>NaN</td>\n",
       "      <td>NaN</td>\n",
       "      <td>NaN</td>\n",
       "      <td>NaN</td>\n",
       "      <td>NaN</td>\n",
       "      <td>NaN</td>\n",
       "      <td>NaN</td>\n",
       "      <td>NaN</td>\n",
       "      <td>NaN</td>\n",
       "      <td>NaN</td>\n",
       "    </tr>\n",
       "    <tr>\n",
       "      <th>1</th>\n",
       "      <td>&lt;html lang=\"en\"&gt;</td>\n",
       "      <td>NaN</td>\n",
       "      <td>NaN</td>\n",
       "      <td>NaN</td>\n",
       "      <td>NaN</td>\n",
       "      <td>NaN</td>\n",
       "      <td>NaN</td>\n",
       "      <td>NaN</td>\n",
       "      <td>NaN</td>\n",
       "      <td>NaN</td>\n",
       "      <td>NaN</td>\n",
       "      <td>NaN</td>\n",
       "      <td>NaN</td>\n",
       "      <td>NaN</td>\n",
       "      <td>NaN</td>\n",
       "      <td>NaN</td>\n",
       "      <td>NaN</td>\n",
       "      <td>NaN</td>\n",
       "      <td>NaN</td>\n",
       "      <td>NaN</td>\n",
       "    </tr>\n",
       "  </tbody>\n",
       "</table>\n",
       "</div>"
      ],
      "text/plain": [
       "                nid   제목  url 부서레벨1 부서레벨2 부서레벨3 부서레벨4 부서레벨5 집행연도  집행월  예산  집행  \\\n",
       "0   <!DOCTYPE html>  NaN  NaN   NaN   NaN   NaN   NaN   NaN  NaN  NaN NaN NaN   \n",
       "1  <html lang=\"en\">  NaN  NaN   NaN   NaN   NaN   NaN   NaN  NaN  NaN NaN NaN   \n",
       "\n",
       "   구분  부서명  집행일시  집행장소  집행목적  대상인원  결제방법  집행금액  \n",
       "0 NaN  NaN   NaN   NaN   NaN   NaN   NaN   NaN  \n",
       "1 NaN  NaN   NaN   NaN   NaN   NaN   NaN   NaN  "
      ]
     },
     "execution_count": 82,
     "metadata": {},
     "output_type": "execute_result"
    }
   ],
   "source": [
    "df.head(2)"
   ]
  },
  {
   "cell_type": "markdown",
   "metadata": {},
   "source": [
    "**[16장: 569페이지]**"
   ]
  },
  {
   "cell_type": "code",
   "execution_count": 83,
   "metadata": {},
   "outputs": [],
   "source": [
    "import pandas as pd\n",
    "\n",
    "year = 2016\n",
    "expense_list_year_dir = 'C:/myPyCode/data/seoul_expense/' + str(year) + '/'\n",
    "\n",
    "df_year = pd.DataFrame()\n",
    "for k in range(12):\n",
    "    \n",
    "    # 파일 이름 지정\n",
    "    file_name = \"{0}{1:02d}_expense_list_new.csv\".format(year, k+1)\n",
    "    \n",
    "    # pandas DataFrame 형식으로 csv 데이터 불러오기\n",
    "    df_month = pd.read_csv(expense_list_year_dir + file_name)\n",
    "    \n",
    "    # df_year에 df_month를 세로 방향으로 추가해서 다시 df_year에 할당\n",
    "    # 통합된 dataFrame의 순서대로 index를 할당하기 위해서 `ignore_index = True` 옵션 지정\n",
    "    df_year = df_year.append(df_month, ignore_index = True)"
   ]
  },
  {
   "cell_type": "markdown",
   "metadata": {},
   "source": [
    "**[16장: 569페이지]**"
   ]
  },
  {
   "cell_type": "code",
   "execution_count": 84,
   "metadata": {},
   "outputs": [
    {
     "data": {
      "text/html": [
       "<div>\n",
       "<style scoped>\n",
       "    .dataframe tbody tr th:only-of-type {\n",
       "        vertical-align: middle;\n",
       "    }\n",
       "\n",
       "    .dataframe tbody tr th {\n",
       "        vertical-align: top;\n",
       "    }\n",
       "\n",
       "    .dataframe thead th {\n",
       "        text-align: right;\n",
       "    }\n",
       "</style>\n",
       "<table border=\"1\" class=\"dataframe\">\n",
       "  <thead>\n",
       "    <tr style=\"text-align: right;\">\n",
       "      <th></th>\n",
       "      <th>nid</th>\n",
       "      <th>제목</th>\n",
       "      <th>url</th>\n",
       "      <th>부서레벨1</th>\n",
       "      <th>부서레벨2</th>\n",
       "      <th>부서레벨3</th>\n",
       "      <th>부서레벨4</th>\n",
       "      <th>부서레벨5</th>\n",
       "      <th>집행연도</th>\n",
       "      <th>집행월</th>\n",
       "      <th>예산</th>\n",
       "      <th>집행</th>\n",
       "      <th>구분</th>\n",
       "      <th>부서명</th>\n",
       "      <th>집행일시</th>\n",
       "      <th>집행장소</th>\n",
       "      <th>집행목적</th>\n",
       "      <th>대상인원</th>\n",
       "      <th>결제방법</th>\n",
       "      <th>집행금액</th>\n",
       "    </tr>\n",
       "  </thead>\n",
       "  <tbody>\n",
       "    <tr>\n",
       "      <th>0</th>\n",
       "      <td>&lt;!DOCTYPE html&gt;</td>\n",
       "      <td>NaN</td>\n",
       "      <td>NaN</td>\n",
       "      <td>NaN</td>\n",
       "      <td>NaN</td>\n",
       "      <td>NaN</td>\n",
       "      <td>NaN</td>\n",
       "      <td>NaN</td>\n",
       "      <td>NaN</td>\n",
       "      <td>NaN</td>\n",
       "      <td>NaN</td>\n",
       "      <td>NaN</td>\n",
       "      <td>NaN</td>\n",
       "      <td>NaN</td>\n",
       "      <td>NaN</td>\n",
       "      <td>NaN</td>\n",
       "      <td>NaN</td>\n",
       "      <td>NaN</td>\n",
       "      <td>NaN</td>\n",
       "      <td>NaN</td>\n",
       "    </tr>\n",
       "    <tr>\n",
       "      <th>1</th>\n",
       "      <td>&lt;html lang=\"en\"&gt;</td>\n",
       "      <td>NaN</td>\n",
       "      <td>NaN</td>\n",
       "      <td>NaN</td>\n",
       "      <td>NaN</td>\n",
       "      <td>NaN</td>\n",
       "      <td>NaN</td>\n",
       "      <td>NaN</td>\n",
       "      <td>NaN</td>\n",
       "      <td>NaN</td>\n",
       "      <td>NaN</td>\n",
       "      <td>NaN</td>\n",
       "      <td>NaN</td>\n",
       "      <td>NaN</td>\n",
       "      <td>NaN</td>\n",
       "      <td>NaN</td>\n",
       "      <td>NaN</td>\n",
       "      <td>NaN</td>\n",
       "      <td>NaN</td>\n",
       "      <td>NaN</td>\n",
       "    </tr>\n",
       "  </tbody>\n",
       "</table>\n",
       "</div>"
      ],
      "text/plain": [
       "                nid   제목  url 부서레벨1 부서레벨2 부서레벨3 부서레벨4 부서레벨5 집행연도  집행월  예산  집행  \\\n",
       "0   <!DOCTYPE html>  NaN  NaN   NaN   NaN   NaN   NaN   NaN  NaN  NaN NaN NaN   \n",
       "1  <html lang=\"en\">  NaN  NaN   NaN   NaN   NaN   NaN   NaN  NaN  NaN NaN NaN   \n",
       "\n",
       "   구분  부서명  집행일시  집행장소  집행목적  대상인원  결제방법  집행금액  \n",
       "0 NaN  NaN   NaN   NaN   NaN   NaN   NaN   NaN  \n",
       "1 NaN  NaN   NaN   NaN   NaN   NaN   NaN   NaN  "
      ]
     },
     "execution_count": 84,
     "metadata": {},
     "output_type": "execute_result"
    }
   ],
   "source": [
    "df_year.head(2)"
   ]
  },
  {
   "cell_type": "markdown",
   "metadata": {},
   "source": [
    "**[16장: 569페이지]**"
   ]
  },
  {
   "cell_type": "code",
   "execution_count": 85,
   "metadata": {},
   "outputs": [
    {
     "data": {
      "text/html": [
       "<div>\n",
       "<style scoped>\n",
       "    .dataframe tbody tr th:only-of-type {\n",
       "        vertical-align: middle;\n",
       "    }\n",
       "\n",
       "    .dataframe tbody tr th {\n",
       "        vertical-align: top;\n",
       "    }\n",
       "\n",
       "    .dataframe thead th {\n",
       "        text-align: right;\n",
       "    }\n",
       "</style>\n",
       "<table border=\"1\" class=\"dataframe\">\n",
       "  <thead>\n",
       "    <tr style=\"text-align: right;\">\n",
       "      <th></th>\n",
       "      <th>nid</th>\n",
       "      <th>제목</th>\n",
       "      <th>url</th>\n",
       "      <th>부서레벨1</th>\n",
       "      <th>부서레벨2</th>\n",
       "      <th>부서레벨3</th>\n",
       "      <th>부서레벨4</th>\n",
       "      <th>부서레벨5</th>\n",
       "      <th>집행연도</th>\n",
       "      <th>집행월</th>\n",
       "      <th>예산</th>\n",
       "      <th>집행</th>\n",
       "      <th>구분</th>\n",
       "      <th>부서명</th>\n",
       "      <th>집행일시</th>\n",
       "      <th>집행장소</th>\n",
       "      <th>집행목적</th>\n",
       "      <th>대상인원</th>\n",
       "      <th>결제방법</th>\n",
       "      <th>집행금액</th>\n",
       "    </tr>\n",
       "  </thead>\n",
       "  <tbody>\n",
       "    <tr>\n",
       "      <th>5722</th>\n",
       "      <td>&lt;/body&gt;</td>\n",
       "      <td>NaN</td>\n",
       "      <td>NaN</td>\n",
       "      <td>NaN</td>\n",
       "      <td>NaN</td>\n",
       "      <td>NaN</td>\n",
       "      <td>NaN</td>\n",
       "      <td>NaN</td>\n",
       "      <td>NaN</td>\n",
       "      <td>NaN</td>\n",
       "      <td>NaN</td>\n",
       "      <td>NaN</td>\n",
       "      <td>NaN</td>\n",
       "      <td>NaN</td>\n",
       "      <td>NaN</td>\n",
       "      <td>NaN</td>\n",
       "      <td>NaN</td>\n",
       "      <td>NaN</td>\n",
       "      <td>NaN</td>\n",
       "      <td>NaN</td>\n",
       "    </tr>\n",
       "    <tr>\n",
       "      <th>5723</th>\n",
       "      <td>&lt;/html&gt;</td>\n",
       "      <td>NaN</td>\n",
       "      <td>NaN</td>\n",
       "      <td>NaN</td>\n",
       "      <td>NaN</td>\n",
       "      <td>NaN</td>\n",
       "      <td>NaN</td>\n",
       "      <td>NaN</td>\n",
       "      <td>NaN</td>\n",
       "      <td>NaN</td>\n",
       "      <td>NaN</td>\n",
       "      <td>NaN</td>\n",
       "      <td>NaN</td>\n",
       "      <td>NaN</td>\n",
       "      <td>NaN</td>\n",
       "      <td>NaN</td>\n",
       "      <td>NaN</td>\n",
       "      <td>NaN</td>\n",
       "      <td>NaN</td>\n",
       "      <td>NaN</td>\n",
       "    </tr>\n",
       "  </tbody>\n",
       "</table>\n",
       "</div>"
      ],
      "text/plain": [
       "            nid   제목  url 부서레벨1 부서레벨2 부서레벨3 부서레벨4 부서레벨5 집행연도  집행월  예산  집행  구분  \\\n",
       "5722    </body>  NaN  NaN   NaN   NaN   NaN   NaN   NaN  NaN  NaN NaN NaN NaN   \n",
       "5723    </html>  NaN  NaN   NaN   NaN   NaN   NaN   NaN  NaN  NaN NaN NaN NaN   \n",
       "\n",
       "      부서명  집행일시  집행장소  집행목적  대상인원  결제방법  집행금액  \n",
       "5722  NaN   NaN   NaN   NaN   NaN   NaN   NaN  \n",
       "5723  NaN   NaN   NaN   NaN   NaN   NaN   NaN  "
      ]
     },
     "execution_count": 85,
     "metadata": {},
     "output_type": "execute_result"
    }
   ],
   "source": [
    "df_year.tail(2)"
   ]
  },
  {
   "cell_type": "markdown",
   "metadata": {},
   "source": [
    "**[16장: 570페이지]**"
   ]
  },
  {
   "cell_type": "code",
   "execution_count": 86,
   "metadata": {},
   "outputs": [
    {
     "name": "stdout",
     "output_type": "stream",
     "text": [
      "<class 'pandas.core.frame.DataFrame'>\n",
      "RangeIndex: 5724 entries, 0 to 5723\n",
      "Data columns (total 20 columns):\n",
      "nid      5724 non-null object\n",
      "제목       996 non-null object\n",
      "url      540 non-null object\n",
      "부서레벨1    84 non-null object\n",
      "부서레벨2    48 non-null object\n",
      "부서레벨3    48 non-null object\n",
      "부서레벨4    36 non-null object\n",
      "부서레벨5    36 non-null object\n",
      "집행연도     36 non-null object\n",
      "집행월      0 non-null float64\n",
      "예산       0 non-null float64\n",
      "집행       0 non-null float64\n",
      "구분       0 non-null float64\n",
      "부서명      0 non-null float64\n",
      "집행일시     0 non-null float64\n",
      "집행장소     0 non-null float64\n",
      "집행목적     0 non-null float64\n",
      "대상인원     0 non-null float64\n",
      "결제방법     0 non-null float64\n",
      "집행금액     0 non-null float64\n",
      "dtypes: float64(11), object(9)\n",
      "memory usage: 894.5+ KB\n"
     ]
    }
   ],
   "source": [
    "df_year.info()"
   ]
  },
  {
   "cell_type": "markdown",
   "metadata": {},
   "source": [
    "**[16장: 571페이지]**"
   ]
  },
  {
   "cell_type": "code",
   "execution_count": 87,
   "metadata": {},
   "outputs": [
    {
     "data": {
      "text/plain": [
       "nid         0\n",
       "제목       4728\n",
       "url      5184\n",
       "부서레벨1    5640\n",
       "부서레벨2    5676\n",
       "부서레벨3    5676\n",
       "부서레벨4    5688\n",
       "부서레벨5    5688\n",
       "집행연도     5688\n",
       "집행월      5724\n",
       "예산       5724\n",
       "집행       5724\n",
       "구분       5724\n",
       "부서명      5724\n",
       "집행일시     5724\n",
       "집행장소     5724\n",
       "집행목적     5724\n",
       "대상인원     5724\n",
       "결제방법     5724\n",
       "집행금액     5724\n",
       "dtype: int64"
      ]
     },
     "execution_count": 87,
     "metadata": {},
     "output_type": "execute_result"
    }
   ],
   "source": [
    "df_year.isna().sum()"
   ]
  },
  {
   "cell_type": "markdown",
   "metadata": {},
   "source": [
    "**[16장: 572페이지]**"
   ]
  },
  {
   "cell_type": "code",
   "execution_count": 88,
   "metadata": {},
   "outputs": [
    {
     "data": {
      "text/html": [
       "<div>\n",
       "<style scoped>\n",
       "    .dataframe tbody tr th:only-of-type {\n",
       "        vertical-align: middle;\n",
       "    }\n",
       "\n",
       "    .dataframe tbody tr th {\n",
       "        vertical-align: top;\n",
       "    }\n",
       "\n",
       "    .dataframe thead th {\n",
       "        text-align: right;\n",
       "    }\n",
       "</style>\n",
       "<table border=\"1\" class=\"dataframe\">\n",
       "  <thead>\n",
       "    <tr style=\"text-align: right;\">\n",
       "      <th></th>\n",
       "      <th>제목</th>\n",
       "      <th>부서레벨1</th>\n",
       "      <th>부서레벨2</th>\n",
       "      <th>집행연도</th>\n",
       "      <th>집행월</th>\n",
       "      <th>부서명</th>\n",
       "      <th>집행일시</th>\n",
       "      <th>집행장소</th>\n",
       "      <th>집행목적</th>\n",
       "      <th>대상인원</th>\n",
       "      <th>결제방법</th>\n",
       "      <th>집행금액</th>\n",
       "    </tr>\n",
       "  </thead>\n",
       "  <tbody>\n",
       "    <tr>\n",
       "      <th>0</th>\n",
       "      <td>NaN</td>\n",
       "      <td>NaN</td>\n",
       "      <td>NaN</td>\n",
       "      <td>NaN</td>\n",
       "      <td>NaN</td>\n",
       "      <td>NaN</td>\n",
       "      <td>NaN</td>\n",
       "      <td>NaN</td>\n",
       "      <td>NaN</td>\n",
       "      <td>NaN</td>\n",
       "      <td>NaN</td>\n",
       "      <td>NaN</td>\n",
       "    </tr>\n",
       "    <tr>\n",
       "      <th>1</th>\n",
       "      <td>NaN</td>\n",
       "      <td>NaN</td>\n",
       "      <td>NaN</td>\n",
       "      <td>NaN</td>\n",
       "      <td>NaN</td>\n",
       "      <td>NaN</td>\n",
       "      <td>NaN</td>\n",
       "      <td>NaN</td>\n",
       "      <td>NaN</td>\n",
       "      <td>NaN</td>\n",
       "      <td>NaN</td>\n",
       "      <td>NaN</td>\n",
       "    </tr>\n",
       "  </tbody>\n",
       "</table>\n",
       "</div>"
      ],
      "text/plain": [
       "    제목 부서레벨1 부서레벨2 집행연도  집행월  부서명  집행일시  집행장소  집행목적  대상인원  결제방법  집행금액\n",
       "0  NaN   NaN   NaN  NaN  NaN  NaN   NaN   NaN   NaN   NaN   NaN   NaN\n",
       "1  NaN   NaN   NaN  NaN  NaN  NaN   NaN   NaN   NaN   NaN   NaN   NaN"
      ]
     },
     "execution_count": 88,
     "metadata": {},
     "output_type": "execute_result"
    }
   ],
   "source": [
    "df_year_drop = df_year.drop(columns=['nid', 'url', '부서레벨3', '부서레벨4', '부서레벨5', \n",
    "                                     '예산', '집행', '구분'])\n",
    "df_year_drop.head(2)"
   ]
  },
  {
   "cell_type": "markdown",
   "metadata": {},
   "source": [
    "**[16장: 572페이지]**"
   ]
  },
  {
   "cell_type": "code",
   "execution_count": 89,
   "metadata": {},
   "outputs": [],
   "source": [
    "year = 2016\n",
    "expense_list_year_dir = 'C:/myPyCode/data/seoul_expense/' + str(year) + '/'\n",
    "\n",
    "expense_list_tidy_file = \"{}_expense_list_tidy.csv\".format(year)\n",
    "df_year_drop.to_csv(expense_list_year_dir + expense_list_tidy_file, index = False)"
   ]
  },
  {
   "cell_type": "markdown",
   "metadata": {},
   "source": [
    "**[16장: 572페이지]**"
   ]
  },
  {
   "cell_type": "code",
   "execution_count": 90,
   "metadata": {},
   "outputs": [
    {
     "name": "stdout",
     "output_type": "stream",
     "text": [
      "C:/myPyCode/data/seoul_expense/2016/2016_expense_list_tidy.csv\n"
     ]
    },
    {
     "data": {
      "text/plain": [
       "True"
      ]
     },
     "execution_count": 90,
     "metadata": {},
     "output_type": "execute_result"
    }
   ],
   "source": [
    "import os\n",
    "\n",
    "file_name = expense_list_year_dir + expense_list_tidy_file\n",
    "print(file_name)\n",
    "os.path.isfile(file_name)"
   ]
  },
  {
   "cell_type": "markdown",
   "metadata": {},
   "source": [
    "**[16장: 573페이지]**"
   ]
  },
  {
   "cell_type": "code",
   "execution_count": 91,
   "metadata": {},
   "outputs": [],
   "source": [
    "import pandas as pd\n",
    "\n",
    "def select_columns_save_file(year, data_folder, drop_columns_list):\n",
    "    \n",
    "    expense_list_year_dir = data_folder + str(year) + '/'\n",
    "    expense_list_tidy_file = \"{}_expense_list_tidy.csv\".format(year)\n",
    "    df_year = pd.DataFrame()\n",
    "    \n",
    "    for k in range(12):\n",
    "        # 파일 이름 지정\n",
    "        file_name = \"{0}{1:02d}_expense_list_new.csv\".format(year, k+1)\n",
    "        \n",
    "        # aDtaFrame 형식으로 csv 데이터 불러오기\n",
    "        df_month = pd.read_csv(expense_list_year_dir + file_name)\n",
    "        \n",
    "        # fd_year에 df_month를 새로 추가해서 다시 df_year에 할당\n",
    "        # 통합된 adtaFrame의 순서대로 index를 할당하기 위해서 `ignore_index = True` 옵션 지정\n",
    "        df_year = df_year.append(df_month, ignore_index = True)\n",
    "        \n",
    "    df_year_drop = df_year.drop(columns = drop_columns_list)\n",
    "    new_file_name = expense_list_year_dir + expense_list_tidy_file\n",
    "    df_year_drop.to_csv(new_file_name, index = False)\n",
    "    \n",
    "    print(\"==> {} 파일을 생성했습니다.\".format(expense_list_tidy_file))"
   ]
  },
  {
   "cell_type": "markdown",
   "metadata": {},
   "source": [
    "**[16장: 573페이지]**"
   ]
  },
  {
   "cell_type": "code",
   "execution_count": 92,
   "metadata": {},
   "outputs": [
    {
     "name": "stdout",
     "output_type": "stream",
     "text": [
      "2016년 데이터를 정리해서 저장하고 있습니다.\n",
      "==> 2016_expense_list_tidy.csv 파일을 생성했습니다.\n",
      "2017년 데이터를 정리해서 저장하고 있습니다.\n",
      "==> 2017_expense_list_tidy.csv 파일을 생성했습니다.\n",
      "2018년 데이터를 정리해서 저장하고 있습니다.\n",
      "==> 2018_expense_list_tidy.csv 파일을 생성했습니다.\n",
      "모든 연도의 데이터를 정리해서 파일로 저장했습니다.\n"
     ]
    }
   ],
   "source": [
    "data_folder = 'C:/myPyCode/data/seoul_expense/'\n",
    "years = [2016, 2017, 2018]\n",
    "drop_columns_list = ['nid', 'url','부서레벨3', '부서레벨4', '부서레벨5', '예산', '집행', '구분']\n",
    "\n",
    "for year in years:\n",
    "    print(\"{}년 데이터를 정리해서 저장하고 있습니다.\".format(year))\n",
    "    select_columns_save_file(year, data_folder, drop_columns_list)\n",
    "print(\"모든 연도의 데이터를 정리해서 파일로 저장했습니다.\")"
   ]
  },
  {
   "cell_type": "markdown",
   "metadata": {},
   "source": [
    "**[16장: 574페이지]**"
   ]
  },
  {
   "cell_type": "code",
   "execution_count": 93,
   "metadata": {},
   "outputs": [
    {
     "name": "stdout",
     "output_type": "stream",
     "text": [
      "C:/myPyCode/data/seoul_expense/2016/2016_expense_list_tidy.csv ==> True\n",
      "C:/myPyCode/data/seoul_expense/2017/2017_expense_list_tidy.csv ==> True\n",
      "C:/myPyCode/data/seoul_expense/2018/2018_expense_list_tidy.csv ==> True\n"
     ]
    }
   ],
   "source": [
    "import os\n",
    "\n",
    "years = [2016, 2017, 2018]\n",
    "\n",
    "for year in years:\n",
    "    \n",
    "    expense_list_year_dir = data_folder + str(year) + '/'\n",
    "    expense_list_tidy_file = \"{}_expense_list_tidy.csv\".format(year)\n",
    "\n",
    "    file_name = expense_list_year_dir + expense_list_tidy_file\n",
    "    print(file_name, \"==> \", end=\"\")\n",
    "    print(os.path.isfile(file_name))"
   ]
  },
  {
   "cell_type": "markdown",
   "metadata": {},
   "source": [
    "**[16장: 574 ~ 575페이지]**"
   ]
  },
  {
   "cell_type": "code",
   "execution_count": 94,
   "metadata": {},
   "outputs": [],
   "source": [
    "import os\n",
    "from datetime import datetime\n",
    "\n",
    "def get_file_info(year, data_folder):\n",
    "    expense_list_year_dir = data_folder + str(year) + '/'\n",
    "    expense_list_tidy_file = \"{}_expense_list_tidy.csv\".format(year)\n",
    "    \n",
    "    path_file_name = expense_list_year_dir + expense_list_tidy_file\n",
    "    print(path_file_name)\n",
    "    result = os.path.isfile(path_file_name)\n",
    "\n",
    "    # 파일 수정 시간\n",
    "    modified_time = datetime.fromtimestamp(os.path.getmtime(path_file_name))\n",
    "    \n",
    "    # 파일 생성 시간\n",
    "    created_time = datetime.fromtimestamp(os.path.getctime(path_file_name)) \n",
    "    \n",
    "     # 파일 크기\n",
    "    file_size = os.path.getsize(path_file_name)\n",
    "\n",
    "    if(result == True):\n",
    "        print(\"[생성한 CSV 데이터 파일의 정보]\")\n",
    "        print('* 폴더 위치 :', expense_list_year_dir)\n",
    "        print('* 파일 이름 :', expense_list_tidy_file)\n",
    "        print('* 수정 시간 :', modified_time.strftime('%Y-%m-%d %H:%M:%S'))\n",
    "        print('* 생성 시간 :', created_time.strftime('%Y-%m-%d %H:%M:%S'))\n",
    "        print('* 파일 크기 : {0:,} 바이트'.format(file_size))"
   ]
  },
  {
   "cell_type": "markdown",
   "metadata": {},
   "source": [
    "**[16장: 575페이지]**"
   ]
  },
  {
   "cell_type": "code",
   "execution_count": 95,
   "metadata": {},
   "outputs": [
    {
     "name": "stdout",
     "output_type": "stream",
     "text": [
      "C:/myPyCode/data/seoul_expense/2016/2016_expense_list_tidy.csv\n",
      "[생성한 CSV 데이터 파일의 정보]\n",
      "* 폴더 위치 : C:/myPyCode/data/seoul_expense/2016/\n",
      "* 파일 이름 : 2016_expense_list_tidy.csv\n",
      "* 수정 시간 : 2019-12-13 15:11:35\n",
      "* 생성 시간 : 2019-12-13 15:11:29\n",
      "* 파일 크기 : 1,477,815 바이트\n",
      "\n",
      "C:/myPyCode/data/seoul_expense/2017/2017_expense_list_tidy.csv\n",
      "[생성한 CSV 데이터 파일의 정보]\n",
      "* 폴더 위치 : C:/myPyCode/data/seoul_expense/2017/\n",
      "* 파일 이름 : 2017_expense_list_tidy.csv\n",
      "* 수정 시간 : 2019-12-13 15:11:37\n",
      "* 생성 시간 : 2019-12-13 15:11:37\n",
      "* 파일 크기 : 21,505,565 바이트\n",
      "\n",
      "C:/myPyCode/data/seoul_expense/2018/2018_expense_list_tidy.csv\n",
      "[생성한 CSV 데이터 파일의 정보]\n",
      "* 폴더 위치 : C:/myPyCode/data/seoul_expense/2018/\n",
      "* 파일 이름 : 2018_expense_list_tidy.csv\n",
      "* 수정 시간 : 2019-12-13 15:11:40\n",
      "* 생성 시간 : 2019-12-13 15:11:39\n",
      "* 파일 크기 : 23,012,590 바이트\n",
      "\n"
     ]
    }
   ],
   "source": [
    "data_folder = 'C:/myPyCode/data/seoul_expense/'\n",
    "years = [2016, 2017, 2018]\n",
    "\n",
    "for year in years:\n",
    "    \n",
    "    get_file_info(year, data_folder)\n",
    "    print(\"\")"
   ]
  },
  {
   "cell_type": "markdown",
   "metadata": {
    "toc-hr-collapsed": false
   },
   "source": [
    "### 데이터 분석"
   ]
  },
  {
   "cell_type": "markdown",
   "metadata": {},
   "source": [
    "**[16장: 576 ~ 577페이지]**"
   ]
  },
  {
   "cell_type": "code",
   "execution_count": 96,
   "metadata": {},
   "outputs": [],
   "source": [
    "import pandas as pd\n",
    "\n",
    "data_folder = 'C:/myPyCode/data/seoul_expense/'\n",
    "years = [2016, 2017, 2018]\n",
    "\n",
    "df_expense_all = pd.DataFrame()\n",
    "\n",
    "for year in years:\n",
    "    expense_list_year_dir = data_folder + str(year) + '/'\n",
    "    expense_list_tidy_file = \"{}_expense_list_tidy.csv\".format(year)\n",
    "    \n",
    "    path_file_name = expense_list_year_dir + expense_list_tidy_file\n",
    "    \n",
    "    df_expense = pd.read_csv(path_file_name)\n",
    "    df_expense_all = df_expense_all.append(df_expense, ignore_index = True) "
   ]
  },
  {
   "cell_type": "markdown",
   "metadata": {},
   "source": [
    "**[16장: 577페이지]**"
   ]
  },
  {
   "cell_type": "code",
   "execution_count": 97,
   "metadata": {},
   "outputs": [
    {
     "name": "stdout",
     "output_type": "stream",
     "text": [
      "<class 'pandas.core.frame.DataFrame'>\n",
      "RangeIndex: 148074 entries, 0 to 148073\n",
      "Data columns (total 12 columns):\n",
      "제목       143346 non-null object\n",
      "부서레벨1    142434 non-null object\n",
      "부서레벨2    142204 non-null object\n",
      "집행연도     142386 non-null object\n",
      "집행월      142350 non-null float64\n",
      "부서명      142271 non-null object\n",
      "집행일시     142350 non-null object\n",
      "집행장소     140883 non-null object\n",
      "집행목적     142328 non-null object\n",
      "대상인원     141594 non-null object\n",
      "결제방법     142147 non-null object\n",
      "집행금액     142350 non-null float64\n",
      "dtypes: float64(2), object(10)\n",
      "memory usage: 13.6+ MB\n"
     ]
    }
   ],
   "source": [
    "df_expense_all.info()"
   ]
  },
  {
   "cell_type": "markdown",
   "metadata": {},
   "source": [
    "**[16장: 578페이지]**"
   ]
  },
  {
   "cell_type": "code",
   "execution_count": 98,
   "metadata": {},
   "outputs": [
    {
     "data": {
      "text/html": [
       "<div>\n",
       "<style scoped>\n",
       "    .dataframe tbody tr th:only-of-type {\n",
       "        vertical-align: middle;\n",
       "    }\n",
       "\n",
       "    .dataframe tbody tr th {\n",
       "        vertical-align: top;\n",
       "    }\n",
       "\n",
       "    .dataframe thead th {\n",
       "        text-align: right;\n",
       "    }\n",
       "</style>\n",
       "<table border=\"1\" class=\"dataframe\">\n",
       "  <thead>\n",
       "    <tr style=\"text-align: right;\">\n",
       "      <th></th>\n",
       "      <th>제목</th>\n",
       "      <th>부서레벨1</th>\n",
       "      <th>부서레벨2</th>\n",
       "      <th>집행연도</th>\n",
       "      <th>집행월</th>\n",
       "      <th>부서명</th>\n",
       "      <th>집행일시</th>\n",
       "      <th>집행장소</th>\n",
       "      <th>집행목적</th>\n",
       "      <th>대상인원</th>\n",
       "      <th>결제방법</th>\n",
       "      <th>집행금액</th>\n",
       "    </tr>\n",
       "  </thead>\n",
       "  <tbody>\n",
       "    <tr>\n",
       "      <th>0</th>\n",
       "      <td>NaN</td>\n",
       "      <td>NaN</td>\n",
       "      <td>NaN</td>\n",
       "      <td>NaN</td>\n",
       "      <td>NaN</td>\n",
       "      <td>NaN</td>\n",
       "      <td>NaN</td>\n",
       "      <td>NaN</td>\n",
       "      <td>NaN</td>\n",
       "      <td>NaN</td>\n",
       "      <td>NaN</td>\n",
       "      <td>NaN</td>\n",
       "    </tr>\n",
       "    <tr>\n",
       "      <th>1</th>\n",
       "      <td>NaN</td>\n",
       "      <td>NaN</td>\n",
       "      <td>NaN</td>\n",
       "      <td>NaN</td>\n",
       "      <td>NaN</td>\n",
       "      <td>NaN</td>\n",
       "      <td>NaN</td>\n",
       "      <td>NaN</td>\n",
       "      <td>NaN</td>\n",
       "      <td>NaN</td>\n",
       "      <td>NaN</td>\n",
       "      <td>NaN</td>\n",
       "    </tr>\n",
       "  </tbody>\n",
       "</table>\n",
       "</div>"
      ],
      "text/plain": [
       "    제목 부서레벨1 부서레벨2 집행연도  집행월  부서명 집행일시 집행장소 집행목적 대상인원 결제방법  집행금액\n",
       "0  NaN   NaN   NaN  NaN  NaN  NaN  NaN  NaN  NaN  NaN  NaN   NaN\n",
       "1  NaN   NaN   NaN  NaN  NaN  NaN  NaN  NaN  NaN  NaN  NaN   NaN"
      ]
     },
     "execution_count": 98,
     "metadata": {},
     "output_type": "execute_result"
    }
   ],
   "source": [
    "df_expense_all.head(2)"
   ]
  },
  {
   "cell_type": "markdown",
   "metadata": {},
   "source": [
    "**[16장: 578페이지]**"
   ]
  },
  {
   "cell_type": "code",
   "execution_count": 99,
   "metadata": {},
   "outputs": [
    {
     "data": {
      "text/html": [
       "<div>\n",
       "<style scoped>\n",
       "    .dataframe tbody tr th:only-of-type {\n",
       "        vertical-align: middle;\n",
       "    }\n",
       "\n",
       "    .dataframe tbody tr th {\n",
       "        vertical-align: top;\n",
       "    }\n",
       "\n",
       "    .dataframe thead th {\n",
       "        text-align: right;\n",
       "    }\n",
       "</style>\n",
       "<table border=\"1\" class=\"dataframe\">\n",
       "  <thead>\n",
       "    <tr style=\"text-align: right;\">\n",
       "      <th></th>\n",
       "      <th>제목</th>\n",
       "      <th>부서레벨1</th>\n",
       "      <th>부서레벨2</th>\n",
       "      <th>집행연도</th>\n",
       "      <th>집행월</th>\n",
       "      <th>부서명</th>\n",
       "      <th>집행일시</th>\n",
       "      <th>집행장소</th>\n",
       "      <th>집행목적</th>\n",
       "      <th>대상인원</th>\n",
       "      <th>결제방법</th>\n",
       "      <th>집행금액</th>\n",
       "    </tr>\n",
       "  </thead>\n",
       "  <tbody>\n",
       "    <tr>\n",
       "      <th>148072</th>\n",
       "      <td>2018년 12월 서울시본청 행정국 총무과 업무추진비 - 기관운영 시책추진</td>\n",
       "      <td>서울시본청</td>\n",
       "      <td>행정국</td>\n",
       "      <td>2018</td>\n",
       "      <td>12.0</td>\n",
       "      <td>행정국 총무과</td>\n",
       "      <td>2018-12-01 13:30</td>\n",
       "      <td>달인청국장</td>\n",
       "      <td>시정 정책 지역협력 간담회</td>\n",
       "      <td>시장 외 12명</td>\n",
       "      <td>카드</td>\n",
       "      <td>280000.0</td>\n",
       "    </tr>\n",
       "    <tr>\n",
       "      <th>148073</th>\n",
       "      <td>2018년 12월 서울시본청 행정국 총무과 업무추진비 - 기관운영 시책추진</td>\n",
       "      <td>서울시본청</td>\n",
       "      <td>행정국</td>\n",
       "      <td>2018</td>\n",
       "      <td>12.0</td>\n",
       "      <td>행정국 총무과</td>\n",
       "      <td>2018-12-01 08:45</td>\n",
       "      <td>종가집설렁탕</td>\n",
       "      <td>시정 정책 지역협력 간담회</td>\n",
       "      <td>시장 외 9명</td>\n",
       "      <td>카드</td>\n",
       "      <td>180000.0</td>\n",
       "    </tr>\n",
       "  </tbody>\n",
       "</table>\n",
       "</div>"
      ],
      "text/plain": [
       "                                               제목  부서레벨1 부서레벨2  집행연도   집행월  \\\n",
       "148072  2018년 12월 서울시본청 행정국 총무과 업무추진비 - 기관운영 시책추진  서울시본청   행정국  2018  12.0   \n",
       "148073  2018년 12월 서울시본청 행정국 총무과 업무추진비 - 기관운영 시책추진  서울시본청   행정국  2018  12.0   \n",
       "\n",
       "            부서명              집행일시    집행장소            집행목적      대상인원 결제방법  \\\n",
       "148072  행정국 총무과  2018-12-01 13:30   달인청국장  시정 정책 지역협력 간담회  시장 외 12명   카드   \n",
       "148073  행정국 총무과  2018-12-01 08:45  종가집설렁탕  시정 정책 지역협력 간담회   시장 외 9명   카드   \n",
       "\n",
       "            집행금액  \n",
       "148072  280000.0  \n",
       "148073  180000.0  "
      ]
     },
     "execution_count": 99,
     "metadata": {},
     "output_type": "execute_result"
    }
   ],
   "source": [
    "df_expense_all.tail(2)"
   ]
  },
  {
   "cell_type": "markdown",
   "metadata": {},
   "source": [
    "#### 연도별 추이 분석"
   ]
  },
  {
   "cell_type": "markdown",
   "metadata": {},
   "source": [
    "**[16장: 578페이지]**"
   ]
  },
  {
   "cell_type": "code",
   "execution_count": 100,
   "metadata": {},
   "outputs": [
    {
     "data": {
      "text/plain": [
       "2018                                                                                                                    72218\n",
       "2017                                                                                                                    70132\n",
       "&quot;user_id&quot;:null}}\" data-hydro-click-hmac=\"f30238931bb4dbc36dc5e0d033c44e5320349197093f21a2c54763a03f704400\"        2\n",
       "&quot;user_id&quot;:null}}\" data-hydro-click-hmac=\"d28aa9bcfccfda4200540a546d31ce7bef2f913eceafb39820c5122a16e8194e\"        2\n",
       "&quot;user_id&quot;:null}}\" data-hydro-click-hmac=\"0b234bc267bda5dcad5922e3679f188d644425823d4ad419aba10f28ccc2b011\"        2\n",
       "&quot;user_id&quot;:null}}\" data-hydro-click-hmac=\"e15928d17ef62d8621a6c9e7af1eb7e87ec6d6188069a2db2e3a9076d6af4263\"        2\n",
       "&quot;user_id&quot;:null}}\" data-hydro-click-hmac=\"a5c218b5e47607e380045fcdb60e5c47e1bb7c9dfbf17e147ee75ccbc028d5df\"        2\n",
       "&quot;user_id&quot;:null}}\" data-hydro-click-hmac=\"a96c00e43e736eb3112ecb6b3e5ae957a6b4f1a0c52c0610b822aa014e3de4a1\"        2\n",
       "&quot;user_id&quot;:null}}\" data-hydro-click-hmac=\"574b3f95b00f82350628e4f8a8dacedfd36d05e3f2bbae8baa86f83917c9d747\"        2\n",
       "&quot;user_id&quot;:null}}\" data-hydro-click-hmac=\"314516d37b394ade8b3223510cc7bc546381cf5e8cd28c353f37f9d26d91f933\"        2\n",
       "&quot;user_id&quot;:null}}\" data-hydro-click-hmac=\"b7df44f3ae3829ed6f737b6d886aef4eb1c5fe6bd6bef025830ee589108143df\"        2\n",
       "&quot;user_id&quot;:null}}\" data-hydro-click-hmac=\"cca3579b62c8cfc21b6c463738ab869340f4e8090519c3c09e28394134a7e13e\"        2\n",
       "&quot;user_id&quot;:null}}\" data-hydro-click-hmac=\"2af46ac015e9584e0226390883eefb6758cb7ed598f14be51cacd818f8805a8e\"        2\n",
       "&quot;user_id&quot;:null}}\" data-hydro-click-hmac=\"b47a1f3c574a48a1c94fc52894e0c05d3f75e1ba77c48f816b23bade130bcd6e\"        2\n",
       "&quot;user_id&quot;:null}}\" data-hydro-click-hmac=\"1b91f0004ed192f587c0880540e027848e5f4208b7bdf3e2ebcdf79ab5d653cf\"        1\n",
       "&quot;user_id&quot;:null}}\" data-hydro-click-hmac=\"549672ae15972144c45bf92b78849abe85c6cde972f9a41baa2500c320d422ac\"        1\n",
       "&quot;user_id&quot;:null}}\" data-hydro-click-hmac=\"1b563e9940a116700946b6380bdcaab36b3415a4bea977a23b958cba74c25da3\"        1\n",
       "&quot;user_id&quot;:null}}\" data-hydro-click-hmac=\"7f8eb89bfc198eda3f8342757bffdddb7f4c10a0226bb2ce43f87708e6361ea4\"        1\n",
       "&quot;user_id&quot;:null}}\" data-hydro-click-hmac=\"58f5d05d63dc2d7b5a6124315e0aa088fef48643619168c191017cc24c55d26f\"        1\n",
       "&quot;user_id&quot;:null}}\" data-hydro-click-hmac=\"52939683e5b0823e813beafac6113d81e78ef019f4ba38f73b8ce0cf4e52e2a8\"        1\n",
       "&quot;user_id&quot;:null}}\" data-hydro-click-hmac=\"e92b375018f9ce4848ac7c05f4ce16b44899e1699b2e27d3152c5b3a980f3b20\"        1\n",
       "&quot;user_id&quot;:null}}\" data-hydro-click-hmac=\"055ed9dfea3487d3412cbd46146a28a6f75b3b99021d10318b2cb2623e32b44c\"        1\n",
       "&quot;user_id&quot;:null}}\" data-hydro-click-hmac=\"4de5bb72a1ae9e863838b290681b21421c35438cb784f41ef9096d8862ac0596\"        1\n",
       "&quot;user_id&quot;:null}}\" data-hydro-click-hmac=\"5825ef7d074c05e70719da02999364608bbd30558b4624e49b7f867fecc83e8c\"        1\n",
       "&quot;user_id&quot;:null}}\" data-hydro-click-hmac=\"11345b078267c7250a36c9d9576f640d6e7fc5c52b9fae712434a67dce86c14b\"        1\n",
       "&quot;user_id&quot;:null}}\" data-hydro-click-hmac=\"73768cc44529da0e810bf28fbaba59b71a73082d3f5a7aaec173f3d7aba888ac\"        1\n",
       "Name: 집행연도, dtype: int64"
      ]
     },
     "execution_count": 100,
     "metadata": {},
     "output_type": "execute_result"
    }
   ],
   "source": [
    "year_expense = df_expense_all['집행연도'].value_counts()\n",
    "year_expense"
   ]
  },
  {
   "cell_type": "markdown",
   "metadata": {},
   "source": [
    "**[16장: 579페이지]**"
   ]
  },
  {
   "cell_type": "code",
   "execution_count": 102,
   "metadata": {},
   "outputs": [
    {
     "ename": "TypeError",
     "evalue": "the dtypes of parameters x (object) and width (float64) are incompatible",
     "output_type": "error",
     "traceback": [
      "\u001b[1;31m---------------------------------------------------------------------------\u001b[0m",
      "\u001b[1;31mTypeError\u001b[0m                                 Traceback (most recent call last)",
      "\u001b[1;32m~\\.conda\\envs\\python36\\lib\\site-packages\\matplotlib\\axes\\_axes.py\u001b[0m in \u001b[0;36mbar\u001b[1;34m(self, x, height, width, bottom, align, **kwargs)\u001b[0m\n\u001b[0;32m   2401\u001b[0m                 \u001b[1;32mtry\u001b[0m\u001b[1;33m:\u001b[0m\u001b[1;33m\u001b[0m\u001b[1;33m\u001b[0m\u001b[0m\n\u001b[1;32m-> 2402\u001b[1;33m                     \u001b[0mleft\u001b[0m \u001b[1;33m=\u001b[0m \u001b[0mx\u001b[0m \u001b[1;33m-\u001b[0m \u001b[0mwidth\u001b[0m \u001b[1;33m/\u001b[0m \u001b[1;36m2\u001b[0m\u001b[1;33m\u001b[0m\u001b[1;33m\u001b[0m\u001b[0m\n\u001b[0m\u001b[0;32m   2403\u001b[0m                 \u001b[1;32mexcept\u001b[0m \u001b[0mTypeError\u001b[0m \u001b[1;32mas\u001b[0m \u001b[0me\u001b[0m\u001b[1;33m:\u001b[0m\u001b[1;33m\u001b[0m\u001b[1;33m\u001b[0m\u001b[0m\n",
      "\u001b[1;31mTypeError\u001b[0m: unsupported operand type(s) for -: 'str' and 'float'",
      "\nThe above exception was the direct cause of the following exception:\n",
      "\u001b[1;31mTypeError\u001b[0m                                 Traceback (most recent call last)",
      "\u001b[1;32m<ipython-input-102-3facaa2627af>\u001b[0m in \u001b[0;36m<module>\u001b[1;34m\u001b[0m\n\u001b[0;32m      6\u001b[0m \u001b[0mmatplotlib\u001b[0m\u001b[1;33m.\u001b[0m\u001b[0mrcParams\u001b[0m\u001b[1;33m[\u001b[0m\u001b[1;34m'axes.unicode_minus'\u001b[0m\u001b[1;33m]\u001b[0m \u001b[1;33m=\u001b[0m \u001b[1;32mFalse\u001b[0m\u001b[1;33m\u001b[0m\u001b[1;33m\u001b[0m\u001b[0m\n\u001b[0;32m      7\u001b[0m \u001b[1;33m\u001b[0m\u001b[0m\n\u001b[1;32m----> 8\u001b[1;33m \u001b[0mplt\u001b[0m\u001b[1;33m.\u001b[0m\u001b[0mbar\u001b[0m\u001b[1;33m(\u001b[0m\u001b[0myear_expense\u001b[0m\u001b[1;33m.\u001b[0m\u001b[0mindex\u001b[0m\u001b[1;33m,\u001b[0m \u001b[0myear_expense\u001b[0m\u001b[1;33m.\u001b[0m\u001b[0mvalues\u001b[0m\u001b[1;33m,\u001b[0m \u001b[0mtick_label\u001b[0m \u001b[1;33m=\u001b[0m\u001b[0myear_expense\u001b[0m\u001b[1;33m.\u001b[0m\u001b[0mindex\u001b[0m\u001b[1;33m,\u001b[0m \u001b[0mwidth\u001b[0m \u001b[1;33m=\u001b[0m \u001b[1;36m0.5\u001b[0m\u001b[1;33m)\u001b[0m\u001b[1;33m\u001b[0m\u001b[1;33m\u001b[0m\u001b[0m\n\u001b[0m\u001b[0;32m      9\u001b[0m \u001b[0mplt\u001b[0m\u001b[1;33m.\u001b[0m\u001b[0mtitle\u001b[0m\u001b[1;33m(\u001b[0m\u001b[1;34m\"연도별 업무추진비 집행 횟수\"\u001b[0m\u001b[1;33m)\u001b[0m\u001b[1;33m\u001b[0m\u001b[1;33m\u001b[0m\u001b[0m\n\u001b[0;32m     10\u001b[0m \u001b[0mplt\u001b[0m\u001b[1;33m.\u001b[0m\u001b[0mxlabel\u001b[0m\u001b[1;33m(\u001b[0m\u001b[1;34m\"연도\"\u001b[0m\u001b[1;33m)\u001b[0m\u001b[1;33m\u001b[0m\u001b[1;33m\u001b[0m\u001b[0m\n",
      "\u001b[1;32m~\\.conda\\envs\\python36\\lib\\site-packages\\matplotlib\\pyplot.py\u001b[0m in \u001b[0;36mbar\u001b[1;34m(x, height, width, bottom, align, data, **kwargs)\u001b[0m\n\u001b[0;32m   2432\u001b[0m     return gca().bar(\n\u001b[0;32m   2433\u001b[0m         \u001b[0mx\u001b[0m\u001b[1;33m,\u001b[0m \u001b[0mheight\u001b[0m\u001b[1;33m,\u001b[0m \u001b[0mwidth\u001b[0m\u001b[1;33m=\u001b[0m\u001b[0mwidth\u001b[0m\u001b[1;33m,\u001b[0m \u001b[0mbottom\u001b[0m\u001b[1;33m=\u001b[0m\u001b[0mbottom\u001b[0m\u001b[1;33m,\u001b[0m \u001b[0malign\u001b[0m\u001b[1;33m=\u001b[0m\u001b[0malign\u001b[0m\u001b[1;33m,\u001b[0m\u001b[1;33m\u001b[0m\u001b[1;33m\u001b[0m\u001b[0m\n\u001b[1;32m-> 2434\u001b[1;33m         **({\"data\": data} if data is not None else {}), **kwargs)\n\u001b[0m\u001b[0;32m   2435\u001b[0m \u001b[1;33m\u001b[0m\u001b[0m\n\u001b[0;32m   2436\u001b[0m \u001b[1;33m\u001b[0m\u001b[0m\n",
      "\u001b[1;32m~\\.conda\\envs\\python36\\lib\\site-packages\\matplotlib\\__init__.py\u001b[0m in \u001b[0;36minner\u001b[1;34m(ax, data, *args, **kwargs)\u001b[0m\n\u001b[0;32m   1587\u001b[0m     \u001b[1;32mdef\u001b[0m \u001b[0minner\u001b[0m\u001b[1;33m(\u001b[0m\u001b[0max\u001b[0m\u001b[1;33m,\u001b[0m \u001b[1;33m*\u001b[0m\u001b[0margs\u001b[0m\u001b[1;33m,\u001b[0m \u001b[0mdata\u001b[0m\u001b[1;33m=\u001b[0m\u001b[1;32mNone\u001b[0m\u001b[1;33m,\u001b[0m \u001b[1;33m**\u001b[0m\u001b[0mkwargs\u001b[0m\u001b[1;33m)\u001b[0m\u001b[1;33m:\u001b[0m\u001b[1;33m\u001b[0m\u001b[1;33m\u001b[0m\u001b[0m\n\u001b[0;32m   1588\u001b[0m         \u001b[1;32mif\u001b[0m \u001b[0mdata\u001b[0m \u001b[1;32mis\u001b[0m \u001b[1;32mNone\u001b[0m\u001b[1;33m:\u001b[0m\u001b[1;33m\u001b[0m\u001b[1;33m\u001b[0m\u001b[0m\n\u001b[1;32m-> 1589\u001b[1;33m             \u001b[1;32mreturn\u001b[0m \u001b[0mfunc\u001b[0m\u001b[1;33m(\u001b[0m\u001b[0max\u001b[0m\u001b[1;33m,\u001b[0m \u001b[1;33m*\u001b[0m\u001b[0mmap\u001b[0m\u001b[1;33m(\u001b[0m\u001b[0msanitize_sequence\u001b[0m\u001b[1;33m,\u001b[0m \u001b[0margs\u001b[0m\u001b[1;33m)\u001b[0m\u001b[1;33m,\u001b[0m \u001b[1;33m**\u001b[0m\u001b[0mkwargs\u001b[0m\u001b[1;33m)\u001b[0m\u001b[1;33m\u001b[0m\u001b[1;33m\u001b[0m\u001b[0m\n\u001b[0m\u001b[0;32m   1590\u001b[0m \u001b[1;33m\u001b[0m\u001b[0m\n\u001b[0;32m   1591\u001b[0m         \u001b[0mbound\u001b[0m \u001b[1;33m=\u001b[0m \u001b[0mnew_sig\u001b[0m\u001b[1;33m.\u001b[0m\u001b[0mbind\u001b[0m\u001b[1;33m(\u001b[0m\u001b[0max\u001b[0m\u001b[1;33m,\u001b[0m \u001b[1;33m*\u001b[0m\u001b[0margs\u001b[0m\u001b[1;33m,\u001b[0m \u001b[1;33m**\u001b[0m\u001b[0mkwargs\u001b[0m\u001b[1;33m)\u001b[0m\u001b[1;33m\u001b[0m\u001b[1;33m\u001b[0m\u001b[0m\n",
      "\u001b[1;32m~\\.conda\\envs\\python36\\lib\\site-packages\\matplotlib\\axes\\_axes.py\u001b[0m in \u001b[0;36mbar\u001b[1;34m(self, x, height, width, bottom, align, **kwargs)\u001b[0m\n\u001b[0;32m   2404\u001b[0m                     raise TypeError(f'the dtypes of parameters x ({x.dtype}) '\n\u001b[0;32m   2405\u001b[0m                                     \u001b[1;34mf'and width ({width.dtype}) '\u001b[0m\u001b[1;33m\u001b[0m\u001b[1;33m\u001b[0m\u001b[0m\n\u001b[1;32m-> 2406\u001b[1;33m                                     f'are incompatible') from e\n\u001b[0m\u001b[0;32m   2407\u001b[0m                 \u001b[0mbottom\u001b[0m \u001b[1;33m=\u001b[0m \u001b[0my\u001b[0m\u001b[1;33m\u001b[0m\u001b[1;33m\u001b[0m\u001b[0m\n\u001b[0;32m   2408\u001b[0m             \u001b[1;32melif\u001b[0m \u001b[0morientation\u001b[0m \u001b[1;33m==\u001b[0m \u001b[1;34m'horizontal'\u001b[0m\u001b[1;33m:\u001b[0m\u001b[1;33m\u001b[0m\u001b[1;33m\u001b[0m\u001b[0m\n",
      "\u001b[1;31mTypeError\u001b[0m: the dtypes of parameters x (object) and width (float64) are incompatible"
     ]
    },
    {
     "data": {
      "image/png": "[encoded data removed]",
      "text/plain": [
       "<Figure size 432x288 with 1 Axes>"
      ]
     },
     "metadata": {
      "needs_background": "light"
     },
     "output_type": "display_data"
    }
   ],
   "source": [
    "import pandas as pd\n",
    "import matplotlib.pyplot as plt\n",
    "import matplotlib\n",
    "\n",
    "matplotlib.rcParams['font.family'] = 'Malgun Gothic'\n",
    "matplotlib.rcParams['axes.unicode_minus'] = False\n",
    "\n",
    "plt.bar(year_expense.index, year_expense.values, tick_label =year_expense.index, width = 0.5)\n",
    "plt.title(\"연도별 업무추진비 집행 횟수\")\n",
    "plt.xlabel(\"연도\")\n",
    "plt.ylabel(\"집행 횟수\")\n",
    "plt.show()"
   ]
  },
  {
   "cell_type": "markdown",
   "metadata": {},
   "source": [
    "**[16장: 579페이지]**"
   ]
  },
  {
   "cell_type": "code",
   "execution_count": 103,
   "metadata": {},
   "outputs": [
    {
     "data": {
      "text/html": [
       "<div>\n",
       "<style scoped>\n",
       "    .dataframe tbody tr th:only-of-type {\n",
       "        vertical-align: middle;\n",
       "    }\n",
       "\n",
       "    .dataframe tbody tr th {\n",
       "        vertical-align: top;\n",
       "    }\n",
       "\n",
       "    .dataframe thead th {\n",
       "        text-align: right;\n",
       "    }\n",
       "</style>\n",
       "<table border=\"1\" class=\"dataframe\">\n",
       "  <thead>\n",
       "    <tr style=\"text-align: right;\">\n",
       "      <th></th>\n",
       "      <th>집행금액</th>\n",
       "    </tr>\n",
       "    <tr>\n",
       "      <th>집행연도</th>\n",
       "      <th></th>\n",
       "    </tr>\n",
       "  </thead>\n",
       "  <tbody>\n",
       "    <tr>\n",
       "      <th>2017</th>\n",
       "      <td>9.076941e+09</td>\n",
       "    </tr>\n",
       "    <tr>\n",
       "      <th>2018</th>\n",
       "      <td>9.937557e+09</td>\n",
       "    </tr>\n",
       "    <tr>\n",
       "      <th>&amp;quot;user_id&amp;quot;:null}}\" data-hydro-click-hmac=\"055ed9dfea3487d3412cbd46146a28a6f75b3b99021d10318b2cb2623e32b44c\"</th>\n",
       "      <td>0.000000e+00</td>\n",
       "    </tr>\n",
       "    <tr>\n",
       "      <th>&amp;quot;user_id&amp;quot;:null}}\" data-hydro-click-hmac=\"0b234bc267bda5dcad5922e3679f188d644425823d4ad419aba10f28ccc2b011\"</th>\n",
       "      <td>0.000000e+00</td>\n",
       "    </tr>\n",
       "    <tr>\n",
       "      <th>&amp;quot;user_id&amp;quot;:null}}\" data-hydro-click-hmac=\"11345b078267c7250a36c9d9576f640d6e7fc5c52b9fae712434a67dce86c14b\"</th>\n",
       "      <td>0.000000e+00</td>\n",
       "    </tr>\n",
       "    <tr>\n",
       "      <th>&amp;quot;user_id&amp;quot;:null}}\" data-hydro-click-hmac=\"1b563e9940a116700946b6380bdcaab36b3415a4bea977a23b958cba74c25da3\"</th>\n",
       "      <td>0.000000e+00</td>\n",
       "    </tr>\n",
       "    <tr>\n",
       "      <th>&amp;quot;user_id&amp;quot;:null}}\" data-hydro-click-hmac=\"1b91f0004ed192f587c0880540e027848e5f4208b7bdf3e2ebcdf79ab5d653cf\"</th>\n",
       "      <td>0.000000e+00</td>\n",
       "    </tr>\n",
       "    <tr>\n",
       "      <th>&amp;quot;user_id&amp;quot;:null}}\" data-hydro-click-hmac=\"2af46ac015e9584e0226390883eefb6758cb7ed598f14be51cacd818f8805a8e\"</th>\n",
       "      <td>0.000000e+00</td>\n",
       "    </tr>\n",
       "    <tr>\n",
       "      <th>&amp;quot;user_id&amp;quot;:null}}\" data-hydro-click-hmac=\"314516d37b394ade8b3223510cc7bc546381cf5e8cd28c353f37f9d26d91f933\"</th>\n",
       "      <td>0.000000e+00</td>\n",
       "    </tr>\n",
       "    <tr>\n",
       "      <th>&amp;quot;user_id&amp;quot;:null}}\" data-hydro-click-hmac=\"4de5bb72a1ae9e863838b290681b21421c35438cb784f41ef9096d8862ac0596\"</th>\n",
       "      <td>0.000000e+00</td>\n",
       "    </tr>\n",
       "    <tr>\n",
       "      <th>&amp;quot;user_id&amp;quot;:null}}\" data-hydro-click-hmac=\"52939683e5b0823e813beafac6113d81e78ef019f4ba38f73b8ce0cf4e52e2a8\"</th>\n",
       "      <td>0.000000e+00</td>\n",
       "    </tr>\n",
       "    <tr>\n",
       "      <th>&amp;quot;user_id&amp;quot;:null}}\" data-hydro-click-hmac=\"549672ae15972144c45bf92b78849abe85c6cde972f9a41baa2500c320d422ac\"</th>\n",
       "      <td>0.000000e+00</td>\n",
       "    </tr>\n",
       "    <tr>\n",
       "      <th>&amp;quot;user_id&amp;quot;:null}}\" data-hydro-click-hmac=\"574b3f95b00f82350628e4f8a8dacedfd36d05e3f2bbae8baa86f83917c9d747\"</th>\n",
       "      <td>0.000000e+00</td>\n",
       "    </tr>\n",
       "    <tr>\n",
       "      <th>&amp;quot;user_id&amp;quot;:null}}\" data-hydro-click-hmac=\"5825ef7d074c05e70719da02999364608bbd30558b4624e49b7f867fecc83e8c\"</th>\n",
       "      <td>0.000000e+00</td>\n",
       "    </tr>\n",
       "    <tr>\n",
       "      <th>&amp;quot;user_id&amp;quot;:null}}\" data-hydro-click-hmac=\"58f5d05d63dc2d7b5a6124315e0aa088fef48643619168c191017cc24c55d26f\"</th>\n",
       "      <td>0.000000e+00</td>\n",
       "    </tr>\n",
       "    <tr>\n",
       "      <th>&amp;quot;user_id&amp;quot;:null}}\" data-hydro-click-hmac=\"73768cc44529da0e810bf28fbaba59b71a73082d3f5a7aaec173f3d7aba888ac\"</th>\n",
       "      <td>0.000000e+00</td>\n",
       "    </tr>\n",
       "    <tr>\n",
       "      <th>&amp;quot;user_id&amp;quot;:null}}\" data-hydro-click-hmac=\"7f8eb89bfc198eda3f8342757bffdddb7f4c10a0226bb2ce43f87708e6361ea4\"</th>\n",
       "      <td>0.000000e+00</td>\n",
       "    </tr>\n",
       "    <tr>\n",
       "      <th>&amp;quot;user_id&amp;quot;:null}}\" data-hydro-click-hmac=\"a5c218b5e47607e380045fcdb60e5c47e1bb7c9dfbf17e147ee75ccbc028d5df\"</th>\n",
       "      <td>0.000000e+00</td>\n",
       "    </tr>\n",
       "    <tr>\n",
       "      <th>&amp;quot;user_id&amp;quot;:null}}\" data-hydro-click-hmac=\"a96c00e43e736eb3112ecb6b3e5ae957a6b4f1a0c52c0610b822aa014e3de4a1\"</th>\n",
       "      <td>0.000000e+00</td>\n",
       "    </tr>\n",
       "    <tr>\n",
       "      <th>&amp;quot;user_id&amp;quot;:null}}\" data-hydro-click-hmac=\"b47a1f3c574a48a1c94fc52894e0c05d3f75e1ba77c48f816b23bade130bcd6e\"</th>\n",
       "      <td>0.000000e+00</td>\n",
       "    </tr>\n",
       "    <tr>\n",
       "      <th>&amp;quot;user_id&amp;quot;:null}}\" data-hydro-click-hmac=\"b7df44f3ae3829ed6f737b6d886aef4eb1c5fe6bd6bef025830ee589108143df\"</th>\n",
       "      <td>0.000000e+00</td>\n",
       "    </tr>\n",
       "    <tr>\n",
       "      <th>&amp;quot;user_id&amp;quot;:null}}\" data-hydro-click-hmac=\"cca3579b62c8cfc21b6c463738ab869340f4e8090519c3c09e28394134a7e13e\"</th>\n",
       "      <td>0.000000e+00</td>\n",
       "    </tr>\n",
       "    <tr>\n",
       "      <th>&amp;quot;user_id&amp;quot;:null}}\" data-hydro-click-hmac=\"d28aa9bcfccfda4200540a546d31ce7bef2f913eceafb39820c5122a16e8194e\"</th>\n",
       "      <td>0.000000e+00</td>\n",
       "    </tr>\n",
       "    <tr>\n",
       "      <th>&amp;quot;user_id&amp;quot;:null}}\" data-hydro-click-hmac=\"e15928d17ef62d8621a6c9e7af1eb7e87ec6d6188069a2db2e3a9076d6af4263\"</th>\n",
       "      <td>0.000000e+00</td>\n",
       "    </tr>\n",
       "    <tr>\n",
       "      <th>&amp;quot;user_id&amp;quot;:null}}\" data-hydro-click-hmac=\"e92b375018f9ce4848ac7c05f4ce16b44899e1699b2e27d3152c5b3a980f3b20\"</th>\n",
       "      <td>0.000000e+00</td>\n",
       "    </tr>\n",
       "    <tr>\n",
       "      <th>&amp;quot;user_id&amp;quot;:null}}\" data-hydro-click-hmac=\"f30238931bb4dbc36dc5e0d033c44e5320349197093f21a2c54763a03f704400\"</th>\n",
       "      <td>0.000000e+00</td>\n",
       "    </tr>\n",
       "  </tbody>\n",
       "</table>\n",
       "</div>"
      ],
      "text/plain": [
       "                                                            집행금액\n",
       "집행연도                                                            \n",
       "2017                                                9.076941e+09\n",
       "2018                                                9.937557e+09\n",
       "&quot;user_id&quot;:null}}\" data-hydro-click-hm...  0.000000e+00\n",
       "&quot;user_id&quot;:null}}\" data-hydro-click-hm...  0.000000e+00\n",
       "&quot;user_id&quot;:null}}\" data-hydro-click-hm...  0.000000e+00\n",
       "&quot;user_id&quot;:null}}\" data-hydro-click-hm...  0.000000e+00\n",
       "&quot;user_id&quot;:null}}\" data-hydro-click-hm...  0.000000e+00\n",
       "&quot;user_id&quot;:null}}\" data-hydro-click-hm...  0.000000e+00\n",
       "&quot;user_id&quot;:null}}\" data-hydro-click-hm...  0.000000e+00\n",
       "&quot;user_id&quot;:null}}\" data-hydro-click-hm...  0.000000e+00\n",
       "&quot;user_id&quot;:null}}\" data-hydro-click-hm...  0.000000e+00\n",
       "&quot;user_id&quot;:null}}\" data-hydro-click-hm...  0.000000e+00\n",
       "&quot;user_id&quot;:null}}\" data-hydro-click-hm...  0.000000e+00\n",
       "&quot;user_id&quot;:null}}\" data-hydro-click-hm...  0.000000e+00\n",
       "&quot;user_id&quot;:null}}\" data-hydro-click-hm...  0.000000e+00\n",
       "&quot;user_id&quot;:null}}\" data-hydro-click-hm...  0.000000e+00\n",
       "&quot;user_id&quot;:null}}\" data-hydro-click-hm...  0.000000e+00\n",
       "&quot;user_id&quot;:null}}\" data-hydro-click-hm...  0.000000e+00\n",
       "&quot;user_id&quot;:null}}\" data-hydro-click-hm...  0.000000e+00\n",
       "&quot;user_id&quot;:null}}\" data-hydro-click-hm...  0.000000e+00\n",
       "&quot;user_id&quot;:null}}\" data-hydro-click-hm...  0.000000e+00\n",
       "&quot;user_id&quot;:null}}\" data-hydro-click-hm...  0.000000e+00\n",
       "&quot;user_id&quot;:null}}\" data-hydro-click-hm...  0.000000e+00\n",
       "&quot;user_id&quot;:null}}\" data-hydro-click-hm...  0.000000e+00\n",
       "&quot;user_id&quot;:null}}\" data-hydro-click-hm...  0.000000e+00\n",
       "&quot;user_id&quot;:null}}\" data-hydro-click-hm...  0.000000e+00"
      ]
     },
     "execution_count": 103,
     "metadata": {},
     "output_type": "execute_result"
    }
   ],
   "source": [
    "import pandas as pd\n",
    "\n",
    "year_total = pd.pivot_table(df_expense_all, index = ['집행연도'], values=['집행금액'], aggfunc = sum)\n",
    "year_total"
   ]
  },
  {
   "cell_type": "markdown",
   "metadata": {},
   "source": [
    "**[16장: 580페이지]**"
   ]
  },
  {
   "cell_type": "code",
   "execution_count": 104,
   "metadata": {},
   "outputs": [
    {
     "data": {
      "image/png": "[encoded data removed]",
      "text/plain": [
       "<Figure size 432x288 with 1 Axes>"
      ]
     },
     "metadata": {
      "needs_background": "light"
     },
     "output_type": "display_data"
    }
   ],
   "source": [
    "import pandas as pd\n",
    "import matplotlib.pyplot as plt\n",
    "import matplotlib\n",
    "\n",
    "matplotlib.rcParams['font.family'] = 'Malgun Gothic'\n",
    "matplotlib.rcParams['axes.unicode_minus'] = False\n",
    "\n",
    "eok_won = 100000000 # 억원\n",
    "(year_total/eok_won).plot.bar(rot=0) # 'rot = 각도'로 xtick 회전 각도를 지정\n",
    "plt.ylabel('집행금액(억원)')\n",
    "plt.show()"
   ]
  },
  {
   "cell_type": "markdown",
   "metadata": {},
   "source": [
    "#### 월별 집행금액 분석"
   ]
  },
  {
   "cell_type": "markdown",
   "metadata": {},
   "source": [
    "**[16장: 581페이지]** "
   ]
  },
  {
   "cell_type": "code",
   "execution_count": 105,
   "metadata": {},
   "outputs": [
    {
     "data": {
      "text/html": [
       "<div>\n",
       "<style scoped>\n",
       "    .dataframe tbody tr th:only-of-type {\n",
       "        vertical-align: middle;\n",
       "    }\n",
       "\n",
       "    .dataframe tbody tr th {\n",
       "        vertical-align: top;\n",
       "    }\n",
       "\n",
       "    .dataframe thead th {\n",
       "        text-align: right;\n",
       "    }\n",
       "</style>\n",
       "<table border=\"1\" class=\"dataframe\">\n",
       "  <thead>\n",
       "    <tr style=\"text-align: right;\">\n",
       "      <th></th>\n",
       "      <th>집행금액</th>\n",
       "    </tr>\n",
       "    <tr>\n",
       "      <th>집행월</th>\n",
       "      <th></th>\n",
       "    </tr>\n",
       "  </thead>\n",
       "  <tbody>\n",
       "    <tr>\n",
       "      <th>1.0</th>\n",
       "      <td>1.445956e+09</td>\n",
       "    </tr>\n",
       "    <tr>\n",
       "      <th>2.0</th>\n",
       "      <td>1.482040e+09</td>\n",
       "    </tr>\n",
       "    <tr>\n",
       "      <th>3.0</th>\n",
       "      <td>1.498309e+09</td>\n",
       "    </tr>\n",
       "    <tr>\n",
       "      <th>4.0</th>\n",
       "      <td>1.339047e+09</td>\n",
       "    </tr>\n",
       "    <tr>\n",
       "      <th>5.0</th>\n",
       "      <td>1.316627e+09</td>\n",
       "    </tr>\n",
       "    <tr>\n",
       "      <th>6.0</th>\n",
       "      <td>1.448909e+09</td>\n",
       "    </tr>\n",
       "    <tr>\n",
       "      <th>7.0</th>\n",
       "      <td>1.490531e+09</td>\n",
       "    </tr>\n",
       "    <tr>\n",
       "      <th>8.0</th>\n",
       "      <td>1.391465e+09</td>\n",
       "    </tr>\n",
       "    <tr>\n",
       "      <th>9.0</th>\n",
       "      <td>1.575576e+09</td>\n",
       "    </tr>\n",
       "    <tr>\n",
       "      <th>10.0</th>\n",
       "      <td>1.464243e+09</td>\n",
       "    </tr>\n",
       "    <tr>\n",
       "      <th>11.0</th>\n",
       "      <td>1.803929e+09</td>\n",
       "    </tr>\n",
       "    <tr>\n",
       "      <th>12.0</th>\n",
       "      <td>2.757864e+09</td>\n",
       "    </tr>\n",
       "  </tbody>\n",
       "</table>\n",
       "</div>"
      ],
      "text/plain": [
       "              집행금액\n",
       "집행월               \n",
       "1.0   1.445956e+09\n",
       "2.0   1.482040e+09\n",
       "3.0   1.498309e+09\n",
       "4.0   1.339047e+09\n",
       "5.0   1.316627e+09\n",
       "6.0   1.448909e+09\n",
       "7.0   1.490531e+09\n",
       "8.0   1.391465e+09\n",
       "9.0   1.575576e+09\n",
       "10.0  1.464243e+09\n",
       "11.0  1.803929e+09\n",
       "12.0  2.757864e+09"
      ]
     },
     "execution_count": 105,
     "metadata": {},
     "output_type": "execute_result"
    }
   ],
   "source": [
    "month_total = pd.pivot_table(df_expense_all, index = ['집행월'], values=['집행금액'], \n",
    "                             aggfunc = sum)\n",
    "month_total"
   ]
  },
  {
   "cell_type": "markdown",
   "metadata": {},
   "source": [
    "**[16장: 581페이지]** "
   ]
  },
  {
   "cell_type": "code",
   "execution_count": 106,
   "metadata": {},
   "outputs": [
    {
     "data": {
      "text/html": [
       "<div>\n",
       "<style scoped>\n",
       "    .dataframe tbody tr th:only-of-type {\n",
       "        vertical-align: middle;\n",
       "    }\n",
       "\n",
       "    .dataframe tbody tr th {\n",
       "        vertical-align: top;\n",
       "    }\n",
       "\n",
       "    .dataframe thead tr th {\n",
       "        text-align: left;\n",
       "    }\n",
       "\n",
       "    .dataframe thead tr:last-of-type th {\n",
       "        text-align: right;\n",
       "    }\n",
       "</style>\n",
       "<table border=\"1\" class=\"dataframe\">\n",
       "  <thead>\n",
       "    <tr>\n",
       "      <th></th>\n",
       "      <th colspan=\"2\" halign=\"left\">집행금액</th>\n",
       "    </tr>\n",
       "    <tr>\n",
       "      <th>집행연도</th>\n",
       "      <th>2017</th>\n",
       "      <th>2018</th>\n",
       "    </tr>\n",
       "    <tr>\n",
       "      <th>집행월</th>\n",
       "      <th></th>\n",
       "      <th></th>\n",
       "    </tr>\n",
       "  </thead>\n",
       "  <tbody>\n",
       "    <tr>\n",
       "      <th>1.0</th>\n",
       "      <td>7.103689e+08</td>\n",
       "      <td>7.355876e+08</td>\n",
       "    </tr>\n",
       "    <tr>\n",
       "      <th>2.0</th>\n",
       "      <td>7.126799e+08</td>\n",
       "      <td>7.693600e+08</td>\n",
       "    </tr>\n",
       "    <tr>\n",
       "      <th>3.0</th>\n",
       "      <td>7.372505e+08</td>\n",
       "      <td>7.610590e+08</td>\n",
       "    </tr>\n",
       "    <tr>\n",
       "      <th>4.0</th>\n",
       "      <td>6.352658e+08</td>\n",
       "      <td>7.037814e+08</td>\n",
       "    </tr>\n",
       "    <tr>\n",
       "      <th>5.0</th>\n",
       "      <td>6.475824e+08</td>\n",
       "      <td>6.690447e+08</td>\n",
       "    </tr>\n",
       "    <tr>\n",
       "      <th>6.0</th>\n",
       "      <td>7.582573e+08</td>\n",
       "      <td>6.906522e+08</td>\n",
       "    </tr>\n",
       "    <tr>\n",
       "      <th>7.0</th>\n",
       "      <td>7.016046e+08</td>\n",
       "      <td>7.889265e+08</td>\n",
       "    </tr>\n",
       "    <tr>\n",
       "      <th>8.0</th>\n",
       "      <td>6.611748e+08</td>\n",
       "      <td>7.302905e+08</td>\n",
       "    </tr>\n",
       "    <tr>\n",
       "      <th>9.0</th>\n",
       "      <td>8.061707e+08</td>\n",
       "      <td>7.694050e+08</td>\n",
       "    </tr>\n",
       "    <tr>\n",
       "      <th>10.0</th>\n",
       "      <td>6.372199e+08</td>\n",
       "      <td>8.270230e+08</td>\n",
       "    </tr>\n",
       "    <tr>\n",
       "      <th>11.0</th>\n",
       "      <td>8.436192e+08</td>\n",
       "      <td>9.603102e+08</td>\n",
       "    </tr>\n",
       "    <tr>\n",
       "      <th>12.0</th>\n",
       "      <td>1.225747e+09</td>\n",
       "      <td>1.532117e+09</td>\n",
       "    </tr>\n",
       "  </tbody>\n",
       "</table>\n",
       "</div>"
      ],
      "text/plain": [
       "              집행금액              \n",
       "집행연도          2017          2018\n",
       "집행월                             \n",
       "1.0   7.103689e+08  7.355876e+08\n",
       "2.0   7.126799e+08  7.693600e+08\n",
       "3.0   7.372505e+08  7.610590e+08\n",
       "4.0   6.352658e+08  7.037814e+08\n",
       "5.0   6.475824e+08  6.690447e+08\n",
       "6.0   7.582573e+08  6.906522e+08\n",
       "7.0   7.016046e+08  7.889265e+08\n",
       "8.0   6.611748e+08  7.302905e+08\n",
       "9.0   8.061707e+08  7.694050e+08\n",
       "10.0  6.372199e+08  8.270230e+08\n",
       "11.0  8.436192e+08  9.603102e+08\n",
       "12.0  1.225747e+09  1.532117e+09"
      ]
     },
     "execution_count": 106,
     "metadata": {},
     "output_type": "execute_result"
    }
   ],
   "source": [
    "year_month_total = pd.pivot_table(df_expense_all, index = ['집행월'], columns=['집행연도'], \n",
    "                                  values=['집행금액'], aggfunc = sum)\n",
    "year_month_total"
   ]
  },
  {
   "cell_type": "markdown",
   "metadata": {},
   "source": [
    "**[16장: 582페이지]** "
   ]
  },
  {
   "cell_type": "code",
   "execution_count": 107,
   "metadata": {},
   "outputs": [
    {
     "data": {
      "image/png": "[encoded data removed]",
      "text/plain": [
       "<Figure size 432x288 with 1 Axes>"
      ]
     },
     "metadata": {
      "needs_background": "light"
     },
     "output_type": "display_data"
    }
   ],
   "source": [
    "eok_won = 100000000 # 억원\n",
    "\n",
    "(year_month_total/eok_won).plot.bar(rot=0)\n",
    "plt.ylabel('집행금액(억원)')\n",
    "plt.title(\"업무추진비의 월별 집행금액\")\n",
    "plt.legend(['2016년', '2017년', '2018년'])\n",
    "plt.show()"
   ]
  },
  {
   "cell_type": "markdown",
   "metadata": {},
   "source": [
    "#### 부서별 집행 내역 분석"
   ]
  },
  {
   "cell_type": "markdown",
   "metadata": {},
   "source": [
    "**[16장: 583페이지]** "
   ]
  },
  {
   "cell_type": "code",
   "execution_count": 108,
   "metadata": {},
   "outputs": [
    {
     "data": {
      "text/html": [
       "<div>\n",
       "<style scoped>\n",
       "    .dataframe tbody tr th:only-of-type {\n",
       "        vertical-align: middle;\n",
       "    }\n",
       "\n",
       "    .dataframe tbody tr th {\n",
       "        vertical-align: top;\n",
       "    }\n",
       "\n",
       "    .dataframe thead th {\n",
       "        text-align: right;\n",
       "    }\n",
       "</style>\n",
       "<table border=\"1\" class=\"dataframe\">\n",
       "  <thead>\n",
       "    <tr style=\"text-align: right;\">\n",
       "      <th></th>\n",
       "      <th>집행금액</th>\n",
       "    </tr>\n",
       "    <tr>\n",
       "      <th>부서레벨1</th>\n",
       "      <th></th>\n",
       "    </tr>\n",
       "  </thead>\n",
       "  <tbody>\n",
       "    <tr>\n",
       "      <th>&amp;quot;auth_type&amp;quot;:&amp;quot;SIGN_UP&amp;quot;</th>\n",
       "      <td>0.000000e+00</td>\n",
       "    </tr>\n",
       "    <tr>\n",
       "      <th>1\"&gt;&lt;/path&gt;</th>\n",
       "      <td>0.000000e+00</td>\n",
       "    </tr>\n",
       "    <tr>\n",
       "      <th>MARKETPLACE_TRENDING_SOCIAL_PROOF</th>\n",
       "      <td>0.000000e+00</td>\n",
       "    </tr>\n",
       "    <tr>\n",
       "      <th>사업소</th>\n",
       "      <td>4.212197e+09</td>\n",
       "    </tr>\n",
       "    <tr>\n",
       "      <th>서울시본청</th>\n",
       "      <td>1.068552e+10</td>\n",
       "    </tr>\n",
       "    <tr>\n",
       "      <th>소방재난본부(소방서)</th>\n",
       "      <td>3.366190e+09</td>\n",
       "    </tr>\n",
       "    <tr>\n",
       "      <th>의회사무처</th>\n",
       "      <td>7.505948e+08</td>\n",
       "    </tr>\n",
       "  </tbody>\n",
       "</table>\n",
       "</div>"
      ],
      "text/plain": [
       "                                                   집행금액\n",
       "부서레벨1                                                  \n",
       "&quot;auth_type&quot;:&quot;SIGN_UP&quot;  0.000000e+00\n",
       "1\"></path>                                 0.000000e+00\n",
       "MARKETPLACE_TRENDING_SOCIAL_PROOF          0.000000e+00\n",
       "사업소                                        4.212197e+09\n",
       "서울시본청                                      1.068552e+10\n",
       "소방재난본부(소방서)                                3.366190e+09\n",
       "의회사무처                                      7.505948e+08"
      ]
     },
     "execution_count": 108,
     "metadata": {},
     "output_type": "execute_result"
    }
   ],
   "source": [
    "dept_level1_total = pd.pivot_table(df_expense_all, index = ['부서레벨1'], values=['집행금액'], \n",
    "                                   aggfunc = sum)\n",
    "dept_level1_total"
   ]
  },
  {
   "cell_type": "markdown",
   "metadata": {},
   "source": [
    "**[16장: 584페이지]** "
   ]
  },
  {
   "cell_type": "code",
   "execution_count": 109,
   "metadata": {},
   "outputs": [
    {
     "data": {
      "text/html": [
       "<div>\n",
       "<style scoped>\n",
       "    .dataframe tbody tr th:only-of-type {\n",
       "        vertical-align: middle;\n",
       "    }\n",
       "\n",
       "    .dataframe tbody tr th {\n",
       "        vertical-align: top;\n",
       "    }\n",
       "\n",
       "    .dataframe thead th {\n",
       "        text-align: right;\n",
       "    }\n",
       "</style>\n",
       "<table border=\"1\" class=\"dataframe\">\n",
       "  <thead>\n",
       "    <tr style=\"text-align: right;\">\n",
       "      <th></th>\n",
       "      <th>집행금액</th>\n",
       "    </tr>\n",
       "    <tr>\n",
       "      <th>부서레벨2</th>\n",
       "      <th></th>\n",
       "    </tr>\n",
       "  </thead>\n",
       "  <tbody>\n",
       "    <tr>\n",
       "      <th>&amp;quot;client_id&amp;quot;:null</th>\n",
       "      <td>0.0</td>\n",
       "    </tr>\n",
       "    <tr>\n",
       "      <th>119특수구조단</th>\n",
       "      <td>81014320.0</td>\n",
       "    </tr>\n",
       "    <tr>\n",
       "      <th>MARKETPLACE_RECOMMENDATIONS</th>\n",
       "      <td>0.0</td>\n",
       "    </tr>\n",
       "    <tr>\n",
       "      <th>감사위원회</th>\n",
       "      <td>221203150.0</td>\n",
       "    </tr>\n",
       "    <tr>\n",
       "      <th>강남소방서</th>\n",
       "      <td>150675520.0</td>\n",
       "    </tr>\n",
       "  </tbody>\n",
       "</table>\n",
       "</div>"
      ],
      "text/plain": [
       "                                    집행금액\n",
       "부서레벨2                                   \n",
       "&quot;client_id&quot;:null           0.0\n",
       "119특수구조단                      81014320.0\n",
       "MARKETPLACE_RECOMMENDATIONS          0.0\n",
       "감사위원회                        221203150.0\n",
       "강남소방서                        150675520.0"
      ]
     },
     "execution_count": 109,
     "metadata": {},
     "output_type": "execute_result"
    }
   ],
   "source": [
    "dept_level_2_total = pd.pivot_table(df_expense_all, index = ['부서레벨2'], values=['집행금액'], \n",
    "                                    aggfunc = sum)\n",
    "dept_level_2_total.head()"
   ]
  },
  {
   "cell_type": "markdown",
   "metadata": {},
   "source": [
    "**[16장: 584페이지]** "
   ]
  },
  {
   "cell_type": "code",
   "execution_count": 110,
   "metadata": {},
   "outputs": [
    {
     "data": {
      "text/html": [
       "<div>\n",
       "<style scoped>\n",
       "    .dataframe tbody tr th:only-of-type {\n",
       "        vertical-align: middle;\n",
       "    }\n",
       "\n",
       "    .dataframe tbody tr th {\n",
       "        vertical-align: top;\n",
       "    }\n",
       "\n",
       "    .dataframe thead th {\n",
       "        text-align: right;\n",
       "    }\n",
       "</style>\n",
       "<table border=\"1\" class=\"dataframe\">\n",
       "  <thead>\n",
       "    <tr style=\"text-align: right;\">\n",
       "      <th></th>\n",
       "      <th>집행금액</th>\n",
       "    </tr>\n",
       "    <tr>\n",
       "      <th>부서레벨2</th>\n",
       "      <th></th>\n",
       "    </tr>\n",
       "  </thead>\n",
       "  <tbody>\n",
       "    <tr>\n",
       "      <th>상수도사업본부</th>\n",
       "      <td>1.427306e+09</td>\n",
       "    </tr>\n",
       "    <tr>\n",
       "      <th>기획조정실</th>\n",
       "      <td>9.404277e+08</td>\n",
       "    </tr>\n",
       "    <tr>\n",
       "      <th>행정국</th>\n",
       "      <td>9.346329e+08</td>\n",
       "    </tr>\n",
       "    <tr>\n",
       "      <th>서울특별시장</th>\n",
       "      <td>6.295230e+08</td>\n",
       "    </tr>\n",
       "    <tr>\n",
       "      <th>시민소통기획관</th>\n",
       "      <td>5.886783e+08</td>\n",
       "    </tr>\n",
       "    <tr>\n",
       "      <th>안전총괄본부</th>\n",
       "      <td>4.781643e+08</td>\n",
       "    </tr>\n",
       "    <tr>\n",
       "      <th>도시재생본부</th>\n",
       "      <td>4.263074e+08</td>\n",
       "    </tr>\n",
       "    <tr>\n",
       "      <th>도시기반시설본부</th>\n",
       "      <td>4.188852e+08</td>\n",
       "    </tr>\n",
       "    <tr>\n",
       "      <th>도시교통본부</th>\n",
       "      <td>4.080913e+08</td>\n",
       "    </tr>\n",
       "    <tr>\n",
       "      <th>정무부시장</th>\n",
       "      <td>3.778665e+08</td>\n",
       "    </tr>\n",
       "  </tbody>\n",
       "</table>\n",
       "</div>"
      ],
      "text/plain": [
       "                  집행금액\n",
       "부서레벨2                 \n",
       "상수도사업본부   1.427306e+09\n",
       "기획조정실     9.404277e+08\n",
       "행정국       9.346329e+08\n",
       "서울특별시장    6.295230e+08\n",
       "시민소통기획관   5.886783e+08\n",
       "안전총괄본부    4.781643e+08\n",
       "도시재생본부    4.263074e+08\n",
       "도시기반시설본부  4.188852e+08\n",
       "도시교통본부    4.080913e+08\n",
       "정무부시장     3.778665e+08"
      ]
     },
     "execution_count": 110,
     "metadata": {},
     "output_type": "execute_result"
    }
   ],
   "source": [
    "dept_level_2_total_top10 = dept_level_2_total.sort_values(by=['집행금액'], ascending = False)[0:10]\n",
    "dept_level_2_total_top10"
   ]
  },
  {
   "cell_type": "markdown",
   "metadata": {},
   "source": [
    "**[16장: 585페이지]** "
   ]
  },
  {
   "cell_type": "code",
   "execution_count": 111,
   "metadata": {},
   "outputs": [
    {
     "data": {
      "image/png": "[encoded data removed]",
      "text/plain": [
       "<Figure size 432x288 with 1 Axes>"
      ]
     },
     "metadata": {
      "needs_background": "light"
     },
     "output_type": "display_data"
    }
   ],
   "source": [
    "eok_won = 100000000 # 억원\n",
    "\n",
    "(dept_level_2_total_top10/eok_won).plot.bar(rot=80)\n",
    "plt.ylabel('집행금액(억원)')\n",
    "plt.title(\"업무추진비 집행금액이 높은 상위 10개 부서\")\n",
    "plt.show()"
   ]
  },
  {
   "cell_type": "markdown",
   "metadata": {},
   "source": [
    "**[16장: 585 ~ 586페이지]** "
   ]
  },
  {
   "cell_type": "code",
   "execution_count": 112,
   "metadata": {},
   "outputs": [
    {
     "data": {
      "image/png": "[encoded data removed]",
      "text/plain": [
       "<Figure size 864x648 with 1 Axes>"
      ]
     },
     "metadata": {
      "needs_background": "light"
     },
     "output_type": "display_data"
    }
   ],
   "source": [
    "import matplotlib.pyplot as plt\n",
    "from wordcloud import WordCloud\n",
    "\n",
    "korean_font_path = 'C:/Windows/Fonts/malgun.ttf' # 한글 폰트(맑은 고딕) 파일명\n",
    "\n",
    "# 워드 클라우드 이미지 생성\n",
    "wc = WordCloud(font_path=korean_font_path, background_color='white',\n",
    "              width=800, height=600)\n",
    "\n",
    "frequencies = dept_level_2_total['집행금액'] # pandas의 Series 형식이 됨\n",
    "wordcloud_image = wc.generate_from_frequencies(frequencies)\n",
    "\n",
    "plt.figure(figsize=(12,9))\n",
    "plt.axis('off')\n",
    "plt.imshow(wordcloud_image, interpolation = 'bilinear')\n",
    "plt.show()"
   ]
  },
  {
   "cell_type": "markdown",
   "metadata": {},
   "source": [
    "#### 요일별 및 시간대별 집행 내역 분석"
   ]
  },
  {
   "cell_type": "markdown",
   "metadata": {},
   "source": [
    "**[16장: 586페이지]** "
   ]
  },
  {
   "cell_type": "code",
   "execution_count": 113,
   "metadata": {},
   "outputs": [
    {
     "data": {
      "text/plain": [
       "array([nan, nan, nan, ..., '2018-12-04 12:55', '2018-12-01 13:30',\n",
       "       '2018-12-01 08:45'], dtype=object)"
      ]
     },
     "execution_count": 113,
     "metadata": {},
     "output_type": "execute_result"
    }
   ],
   "source": [
    "df_expense_all['집행일시'].values"
   ]
  },
  {
   "cell_type": "markdown",
   "metadata": {},
   "source": [
    "**[16장: 587페이지]** "
   ]
  },
  {
   "cell_type": "code",
   "execution_count": 114,
   "metadata": {},
   "outputs": [
    {
     "data": {
      "text/plain": [
       "array([                          'NaT',                           'NaT',\n",
       "                                 'NaT', ...,\n",
       "       '2018-12-04T12:55:00.000000000', '2018-12-01T13:30:00.000000000',\n",
       "       '2018-12-01T08:45:00.000000000'], dtype='datetime64[ns]')"
      ]
     },
     "execution_count": 114,
     "metadata": {},
     "output_type": "execute_result"
    }
   ],
   "source": [
    "expense_date_time = pd.to_datetime(df_expense_all['집행일시'])\n",
    "expense_date_time.values"
   ]
  },
  {
   "cell_type": "markdown",
   "metadata": {},
   "source": [
    "**[16장: 587페이지]**  "
   ]
  },
  {
   "cell_type": "code",
   "execution_count": 115,
   "metadata": {},
   "outputs": [
    {
     "ename": "TypeError",
     "evalue": "list indices must be integers or slices, not float",
     "output_type": "error",
     "traceback": [
      "\u001b[1;31m---------------------------------------------------------------------------\u001b[0m",
      "\u001b[1;31mTypeError\u001b[0m                                 Traceback (most recent call last)",
      "\u001b[1;32m<ipython-input-115-bdd43c572c59>\u001b[0m in \u001b[0;36m<module>\u001b[1;34m\u001b[0m\n\u001b[0;32m      1\u001b[0m \u001b[0mweek_day_name\u001b[0m \u001b[1;33m=\u001b[0m \u001b[1;33m[\u001b[0m\u001b[1;34m\"월\"\u001b[0m\u001b[1;33m,\u001b[0m \u001b[1;34m\"화\"\u001b[0m\u001b[1;33m,\u001b[0m \u001b[1;34m\"수\"\u001b[0m\u001b[1;33m,\u001b[0m \u001b[1;34m\"목\"\u001b[0m\u001b[1;33m,\u001b[0m \u001b[1;34m\"금\"\u001b[0m\u001b[1;33m,\u001b[0m \u001b[1;34m\"토\"\u001b[0m\u001b[1;33m,\u001b[0m \u001b[1;34m\"일\"\u001b[0m\u001b[1;33m]\u001b[0m\u001b[1;33m\u001b[0m\u001b[1;33m\u001b[0m\u001b[0m\n\u001b[0;32m      2\u001b[0m \u001b[1;33m\u001b[0m\u001b[0m\n\u001b[1;32m----> 3\u001b[1;33m \u001b[0mdf_expense_all\u001b[0m\u001b[1;33m[\u001b[0m\u001b[1;34m'집행일시_요일'\u001b[0m\u001b[1;33m]\u001b[0m \u001b[1;33m=\u001b[0m \u001b[1;33m[\u001b[0m\u001b[0mweek_day_name\u001b[0m\u001b[1;33m[\u001b[0m\u001b[0mweekday\u001b[0m\u001b[1;33m]\u001b[0m \u001b[1;32mfor\u001b[0m \u001b[0mweekday\u001b[0m \u001b[1;32min\u001b[0m \u001b[0mexpense_date_time\u001b[0m\u001b[1;33m.\u001b[0m\u001b[0mdt\u001b[0m\u001b[1;33m.\u001b[0m\u001b[0mweekday\u001b[0m\u001b[1;33m]\u001b[0m\u001b[1;33m\u001b[0m\u001b[1;33m\u001b[0m\u001b[0m\n\u001b[0m",
      "\u001b[1;32m<ipython-input-115-bdd43c572c59>\u001b[0m in \u001b[0;36m<listcomp>\u001b[1;34m(.0)\u001b[0m\n\u001b[0;32m      1\u001b[0m \u001b[0mweek_day_name\u001b[0m \u001b[1;33m=\u001b[0m \u001b[1;33m[\u001b[0m\u001b[1;34m\"월\"\u001b[0m\u001b[1;33m,\u001b[0m \u001b[1;34m\"화\"\u001b[0m\u001b[1;33m,\u001b[0m \u001b[1;34m\"수\"\u001b[0m\u001b[1;33m,\u001b[0m \u001b[1;34m\"목\"\u001b[0m\u001b[1;33m,\u001b[0m \u001b[1;34m\"금\"\u001b[0m\u001b[1;33m,\u001b[0m \u001b[1;34m\"토\"\u001b[0m\u001b[1;33m,\u001b[0m \u001b[1;34m\"일\"\u001b[0m\u001b[1;33m]\u001b[0m\u001b[1;33m\u001b[0m\u001b[1;33m\u001b[0m\u001b[0m\n\u001b[0;32m      2\u001b[0m \u001b[1;33m\u001b[0m\u001b[0m\n\u001b[1;32m----> 3\u001b[1;33m \u001b[0mdf_expense_all\u001b[0m\u001b[1;33m[\u001b[0m\u001b[1;34m'집행일시_요일'\u001b[0m\u001b[1;33m]\u001b[0m \u001b[1;33m=\u001b[0m \u001b[1;33m[\u001b[0m\u001b[0mweek_day_name\u001b[0m\u001b[1;33m[\u001b[0m\u001b[0mweekday\u001b[0m\u001b[1;33m]\u001b[0m \u001b[1;32mfor\u001b[0m \u001b[0mweekday\u001b[0m \u001b[1;32min\u001b[0m \u001b[0mexpense_date_time\u001b[0m\u001b[1;33m.\u001b[0m\u001b[0mdt\u001b[0m\u001b[1;33m.\u001b[0m\u001b[0mweekday\u001b[0m\u001b[1;33m]\u001b[0m\u001b[1;33m\u001b[0m\u001b[1;33m\u001b[0m\u001b[0m\n\u001b[0m",
      "\u001b[1;31mTypeError\u001b[0m: list indices must be integers or slices, not float"
     ]
    }
   ],
   "source": [
    "week_day_name = [\"월\", \"화\", \"수\", \"목\", \"금\", \"토\", \"일\"]\n",
    "\n",
    "df_expense_all['집행일시_요일'] = [week_day_name[weekday] for weekday in expense_date_time.dt.weekday]"
   ]
  },
  {
   "cell_type": "markdown",
   "metadata": {},
   "source": [
    "**[16장: 587페이지]**  "
   ]
  },
  {
   "cell_type": "code",
   "execution_count": 116,
   "metadata": {},
   "outputs": [],
   "source": [
    "df_expense_all['집행일시_시간'] = [hour for hour in expense_date_time.dt.hour]"
   ]
  },
  {
   "cell_type": "markdown",
   "metadata": {},
   "source": [
    "**[16장: 587페이지]**  "
   ]
  },
  {
   "cell_type": "code",
   "execution_count": 117,
   "metadata": {},
   "outputs": [
    {
     "data": {
      "text/html": [
       "<div>\n",
       "<style scoped>\n",
       "    .dataframe tbody tr th:only-of-type {\n",
       "        vertical-align: middle;\n",
       "    }\n",
       "\n",
       "    .dataframe tbody tr th {\n",
       "        vertical-align: top;\n",
       "    }\n",
       "\n",
       "    .dataframe thead th {\n",
       "        text-align: right;\n",
       "    }\n",
       "</style>\n",
       "<table border=\"1\" class=\"dataframe\">\n",
       "  <thead>\n",
       "    <tr style=\"text-align: right;\">\n",
       "      <th></th>\n",
       "      <th>제목</th>\n",
       "      <th>부서레벨1</th>\n",
       "      <th>부서레벨2</th>\n",
       "      <th>집행연도</th>\n",
       "      <th>집행월</th>\n",
       "      <th>부서명</th>\n",
       "      <th>집행일시</th>\n",
       "      <th>집행장소</th>\n",
       "      <th>집행목적</th>\n",
       "      <th>대상인원</th>\n",
       "      <th>결제방법</th>\n",
       "      <th>집행금액</th>\n",
       "      <th>집행일시_시간</th>\n",
       "    </tr>\n",
       "  </thead>\n",
       "  <tbody>\n",
       "    <tr>\n",
       "      <th>0</th>\n",
       "      <td>NaN</td>\n",
       "      <td>NaN</td>\n",
       "      <td>NaN</td>\n",
       "      <td>NaN</td>\n",
       "      <td>NaN</td>\n",
       "      <td>NaN</td>\n",
       "      <td>NaN</td>\n",
       "      <td>NaN</td>\n",
       "      <td>NaN</td>\n",
       "      <td>NaN</td>\n",
       "      <td>NaN</td>\n",
       "      <td>NaN</td>\n",
       "      <td>NaN</td>\n",
       "    </tr>\n",
       "    <tr>\n",
       "      <th>1</th>\n",
       "      <td>NaN</td>\n",
       "      <td>NaN</td>\n",
       "      <td>NaN</td>\n",
       "      <td>NaN</td>\n",
       "      <td>NaN</td>\n",
       "      <td>NaN</td>\n",
       "      <td>NaN</td>\n",
       "      <td>NaN</td>\n",
       "      <td>NaN</td>\n",
       "      <td>NaN</td>\n",
       "      <td>NaN</td>\n",
       "      <td>NaN</td>\n",
       "      <td>NaN</td>\n",
       "    </tr>\n",
       "    <tr>\n",
       "      <th>2</th>\n",
       "      <td>NaN</td>\n",
       "      <td>NaN</td>\n",
       "      <td>NaN</td>\n",
       "      <td>NaN</td>\n",
       "      <td>NaN</td>\n",
       "      <td>NaN</td>\n",
       "      <td>NaN</td>\n",
       "      <td>NaN</td>\n",
       "      <td>NaN</td>\n",
       "      <td>NaN</td>\n",
       "      <td>NaN</td>\n",
       "      <td>NaN</td>\n",
       "      <td>NaN</td>\n",
       "    </tr>\n",
       "  </tbody>\n",
       "</table>\n",
       "</div>"
      ],
      "text/plain": [
       "    제목 부서레벨1 부서레벨2 집행연도  집행월  부서명 집행일시 집행장소 집행목적 대상인원 결제방법  집행금액  집행일시_시간\n",
       "0  NaN   NaN   NaN  NaN  NaN  NaN  NaN  NaN  NaN  NaN  NaN   NaN      NaN\n",
       "1  NaN   NaN   NaN  NaN  NaN  NaN  NaN  NaN  NaN  NaN  NaN   NaN      NaN\n",
       "2  NaN   NaN   NaN  NaN  NaN  NaN  NaN  NaN  NaN  NaN  NaN   NaN      NaN"
      ]
     },
     "execution_count": 117,
     "metadata": {},
     "output_type": "execute_result"
    }
   ],
   "source": [
    "df_expense_all.head(3)"
   ]
  },
  {
   "cell_type": "markdown",
   "metadata": {},
   "source": [
    "**[16장: 588페이지]**  "
   ]
  },
  {
   "cell_type": "code",
   "execution_count": 118,
   "metadata": {},
   "outputs": [
    {
     "ename": "KeyError",
     "evalue": "'집행일시_요일'",
     "output_type": "error",
     "traceback": [
      "\u001b[1;31m---------------------------------------------------------------------------\u001b[0m",
      "\u001b[1;31mKeyError\u001b[0m                                  Traceback (most recent call last)",
      "\u001b[1;32m~\\.conda\\envs\\python36\\lib\\site-packages\\pandas\\core\\indexes\\base.py\u001b[0m in \u001b[0;36mget_loc\u001b[1;34m(self, key, method, tolerance)\u001b[0m\n\u001b[0;32m   2656\u001b[0m             \u001b[1;32mtry\u001b[0m\u001b[1;33m:\u001b[0m\u001b[1;33m\u001b[0m\u001b[1;33m\u001b[0m\u001b[0m\n\u001b[1;32m-> 2657\u001b[1;33m                 \u001b[1;32mreturn\u001b[0m \u001b[0mself\u001b[0m\u001b[1;33m.\u001b[0m\u001b[0m_engine\u001b[0m\u001b[1;33m.\u001b[0m\u001b[0mget_loc\u001b[0m\u001b[1;33m(\u001b[0m\u001b[0mkey\u001b[0m\u001b[1;33m)\u001b[0m\u001b[1;33m\u001b[0m\u001b[1;33m\u001b[0m\u001b[0m\n\u001b[0m\u001b[0;32m   2658\u001b[0m             \u001b[1;32mexcept\u001b[0m \u001b[0mKeyError\u001b[0m\u001b[1;33m:\u001b[0m\u001b[1;33m\u001b[0m\u001b[1;33m\u001b[0m\u001b[0m\n",
      "\u001b[1;32mpandas/_libs/index.pyx\u001b[0m in \u001b[0;36mpandas._libs.index.IndexEngine.get_loc\u001b[1;34m()\u001b[0m\n",
      "\u001b[1;32mpandas/_libs/index.pyx\u001b[0m in \u001b[0;36mpandas._libs.index.IndexEngine.get_loc\u001b[1;34m()\u001b[0m\n",
      "\u001b[1;32mpandas/_libs/hashtable_class_helper.pxi\u001b[0m in \u001b[0;36mpandas._libs.hashtable.PyObjectHashTable.get_item\u001b[1;34m()\u001b[0m\n",
      "\u001b[1;32mpandas/_libs/hashtable_class_helper.pxi\u001b[0m in \u001b[0;36mpandas._libs.hashtable.PyObjectHashTable.get_item\u001b[1;34m()\u001b[0m\n",
      "\u001b[1;31mKeyError\u001b[0m: '집행일시_요일'",
      "\nDuring handling of the above exception, another exception occurred:\n",
      "\u001b[1;31mKeyError\u001b[0m                                  Traceback (most recent call last)",
      "\u001b[1;32m<ipython-input-118-c9b980446b14>\u001b[0m in \u001b[0;36m<module>\u001b[1;34m\u001b[0m\n\u001b[1;32m----> 1\u001b[1;33m \u001b[0mexpense_weekday\u001b[0m \u001b[1;33m=\u001b[0m \u001b[0mdf_expense_all\u001b[0m\u001b[1;33m[\u001b[0m\u001b[1;34m'집행일시_요일'\u001b[0m\u001b[1;33m]\u001b[0m\u001b[1;33m.\u001b[0m\u001b[0mvalue_counts\u001b[0m\u001b[1;33m(\u001b[0m\u001b[1;33m)\u001b[0m\u001b[1;33m\u001b[0m\u001b[1;33m\u001b[0m\u001b[0m\n\u001b[0m\u001b[0;32m      2\u001b[0m \u001b[0mexpense_weekday\u001b[0m\u001b[1;33m\u001b[0m\u001b[1;33m\u001b[0m\u001b[0m\n",
      "\u001b[1;32m~\\.conda\\envs\\python36\\lib\\site-packages\\pandas\\core\\frame.py\u001b[0m in \u001b[0;36m__getitem__\u001b[1;34m(self, key)\u001b[0m\n\u001b[0;32m   2925\u001b[0m             \u001b[1;32mif\u001b[0m \u001b[0mself\u001b[0m\u001b[1;33m.\u001b[0m\u001b[0mcolumns\u001b[0m\u001b[1;33m.\u001b[0m\u001b[0mnlevels\u001b[0m \u001b[1;33m>\u001b[0m \u001b[1;36m1\u001b[0m\u001b[1;33m:\u001b[0m\u001b[1;33m\u001b[0m\u001b[1;33m\u001b[0m\u001b[0m\n\u001b[0;32m   2926\u001b[0m                 \u001b[1;32mreturn\u001b[0m \u001b[0mself\u001b[0m\u001b[1;33m.\u001b[0m\u001b[0m_getitem_multilevel\u001b[0m\u001b[1;33m(\u001b[0m\u001b[0mkey\u001b[0m\u001b[1;33m)\u001b[0m\u001b[1;33m\u001b[0m\u001b[1;33m\u001b[0m\u001b[0m\n\u001b[1;32m-> 2927\u001b[1;33m             \u001b[0mindexer\u001b[0m \u001b[1;33m=\u001b[0m \u001b[0mself\u001b[0m\u001b[1;33m.\u001b[0m\u001b[0mcolumns\u001b[0m\u001b[1;33m.\u001b[0m\u001b[0mget_loc\u001b[0m\u001b[1;33m(\u001b[0m\u001b[0mkey\u001b[0m\u001b[1;33m)\u001b[0m\u001b[1;33m\u001b[0m\u001b[1;33m\u001b[0m\u001b[0m\n\u001b[0m\u001b[0;32m   2928\u001b[0m             \u001b[1;32mif\u001b[0m \u001b[0mis_integer\u001b[0m\u001b[1;33m(\u001b[0m\u001b[0mindexer\u001b[0m\u001b[1;33m)\u001b[0m\u001b[1;33m:\u001b[0m\u001b[1;33m\u001b[0m\u001b[1;33m\u001b[0m\u001b[0m\n\u001b[0;32m   2929\u001b[0m                 \u001b[0mindexer\u001b[0m \u001b[1;33m=\u001b[0m \u001b[1;33m[\u001b[0m\u001b[0mindexer\u001b[0m\u001b[1;33m]\u001b[0m\u001b[1;33m\u001b[0m\u001b[1;33m\u001b[0m\u001b[0m\n",
      "\u001b[1;32m~\\.conda\\envs\\python36\\lib\\site-packages\\pandas\\core\\indexes\\base.py\u001b[0m in \u001b[0;36mget_loc\u001b[1;34m(self, key, method, tolerance)\u001b[0m\n\u001b[0;32m   2657\u001b[0m                 \u001b[1;32mreturn\u001b[0m \u001b[0mself\u001b[0m\u001b[1;33m.\u001b[0m\u001b[0m_engine\u001b[0m\u001b[1;33m.\u001b[0m\u001b[0mget_loc\u001b[0m\u001b[1;33m(\u001b[0m\u001b[0mkey\u001b[0m\u001b[1;33m)\u001b[0m\u001b[1;33m\u001b[0m\u001b[1;33m\u001b[0m\u001b[0m\n\u001b[0;32m   2658\u001b[0m             \u001b[1;32mexcept\u001b[0m \u001b[0mKeyError\u001b[0m\u001b[1;33m:\u001b[0m\u001b[1;33m\u001b[0m\u001b[1;33m\u001b[0m\u001b[0m\n\u001b[1;32m-> 2659\u001b[1;33m                 \u001b[1;32mreturn\u001b[0m \u001b[0mself\u001b[0m\u001b[1;33m.\u001b[0m\u001b[0m_engine\u001b[0m\u001b[1;33m.\u001b[0m\u001b[0mget_loc\u001b[0m\u001b[1;33m(\u001b[0m\u001b[0mself\u001b[0m\u001b[1;33m.\u001b[0m\u001b[0m_maybe_cast_indexer\u001b[0m\u001b[1;33m(\u001b[0m\u001b[0mkey\u001b[0m\u001b[1;33m)\u001b[0m\u001b[1;33m)\u001b[0m\u001b[1;33m\u001b[0m\u001b[1;33m\u001b[0m\u001b[0m\n\u001b[0m\u001b[0;32m   2660\u001b[0m         \u001b[0mindexer\u001b[0m \u001b[1;33m=\u001b[0m \u001b[0mself\u001b[0m\u001b[1;33m.\u001b[0m\u001b[0mget_indexer\u001b[0m\u001b[1;33m(\u001b[0m\u001b[1;33m[\u001b[0m\u001b[0mkey\u001b[0m\u001b[1;33m]\u001b[0m\u001b[1;33m,\u001b[0m \u001b[0mmethod\u001b[0m\u001b[1;33m=\u001b[0m\u001b[0mmethod\u001b[0m\u001b[1;33m,\u001b[0m \u001b[0mtolerance\u001b[0m\u001b[1;33m=\u001b[0m\u001b[0mtolerance\u001b[0m\u001b[1;33m)\u001b[0m\u001b[1;33m\u001b[0m\u001b[1;33m\u001b[0m\u001b[0m\n\u001b[0;32m   2661\u001b[0m         \u001b[1;32mif\u001b[0m \u001b[0mindexer\u001b[0m\u001b[1;33m.\u001b[0m\u001b[0mndim\u001b[0m \u001b[1;33m>\u001b[0m \u001b[1;36m1\u001b[0m \u001b[1;32mor\u001b[0m \u001b[0mindexer\u001b[0m\u001b[1;33m.\u001b[0m\u001b[0msize\u001b[0m \u001b[1;33m>\u001b[0m \u001b[1;36m1\u001b[0m\u001b[1;33m:\u001b[0m\u001b[1;33m\u001b[0m\u001b[1;33m\u001b[0m\u001b[0m\n",
      "\u001b[1;32mpandas/_libs/index.pyx\u001b[0m in \u001b[0;36mpandas._libs.index.IndexEngine.get_loc\u001b[1;34m()\u001b[0m\n",
      "\u001b[1;32mpandas/_libs/index.pyx\u001b[0m in \u001b[0;36mpandas._libs.index.IndexEngine.get_loc\u001b[1;34m()\u001b[0m\n",
      "\u001b[1;32mpandas/_libs/hashtable_class_helper.pxi\u001b[0m in \u001b[0;36mpandas._libs.hashtable.PyObjectHashTable.get_item\u001b[1;34m()\u001b[0m\n",
      "\u001b[1;32mpandas/_libs/hashtable_class_helper.pxi\u001b[0m in \u001b[0;36mpandas._libs.hashtable.PyObjectHashTable.get_item\u001b[1;34m()\u001b[0m\n",
      "\u001b[1;31mKeyError\u001b[0m: '집행일시_요일'"
     ]
    }
   ],
   "source": [
    "expense_weekday = df_expense_all['집행일시_요일'].value_counts()\n",
    "expense_weekday"
   ]
  },
  {
   "cell_type": "markdown",
   "metadata": {},
   "source": [
    "**[16장: 588페이지]**  "
   ]
  },
  {
   "cell_type": "code",
   "execution_count": 119,
   "metadata": {},
   "outputs": [
    {
     "ename": "NameError",
     "evalue": "name 'expense_weekday' is not defined",
     "output_type": "error",
     "traceback": [
      "\u001b[1;31m---------------------------------------------------------------------------\u001b[0m",
      "\u001b[1;31mNameError\u001b[0m                                 Traceback (most recent call last)",
      "\u001b[1;32m<ipython-input-119-5645c93250a8>\u001b[0m in \u001b[0;36m<module>\u001b[1;34m\u001b[0m\n\u001b[1;32m----> 1\u001b[1;33m \u001b[0mexpense_weekday\u001b[0m \u001b[1;33m=\u001b[0m \u001b[0mexpense_weekday\u001b[0m\u001b[1;33m.\u001b[0m\u001b[0mreindex\u001b[0m\u001b[1;33m(\u001b[0m\u001b[0mindex\u001b[0m \u001b[1;33m=\u001b[0m \u001b[0mweek_day_name\u001b[0m\u001b[1;33m)\u001b[0m\u001b[1;33m\u001b[0m\u001b[1;33m\u001b[0m\u001b[0m\n\u001b[0m\u001b[0;32m      2\u001b[0m \u001b[0mexpense_weekday\u001b[0m\u001b[1;33m\u001b[0m\u001b[1;33m\u001b[0m\u001b[0m\n",
      "\u001b[1;31mNameError\u001b[0m: name 'expense_weekday' is not defined"
     ]
    }
   ],
   "source": [
    "expense_weekday = expense_weekday.reindex(index = week_day_name)\n",
    "expense_weekday"
   ]
  },
  {
   "cell_type": "markdown",
   "metadata": {},
   "source": [
    "**[16장: 589페이지]**  "
   ]
  },
  {
   "cell_type": "code",
   "execution_count": 120,
   "metadata": {},
   "outputs": [
    {
     "ename": "NameError",
     "evalue": "name 'expense_weekday' is not defined",
     "output_type": "error",
     "traceback": [
      "\u001b[1;31m---------------------------------------------------------------------------\u001b[0m",
      "\u001b[1;31mNameError\u001b[0m                                 Traceback (most recent call last)",
      "\u001b[1;32m<ipython-input-120-9b8ee0652f40>\u001b[0m in \u001b[0;36m<module>\u001b[1;34m\u001b[0m\n\u001b[1;32m----> 1\u001b[1;33m \u001b[0mexpense_weekday\u001b[0m\u001b[1;33m.\u001b[0m\u001b[0mplot\u001b[0m\u001b[1;33m.\u001b[0m\u001b[0mbar\u001b[0m\u001b[1;33m(\u001b[0m\u001b[0mrot\u001b[0m\u001b[1;33m=\u001b[0m\u001b[1;36m0\u001b[0m\u001b[1;33m)\u001b[0m\u001b[1;33m\u001b[0m\u001b[1;33m\u001b[0m\u001b[0m\n\u001b[0m\u001b[0;32m      2\u001b[0m \u001b[0mplt\u001b[0m\u001b[1;33m.\u001b[0m\u001b[0mtitle\u001b[0m\u001b[1;33m(\u001b[0m\u001b[1;34m\"요일별 업무추진비 집행 횟수\"\u001b[0m\u001b[1;33m)\u001b[0m\u001b[1;33m\u001b[0m\u001b[1;33m\u001b[0m\u001b[0m\n\u001b[0;32m      3\u001b[0m \u001b[0mplt\u001b[0m\u001b[1;33m.\u001b[0m\u001b[0mxlabel\u001b[0m\u001b[1;33m(\u001b[0m\u001b[1;34m\"요일\"\u001b[0m\u001b[1;33m)\u001b[0m\u001b[1;33m\u001b[0m\u001b[1;33m\u001b[0m\u001b[0m\n\u001b[0;32m      4\u001b[0m \u001b[0mplt\u001b[0m\u001b[1;33m.\u001b[0m\u001b[0mylabel\u001b[0m\u001b[1;33m(\u001b[0m\u001b[1;34m\"집행 횟수\"\u001b[0m\u001b[1;33m)\u001b[0m\u001b[1;33m\u001b[0m\u001b[1;33m\u001b[0m\u001b[0m\n\u001b[0;32m      5\u001b[0m \u001b[0mplt\u001b[0m\u001b[1;33m.\u001b[0m\u001b[0mshow\u001b[0m\u001b[1;33m(\u001b[0m\u001b[1;33m)\u001b[0m\u001b[1;33m\u001b[0m\u001b[1;33m\u001b[0m\u001b[0m\n",
      "\u001b[1;31mNameError\u001b[0m: name 'expense_weekday' is not defined"
     ]
    }
   ],
   "source": [
    "expense_weekday.plot.bar(rot=0)\n",
    "plt.title(\"요일별 업무추진비 집행 횟수\")\n",
    "plt.xlabel(\"요일\")\n",
    "plt.ylabel(\"집행 횟수\")\n",
    "plt.show()"
   ]
  },
  {
   "cell_type": "markdown",
   "metadata": {},
   "source": [
    "**[16장: 589페이지]**  "
   ]
  },
  {
   "cell_type": "code",
   "execution_count": 121,
   "metadata": {},
   "outputs": [
    {
     "data": {
      "text/plain": [
       "12.0    56675\n",
       "20.0    15335\n",
       "13.0    13836\n",
       "19.0    11207\n",
       "21.0     8026\n",
       "11.0     5626\n",
       "14.0     5464\n",
       "15.0     4833\n",
       "18.0     3852\n",
       "10.0     3779\n",
       "0.0      3473\n",
       "16.0     3324\n",
       "9.0      2216\n",
       "17.0     1970\n",
       "22.0     1684\n",
       "8.0       575\n",
       "7.0       275\n",
       "23.0       86\n",
       "6.0        34\n",
       "1.0        20\n",
       "4.0        19\n",
       "3.0        17\n",
       "5.0        13\n",
       "2.0        11\n",
       "Name: 집행일시_시간, dtype: int64"
      ]
     },
     "execution_count": 121,
     "metadata": {},
     "output_type": "execute_result"
    }
   ],
   "source": [
    "expense_hour_num = df_expense_all['집행일시_시간'].value_counts()\n",
    "expense_hour_num"
   ]
  },
  {
   "cell_type": "markdown",
   "metadata": {},
   "source": [
    "**[16장: 590페이지]**  "
   ]
  },
  {
   "cell_type": "code",
   "execution_count": 122,
   "metadata": {},
   "outputs": [
    {
     "data": {
      "text/plain": [
       "8       575\n",
       "9      2216\n",
       "10     3779\n",
       "11     5626\n",
       "12    56675\n",
       "13    13836\n",
       "14     5464\n",
       "15     4833\n",
       "16     3324\n",
       "17     1970\n",
       "18     3852\n",
       "19    11207\n",
       "20    15335\n",
       "21     8026\n",
       "22     1684\n",
       "23       86\n",
       "0      3473\n",
       "1        20\n",
       "2        11\n",
       "3        17\n",
       "4        19\n",
       "5        13\n",
       "6        34\n",
       "7       275\n",
       "Name: 집행일시_시간, dtype: int64"
      ]
     },
     "execution_count": 122,
     "metadata": {},
     "output_type": "execute_result"
    }
   ],
   "source": [
    "work_hour = [ (k+8)%24 for k in range(24)]\n",
    "expense_hour_num = expense_hour_num.reindex(index = work_hour)\n",
    "expense_hour_num"
   ]
  },
  {
   "cell_type": "markdown",
   "metadata": {},
   "source": [
    "**[16장: 591페이지]** "
   ]
  },
  {
   "cell_type": "code",
   "execution_count": 123,
   "metadata": {},
   "outputs": [
    {
     "data": {
      "image/png": "[encoded data removed]",
      "text/plain": [
       "<Figure size 432x288 with 1 Axes>"
      ]
     },
     "metadata": {
      "needs_background": "light"
     },
     "output_type": "display_data"
    }
   ],
   "source": [
    "expense_hour_num.plot.bar(rot = 0)\n",
    "plt.title(\"시간별 업무추진비 집행 횟수\")\n",
    "plt.xlabel(\"집행 시간\")\n",
    "plt.ylabel(\"집행 횟수\")\n",
    "plt.show()"
   ]
  },
  {
   "cell_type": "markdown",
   "metadata": {},
   "source": [
    "**[16장: 592페이지]** "
   ]
  },
  {
   "cell_type": "code",
   "execution_count": 124,
   "metadata": {},
   "outputs": [
    {
     "data": {
      "text/html": [
       "<div>\n",
       "<style scoped>\n",
       "    .dataframe tbody tr th:only-of-type {\n",
       "        vertical-align: middle;\n",
       "    }\n",
       "\n",
       "    .dataframe tbody tr th {\n",
       "        vertical-align: top;\n",
       "    }\n",
       "\n",
       "    .dataframe thead th {\n",
       "        text-align: right;\n",
       "    }\n",
       "</style>\n",
       "<table border=\"1\" class=\"dataframe\">\n",
       "  <thead>\n",
       "    <tr style=\"text-align: right;\">\n",
       "      <th></th>\n",
       "      <th>집행금액</th>\n",
       "    </tr>\n",
       "    <tr>\n",
       "      <th>집행일시_시간</th>\n",
       "      <th></th>\n",
       "    </tr>\n",
       "  </thead>\n",
       "  <tbody>\n",
       "    <tr>\n",
       "      <th>0.0</th>\n",
       "      <td>593216317.0</td>\n",
       "    </tr>\n",
       "    <tr>\n",
       "      <th>1.0</th>\n",
       "      <td>2681220.0</td>\n",
       "    </tr>\n",
       "    <tr>\n",
       "      <th>2.0</th>\n",
       "      <td>1343029.0</td>\n",
       "    </tr>\n",
       "    <tr>\n",
       "      <th>3.0</th>\n",
       "      <td>5693869.0</td>\n",
       "    </tr>\n",
       "    <tr>\n",
       "      <th>4.0</th>\n",
       "      <td>4063237.0</td>\n",
       "    </tr>\n",
       "  </tbody>\n",
       "</table>\n",
       "</div>"
      ],
      "text/plain": [
       "                집행금액\n",
       "집행일시_시간             \n",
       "0.0      593216317.0\n",
       "1.0        2681220.0\n",
       "2.0        1343029.0\n",
       "3.0        5693869.0\n",
       "4.0        4063237.0"
      ]
     },
     "execution_count": 124,
     "metadata": {},
     "output_type": "execute_result"
    }
   ],
   "source": [
    "expense_hour_total = pd.pivot_table(df_expense_all, index = ['집행일시_시간'],\n",
    "                                    values=['집행금액'], aggfunc = sum)\n",
    "expense_hour_total.head()"
   ]
  },
  {
   "cell_type": "markdown",
   "metadata": {},
   "source": [
    "**[16장: 592페이지]** "
   ]
  },
  {
   "cell_type": "code",
   "execution_count": 125,
   "metadata": {},
   "outputs": [
    {
     "data": {
      "image/png": "[encoded data removed]",
      "text/plain": [
       "<Figure size 432x288 with 1 Axes>"
      ]
     },
     "metadata": {
      "needs_background": "light"
     },
     "output_type": "display_data"
    }
   ],
   "source": [
    "eok_won = 100000000 # 억원\n",
    "expense_hour_total = expense_hour_total.reindex(index = work_hour)\n",
    "\n",
    "(expense_hour_total/eok_won).plot.bar(rot=0)\n",
    "plt.ylabel('집행금액(억원)')\n",
    "plt.title(\"시간별대 업무추진비 집행금액\")\n",
    "plt.show()"
   ]
  },
  {
   "cell_type": "markdown",
   "metadata": {},
   "source": [
    "## 16.4 정리"
   ]
  }
 ],
 "metadata": {
  "kernelspec": {
   "display_name": "Python 3",
   "language": "python",
   "name": "python3"
  },
  "language_info": {
   "codemirror_mode": {
    "name": "ipython",
    "version": 3
   },
   "file_extension": ".py",
   "mimetype": "text/x-python",
   "name": "python",
   "nbconvert_exporter": "python",
   "pygments_lexer": "ipython3",
   "version": "3.6.8"
  },
  "toc": {
   "nav_menu": {},
   "number_sections": true,
   "sideBar": true,
   "skip_h1_title": false,
   "toc_cell": true,
   "toc_position": {
    "height": "581.867px",
    "left": "0px",
    "right": "1035px",
    "top": "111.133px",
    "width": "331px"
   },
   "toc_section_display": "block",
   "toc_window_display": true
  },
  "toc-autonumbering": false,
  "toc-showcode": false,
  "toc-showmarkdowntxt": false,
  "toc-showtags": false
 },
 "nbformat": 4,
 "nbformat_minor": 2
}
